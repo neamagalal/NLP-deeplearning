{
  "nbformat": 4,
  "nbformat_minor": 5,
  "metadata": {
    "hide_input": false,
    "kernelspec": {
      "display_name": "Python 3",
      "language": "python",
      "name": "python3"
    },
    "language_info": {
      "codemirror_mode": {
        "name": "ipython",
        "version": 3
      },
      "file_extension": ".py",
      "mimetype": "text/x-python",
      "name": "python",
      "nbconvert_exporter": "python",
      "pygments_lexer": "ipython3",
      "version": "3.8.8"
    },
    "varInspector": {
      "cols": {
        "lenName": 16,
        "lenType": 16,
        "lenVar": 40
      },
      "kernels_config": {
        "python": {
          "delete_cmd_postfix": "",
          "delete_cmd_prefix": "del ",
          "library": "var_list.py",
          "varRefreshCmd": "print(var_dic_list())"
        },
        "r": {
          "delete_cmd_postfix": ") ",
          "delete_cmd_prefix": "rm(",
          "library": "var_list.r",
          "varRefreshCmd": "cat(var_dic_list()) "
        }
      },
      "types_to_exclude": [
        "module",
        "function",
        "builtin_function_or_method",
        "instance",
        "_Feature"
      ],
      "window_display": false
    },
    "colab": {
      "name": "computer vision2.ipynb",
      "provenance": [],
      "collapsed_sections": [],
      "include_colab_link": true
    }
  },
  "cells": [
    {
      "cell_type": "markdown",
      "metadata": {
        "id": "view-in-github",
        "colab_type": "text"
      },
      "source": [
        "<a href=\"https://colab.research.google.com/github/neamagalal/machine/blob/main/computer_vision2.ipynb\" target=\"_parent\"><img src=\"https://colab.research.google.com/assets/colab-badge.svg\" alt=\"Open In Colab\"/></a>"
      ]
    },
    {
      "cell_type": "markdown",
      "metadata": {
        "id": "2edbebe7"
      },
      "source": [
        "# Importing libraries"
      ],
      "id": "2edbebe7"
    },
    {
      "cell_type": "code",
      "metadata": {
        "id": "86e09bce"
      },
      "source": [
        "#importing libraries\n",
        "import os\n",
        "import pandas as pd\n",
        "import numpy as np\n",
        "from sklearn.metrics import confusion_matrix,plot_confusion_matrix,classification_report\n",
        "import seaborn as sns\n",
        "import matplotlib.pyplot as plt\n",
        "import seaborn as sns\n",
        "from sklearn.metrics import accuracy_score,precision_score,recall_score,f1_score\n",
        "from sklearn.metrics import plot_roc_curve,roc_curve, roc_auc_score,auc\n",
        "from sklearn.model_selection import train_test_split\n",
        "from sklearn.linear_model import LogisticRegression\n",
        "from skimage import io\n",
        "from skimage.color import rgb2gray\n",
        "from skimage.transform import resize\n"
      ],
      "id": "86e09bce",
      "execution_count": null,
      "outputs": []
    },
    {
      "cell_type": "markdown",
      "metadata": {
        "id": "70ef2e68"
      },
      "source": [
        "## Reading the Folders "
      ],
      "id": "70ef2e68"
    },
    {
      "cell_type": "code",
      "metadata": {
        "id": "JCw0miFt547s",
        "colab": {
          "base_uri": "https://localhost:8080/"
        },
        "outputId": "375cbe1c-3b72-4a01-cacb-f2192da0e423"
      },
      "source": [
        "from google.colab import drive\n",
        "drive.mount('/content/drive')"
      ],
      "id": "JCw0miFt547s",
      "execution_count": null,
      "outputs": [
        {
          "output_type": "stream",
          "name": "stdout",
          "text": [
            "Mounted at /content/drive\n"
          ]
        }
      ]
    },
    {
      "cell_type": "code",
      "metadata": {
        "id": "0bdbd899",
        "colab": {
          "base_uri": "https://localhost:8080/"
        },
        "outputId": "3fbcd5b4-db37-48fb-c9c2-bddf82ba51e7"
      },
      "source": [
        "os.listdir(path='.')\n",
        "\n",
        "def getListOfFiles(dirName):\n",
        "    \n",
        "    listOfFile = os.listdir(dirName)\n",
        "    allFiles = list()\n",
        "    \n",
        "    for entry in listOfFile:\n",
        "        fullPath = os.path.join(dirName, entry)\n",
        "        if os.path.isdir(fullPath):\n",
        "            allFiles = allFiles + getListOfFiles(fullPath)\n",
        "        else:\n",
        "            allFiles.append(fullPath)\n",
        "                \n",
        "    return allFiles        \n",
        "\n",
        "\n",
        "dirName = '/content/drive/MyDrive/training'\n",
        "\n",
        "listOfFiles = getListOfFiles(dirName)\n",
        "\n",
        "\n",
        "listOfFiles = list()\n",
        "for (dirpath, dirnames, filenames) in os.walk(dirName):\n",
        "    listOfFiles += [os.path.join(dirpath, file) for file in filenames]\n",
        "\n",
        "\n",
        "for i in listOfFiles:\n",
        "    print(i)    "
      ],
      "id": "0bdbd899",
      "execution_count": null,
      "outputs": [
        {
          "output_type": "stream",
          "name": "stdout",
          "text": [
            "/content/drive/MyDrive/training/stone1/stone1-a-p001.png\n",
            "/content/drive/MyDrive/training/stone1/stone1-a-p007.png\n",
            "/content/drive/MyDrive/training/stone1/stone1-a-p005.png\n",
            "/content/drive/MyDrive/training/stone1/stone1-a-p004.png\n",
            "/content/drive/MyDrive/training/stone1/stone1-a-p002.png\n",
            "/content/drive/MyDrive/training/stone1/stone1-a-p003.png\n",
            "/content/drive/MyDrive/training/stone1/stone1-a-p006.png\n",
            "/content/drive/MyDrive/training/stone1/stone1-a-p018.png\n",
            "/content/drive/MyDrive/training/stone1/stone1-a-p009.png\n",
            "/content/drive/MyDrive/training/stone1/stone1-a-p013.png\n",
            "/content/drive/MyDrive/training/stone1/stone1-a-p020.png\n",
            "/content/drive/MyDrive/training/stone1/stone1-a-p015.png\n",
            "/content/drive/MyDrive/training/stone1/stone1-a-p014.png\n",
            "/content/drive/MyDrive/training/stone1/stone1-a-p021.png\n",
            "/content/drive/MyDrive/training/stone1/stone1-a-p016.png\n",
            "/content/drive/MyDrive/training/stone1/stone1-a-p010.png\n",
            "/content/drive/MyDrive/training/stone1/stone1-a-p011.png\n",
            "/content/drive/MyDrive/training/stone1/stone1-a-p019.png\n",
            "/content/drive/MyDrive/training/stone1/stone1-a-p022.png\n",
            "/content/drive/MyDrive/training/stone1/stone1-a-p008.png\n",
            "/content/drive/MyDrive/training/stone1/stone1-a-p017.png\n",
            "/content/drive/MyDrive/training/stone1/stone1-a-p012.png\n",
            "/content/drive/MyDrive/training/stone1/stone1-a-p024.png\n",
            "/content/drive/MyDrive/training/stone1/stone1-a-p030.png\n",
            "/content/drive/MyDrive/training/stone1/stone1-a-p027.png\n",
            "/content/drive/MyDrive/training/stone1/stone1-a-p023.png\n",
            "/content/drive/MyDrive/training/stone1/stone1-a-p028.png\n",
            "/content/drive/MyDrive/training/stone1/stone1-a-p029.png\n",
            "/content/drive/MyDrive/training/stone1/stone1-a-p025.png\n",
            "/content/drive/MyDrive/training/stone1/stone1-a-p026.png\n",
            "/content/drive/MyDrive/training/sand1/sand1-a-p005.png\n",
            "/content/drive/MyDrive/training/sand1/sand1-a-p002.png\n",
            "/content/drive/MyDrive/training/sand1/sand1-a-p006.png\n",
            "/content/drive/MyDrive/training/sand1/sand1-a-p004.png\n",
            "/content/drive/MyDrive/training/sand1/sand1-a-p001.png\n",
            "/content/drive/MyDrive/training/sand1/sand1-a-p007.png\n",
            "/content/drive/MyDrive/training/sand1/sand1-a-p003.png\n",
            "/content/drive/MyDrive/training/sand1/sand1-a-p008.png\n",
            "/content/drive/MyDrive/training/sand1/sand1-a-p017.png\n",
            "/content/drive/MyDrive/training/sand1/sand1-a-p013.png\n",
            "/content/drive/MyDrive/training/sand1/sand1-a-p012.png\n",
            "/content/drive/MyDrive/training/sand1/sand1-a-p014.png\n",
            "/content/drive/MyDrive/training/sand1/sand1-a-p011.png\n",
            "/content/drive/MyDrive/training/sand1/sand1-a-p010.png\n",
            "/content/drive/MyDrive/training/sand1/sand1-a-p009.png\n",
            "/content/drive/MyDrive/training/sand1/sand1-a-p016.png\n",
            "/content/drive/MyDrive/training/sand1/sand1-a-p015.png\n",
            "/content/drive/MyDrive/training/sand1/sand1-a-p029.png\n",
            "/content/drive/MyDrive/training/sand1/sand1-a-p027.png\n",
            "/content/drive/MyDrive/training/sand1/sand1-a-p018.png\n",
            "/content/drive/MyDrive/training/sand1/sand1-a-p024.png\n",
            "/content/drive/MyDrive/training/sand1/sand1-a-p030.png\n",
            "/content/drive/MyDrive/training/sand1/sand1-a-p021.png\n",
            "/content/drive/MyDrive/training/sand1/sand1-a-p023.png\n",
            "/content/drive/MyDrive/training/sand1/sand1-a-p026.png\n",
            "/content/drive/MyDrive/training/sand1/sand1-a-p020.png\n",
            "/content/drive/MyDrive/training/sand1/sand1-a-p019.png\n",
            "/content/drive/MyDrive/training/sand1/sand1-a-p022.png\n",
            "/content/drive/MyDrive/training/sand1/sand1-a-p025.png\n",
            "/content/drive/MyDrive/training/sand1/sand1-a-p028.png\n",
            "/content/drive/MyDrive/training/linsseeds1/linseeds1-a-p004.png\n",
            "/content/drive/MyDrive/training/linsseeds1/linseeds1-a-p005.png\n",
            "/content/drive/MyDrive/training/linsseeds1/linseeds1-a-p007.png\n",
            "/content/drive/MyDrive/training/linsseeds1/linseeds1-a-p001.png\n",
            "/content/drive/MyDrive/training/linsseeds1/linseeds1-a-p008.png\n",
            "/content/drive/MyDrive/training/linsseeds1/linseeds1-a-p009.png\n",
            "/content/drive/MyDrive/training/linsseeds1/linseeds1-a-p002.png\n",
            "/content/drive/MyDrive/training/linsseeds1/linseeds1-a-p010.png\n",
            "/content/drive/MyDrive/training/linsseeds1/linseeds1-a-p003.png\n",
            "/content/drive/MyDrive/training/linsseeds1/linseeds1-a-p006.png\n",
            "/content/drive/MyDrive/training/linsseeds1/linseeds1-a-p019.png\n",
            "/content/drive/MyDrive/training/linsseeds1/linseeds1-a-p013.png\n",
            "/content/drive/MyDrive/training/linsseeds1/linseeds1-a-p020.png\n",
            "/content/drive/MyDrive/training/linsseeds1/linseeds1-a-p016.png\n",
            "/content/drive/MyDrive/training/linsseeds1/linseeds1-a-p012.png\n",
            "/content/drive/MyDrive/training/linsseeds1/linseeds1-a-p015.png\n",
            "/content/drive/MyDrive/training/linsseeds1/linseeds1-a-p014.png\n",
            "/content/drive/MyDrive/training/linsseeds1/linseeds1-a-p018.png\n",
            "/content/drive/MyDrive/training/linsseeds1/linseeds1-a-p021.png\n",
            "/content/drive/MyDrive/training/linsseeds1/linseeds1-a-p017.png\n",
            "/content/drive/MyDrive/training/linsseeds1/linseeds1-a-p011.png\n",
            "/content/drive/MyDrive/training/linsseeds1/linseeds1-a-p026.png\n",
            "/content/drive/MyDrive/training/linsseeds1/linseeds1-a-p029.png\n",
            "/content/drive/MyDrive/training/linsseeds1/linseeds1-a-p027.png\n",
            "/content/drive/MyDrive/training/linsseeds1/linseeds1-a-p025.png\n",
            "/content/drive/MyDrive/training/linsseeds1/linseeds1-a-p030.png\n",
            "/content/drive/MyDrive/training/linsseeds1/linseeds1-a-p024.png\n",
            "/content/drive/MyDrive/training/linsseeds1/linseeds1-a-p023.png\n",
            "/content/drive/MyDrive/training/linsseeds1/linseeds1-a-p022.png\n",
            "/content/drive/MyDrive/training/linsseeds1/linseeds1-a-p028.png\n",
            "/content/drive/MyDrive/training/cushion1/cushion1-a-p010.png\n",
            "/content/drive/MyDrive/training/cushion1/cushion1-a-p011.png\n",
            "/content/drive/MyDrive/training/cushion1/cushion1-a-p008.png\n",
            "/content/drive/MyDrive/training/cushion1/cushion1-a-p002.png\n",
            "/content/drive/MyDrive/training/cushion1/cushion1-a-p005.png\n",
            "/content/drive/MyDrive/training/cushion1/cushion1-a-p006.png\n",
            "/content/drive/MyDrive/training/cushion1/cushion1-a-p004.png\n",
            "/content/drive/MyDrive/training/cushion1/cushion1-a-p013.png\n",
            "/content/drive/MyDrive/training/cushion1/cushion1-a-p014.png\n",
            "/content/drive/MyDrive/training/cushion1/cushion1-a-p012.png\n",
            "/content/drive/MyDrive/training/cushion1/cushion1-a-p001.png\n",
            "/content/drive/MyDrive/training/cushion1/cushion1-a-p015.png\n",
            "/content/drive/MyDrive/training/cushion1/cushion1-a-p009.png\n",
            "/content/drive/MyDrive/training/cushion1/cushion1-a-p007.png\n",
            "/content/drive/MyDrive/training/cushion1/cushion1-a-p003.png\n",
            "/content/drive/MyDrive/training/cushion1/cushion1-a-p017.png\n",
            "/content/drive/MyDrive/training/cushion1/cushion1-a-p028.png\n",
            "/content/drive/MyDrive/training/cushion1/cushion1-a-p021.png\n",
            "/content/drive/MyDrive/training/cushion1/cushion1-a-p018.png\n",
            "/content/drive/MyDrive/training/cushion1/cushion1-a-p020.png\n",
            "/content/drive/MyDrive/training/cushion1/cushion1-a-p022.png\n",
            "/content/drive/MyDrive/training/cushion1/cushion1-a-p016.png\n",
            "/content/drive/MyDrive/training/cushion1/cushion1-a-p026.png\n",
            "/content/drive/MyDrive/training/cushion1/cushion1-a-p027.png\n",
            "/content/drive/MyDrive/training/cushion1/cushion1-a-p023.png\n",
            "/content/drive/MyDrive/training/cushion1/cushion1-a-p019.png\n",
            "/content/drive/MyDrive/training/cushion1/cushion1-a-p024.png\n",
            "/content/drive/MyDrive/training/cushion1/cushion1-a-p029.png\n",
            "/content/drive/MyDrive/training/cushion1/cushion1-a-p025.png\n",
            "/content/drive/MyDrive/training/cushion1/cushion1-a-p030.png\n",
            "/content/drive/MyDrive/training/seat2/seat2-a-p003.png\n",
            "/content/drive/MyDrive/training/seat2/seat2-a-p001.png\n",
            "/content/drive/MyDrive/training/seat2/seat2-a-p002.png\n",
            "/content/drive/MyDrive/training/seat2/seat2-a-p018.png\n",
            "/content/drive/MyDrive/training/seat2/seat2-a-p004.png\n",
            "/content/drive/MyDrive/training/seat2/seat2-a-p020.png\n",
            "/content/drive/MyDrive/training/seat2/seat2-a-p009.png\n",
            "/content/drive/MyDrive/training/seat2/seat2-a-p013.png\n",
            "/content/drive/MyDrive/training/seat2/seat2-a-p006.png\n",
            "/content/drive/MyDrive/training/seat2/seat2-a-p007.png\n",
            "/content/drive/MyDrive/training/seat2/seat2-a-p015.png\n",
            "/content/drive/MyDrive/training/seat2/seat2-a-p014.png\n",
            "/content/drive/MyDrive/training/seat2/seat2-a-p008.png\n",
            "/content/drive/MyDrive/training/seat2/seat2-a-p021.png\n",
            "/content/drive/MyDrive/training/seat2/seat2-a-p010.png\n",
            "/content/drive/MyDrive/training/seat2/seat2-a-p017.png\n",
            "/content/drive/MyDrive/training/seat2/seat2-a-p005.png\n",
            "/content/drive/MyDrive/training/seat2/seat2-a-p019.png\n",
            "/content/drive/MyDrive/training/seat2/seat2-a-p016.png\n",
            "/content/drive/MyDrive/training/seat2/seat2-a-p012.png\n",
            "/content/drive/MyDrive/training/seat2/seat2-a-p011.png\n",
            "/content/drive/MyDrive/training/seat2/seat2-a-p025.png\n",
            "/content/drive/MyDrive/training/seat2/seat2-a-p030.png\n",
            "/content/drive/MyDrive/training/seat2/seat2-a-p023.png\n",
            "/content/drive/MyDrive/training/seat2/seat2-a-p024.png\n",
            "/content/drive/MyDrive/training/seat2/seat2-a-p028.png\n",
            "/content/drive/MyDrive/training/seat2/seat2-a-p029.png\n",
            "/content/drive/MyDrive/training/seat2/seat2-a-p026.png\n",
            "/content/drive/MyDrive/training/seat2/seat2-a-p027.png\n",
            "/content/drive/MyDrive/training/seat2/seat2-a-p022.png\n",
            "/content/drive/MyDrive/training/canvas1/canvas1-a-p002.png\n",
            "/content/drive/MyDrive/training/canvas1/canvas1-a-p001.png\n",
            "/content/drive/MyDrive/training/canvas1/canvas1-a-p008.png\n",
            "/content/drive/MyDrive/training/canvas1/canvas1-a-p005.png\n",
            "/content/drive/MyDrive/training/canvas1/canvas1-a-p011.png\n",
            "/content/drive/MyDrive/training/canvas1/canvas1-a-p007.png\n",
            "/content/drive/MyDrive/training/canvas1/canvas1-a-p004.png\n",
            "/content/drive/MyDrive/training/canvas1/canvas1-a-p009.png\n",
            "/content/drive/MyDrive/training/canvas1/canvas1-a-p016.png\n",
            "/content/drive/MyDrive/training/canvas1/canvas1-a-p014.png\n",
            "/content/drive/MyDrive/training/canvas1/canvas1-a-p013.png\n",
            "/content/drive/MyDrive/training/canvas1/canvas1-a-p017.png\n",
            "/content/drive/MyDrive/training/canvas1/canvas1-a-p010.png\n",
            "/content/drive/MyDrive/training/canvas1/canvas1-a-p003.png\n",
            "/content/drive/MyDrive/training/canvas1/canvas1-a-p012.png\n",
            "/content/drive/MyDrive/training/canvas1/canvas1-a-p015.png\n",
            "/content/drive/MyDrive/training/canvas1/canvas1-a-p006.png\n",
            "/content/drive/MyDrive/training/canvas1/canvas1-a-p024.png\n",
            "/content/drive/MyDrive/training/canvas1/canvas1-a-p025.png\n",
            "/content/drive/MyDrive/training/canvas1/canvas1-a-p030.png\n",
            "/content/drive/MyDrive/training/canvas1/canvas1-a-p026.png\n",
            "/content/drive/MyDrive/training/canvas1/canvas1-a-p020.png\n",
            "/content/drive/MyDrive/training/canvas1/canvas1-a-p028.png\n",
            "/content/drive/MyDrive/training/canvas1/canvas1-a-p019.png\n",
            "/content/drive/MyDrive/training/canvas1/canvas1-a-p023.png\n",
            "/content/drive/MyDrive/training/canvas1/canvas1-a-p029.png\n",
            "/content/drive/MyDrive/training/canvas1/canvas1-a-p027.png\n",
            "/content/drive/MyDrive/training/canvas1/canvas1-a-p018.png\n",
            "/content/drive/MyDrive/training/canvas1/canvas1-a-p022.png\n",
            "/content/drive/MyDrive/training/canvas1/canvas1-a-p021.png\n"
          ]
        }
      ]
    },
    {
      "cell_type": "code",
      "metadata": {
        "scrolled": true,
        "id": "fd9610d6",
        "colab": {
          "base_uri": "https://localhost:8080/"
        },
        "outputId": "b928c8bd-f291-4cc2-babb-b9b684261011"
      },
      "source": [
        "#certain 4 folders\n",
        "folder_names = [\"canvas1\", \"cushion1\", \"linsseeds1\", \"sand1\",\"seat2\",\"stone1\"]\n",
        "listOfFiles = [f for f in listOfFiles if any([n in f for n in folder_names])]\n",
        "print(listOfFiles)"
      ],
      "id": "fd9610d6",
      "execution_count": null,
      "outputs": [
        {
          "output_type": "stream",
          "name": "stdout",
          "text": [
            "['/content/drive/MyDrive/training/stone1/stone1-a-p001.png', '/content/drive/MyDrive/training/stone1/stone1-a-p007.png', '/content/drive/MyDrive/training/stone1/stone1-a-p005.png', '/content/drive/MyDrive/training/stone1/stone1-a-p004.png', '/content/drive/MyDrive/training/stone1/stone1-a-p002.png', '/content/drive/MyDrive/training/stone1/stone1-a-p003.png', '/content/drive/MyDrive/training/stone1/stone1-a-p006.png', '/content/drive/MyDrive/training/stone1/stone1-a-p018.png', '/content/drive/MyDrive/training/stone1/stone1-a-p009.png', '/content/drive/MyDrive/training/stone1/stone1-a-p013.png', '/content/drive/MyDrive/training/stone1/stone1-a-p020.png', '/content/drive/MyDrive/training/stone1/stone1-a-p015.png', '/content/drive/MyDrive/training/stone1/stone1-a-p014.png', '/content/drive/MyDrive/training/stone1/stone1-a-p021.png', '/content/drive/MyDrive/training/stone1/stone1-a-p016.png', '/content/drive/MyDrive/training/stone1/stone1-a-p010.png', '/content/drive/MyDrive/training/stone1/stone1-a-p011.png', '/content/drive/MyDrive/training/stone1/stone1-a-p019.png', '/content/drive/MyDrive/training/stone1/stone1-a-p022.png', '/content/drive/MyDrive/training/stone1/stone1-a-p008.png', '/content/drive/MyDrive/training/stone1/stone1-a-p017.png', '/content/drive/MyDrive/training/stone1/stone1-a-p012.png', '/content/drive/MyDrive/training/stone1/stone1-a-p024.png', '/content/drive/MyDrive/training/stone1/stone1-a-p030.png', '/content/drive/MyDrive/training/stone1/stone1-a-p027.png', '/content/drive/MyDrive/training/stone1/stone1-a-p023.png', '/content/drive/MyDrive/training/stone1/stone1-a-p028.png', '/content/drive/MyDrive/training/stone1/stone1-a-p029.png', '/content/drive/MyDrive/training/stone1/stone1-a-p025.png', '/content/drive/MyDrive/training/stone1/stone1-a-p026.png', '/content/drive/MyDrive/training/sand1/sand1-a-p005.png', '/content/drive/MyDrive/training/sand1/sand1-a-p002.png', '/content/drive/MyDrive/training/sand1/sand1-a-p006.png', '/content/drive/MyDrive/training/sand1/sand1-a-p004.png', '/content/drive/MyDrive/training/sand1/sand1-a-p001.png', '/content/drive/MyDrive/training/sand1/sand1-a-p007.png', '/content/drive/MyDrive/training/sand1/sand1-a-p003.png', '/content/drive/MyDrive/training/sand1/sand1-a-p008.png', '/content/drive/MyDrive/training/sand1/sand1-a-p017.png', '/content/drive/MyDrive/training/sand1/sand1-a-p013.png', '/content/drive/MyDrive/training/sand1/sand1-a-p012.png', '/content/drive/MyDrive/training/sand1/sand1-a-p014.png', '/content/drive/MyDrive/training/sand1/sand1-a-p011.png', '/content/drive/MyDrive/training/sand1/sand1-a-p010.png', '/content/drive/MyDrive/training/sand1/sand1-a-p009.png', '/content/drive/MyDrive/training/sand1/sand1-a-p016.png', '/content/drive/MyDrive/training/sand1/sand1-a-p015.png', '/content/drive/MyDrive/training/sand1/sand1-a-p029.png', '/content/drive/MyDrive/training/sand1/sand1-a-p027.png', '/content/drive/MyDrive/training/sand1/sand1-a-p018.png', '/content/drive/MyDrive/training/sand1/sand1-a-p024.png', '/content/drive/MyDrive/training/sand1/sand1-a-p030.png', '/content/drive/MyDrive/training/sand1/sand1-a-p021.png', '/content/drive/MyDrive/training/sand1/sand1-a-p023.png', '/content/drive/MyDrive/training/sand1/sand1-a-p026.png', '/content/drive/MyDrive/training/sand1/sand1-a-p020.png', '/content/drive/MyDrive/training/sand1/sand1-a-p019.png', '/content/drive/MyDrive/training/sand1/sand1-a-p022.png', '/content/drive/MyDrive/training/sand1/sand1-a-p025.png', '/content/drive/MyDrive/training/sand1/sand1-a-p028.png', '/content/drive/MyDrive/training/linsseeds1/linseeds1-a-p004.png', '/content/drive/MyDrive/training/linsseeds1/linseeds1-a-p005.png', '/content/drive/MyDrive/training/linsseeds1/linseeds1-a-p007.png', '/content/drive/MyDrive/training/linsseeds1/linseeds1-a-p001.png', '/content/drive/MyDrive/training/linsseeds1/linseeds1-a-p008.png', '/content/drive/MyDrive/training/linsseeds1/linseeds1-a-p009.png', '/content/drive/MyDrive/training/linsseeds1/linseeds1-a-p002.png', '/content/drive/MyDrive/training/linsseeds1/linseeds1-a-p010.png', '/content/drive/MyDrive/training/linsseeds1/linseeds1-a-p003.png', '/content/drive/MyDrive/training/linsseeds1/linseeds1-a-p006.png', '/content/drive/MyDrive/training/linsseeds1/linseeds1-a-p019.png', '/content/drive/MyDrive/training/linsseeds1/linseeds1-a-p013.png', '/content/drive/MyDrive/training/linsseeds1/linseeds1-a-p020.png', '/content/drive/MyDrive/training/linsseeds1/linseeds1-a-p016.png', '/content/drive/MyDrive/training/linsseeds1/linseeds1-a-p012.png', '/content/drive/MyDrive/training/linsseeds1/linseeds1-a-p015.png', '/content/drive/MyDrive/training/linsseeds1/linseeds1-a-p014.png', '/content/drive/MyDrive/training/linsseeds1/linseeds1-a-p018.png', '/content/drive/MyDrive/training/linsseeds1/linseeds1-a-p021.png', '/content/drive/MyDrive/training/linsseeds1/linseeds1-a-p017.png', '/content/drive/MyDrive/training/linsseeds1/linseeds1-a-p011.png', '/content/drive/MyDrive/training/linsseeds1/linseeds1-a-p026.png', '/content/drive/MyDrive/training/linsseeds1/linseeds1-a-p029.png', '/content/drive/MyDrive/training/linsseeds1/linseeds1-a-p027.png', '/content/drive/MyDrive/training/linsseeds1/linseeds1-a-p025.png', '/content/drive/MyDrive/training/linsseeds1/linseeds1-a-p030.png', '/content/drive/MyDrive/training/linsseeds1/linseeds1-a-p024.png', '/content/drive/MyDrive/training/linsseeds1/linseeds1-a-p023.png', '/content/drive/MyDrive/training/linsseeds1/linseeds1-a-p022.png', '/content/drive/MyDrive/training/linsseeds1/linseeds1-a-p028.png', '/content/drive/MyDrive/training/cushion1/cushion1-a-p010.png', '/content/drive/MyDrive/training/cushion1/cushion1-a-p011.png', '/content/drive/MyDrive/training/cushion1/cushion1-a-p008.png', '/content/drive/MyDrive/training/cushion1/cushion1-a-p002.png', '/content/drive/MyDrive/training/cushion1/cushion1-a-p005.png', '/content/drive/MyDrive/training/cushion1/cushion1-a-p006.png', '/content/drive/MyDrive/training/cushion1/cushion1-a-p004.png', '/content/drive/MyDrive/training/cushion1/cushion1-a-p013.png', '/content/drive/MyDrive/training/cushion1/cushion1-a-p014.png', '/content/drive/MyDrive/training/cushion1/cushion1-a-p012.png', '/content/drive/MyDrive/training/cushion1/cushion1-a-p001.png', '/content/drive/MyDrive/training/cushion1/cushion1-a-p015.png', '/content/drive/MyDrive/training/cushion1/cushion1-a-p009.png', '/content/drive/MyDrive/training/cushion1/cushion1-a-p007.png', '/content/drive/MyDrive/training/cushion1/cushion1-a-p003.png', '/content/drive/MyDrive/training/cushion1/cushion1-a-p017.png', '/content/drive/MyDrive/training/cushion1/cushion1-a-p028.png', '/content/drive/MyDrive/training/cushion1/cushion1-a-p021.png', '/content/drive/MyDrive/training/cushion1/cushion1-a-p018.png', '/content/drive/MyDrive/training/cushion1/cushion1-a-p020.png', '/content/drive/MyDrive/training/cushion1/cushion1-a-p022.png', '/content/drive/MyDrive/training/cushion1/cushion1-a-p016.png', '/content/drive/MyDrive/training/cushion1/cushion1-a-p026.png', '/content/drive/MyDrive/training/cushion1/cushion1-a-p027.png', '/content/drive/MyDrive/training/cushion1/cushion1-a-p023.png', '/content/drive/MyDrive/training/cushion1/cushion1-a-p019.png', '/content/drive/MyDrive/training/cushion1/cushion1-a-p024.png', '/content/drive/MyDrive/training/cushion1/cushion1-a-p029.png', '/content/drive/MyDrive/training/cushion1/cushion1-a-p025.png', '/content/drive/MyDrive/training/cushion1/cushion1-a-p030.png', '/content/drive/MyDrive/training/seat2/seat2-a-p003.png', '/content/drive/MyDrive/training/seat2/seat2-a-p001.png', '/content/drive/MyDrive/training/seat2/seat2-a-p002.png', '/content/drive/MyDrive/training/seat2/seat2-a-p018.png', '/content/drive/MyDrive/training/seat2/seat2-a-p004.png', '/content/drive/MyDrive/training/seat2/seat2-a-p020.png', '/content/drive/MyDrive/training/seat2/seat2-a-p009.png', '/content/drive/MyDrive/training/seat2/seat2-a-p013.png', '/content/drive/MyDrive/training/seat2/seat2-a-p006.png', '/content/drive/MyDrive/training/seat2/seat2-a-p007.png', '/content/drive/MyDrive/training/seat2/seat2-a-p015.png', '/content/drive/MyDrive/training/seat2/seat2-a-p014.png', '/content/drive/MyDrive/training/seat2/seat2-a-p008.png', '/content/drive/MyDrive/training/seat2/seat2-a-p021.png', '/content/drive/MyDrive/training/seat2/seat2-a-p010.png', '/content/drive/MyDrive/training/seat2/seat2-a-p017.png', '/content/drive/MyDrive/training/seat2/seat2-a-p005.png', '/content/drive/MyDrive/training/seat2/seat2-a-p019.png', '/content/drive/MyDrive/training/seat2/seat2-a-p016.png', '/content/drive/MyDrive/training/seat2/seat2-a-p012.png', '/content/drive/MyDrive/training/seat2/seat2-a-p011.png', '/content/drive/MyDrive/training/seat2/seat2-a-p025.png', '/content/drive/MyDrive/training/seat2/seat2-a-p030.png', '/content/drive/MyDrive/training/seat2/seat2-a-p023.png', '/content/drive/MyDrive/training/seat2/seat2-a-p024.png', '/content/drive/MyDrive/training/seat2/seat2-a-p028.png', '/content/drive/MyDrive/training/seat2/seat2-a-p029.png', '/content/drive/MyDrive/training/seat2/seat2-a-p026.png', '/content/drive/MyDrive/training/seat2/seat2-a-p027.png', '/content/drive/MyDrive/training/seat2/seat2-a-p022.png', '/content/drive/MyDrive/training/canvas1/canvas1-a-p002.png', '/content/drive/MyDrive/training/canvas1/canvas1-a-p001.png', '/content/drive/MyDrive/training/canvas1/canvas1-a-p008.png', '/content/drive/MyDrive/training/canvas1/canvas1-a-p005.png', '/content/drive/MyDrive/training/canvas1/canvas1-a-p011.png', '/content/drive/MyDrive/training/canvas1/canvas1-a-p007.png', '/content/drive/MyDrive/training/canvas1/canvas1-a-p004.png', '/content/drive/MyDrive/training/canvas1/canvas1-a-p009.png', '/content/drive/MyDrive/training/canvas1/canvas1-a-p016.png', '/content/drive/MyDrive/training/canvas1/canvas1-a-p014.png', '/content/drive/MyDrive/training/canvas1/canvas1-a-p013.png', '/content/drive/MyDrive/training/canvas1/canvas1-a-p017.png', '/content/drive/MyDrive/training/canvas1/canvas1-a-p010.png', '/content/drive/MyDrive/training/canvas1/canvas1-a-p003.png', '/content/drive/MyDrive/training/canvas1/canvas1-a-p012.png', '/content/drive/MyDrive/training/canvas1/canvas1-a-p015.png', '/content/drive/MyDrive/training/canvas1/canvas1-a-p006.png', '/content/drive/MyDrive/training/canvas1/canvas1-a-p024.png', '/content/drive/MyDrive/training/canvas1/canvas1-a-p025.png', '/content/drive/MyDrive/training/canvas1/canvas1-a-p030.png', '/content/drive/MyDrive/training/canvas1/canvas1-a-p026.png', '/content/drive/MyDrive/training/canvas1/canvas1-a-p020.png', '/content/drive/MyDrive/training/canvas1/canvas1-a-p028.png', '/content/drive/MyDrive/training/canvas1/canvas1-a-p019.png', '/content/drive/MyDrive/training/canvas1/canvas1-a-p023.png', '/content/drive/MyDrive/training/canvas1/canvas1-a-p029.png', '/content/drive/MyDrive/training/canvas1/canvas1-a-p027.png', '/content/drive/MyDrive/training/canvas1/canvas1-a-p018.png', '/content/drive/MyDrive/training/canvas1/canvas1-a-p022.png', '/content/drive/MyDrive/training/canvas1/canvas1-a-p021.png']\n"
          ]
        }
      ]
    },
    {
      "cell_type": "code",
      "metadata": {
        "scrolled": true,
        "id": "750f0320"
      },
      "source": [
        "# Read the images \n",
        "img = [io.imread(file) for file in listOfFiles]"
      ],
      "id": "750f0320",
      "execution_count": null,
      "outputs": []
    },
    {
      "cell_type": "code",
      "metadata": {
        "id": "3a54bb9d",
        "colab": {
          "base_uri": "https://localhost:8080/",
          "height": 314
        },
        "outputId": "d0bd7c05-451b-4d16-8476-ba89a9fcaa88"
      },
      "source": [
        "io.imshow(img[0])\n",
        "img[0].shape"
      ],
      "id": "3a54bb9d",
      "execution_count": null,
      "outputs": [
        {
          "output_type": "execute_result",
          "data": {
            "text/plain": [
              "(576, 576)"
            ]
          },
          "metadata": {},
          "execution_count": 6
        },
        {
          "output_type": "display_data",
          "data": {
            "image/png": "[encoded data removed]",
            "text/plain": [
              "<Figure size 432x288 with 1 Axes>"
            ]
          },
          "metadata": {
            "needs_background": "light"
          }
        }
      ]
    },
    {
      "cell_type": "markdown",
      "metadata": {
        "id": "9955935a"
      },
      "source": [
        "# change size \n"
      ],
      "id": "9955935a"
    },
    {
      "cell_type": "code",
      "metadata": {
        "colab": {
          "base_uri": "https://localhost:8080/"
        },
        "id": "q8lYY-v-9Hgz",
        "outputId": "59c4eedf-97d9-412e-8016-77ab41e69202"
      },
      "source": [
        "img=np.array(img)\n",
        "img.shape"
      ],
      "id": "q8lYY-v-9Hgz",
      "execution_count": null,
      "outputs": [
        {
          "output_type": "execute_result",
          "data": {
            "text/plain": [
              "(180, 576, 576)"
            ]
          },
          "metadata": {},
          "execution_count": 7
        }
      ]
    },
    {
      "cell_type": "code",
      "metadata": {
        "id": "QuOq0BioKFoQ"
      },
      "source": [
        "new_img=[]\n",
        "for i in img:\n",
        "    new_img.append(i)"
      ],
      "id": "QuOq0BioKFoQ",
      "execution_count": null,
      "outputs": []
    },
    {
      "cell_type": "code",
      "metadata": {
        "colab": {
          "base_uri": "https://localhost:8080/"
        },
        "id": "MSCGuIMnKPGR",
        "outputId": "9c6991c5-c2b4-408e-ac70-bc5db3940add"
      },
      "source": [
        "new_img=np.array(new_img)\n",
        "new_img.shape"
      ],
      "id": "MSCGuIMnKPGR",
      "execution_count": null,
      "outputs": [
        {
          "output_type": "execute_result",
          "data": {
            "text/plain": [
              "(180, 576, 576)"
            ]
          },
          "metadata": {},
          "execution_count": 9
        }
      ]
    },
    {
      "cell_type": "code",
      "metadata": {
        "scrolled": false,
        "id": "4e1baf52"
      },
      "source": [
        "# Resize the images\n",
        "from skimage.transform import resize\n",
        "xx=[]\n",
        "new_img=[]\n",
        "for i in img:\n",
        "    new_img.append(resize(i,(32,32)))"
      ],
      "id": "4e1baf52",
      "execution_count": null,
      "outputs": []
    },
    {
      "cell_type": "code",
      "metadata": {
        "colab": {
          "base_uri": "https://localhost:8080/"
        },
        "id": "ENR0Y5fAFlkw",
        "outputId": "4db0ba77-0f05-4b28-8bfa-21b9b1865437"
      },
      "source": [
        "new_img=np.array(new_img)\n",
        "new_img.shape"
      ],
      "id": "ENR0Y5fAFlkw",
      "execution_count": null,
      "outputs": [
        {
          "output_type": "execute_result",
          "data": {
            "text/plain": [
              "(180, 32, 32)"
            ]
          },
          "metadata": {},
          "execution_count": 11
        }
      ]
    },
    {
      "cell_type": "code",
      "metadata": {
        "id": "6RlAJB8YAwH_"
      },
      "source": [
        "#\"canvas1\", \"cushion1\", \"linsseeds1\", \"sand1\",\"seat2\",\"stone1\"\n",
        "#Preparing label for multiclass\n",
        "ymultiii = []\n",
        "for f in listOfFiles:\n",
        "    if 'canvas1' in f:\n",
        "        ymultiii.append('0')\n",
        "    if 'cushion1' in f:\n",
        "        ymultiii.append('1')\n",
        "    if 'linsseeds1' in f:\n",
        "        ymultiii.append('2')\n",
        "    if 'sand1' in f:\n",
        "        ymultiii.append('3')\n",
        "    if 'seat2' in f:\n",
        "        ymultiii.append('4')\n",
        "    if 'stone1' in f:\n",
        "        ymultiii.append('5')                "
      ],
      "id": "6RlAJB8YAwH_",
      "execution_count": null,
      "outputs": []
    },
    {
      "cell_type": "code",
      "metadata": {
        "colab": {
          "base_uri": "https://localhost:8080/"
        },
        "id": "W6iVTCnWzcUB",
        "outputId": "a36f1486-c8d5-454b-8a62-e836192bfaff"
      },
      "source": [
        "np.array(ymultiii).shape"
      ],
      "id": "W6iVTCnWzcUB",
      "execution_count": null,
      "outputs": [
        {
          "output_type": "execute_result",
          "data": {
            "text/plain": [
              "(180,)"
            ]
          },
          "metadata": {},
          "execution_count": 13
        }
      ]
    },
    {
      "cell_type": "markdown",
      "metadata": {
        "id": "QZLPdYXBAZFi"
      },
      "source": [
        "concatenate pairs"
      ],
      "id": "QZLPdYXBAZFi"
    },
    {
      "cell_type": "code",
      "metadata": {
        "id": "ZBLUxtVSx51o"
      },
      "source": [
        "new_data=[]\n",
        "new_label=[]\n",
        "for i in range(new_img.shape[0]-1):\n",
        "  for j in range(i+1 , new_img.shape[0]):\n",
        "    new_data.append( np.concatenate((new_img[i].flatten(),new_img[j].flatten())))\n",
        "    if ymultiii[i]==ymultiii[j]:\n",
        "      new_label.append(1)\n",
        "    else:\n",
        "      new_label.append(0)"
      ],
      "id": "ZBLUxtVSx51o",
      "execution_count": null,
      "outputs": []
    },
    {
      "cell_type": "code",
      "metadata": {
        "colab": {
          "base_uri": "https://localhost:8080/"
        },
        "id": "kwGyFT1952Dt",
        "outputId": "7301faff-02c5-453c-d3db-a9cc13adce13"
      },
      "source": [
        "new_label"
      ],
      "id": "kwGyFT1952Dt",
      "execution_count": null,
      "outputs": [
        {
          "output_type": "execute_result",
          "data": {
            "text/plain": [
              "[1,\n",
              " 1,\n",
              " 1,\n",
              " 1,\n",
              " 1,\n",
              " 1,\n",
              " 1,\n",
              " 1,\n",
              " 1,\n",
              " 1,\n",
              " 1,\n",
              " 1,\n",
              " 1,\n",
              " 1,\n",
              " 1,\n",
              " 1,\n",
              " 1,\n",
              " 1,\n",
              " 1,\n",
              " 1,\n",
              " 1,\n",
              " 1,\n",
              " 1,\n",
              " 1,\n",
              " 1,\n",
              " 1,\n",
              " 1,\n",
              " 1,\n",
              " 1,\n",
              " 0,\n",
              " 0,\n",
              " 0,\n",
              " 0,\n",
              " 0,\n",
              " 0,\n",
              " 0,\n",
              " 0,\n",
              " 0,\n",
              " 0,\n",
              " 0,\n",
              " 0,\n",
              " 0,\n",
              " 0,\n",
              " 0,\n",
              " 0,\n",
              " 0,\n",
              " 0,\n",
              " 0,\n",
              " 0,\n",
              " 0,\n",
              " 0,\n",
              " 0,\n",
              " 0,\n",
              " 0,\n",
              " 0,\n",
              " 0,\n",
              " 0,\n",
              " 0,\n",
              " 0,\n",
              " 0,\n",
              " 0,\n",
              " 0,\n",
              " 0,\n",
              " 0,\n",
              " 0,\n",
              " 0,\n",
              " 0,\n",
              " 0,\n",
              " 0,\n",
              " 0,\n",
              " 0,\n",
              " 0,\n",
              " 0,\n",
              " 0,\n",
              " 0,\n",
              " 0,\n",
              " 0,\n",
              " 0,\n",
              " 0,\n",
              " 0,\n",
              " 0,\n",
              " 0,\n",
              " 0,\n",
              " 0,\n",
              " 0,\n",
              " 0,\n",
              " 0,\n",
              " 0,\n",
              " 0,\n",
              " 0,\n",
              " 0,\n",
              " 0,\n",
              " 0,\n",
              " 0,\n",
              " 0,\n",
              " 0,\n",
              " 0,\n",
              " 0,\n",
              " 0,\n",
              " 0,\n",
              " 0,\n",
              " 0,\n",
              " 0,\n",
              " 0,\n",
              " 0,\n",
              " 0,\n",
              " 0,\n",
              " 0,\n",
              " 0,\n",
              " 0,\n",
              " 0,\n",
              " 0,\n",
              " 0,\n",
              " 0,\n",
              " 0,\n",
              " 0,\n",
              " 0,\n",
              " 0,\n",
              " 0,\n",
              " 0,\n",
              " 0,\n",
              " 0,\n",
              " 0,\n",
              " 0,\n",
              " 0,\n",
              " 0,\n",
              " 0,\n",
              " 0,\n",
              " 0,\n",
              " 0,\n",
              " 0,\n",
              " 0,\n",
              " 0,\n",
              " 0,\n",
              " 0,\n",
              " 0,\n",
              " 0,\n",
              " 0,\n",
              " 0,\n",
              " 0,\n",
              " 0,\n",
              " 0,\n",
              " 0,\n",
              " 0,\n",
              " 0,\n",
              " 0,\n",
              " 0,\n",
              " 0,\n",
              " 0,\n",
              " 0,\n",
              " 0,\n",
              " 0,\n",
              " 0,\n",
              " 0,\n",
              " 0,\n",
              " 0,\n",
              " 0,\n",
              " 0,\n",
              " 0,\n",
              " 0,\n",
              " 0,\n",
              " 0,\n",
              " 0,\n",
              " 0,\n",
              " 0,\n",
              " 0,\n",
              " 0,\n",
              " 0,\n",
              " 0,\n",
              " 0,\n",
              " 0,\n",
              " 0,\n",
              " 0,\n",
              " 0,\n",
              " 0,\n",
              " 0,\n",
              " 0,\n",
              " 0,\n",
              " 0,\n",
              " 1,\n",
              " 1,\n",
              " 1,\n",
              " 1,\n",
              " 1,\n",
              " 1,\n",
              " 1,\n",
              " 1,\n",
              " 1,\n",
              " 1,\n",
              " 1,\n",
              " 1,\n",
              " 1,\n",
              " 1,\n",
              " 1,\n",
              " 1,\n",
              " 1,\n",
              " 1,\n",
              " 1,\n",
              " 1,\n",
              " 1,\n",
              " 1,\n",
              " 1,\n",
              " 1,\n",
              " 1,\n",
              " 1,\n",
              " 1,\n",
              " 1,\n",
              " 0,\n",
              " 0,\n",
              " 0,\n",
              " 0,\n",
              " 0,\n",
              " 0,\n",
              " 0,\n",
              " 0,\n",
              " 0,\n",
              " 0,\n",
              " 0,\n",
              " 0,\n",
              " 0,\n",
              " 0,\n",
              " 0,\n",
              " 0,\n",
              " 0,\n",
              " 0,\n",
              " 0,\n",
              " 0,\n",
              " 0,\n",
              " 0,\n",
              " 0,\n",
              " 0,\n",
              " 0,\n",
              " 0,\n",
              " 0,\n",
              " 0,\n",
              " 0,\n",
              " 0,\n",
              " 0,\n",
              " 0,\n",
              " 0,\n",
              " 0,\n",
              " 0,\n",
              " 0,\n",
              " 0,\n",
              " 0,\n",
              " 0,\n",
              " 0,\n",
              " 0,\n",
              " 0,\n",
              " 0,\n",
              " 0,\n",
              " 0,\n",
              " 0,\n",
              " 0,\n",
              " 0,\n",
              " 0,\n",
              " 0,\n",
              " 0,\n",
              " 0,\n",
              " 0,\n",
              " 0,\n",
              " 0,\n",
              " 0,\n",
              " 0,\n",
              " 0,\n",
              " 0,\n",
              " 0,\n",
              " 0,\n",
              " 0,\n",
              " 0,\n",
              " 0,\n",
              " 0,\n",
              " 0,\n",
              " 0,\n",
              " 0,\n",
              " 0,\n",
              " 0,\n",
              " 0,\n",
              " 0,\n",
              " 0,\n",
              " 0,\n",
              " 0,\n",
              " 0,\n",
              " 0,\n",
              " 0,\n",
              " 0,\n",
              " 0,\n",
              " 0,\n",
              " 0,\n",
              " 0,\n",
              " 0,\n",
              " 0,\n",
              " 0,\n",
              " 0,\n",
              " 0,\n",
              " 0,\n",
              " 0,\n",
              " 0,\n",
              " 0,\n",
              " 0,\n",
              " 0,\n",
              " 0,\n",
              " 0,\n",
              " 0,\n",
              " 0,\n",
              " 0,\n",
              " 0,\n",
              " 0,\n",
              " 0,\n",
              " 0,\n",
              " 0,\n",
              " 0,\n",
              " 0,\n",
              " 0,\n",
              " 0,\n",
              " 0,\n",
              " 0,\n",
              " 0,\n",
              " 0,\n",
              " 0,\n",
              " 0,\n",
              " 0,\n",
              " 0,\n",
              " 0,\n",
              " 0,\n",
              " 0,\n",
              " 0,\n",
              " 0,\n",
              " 0,\n",
              " 0,\n",
              " 0,\n",
              " 0,\n",
              " 0,\n",
              " 0,\n",
              " 0,\n",
              " 0,\n",
              " 0,\n",
              " 0,\n",
              " 0,\n",
              " 0,\n",
              " 0,\n",
              " 0,\n",
              " 0,\n",
              " 0,\n",
              " 0,\n",
              " 0,\n",
              " 0,\n",
              " 0,\n",
              " 0,\n",
              " 0,\n",
              " 0,\n",
              " 0,\n",
              " 0,\n",
              " 0,\n",
              " 0,\n",
              " 0,\n",
              " 0,\n",
              " 1,\n",
              " 1,\n",
              " 1,\n",
              " 1,\n",
              " 1,\n",
              " 1,\n",
              " 1,\n",
              " 1,\n",
              " 1,\n",
              " 1,\n",
              " 1,\n",
              " 1,\n",
              " 1,\n",
              " 1,\n",
              " 1,\n",
              " 1,\n",
              " 1,\n",
              " 1,\n",
              " 1,\n",
              " 1,\n",
              " 1,\n",
              " 1,\n",
              " 1,\n",
              " 1,\n",
              " 1,\n",
              " 1,\n",
              " 1,\n",
              " 0,\n",
              " 0,\n",
              " 0,\n",
              " 0,\n",
              " 0,\n",
              " 0,\n",
              " 0,\n",
              " 0,\n",
              " 0,\n",
              " 0,\n",
              " 0,\n",
              " 0,\n",
              " 0,\n",
              " 0,\n",
              " 0,\n",
              " 0,\n",
              " 0,\n",
              " 0,\n",
              " 0,\n",
              " 0,\n",
              " 0,\n",
              " 0,\n",
              " 0,\n",
              " 0,\n",
              " 0,\n",
              " 0,\n",
              " 0,\n",
              " 0,\n",
              " 0,\n",
              " 0,\n",
              " 0,\n",
              " 0,\n",
              " 0,\n",
              " 0,\n",
              " 0,\n",
              " 0,\n",
              " 0,\n",
              " 0,\n",
              " 0,\n",
              " 0,\n",
              " 0,\n",
              " 0,\n",
              " 0,\n",
              " 0,\n",
              " 0,\n",
              " 0,\n",
              " 0,\n",
              " 0,\n",
              " 0,\n",
              " 0,\n",
              " 0,\n",
              " 0,\n",
              " 0,\n",
              " 0,\n",
              " 0,\n",
              " 0,\n",
              " 0,\n",
              " 0,\n",
              " 0,\n",
              " 0,\n",
              " 0,\n",
              " 0,\n",
              " 0,\n",
              " 0,\n",
              " 0,\n",
              " 0,\n",
              " 0,\n",
              " 0,\n",
              " 0,\n",
              " 0,\n",
              " 0,\n",
              " 0,\n",
              " 0,\n",
              " 0,\n",
              " 0,\n",
              " 0,\n",
              " 0,\n",
              " 0,\n",
              " 0,\n",
              " 0,\n",
              " 0,\n",
              " 0,\n",
              " 0,\n",
              " 0,\n",
              " 0,\n",
              " 0,\n",
              " 0,\n",
              " 0,\n",
              " 0,\n",
              " 0,\n",
              " 0,\n",
              " 0,\n",
              " 0,\n",
              " 0,\n",
              " 0,\n",
              " 0,\n",
              " 0,\n",
              " 0,\n",
              " 0,\n",
              " 0,\n",
              " 0,\n",
              " 0,\n",
              " 0,\n",
              " 0,\n",
              " 0,\n",
              " 0,\n",
              " 0,\n",
              " 0,\n",
              " 0,\n",
              " 0,\n",
              " 0,\n",
              " 0,\n",
              " 0,\n",
              " 0,\n",
              " 0,\n",
              " 0,\n",
              " 0,\n",
              " 0,\n",
              " 0,\n",
              " 0,\n",
              " 0,\n",
              " 0,\n",
              " 0,\n",
              " 0,\n",
              " 0,\n",
              " 0,\n",
              " 0,\n",
              " 0,\n",
              " 0,\n",
              " 0,\n",
              " 0,\n",
              " 0,\n",
              " 0,\n",
              " 0,\n",
              " 0,\n",
              " 0,\n",
              " 0,\n",
              " 0,\n",
              " 0,\n",
              " 0,\n",
              " 0,\n",
              " 0,\n",
              " 0,\n",
              " 0,\n",
              " 0,\n",
              " 0,\n",
              " 0,\n",
              " 0,\n",
              " 0,\n",
              " 0,\n",
              " 1,\n",
              " 1,\n",
              " 1,\n",
              " 1,\n",
              " 1,\n",
              " 1,\n",
              " 1,\n",
              " 1,\n",
              " 1,\n",
              " 1,\n",
              " 1,\n",
              " 1,\n",
              " 1,\n",
              " 1,\n",
              " 1,\n",
              " 1,\n",
              " 1,\n",
              " 1,\n",
              " 1,\n",
              " 1,\n",
              " 1,\n",
              " 1,\n",
              " 1,\n",
              " 1,\n",
              " 1,\n",
              " 1,\n",
              " 0,\n",
              " 0,\n",
              " 0,\n",
              " 0,\n",
              " 0,\n",
              " 0,\n",
              " 0,\n",
              " 0,\n",
              " 0,\n",
              " 0,\n",
              " 0,\n",
              " 0,\n",
              " 0,\n",
              " 0,\n",
              " 0,\n",
              " 0,\n",
              " 0,\n",
              " 0,\n",
              " 0,\n",
              " 0,\n",
              " 0,\n",
              " 0,\n",
              " 0,\n",
              " 0,\n",
              " 0,\n",
              " 0,\n",
              " 0,\n",
              " 0,\n",
              " 0,\n",
              " 0,\n",
              " 0,\n",
              " 0,\n",
              " 0,\n",
              " 0,\n",
              " 0,\n",
              " 0,\n",
              " 0,\n",
              " 0,\n",
              " 0,\n",
              " 0,\n",
              " 0,\n",
              " 0,\n",
              " 0,\n",
              " 0,\n",
              " 0,\n",
              " 0,\n",
              " 0,\n",
              " 0,\n",
              " 0,\n",
              " 0,\n",
              " 0,\n",
              " 0,\n",
              " 0,\n",
              " 0,\n",
              " 0,\n",
              " 0,\n",
              " 0,\n",
              " 0,\n",
              " 0,\n",
              " 0,\n",
              " 0,\n",
              " 0,\n",
              " 0,\n",
              " 0,\n",
              " 0,\n",
              " 0,\n",
              " 0,\n",
              " 0,\n",
              " 0,\n",
              " 0,\n",
              " 0,\n",
              " 0,\n",
              " 0,\n",
              " 0,\n",
              " 0,\n",
              " 0,\n",
              " 0,\n",
              " 0,\n",
              " 0,\n",
              " 0,\n",
              " 0,\n",
              " 0,\n",
              " 0,\n",
              " 0,\n",
              " 0,\n",
              " 0,\n",
              " 0,\n",
              " 0,\n",
              " 0,\n",
              " 0,\n",
              " 0,\n",
              " 0,\n",
              " 0,\n",
              " 0,\n",
              " 0,\n",
              " 0,\n",
              " 0,\n",
              " 0,\n",
              " 0,\n",
              " 0,\n",
              " 0,\n",
              " 0,\n",
              " 0,\n",
              " 0,\n",
              " 0,\n",
              " 0,\n",
              " 0,\n",
              " 0,\n",
              " 0,\n",
              " 0,\n",
              " 0,\n",
              " 0,\n",
              " 0,\n",
              " 0,\n",
              " 0,\n",
              " 0,\n",
              " 0,\n",
              " 0,\n",
              " 0,\n",
              " 0,\n",
              " 0,\n",
              " 0,\n",
              " 0,\n",
              " 0,\n",
              " 0,\n",
              " 0,\n",
              " 0,\n",
              " 0,\n",
              " 0,\n",
              " 0,\n",
              " 0,\n",
              " 0,\n",
              " 0,\n",
              " 0,\n",
              " 0,\n",
              " 0,\n",
              " 0,\n",
              " 0,\n",
              " 0,\n",
              " 0,\n",
              " 0,\n",
              " 0,\n",
              " 0,\n",
              " 0,\n",
              " 0,\n",
              " 0,\n",
              " 0,\n",
              " 0,\n",
              " 0,\n",
              " 0,\n",
              " 1,\n",
              " 1,\n",
              " 1,\n",
              " 1,\n",
              " 1,\n",
              " 1,\n",
              " 1,\n",
              " 1,\n",
              " 1,\n",
              " 1,\n",
              " 1,\n",
              " 1,\n",
              " 1,\n",
              " 1,\n",
              " 1,\n",
              " 1,\n",
              " 1,\n",
              " 1,\n",
              " 1,\n",
              " 1,\n",
              " 1,\n",
              " 1,\n",
              " 1,\n",
              " 1,\n",
              " 1,\n",
              " 0,\n",
              " 0,\n",
              " 0,\n",
              " 0,\n",
              " 0,\n",
              " 0,\n",
              " 0,\n",
              " 0,\n",
              " 0,\n",
              " 0,\n",
              " 0,\n",
              " 0,\n",
              " 0,\n",
              " 0,\n",
              " 0,\n",
              " 0,\n",
              " 0,\n",
              " 0,\n",
              " 0,\n",
              " 0,\n",
              " 0,\n",
              " 0,\n",
              " 0,\n",
              " 0,\n",
              " 0,\n",
              " 0,\n",
              " 0,\n",
              " 0,\n",
              " 0,\n",
              " 0,\n",
              " 0,\n",
              " 0,\n",
              " 0,\n",
              " 0,\n",
              " 0,\n",
              " 0,\n",
              " 0,\n",
              " 0,\n",
              " 0,\n",
              " 0,\n",
              " 0,\n",
              " 0,\n",
              " 0,\n",
              " 0,\n",
              " 0,\n",
              " 0,\n",
              " 0,\n",
              " 0,\n",
              " 0,\n",
              " 0,\n",
              " 0,\n",
              " 0,\n",
              " 0,\n",
              " 0,\n",
              " 0,\n",
              " 0,\n",
              " 0,\n",
              " 0,\n",
              " 0,\n",
              " 0,\n",
              " 0,\n",
              " 0,\n",
              " 0,\n",
              " 0,\n",
              " 0,\n",
              " 0,\n",
              " 0,\n",
              " 0,\n",
              " 0,\n",
              " 0,\n",
              " 0,\n",
              " 0,\n",
              " 0,\n",
              " 0,\n",
              " 0,\n",
              " 0,\n",
              " 0,\n",
              " 0,\n",
              " 0,\n",
              " 0,\n",
              " 0,\n",
              " 0,\n",
              " 0,\n",
              " 0,\n",
              " 0,\n",
              " 0,\n",
              " 0,\n",
              " 0,\n",
              " 0,\n",
              " 0,\n",
              " 0,\n",
              " 0,\n",
              " 0,\n",
              " 0,\n",
              " 0,\n",
              " 0,\n",
              " 0,\n",
              " 0,\n",
              " 0,\n",
              " 0,\n",
              " 0,\n",
              " 0,\n",
              " 0,\n",
              " 0,\n",
              " 0,\n",
              " 0,\n",
              " 0,\n",
              " 0,\n",
              " 0,\n",
              " 0,\n",
              " 0,\n",
              " 0,\n",
              " 0,\n",
              " 0,\n",
              " 0,\n",
              " 0,\n",
              " 0,\n",
              " 0,\n",
              " 0,\n",
              " 0,\n",
              " 0,\n",
              " 0,\n",
              " 0,\n",
              " 0,\n",
              " 0,\n",
              " 0,\n",
              " 0,\n",
              " 0,\n",
              " 0,\n",
              " 0,\n",
              " 0,\n",
              " 0,\n",
              " 0,\n",
              " 0,\n",
              " 0,\n",
              " 0,\n",
              " 0,\n",
              " 0,\n",
              " 0,\n",
              " 0,\n",
              " 0,\n",
              " 0,\n",
              " 0,\n",
              " 0,\n",
              " 0,\n",
              " 0,\n",
              " 0,\n",
              " 0,\n",
              " 0,\n",
              " 0,\n",
              " 1,\n",
              " 1,\n",
              " 1,\n",
              " 1,\n",
              " 1,\n",
              " 1,\n",
              " 1,\n",
              " 1,\n",
              " 1,\n",
              " 1,\n",
              " 1,\n",
              " 1,\n",
              " 1,\n",
              " 1,\n",
              " 1,\n",
              " 1,\n",
              " 1,\n",
              " 1,\n",
              " 1,\n",
              " 1,\n",
              " 1,\n",
              " 1,\n",
              " 1,\n",
              " 1,\n",
              " 0,\n",
              " 0,\n",
              " 0,\n",
              " 0,\n",
              " 0,\n",
              " 0,\n",
              " 0,\n",
              " 0,\n",
              " 0,\n",
              " 0,\n",
              " 0,\n",
              " 0,\n",
              " 0,\n",
              " 0,\n",
              " 0,\n",
              " 0,\n",
              " 0,\n",
              " 0,\n",
              " 0,\n",
              " 0,\n",
              " 0,\n",
              " 0,\n",
              " 0,\n",
              " 0,\n",
              " 0,\n",
              " 0,\n",
              " 0,\n",
              " 0,\n",
              " 0,\n",
              " 0,\n",
              " 0,\n",
              " 0,\n",
              " 0,\n",
              " 0,\n",
              " 0,\n",
              " 0,\n",
              " 0,\n",
              " 0,\n",
              " 0,\n",
              " 0,\n",
              " 0,\n",
              " 0,\n",
              " 0,\n",
              " 0,\n",
              " 0,\n",
              " 0,\n",
              " 0,\n",
              " 0,\n",
              " 0,\n",
              " 0,\n",
              " 0,\n",
              " 0,\n",
              " 0,\n",
              " 0,\n",
              " 0,\n",
              " 0,\n",
              " 0,\n",
              " 0,\n",
              " 0,\n",
              " 0,\n",
              " 0,\n",
              " 0,\n",
              " 0,\n",
              " 0,\n",
              " 0,\n",
              " 0,\n",
              " 0,\n",
              " 0,\n",
              " 0,\n",
              " 0,\n",
              " 0,\n",
              " 0,\n",
              " 0,\n",
              " 0,\n",
              " 0,\n",
              " 0,\n",
              " 0,\n",
              " 0,\n",
              " 0,\n",
              " 0,\n",
              " 0,\n",
              " 0,\n",
              " 0,\n",
              " 0,\n",
              " 0,\n",
              " 0,\n",
              " 0,\n",
              " 0,\n",
              " 0,\n",
              " 0,\n",
              " 0,\n",
              " ...]"
            ]
          },
          "metadata": {},
          "execution_count": 16
        }
      ]
    },
    {
      "cell_type": "code",
      "metadata": {
        "colab": {
          "base_uri": "https://localhost:8080/"
        },
        "id": "VKBP5p7W2ooA",
        "outputId": "9aeddfb6-a896-4099-c572-6b75e269b785"
      },
      "source": [
        "np.shape(new_label)"
      ],
      "id": "VKBP5p7W2ooA",
      "execution_count": null,
      "outputs": [
        {
          "output_type": "execute_result",
          "data": {
            "text/plain": [
              "(16110,)"
            ]
          },
          "metadata": {},
          "execution_count": 17
        }
      ]
    },
    {
      "cell_type": "code",
      "metadata": {
        "colab": {
          "base_uri": "https://localhost:8080/"
        },
        "id": "vBzrxBa7FNpt",
        "outputId": "f64e7d41-07e9-4e13-bf6b-09d343af6480"
      },
      "source": [
        "x=np.array(new_data)\n",
        "x.shape"
      ],
      "id": "vBzrxBa7FNpt",
      "execution_count": null,
      "outputs": [
        {
          "output_type": "execute_result",
          "data": {
            "text/plain": [
              "(16110, 2048)"
            ]
          },
          "metadata": {},
          "execution_count": 18
        }
      ]
    },
    {
      "cell_type": "code",
      "metadata": {
        "id": "bD-up9j_BTkd"
      },
      "source": [
        "# split the data in training to train and validate\n",
        "X_train, X_mul, y_train, y_mul = train_test_split(x,new_label, train_size=0.8, random_state=42)"
      ],
      "id": "bD-up9j_BTkd",
      "execution_count": null,
      "outputs": []
    },
    {
      "cell_type": "markdown",
      "metadata": {
        "id": "9wkBzY3TAl91"
      },
      "source": [
        "# **here i tried 3 methods cc/conv/ssd either with normalization =yes and normalization = no then i choosed the higher accuracy that will be 0.5596679081315953\n",
        "**with method =cc and normalization yes that looks the same as wethod =ssd and normalization yes **"
      ],
      "id": "9wkBzY3TAl91"
    },
    {
      "cell_type": "code",
      "metadata": {
        "id": "KEM-PMq33WMg"
      },
      "source": [
        "def correlation_coefficient(img1,img2):\n",
        "    result = np.dot(img1,img2)\n",
        "    return result"
      ],
      "id": "KEM-PMq33WMg",
      "execution_count": null,
      "outputs": []
    },
    {
      "cell_type": "code",
      "metadata": {
        "colab": {
          "base_uri": "https://localhost:8080/"
        },
        "id": "dfbX44bX3X_C",
        "outputId": "4c5745ac-96c6-4bdb-c583-15bf34f726bf"
      },
      "source": [
        "correlation_coefficient(X_train[0][:1024],X_train[0][1024:])"
      ],
      "id": "dfbX44bX3X_C",
      "execution_count": null,
      "outputs": [
        {
          "output_type": "execute_result",
          "data": {
            "text/plain": [
              "249.6029853902345"
            ]
          },
          "metadata": {},
          "execution_count": 21
        }
      ]
    },
    {
      "cell_type": "code",
      "metadata": {
        "id": "LVqUT9Q_4K3O"
      },
      "source": [
        "def ssd(imageA, imageB):\n",
        "\t# NOTE: the two images must have the same dimension\n",
        "\terr = np.sum((imageA.astype(\"float\") - imageB.astype(\"float\")) ** 2)\n",
        "\treturn err"
      ],
      "id": "LVqUT9Q_4K3O",
      "execution_count": null,
      "outputs": []
    },
    {
      "cell_type": "code",
      "metadata": {
        "id": "58IFsxe_4MLY"
      },
      "source": [
        "def norm(img):\n",
        "    mean_data=np.mean(img)\n",
        "    std_data=np.std(img, ddof=1)\n",
        "    return (img-mean_data)/(std_data)"
      ],
      "id": "58IFsxe_4MLY",
      "execution_count": null,
      "outputs": []
    },
    {
      "cell_type": "code",
      "metadata": {
        "id": "TwDTd8ls4bhc"
      },
      "source": [
        "def convolution2d(img1,img2):\n",
        "    b1=np.flip(img1)\n",
        "    #B= np.flip(b1,0)\n",
        "    s=sum(np.multiply(b1,img2))\n",
        "    return s"
      ],
      "id": "TwDTd8ls4bhc",
      "execution_count": null,
      "outputs": []
    },
    {
      "cell_type": "code",
      "metadata": {
        "id": "mN_6NmdZ4q2Q"
      },
      "source": [
        "new_img = np.array(new_img)\n",
        "new_img = new_img.flatten().reshape(new_img.shape[0],-1)\n",
        "for i in new_img:\n",
        "    def compare_images(imageA, imageB, method='cc', normalize='n'):\n",
        "\n",
        "        if normalize == 'y':\n",
        "            imageA = norm(imageA)\n",
        "            imageB = norm(imageB)\n",
        "        if method == 'cc':\n",
        "            res= correlation_coefficient(imageA,imageB)\n",
        "        elif method == 'conv':\n",
        "            res= convolution2d(imageA,imageB)\n",
        "        elif method == 'ssd':\n",
        "            res= ssd(imageA,imageB)\n",
        "        return res"
      ],
      "id": "mN_6NmdZ4q2Q",
      "execution_count": null,
      "outputs": []
    },
    {
      "cell_type": "code",
      "metadata": {
        "colab": {
          "base_uri": "https://localhost:8080/"
        },
        "id": "TTCUqO0S7T3M",
        "outputId": "d20997e4-5e95-4437-a0b7-a85a8f410227"
      },
      "source": [
        "X_train[0].shape"
      ],
      "id": "TTCUqO0S7T3M",
      "execution_count": null,
      "outputs": [
        {
          "output_type": "execute_result",
          "data": {
            "text/plain": [
              "(2048,)"
            ]
          },
          "metadata": {},
          "execution_count": 26
        }
      ]
    },
    {
      "cell_type": "code",
      "metadata": {
        "id": "PX-y2gV-5o0U"
      },
      "source": [
        "score_cc_n=[]\n",
        "for i in X_train:\n",
        "       score_cc_n.append(compare_images(i[:1024], i[1024:],method='cc', normalize='n'))"
      ],
      "id": "PX-y2gV-5o0U",
      "execution_count": null,
      "outputs": []
    },
    {
      "cell_type": "code",
      "metadata": {
        "colab": {
          "base_uri": "https://localhost:8080/"
        },
        "id": "hUVU4yzt9nzZ",
        "outputId": "fba37644-dac4-4eaa-e065-56dc8c19c2d2"
      },
      "source": [
        "from statistics import mean\n",
        "threshold_score_cc_n= mean(score_cc_n)\n",
        "threshold_score_cc_n"
      ],
      "id": "hUVU4yzt9nzZ",
      "execution_count": null,
      "outputs": [
        {
          "output_type": "execute_result",
          "data": {
            "text/plain": [
              "249.98833028165228"
            ]
          },
          "metadata": {},
          "execution_count": 28
        }
      ]
    },
    {
      "cell_type": "code",
      "metadata": {
        "id": "uzBUM_Ne5onu"
      },
      "source": [
        "y_match_pred = []\n",
        "for i in range(len(score_cc_n)):\n",
        "    if score_cc_n[i] > threshold_score_cc_n:\n",
        "        y_match_pred.append(1)\n",
        "    else:\n",
        "        y_match_pred.append(0)"
      ],
      "id": "uzBUM_Ne5onu",
      "execution_count": null,
      "outputs": []
    },
    {
      "cell_type": "code",
      "metadata": {
        "colab": {
          "base_uri": "https://localhost:8080/"
        },
        "id": "JezKFIcZIH1j",
        "outputId": "6d47be58-28d8-4078-b6b4-5a6b6e86f983"
      },
      "source": [
        "from sklearn.metrics import accuracy_score\n",
        "accuracy_score(y_train, y_match_pred)"
      ],
      "id": "JezKFIcZIH1j",
      "execution_count": null,
      "outputs": [
        {
          "output_type": "execute_result",
          "data": {
            "text/plain": [
              "0.5243637492240845"
            ]
          },
          "metadata": {},
          "execution_count": 30
        }
      ]
    },
    {
      "cell_type": "code",
      "metadata": {
        "id": "gMrg4Nel5oyP"
      },
      "source": [
        "score_cc_y=[]\n",
        "for i in X_train:\n",
        "       score_cc_y.append(compare_images(i[:1024], i[1024:],method='cc', normalize='y'))"
      ],
      "id": "gMrg4Nel5oyP",
      "execution_count": null,
      "outputs": []
    },
    {
      "cell_type": "code",
      "metadata": {
        "colab": {
          "base_uri": "https://localhost:8080/"
        },
        "id": "nLH3O37v-HTB",
        "outputId": "3388e488-02d7-4659-d55c-849920a32d4b"
      },
      "source": [
        "from statistics import mean\n",
        "threshold_score_cc_y= mean(score_cc_y)\n",
        "threshold_score_cc_y"
      ],
      "id": "nLH3O37v-HTB",
      "execution_count": null,
      "outputs": [
        {
          "output_type": "execute_result",
          "data": {
            "text/plain": [
              "8.083710546082582"
            ]
          },
          "metadata": {},
          "execution_count": 32
        }
      ]
    },
    {
      "cell_type": "code",
      "metadata": {
        "id": "W3-pbicaBGTi"
      },
      "source": [
        "y_match_pred = []\n",
        "for i in range(len(score_cc_y)):\n",
        "    if score_cc_y[i] > threshold_score_cc_y:\n",
        "        y_match_pred.append(1)\n",
        "    else:\n",
        "        y_match_pred.append(0)"
      ],
      "id": "W3-pbicaBGTi",
      "execution_count": null,
      "outputs": []
    },
    {
      "cell_type": "markdown",
      "metadata": {
        "id": "-u5LMRDoK9OQ"
      },
      "source": [
        "**highest score will be compared with MLP**"
      ],
      "id": "-u5LMRDoK9OQ"
    },
    {
      "cell_type": "code",
      "metadata": {
        "colab": {
          "base_uri": "https://localhost:8080/"
        },
        "id": "fBAXzL1hIXgf",
        "outputId": "e69dd457-8404-498b-bf64-f943f9fef68f"
      },
      "source": [
        "from sklearn.metrics import accuracy_score\n",
        "accuracy_score(y_train, y_match_pred)"
      ],
      "id": "fBAXzL1hIXgf",
      "execution_count": null,
      "outputs": [
        {
          "output_type": "execute_result",
          "data": {
            "text/plain": [
              "0.5596679081315953"
            ]
          },
          "metadata": {},
          "execution_count": 34
        }
      ]
    },
    {
      "cell_type": "code",
      "metadata": {
        "id": "0x7nl-tO8WJV"
      },
      "source": [
        "score_ssd_n=[]\n",
        "for i in X_train:\n",
        "       score_ssd_n.append(compare_images(i[:1024], i[1024:],method='ssd', normalize='n'))"
      ],
      "id": "0x7nl-tO8WJV",
      "execution_count": null,
      "outputs": []
    },
    {
      "cell_type": "code",
      "metadata": {
        "colab": {
          "base_uri": "https://localhost:8080/"
        },
        "id": "QAZQ_dNr-SH6",
        "outputId": "a66e44ee-030a-416d-d52b-ff9a5b1adc97"
      },
      "source": [
        "from statistics import mean\n",
        "threshold_score_ssd_n= mean(score_ssd_n)\n",
        "threshold_score_ssd_n"
      ],
      "id": "QAZQ_dNr-SH6",
      "execution_count": null,
      "outputs": [
        {
          "output_type": "execute_result",
          "data": {
            "text/plain": [
              "7.453350127237031"
            ]
          },
          "metadata": {},
          "execution_count": 36
        }
      ]
    },
    {
      "cell_type": "code",
      "metadata": {
        "id": "HBGG-6vwBX_-"
      },
      "source": [
        "y_match_pred = []\n",
        "for i in range(len(score_ssd_n)):\n",
        "    if score_ssd_n[i] < threshold_score_ssd_n:\n",
        "        y_match_pred.append(1)\n",
        "    else:\n",
        "        y_match_pred.append(0)"
      ],
      "id": "HBGG-6vwBX_-",
      "execution_count": null,
      "outputs": []
    },
    {
      "cell_type": "code",
      "metadata": {
        "colab": {
          "base_uri": "https://localhost:8080/"
        },
        "id": "riQeLANgIkIE",
        "outputId": "4912249e-defa-4819-b1d2-2eb32389957d"
      },
      "source": [
        "from sklearn.metrics import accuracy_score\n",
        "accuracy_score(y_train, y_match_pred)"
      ],
      "id": "riQeLANgIkIE",
      "execution_count": null,
      "outputs": [
        {
          "output_type": "execute_result",
          "data": {
            "text/plain": [
              "0.48052451893234016"
            ]
          },
          "metadata": {},
          "execution_count": 38
        }
      ]
    },
    {
      "cell_type": "code",
      "metadata": {
        "id": "51b-NWaW8V_9"
      },
      "source": [
        "score_ssd_y=[]\n",
        "for i in X_train:\n",
        "       score_ssd_y.append(compare_images(i[:1024], i[1024:],method='ssd', normalize='y'))"
      ],
      "id": "51b-NWaW8V_9",
      "execution_count": null,
      "outputs": []
    },
    {
      "cell_type": "code",
      "metadata": {
        "colab": {
          "base_uri": "https://localhost:8080/"
        },
        "id": "FvVPNXNr-wxA",
        "outputId": "371ef55c-20d7-4ac9-afed-e9a7d47c7db4"
      },
      "source": [
        "from statistics import mean\n",
        "threshold_score_ssd_y= mean(score_ssd_y)\n",
        "threshold_score_ssd_y"
      ],
      "id": "FvVPNXNr-wxA",
      "execution_count": null,
      "outputs": [
        {
          "output_type": "execute_result",
          "data": {
            "text/plain": [
              "2029.8325789078349"
            ]
          },
          "metadata": {},
          "execution_count": 40
        }
      ]
    },
    {
      "cell_type": "code",
      "metadata": {
        "id": "RDinGmcjBgPd"
      },
      "source": [
        "y_match_pred=[]\n",
        "for i in range(len(score_ssd_y)):\n",
        "    if score_ssd_y[i] < threshold_score_ssd_y:\n",
        "        y_match_pred.append(1)\n",
        "    else:\n",
        "        y_match_pred.append(0)"
      ],
      "id": "RDinGmcjBgPd",
      "execution_count": null,
      "outputs": []
    },
    {
      "cell_type": "code",
      "metadata": {
        "colab": {
          "base_uri": "https://localhost:8080/"
        },
        "id": "XSI3A8FcI2xh",
        "outputId": "ce4cbfcb-4156-49a0-f77c-cfed9c93c410"
      },
      "source": [
        "from sklearn.metrics import accuracy_score\n",
        "accuracy_score(y_train, y_match_pred)"
      ],
      "id": "XSI3A8FcI2xh",
      "execution_count": null,
      "outputs": [
        {
          "output_type": "execute_result",
          "data": {
            "text/plain": [
              "0.5596679081315953"
            ]
          },
          "metadata": {},
          "execution_count": 42
        }
      ]
    },
    {
      "cell_type": "code",
      "metadata": {
        "id": "NsC0nYBU5ov-"
      },
      "source": [
        "score_conv_n=[]\n",
        "for i in X_train:\n",
        "       score_conv_n.append(compare_images(i[:1024], i[1024:],method='conv', normalize='n'))"
      ],
      "id": "NsC0nYBU5ov-",
      "execution_count": null,
      "outputs": []
    },
    {
      "cell_type": "code",
      "metadata": {
        "colab": {
          "base_uri": "https://localhost:8080/"
        },
        "id": "mfQUIjQG-7j-",
        "outputId": "623483c4-40d3-4d91-8632-19e74b80b995"
      },
      "source": [
        "from statistics import mean\n",
        "thresholds_score_conv_n= mean(score_conv_n)\n",
        "thresholds_score_conv_n"
      ],
      "id": "mfQUIjQG-7j-",
      "execution_count": null,
      "outputs": [
        {
          "output_type": "execute_result",
          "data": {
            "text/plain": [
              "249.9689975645767"
            ]
          },
          "metadata": {},
          "execution_count": 44
        }
      ]
    },
    {
      "cell_type": "code",
      "metadata": {
        "id": "22pr9RgTB1pg"
      },
      "source": [
        "y_match_pred=[]\n",
        "for i in range(len(score_conv_n)):\n",
        "    if score_conv_n[i] > thresholds_score_conv_n:\n",
        "        y_match_pred.append(1)\n",
        "    else:\n",
        "        y_match_pred.append(0)"
      ],
      "id": "22pr9RgTB1pg",
      "execution_count": null,
      "outputs": []
    },
    {
      "cell_type": "code",
      "metadata": {
        "colab": {
          "base_uri": "https://localhost:8080/"
        },
        "id": "u9RNTqL2JH6J",
        "outputId": "221c63e9-069c-4c9a-9b4d-f7f94c940029"
      },
      "source": [
        "from sklearn.metrics import accuracy_score\n",
        "accuracy_score(y_train, y_match_pred)"
      ],
      "id": "u9RNTqL2JH6J",
      "execution_count": null,
      "outputs": [
        {
          "output_type": "execute_result",
          "data": {
            "text/plain": [
              "0.4802141527001862"
            ]
          },
          "metadata": {},
          "execution_count": 46
        }
      ]
    },
    {
      "cell_type": "code",
      "metadata": {
        "id": "mR6eEJDG5otJ"
      },
      "source": [
        "score_conv_y=[]\n",
        "for i in X_train:\n",
        "       score_conv_y.append(compare_images(i[:1024], i[1024:],method='conv', normalize='y'))"
      ],
      "id": "mR6eEJDG5otJ",
      "execution_count": null,
      "outputs": []
    },
    {
      "cell_type": "code",
      "metadata": {
        "colab": {
          "base_uri": "https://localhost:8080/"
        },
        "id": "nz0LdBQq5opf",
        "outputId": "8d0c464c-656e-4954-8d2e-3d9b334da56c"
      },
      "source": [
        "from statistics import mean\n",
        "thresholds_score_conv_y= mean(score_conv_y)\n",
        "thresholds_score_conv_y"
      ],
      "id": "nz0LdBQq5opf",
      "execution_count": null,
      "outputs": [
        {
          "output_type": "execute_result",
          "data": {
            "text/plain": [
              "-5.023344498550528"
            ]
          },
          "metadata": {},
          "execution_count": 48
        }
      ]
    },
    {
      "cell_type": "code",
      "metadata": {
        "id": "aITYoJpbB3Sp"
      },
      "source": [
        "y_match_pred=[]\n",
        "for i in range(len(score_conv_y)):\n",
        "    if score_conv_y[i] > thresholds_score_conv_y:\n",
        "        y_match_pred.append(1)\n",
        "    else:\n",
        "        y_match_pred.append(0)"
      ],
      "id": "aITYoJpbB3Sp",
      "execution_count": null,
      "outputs": []
    },
    {
      "cell_type": "code",
      "metadata": {
        "colab": {
          "base_uri": "https://localhost:8080/"
        },
        "id": "pjbjVFML5og9",
        "outputId": "06a022a2-42c2-40e9-e789-961ba6b036ee"
      },
      "source": [
        "y_match_pred=np.array(y_match_pred)\n",
        "y_match_pred.shape"
      ],
      "id": "pjbjVFML5og9",
      "execution_count": null,
      "outputs": [
        {
          "output_type": "execute_result",
          "data": {
            "text/plain": [
              "(12888,)"
            ]
          },
          "metadata": {},
          "execution_count": 50
        }
      ]
    },
    {
      "cell_type": "code",
      "metadata": {
        "colab": {
          "base_uri": "https://localhost:8080/"
        },
        "id": "52xXO2U_AMZ0",
        "outputId": "e83f5c2b-14d7-44c6-ddd1-bcf65734bd77"
      },
      "source": [
        "from sklearn.metrics import accuracy_score\n",
        "accuracy_score(y_train, y_match_pred)"
      ],
      "id": "52xXO2U_AMZ0",
      "execution_count": null,
      "outputs": [
        {
          "output_type": "execute_result",
          "data": {
            "text/plain": [
              "0.4753258845437616"
            ]
          },
          "metadata": {},
          "execution_count": 51
        }
      ]
    },
    {
      "cell_type": "markdown",
      "metadata": {
        "id": "h-VTmkfaLVdp"
      },
      "source": [
        "# **1.4 MLP**"
      ],
      "id": "h-VTmkfaLVdp"
    },
    {
      "cell_type": "markdown",
      "metadata": {
        "id": "1wMZXRYLQ4KE"
      },
      "source": [
        "#read training and check mlp accuracy with the MLP\n",
        "# first under sampling data to be balanced"
      ],
      "id": "1wMZXRYLQ4KE"
    },
    {
      "cell_type": "code",
      "metadata": {
        "id": "ooPomPcOQHRA"
      },
      "source": [
        "#X_train, X_mul, y_train, y_mul = train_test_split(x,new_label, train_size=0.8, random_state=42)"
      ],
      "id": "ooPomPcOQHRA",
      "execution_count": null,
      "outputs": []
    },
    {
      "cell_type": "code",
      "metadata": {
        "id": "cfd896fd",
        "colab": {
          "base_uri": "https://localhost:8080/"
        },
        "outputId": "fde75e63-5ad0-471a-f996-841fd58c7f98"
      },
      "source": [
        "from imblearn.under_sampling import RandomUnderSampler\n",
        "rus = RandomUnderSampler(random_state=0)\n",
        "x_rus, y_rus= rus.fit_resample(X_train, y_train)"
      ],
      "id": "cfd896fd",
      "execution_count": null,
      "outputs": [
        {
          "output_type": "stream",
          "name": "stderr",
          "text": [
            "/usr/local/lib/python3.7/dist-packages/sklearn/externals/six.py:31: FutureWarning: The module is deprecated in version 0.21 and will be removed in version 0.23 since we've dropped support for Python 2.7. Please rely on the official version of six (https://pypi.org/project/six/).\n",
            "  \"(https://pypi.org/project/six/).\", FutureWarning)\n",
            "/usr/local/lib/python3.7/dist-packages/sklearn/utils/deprecation.py:144: FutureWarning: The sklearn.neighbors.base module is  deprecated in version 0.22 and will be removed in version 0.24. The corresponding classes / functions should instead be imported from sklearn.neighbors. Anything that cannot be imported from sklearn.neighbors is now part of the private API.\n",
            "  warnings.warn(message, FutureWarning)\n",
            "/usr/local/lib/python3.7/dist-packages/sklearn/utils/deprecation.py:87: FutureWarning: Function safe_indexing is deprecated; safe_indexing is deprecated in version 0.22 and will be removed in version 0.24.\n",
            "  warnings.warn(msg, category=FutureWarning)\n"
          ]
        }
      ]
    },
    {
      "cell_type": "code",
      "metadata": {
        "id": "02c151f9",
        "colab": {
          "base_uri": "https://localhost:8080/",
          "height": 1000
        },
        "outputId": "ee9d0a89-59f4-4ac3-9f3b-1f42fb33994a"
      },
      "source": [
        "import warnings\n",
        "from sklearn.neural_network import MLPClassifier\n",
        "from sklearn.metrics import accuracy_score\n",
        "\n",
        "nEpochs = 50\n",
        "\n",
        "nn_clf = MLPClassifier(max_iter=1,warm_start='true',solver='sgd')\n",
        "\n",
        "train_errors, test_errors = [], []\n",
        "\n",
        "for epoch in range(nEpochs): \n",
        "    with warnings.catch_warnings():\n",
        "        warnings.simplefilter(\"ignore\")\n",
        "        nn_clf.fit(x_rus, y_rus)\n",
        "    print(f'Iteration {epoch}, loss = {nn_clf.loss_}')\n",
        "    train_errors.append(accuracy_score(y_rus, nn_clf.predict(x_rus)))\n",
        "    test_errors.append(accuracy_score(y_mul, nn_clf.predict(X_mul)))\n",
        "    \n",
        "plt.plot(np.sqrt(train_errors), \"r-+\", linewidth=2, label=\"train\")\n",
        "plt.plot(np.sqrt(test_errors), \"b-\", linewidth=3, label=\"test\")\n",
        "plt.legend(loc=\"upper right\", fontsize=14)\n",
        "plt.xlabel(\"Epochs\", fontsize=14)\n",
        "plt.ylabel(\"accuracy_score\", fontsize=14)"
      ],
      "id": "02c151f9",
      "execution_count": null,
      "outputs": [
        {
          "output_type": "stream",
          "name": "stdout",
          "text": [
            "Iteration 0, loss = 0.6941056953433785\n",
            "Iteration 1, loss = 0.6910421296179566\n",
            "Iteration 2, loss = 0.6904119352465962\n",
            "Iteration 3, loss = 0.6880389255746672\n",
            "Iteration 4, loss = 0.6877836679855849\n",
            "Iteration 5, loss = 0.686877585028234\n",
            "Iteration 6, loss = 0.6860145286812405\n",
            "Iteration 7, loss = 0.6850693539127876\n",
            "Iteration 8, loss = 0.6838132200956967\n",
            "Iteration 9, loss = 0.6834501026528285\n",
            "Iteration 10, loss = 0.6824356349133919\n",
            "Iteration 11, loss = 0.6812766487737866\n",
            "Iteration 12, loss = 0.6796506928944723\n",
            "Iteration 13, loss = 0.6789841609094832\n",
            "Iteration 14, loss = 0.6791946554593569\n",
            "Iteration 15, loss = 0.6776275155350399\n",
            "Iteration 16, loss = 0.6765392057277745\n",
            "Iteration 17, loss = 0.6764050944004024\n",
            "Iteration 18, loss = 0.6750453313856587\n",
            "Iteration 19, loss = 0.6744393086298244\n",
            "Iteration 20, loss = 0.6735306978461768\n",
            "Iteration 21, loss = 0.6720473613627577\n",
            "Iteration 22, loss = 0.6729577044269959\n",
            "Iteration 23, loss = 0.6703459161986259\n",
            "Iteration 24, loss = 0.669691060819506\n",
            "Iteration 25, loss = 0.6679663183235064\n",
            "Iteration 26, loss = 0.6674489998911047\n",
            "Iteration 27, loss = 0.6661382769210559\n",
            "Iteration 28, loss = 0.6652415539765102\n",
            "Iteration 29, loss = 0.6642658165525256\n",
            "Iteration 30, loss = 0.6633243544782048\n",
            "Iteration 31, loss = 0.6622090189073845\n",
            "Iteration 32, loss = 0.6614816652588503\n",
            "Iteration 33, loss = 0.660032261371972\n",
            "Iteration 34, loss = 0.6592274054814968\n",
            "Iteration 35, loss = 0.6578199574961597\n",
            "Iteration 36, loss = 0.6570494616244676\n",
            "Iteration 37, loss = 0.6560607752450418\n",
            "Iteration 38, loss = 0.6557720249632114\n",
            "Iteration 39, loss = 0.6540163338898077\n",
            "Iteration 40, loss = 0.6532379260177201\n",
            "Iteration 41, loss = 0.6505929146106979\n",
            "Iteration 42, loss = 0.6503852800279425\n",
            "Iteration 43, loss = 0.6506033030521838\n",
            "Iteration 44, loss = 0.648374884518825\n",
            "Iteration 45, loss = 0.6470537874419857\n",
            "Iteration 46, loss = 0.646570964111531\n",
            "Iteration 47, loss = 0.6455991238955735\n",
            "Iteration 48, loss = 0.6436209808698341\n",
            "Iteration 49, loss = 0.6426960719486163\n"
          ]
        },
        {
          "output_type": "execute_result",
          "data": {
            "text/plain": [
              "Text(0, 0.5, 'accuracy_score')"
            ]
          },
          "metadata": {},
          "execution_count": 44
        },
        {
          "output_type": "display_data",
          "data": {
            "image/png": "[encoded data removed]",
            "text/plain": [
              "<Figure size 432x288 with 1 Axes>"
            ]
          },
          "metadata": {
            "needs_background": "light"
          }
        }
      ]
    },
    {
      "cell_type": "code",
      "metadata": {
        "id": "83496f36",
        "colab": {
          "base_uri": "https://localhost:8080/"
        },
        "outputId": "301834d0-554d-49e7-bdd2-3f2c03ee0613"
      },
      "source": [
        "print(f'Number of layers {nn_clf.n_layers_}')\n",
        "for lyr in range(nn_clf.n_layers_-1):\n",
        "  print('Layer {0}: Weights {1} Bias {2}'.format(lyr,nn_clf.coefs_[lyr].shape, nn_clf.intercepts_[lyr].shape))"
      ],
      "id": "83496f36",
      "execution_count": null,
      "outputs": [
        {
          "output_type": "stream",
          "name": "stdout",
          "text": [
            "Number of layers 3\n",
            "Layer 0: Weights (2048, 100) Bias (100,)\n",
            "Layer 1: Weights (100, 1) Bias (1,)\n"
          ]
        }
      ]
    },
    {
      "cell_type": "markdown",
      "metadata": {
        "id": "Sjrli1FzRi7q"
      },
      "source": [
        "**as training accuracy is higher than validation so it means that we have overfitting in our model **"
      ],
      "id": "Sjrli1FzRi7q"
    },
    {
      "cell_type": "code",
      "metadata": {
        "id": "f557c438",
        "colab": {
          "base_uri": "https://localhost:8080/"
        },
        "outputId": "fb887635-5a16-45cc-ba6a-33115483e22b"
      },
      "source": [
        "from sklearn.metrics import accuracy_score\n",
        "\n",
        "y_pred = nn_clf.predict(x_rus)\n",
        "y_pred_test = nn_clf.predict(X_mul)\n",
        "print('Classifier accuracy on the training set is {0}'.format(accuracy_score(y_rus, y_pred)))\n",
        "print('Classifier accuracy on the validate set is {0} '.format(accuracy_score(y_mul, y_pred_test)))"
      ],
      "id": "f557c438",
      "execution_count": null,
      "outputs": [
        {
          "output_type": "stream",
          "name": "stdout",
          "text": [
            "Classifier accuracy on the training set is 0.7341591233920914\n",
            "Classifier accuracy on the validate set is 0.7104283054003724 \n"
          ]
        }
      ]
    },
    {
      "cell_type": "markdown",
      "metadata": {
        "id": "6M3IavFTThp6"
      },
      "source": [
        "# **1.5**"
      ],
      "id": "6M3IavFTThp6"
    },
    {
      "cell_type": "markdown",
      "metadata": {
        "id": "uAkVyr8RSE4X"
      },
      "source": [
        "#reading tesing data then resize,put images in pairs\n",
        "#accuracy_score 0.636 at MLP in test but in train it was 0.73 so this means overfitting no generalization\n",
        "#accuracy score 0.57 at image match that gives higher accuracy before,, then that morethan in training data so it mean model is more generalize\n",
        "#MLP is taking shorter time in running than imagematch with any method"
      ],
      "id": "uAkVyr8RSE4X"
    },
    {
      "cell_type": "code",
      "metadata": {
        "colab": {
          "base_uri": "https://localhost:8080/"
        },
        "id": "e0e2bf29",
        "outputId": "49060b17-476b-40fa-d730-a7d13023be3e"
      },
      "source": [
        "os.listdir(path='.')\n",
        "\n",
        "def getListOfFiles(textures):\n",
        "    \n",
        "    listOfFile = os.listdir(textures)\n",
        "    allFiles = list()\n",
        "    \n",
        "    for entry in listOfFile:\n",
        "        fullPath = os.path.join(textures, entry)\n",
        "        if os.path.isdir(fullPath):\n",
        "            allFiles = allFiles + getListOfFiles(fullPath)\n",
        "        else:\n",
        "            allFiles.append(fullPath)\n",
        "                \n",
        "    return allFiles        \n",
        "\n",
        "\n",
        "#dirName = 'C:/Users/Debi/Desktop/training/training'\n",
        "textures_testing = '/content/drive/MyDrive/testing'\n",
        "\n",
        "\n",
        "listOfFiles = getListOfFiles(textures_testing)\n",
        "\n",
        "\n",
        "listOfFiles = list()\n",
        "for (dirpath, dirnames, filenames) in os.walk(textures_testing):\n",
        "    listOfFiles += [os.path.join(dirpath, file) for file in filenames]\n",
        "\n",
        "\n",
        "for i in listOfFiles:\n",
        "    print(i) "
      ],
      "id": "e0e2bf29",
      "execution_count": null,
      "outputs": [
        {
          "output_type": "stream",
          "name": "stdout",
          "text": [
            "/content/drive/MyDrive/testing/linsseeds1/linseeds1-a-p031.png\n",
            "/content/drive/MyDrive/testing/linsseeds1/linseeds1-a-p032.png\n",
            "/content/drive/MyDrive/testing/linsseeds1/linseeds1-a-p033.png\n",
            "/content/drive/MyDrive/testing/linsseeds1/linseeds1-a-p034.png\n",
            "/content/drive/MyDrive/testing/linsseeds1/linseeds1-a-p037.png\n",
            "/content/drive/MyDrive/testing/linsseeds1/linseeds1-a-p036.png\n",
            "/content/drive/MyDrive/testing/linsseeds1/linseeds1-a-p035.png\n",
            "/content/drive/MyDrive/testing/linsseeds1/linseeds1-a-p038.png\n",
            "/content/drive/MyDrive/testing/linsseeds1/linseeds1-a-p040.png\n",
            "/content/drive/MyDrive/testing/linsseeds1/linseeds1-a-p039.png\n",
            "/content/drive/MyDrive/testing/sand1/sand1-a-p031.png\n",
            "/content/drive/MyDrive/testing/sand1/sand1-a-p032.png\n",
            "/content/drive/MyDrive/testing/sand1/sand1-a-p036.png\n",
            "/content/drive/MyDrive/testing/sand1/sand1-a-p035.png\n",
            "/content/drive/MyDrive/testing/sand1/sand1-a-p038.png\n",
            "/content/drive/MyDrive/testing/sand1/sand1-a-p040.png\n",
            "/content/drive/MyDrive/testing/sand1/sand1-a-p034.png\n",
            "/content/drive/MyDrive/testing/sand1/sand1-a-p037.png\n",
            "/content/drive/MyDrive/testing/sand1/sand1-a-p039.png\n",
            "/content/drive/MyDrive/testing/sand1/sand1-a-p033.png\n",
            "/content/drive/MyDrive/testing/cushion1/cushion1-a-p032.png\n",
            "/content/drive/MyDrive/testing/cushion1/cushion1-a-p036.png\n",
            "/content/drive/MyDrive/testing/cushion1/cushion1-a-p040.png\n",
            "/content/drive/MyDrive/testing/cushion1/cushion1-a-p031.png\n",
            "/content/drive/MyDrive/testing/cushion1/cushion1-a-p037.png\n",
            "/content/drive/MyDrive/testing/cushion1/cushion1-a-p038.png\n",
            "/content/drive/MyDrive/testing/cushion1/cushion1-a-p034.png\n",
            "/content/drive/MyDrive/testing/cushion1/cushion1-a-p039.png\n",
            "/content/drive/MyDrive/testing/cushion1/cushion1-a-p033.png\n",
            "/content/drive/MyDrive/testing/cushion1/cushion1-a-p035.png\n",
            "/content/drive/MyDrive/testing/stone1/stone1-a-p031.png\n",
            "/content/drive/MyDrive/testing/stone1/stone1-a-p032.png\n",
            "/content/drive/MyDrive/testing/stone1/stone1-a-p035.png\n",
            "/content/drive/MyDrive/testing/stone1/stone1-a-p034.png\n",
            "/content/drive/MyDrive/testing/stone1/stone1-a-p038.png\n",
            "/content/drive/MyDrive/testing/stone1/stone1-a-p036.png\n",
            "/content/drive/MyDrive/testing/stone1/stone1-a-p033.png\n",
            "/content/drive/MyDrive/testing/stone1/stone1-a-p037.png\n",
            "/content/drive/MyDrive/testing/stone1/stone1-a-p039.png\n",
            "/content/drive/MyDrive/testing/stone1/stone1-a-p040.png\n",
            "/content/drive/MyDrive/testing/canvas1/canvas1-a-p031.png\n",
            "/content/drive/MyDrive/testing/canvas1/canvas1-a-p034.png\n",
            "/content/drive/MyDrive/testing/canvas1/canvas1-a-p032.png\n",
            "/content/drive/MyDrive/testing/canvas1/canvas1-a-p035.png\n",
            "/content/drive/MyDrive/testing/canvas1/canvas1-a-p040.png\n",
            "/content/drive/MyDrive/testing/canvas1/canvas1-a-p037.png\n",
            "/content/drive/MyDrive/testing/canvas1/canvas1-a-p036.png\n",
            "/content/drive/MyDrive/testing/canvas1/canvas1-a-p039.png\n",
            "/content/drive/MyDrive/testing/canvas1/canvas1-a-p033.png\n",
            "/content/drive/MyDrive/testing/canvas1/canvas1-a-p038.png\n",
            "/content/drive/MyDrive/testing/seat2/seat2-a-p036.png\n",
            "/content/drive/MyDrive/testing/seat2/seat2-a-p031.png\n",
            "/content/drive/MyDrive/testing/seat2/seat2-a-p034.png\n",
            "/content/drive/MyDrive/testing/seat2/seat2-a-p035.png\n",
            "/content/drive/MyDrive/testing/seat2/seat2-a-p032.png\n",
            "/content/drive/MyDrive/testing/seat2/seat2-a-p033.png\n",
            "/content/drive/MyDrive/testing/seat2/seat2-a-p040.png\n",
            "/content/drive/MyDrive/testing/seat2/seat2-a-p039.png\n",
            "/content/drive/MyDrive/testing/seat2/seat2-a-p038.png\n",
            "/content/drive/MyDrive/testing/seat2/seat2-a-p037.png\n"
          ]
        }
      ]
    },
    {
      "cell_type": "code",
      "metadata": {
        "colab": {
          "base_uri": "https://localhost:8080/"
        },
        "id": "5CCzou8cMkhD",
        "outputId": "2a5ea470-b30d-4f9e-e0dc-f8ce30d515a2"
      },
      "source": [
        "#certain 4 folders\n",
        "folder_names = [\"canvas1\", \"cushion1\", \"linsseeds1\", \"sand1\",\"seat2\",\"stone1\"]\n",
        "listOfFiles = [f for f in listOfFiles if any([n in f for n in folder_names])]\n",
        "print(listOfFiles)"
      ],
      "id": "5CCzou8cMkhD",
      "execution_count": null,
      "outputs": [
        {
          "output_type": "stream",
          "name": "stdout",
          "text": [
            "['/content/drive/MyDrive/testing/linsseeds1/linseeds1-a-p031.png', '/content/drive/MyDrive/testing/linsseeds1/linseeds1-a-p032.png', '/content/drive/MyDrive/testing/linsseeds1/linseeds1-a-p033.png', '/content/drive/MyDrive/testing/linsseeds1/linseeds1-a-p034.png', '/content/drive/MyDrive/testing/linsseeds1/linseeds1-a-p037.png', '/content/drive/MyDrive/testing/linsseeds1/linseeds1-a-p036.png', '/content/drive/MyDrive/testing/linsseeds1/linseeds1-a-p035.png', '/content/drive/MyDrive/testing/linsseeds1/linseeds1-a-p038.png', '/content/drive/MyDrive/testing/linsseeds1/linseeds1-a-p040.png', '/content/drive/MyDrive/testing/linsseeds1/linseeds1-a-p039.png', '/content/drive/MyDrive/testing/sand1/sand1-a-p031.png', '/content/drive/MyDrive/testing/sand1/sand1-a-p032.png', '/content/drive/MyDrive/testing/sand1/sand1-a-p036.png', '/content/drive/MyDrive/testing/sand1/sand1-a-p035.png', '/content/drive/MyDrive/testing/sand1/sand1-a-p038.png', '/content/drive/MyDrive/testing/sand1/sand1-a-p040.png', '/content/drive/MyDrive/testing/sand1/sand1-a-p034.png', '/content/drive/MyDrive/testing/sand1/sand1-a-p037.png', '/content/drive/MyDrive/testing/sand1/sand1-a-p039.png', '/content/drive/MyDrive/testing/sand1/sand1-a-p033.png', '/content/drive/MyDrive/testing/cushion1/cushion1-a-p032.png', '/content/drive/MyDrive/testing/cushion1/cushion1-a-p036.png', '/content/drive/MyDrive/testing/cushion1/cushion1-a-p040.png', '/content/drive/MyDrive/testing/cushion1/cushion1-a-p031.png', '/content/drive/MyDrive/testing/cushion1/cushion1-a-p037.png', '/content/drive/MyDrive/testing/cushion1/cushion1-a-p038.png', '/content/drive/MyDrive/testing/cushion1/cushion1-a-p034.png', '/content/drive/MyDrive/testing/cushion1/cushion1-a-p039.png', '/content/drive/MyDrive/testing/cushion1/cushion1-a-p033.png', '/content/drive/MyDrive/testing/cushion1/cushion1-a-p035.png', '/content/drive/MyDrive/testing/stone1/stone1-a-p031.png', '/content/drive/MyDrive/testing/stone1/stone1-a-p032.png', '/content/drive/MyDrive/testing/stone1/stone1-a-p035.png', '/content/drive/MyDrive/testing/stone1/stone1-a-p034.png', '/content/drive/MyDrive/testing/stone1/stone1-a-p038.png', '/content/drive/MyDrive/testing/stone1/stone1-a-p036.png', '/content/drive/MyDrive/testing/stone1/stone1-a-p033.png', '/content/drive/MyDrive/testing/stone1/stone1-a-p037.png', '/content/drive/MyDrive/testing/stone1/stone1-a-p039.png', '/content/drive/MyDrive/testing/stone1/stone1-a-p040.png', '/content/drive/MyDrive/testing/canvas1/canvas1-a-p031.png', '/content/drive/MyDrive/testing/canvas1/canvas1-a-p034.png', '/content/drive/MyDrive/testing/canvas1/canvas1-a-p032.png', '/content/drive/MyDrive/testing/canvas1/canvas1-a-p035.png', '/content/drive/MyDrive/testing/canvas1/canvas1-a-p040.png', '/content/drive/MyDrive/testing/canvas1/canvas1-a-p037.png', '/content/drive/MyDrive/testing/canvas1/canvas1-a-p036.png', '/content/drive/MyDrive/testing/canvas1/canvas1-a-p039.png', '/content/drive/MyDrive/testing/canvas1/canvas1-a-p033.png', '/content/drive/MyDrive/testing/canvas1/canvas1-a-p038.png', '/content/drive/MyDrive/testing/seat2/seat2-a-p036.png', '/content/drive/MyDrive/testing/seat2/seat2-a-p031.png', '/content/drive/MyDrive/testing/seat2/seat2-a-p034.png', '/content/drive/MyDrive/testing/seat2/seat2-a-p035.png', '/content/drive/MyDrive/testing/seat2/seat2-a-p032.png', '/content/drive/MyDrive/testing/seat2/seat2-a-p033.png', '/content/drive/MyDrive/testing/seat2/seat2-a-p040.png', '/content/drive/MyDrive/testing/seat2/seat2-a-p039.png', '/content/drive/MyDrive/testing/seat2/seat2-a-p038.png', '/content/drive/MyDrive/testing/seat2/seat2-a-p037.png']\n"
          ]
        }
      ]
    },
    {
      "cell_type": "code",
      "metadata": {
        "colab": {
          "base_uri": "https://localhost:8080/",
          "height": 314
        },
        "id": "EUF5U3-0Y_pb",
        "outputId": "28336790-d3ca-4925-8971-7af4dce7a125"
      },
      "source": [
        "img = [io.imread(file) for file in listOfFiles]\n",
        "io.imshow(img[39])"
      ],
      "id": "EUF5U3-0Y_pb",
      "execution_count": null,
      "outputs": [
        {
          "output_type": "execute_result",
          "data": {
            "text/plain": [
              "<matplotlib.image.AxesImage at 0x7f867412be10>"
            ]
          },
          "metadata": {},
          "execution_count": 49
        },
        {
          "output_type": "display_data",
          "data": {
            "image/png": "[encoded data removed]",
            "text/plain": [
              "<Figure size 432x288 with 1 Axes>"
            ]
          },
          "metadata": {
            "needs_background": "light"
          }
        }
      ]
    },
    {
      "cell_type": "code",
      "metadata": {
        "colab": {
          "base_uri": "https://localhost:8080/"
        },
        "id": "RQTwYHC0ZZZy",
        "outputId": "bc5df5c9-c3d0-4388-c794-fa5b8b42b6dc"
      },
      "source": [
        "img=np.array(img)\n",
        "img.shape"
      ],
      "id": "RQTwYHC0ZZZy",
      "execution_count": null,
      "outputs": [
        {
          "output_type": "execute_result",
          "data": {
            "text/plain": [
              "(60, 576, 576)"
            ]
          },
          "metadata": {},
          "execution_count": 50
        }
      ]
    },
    {
      "cell_type": "code",
      "metadata": {
        "colab": {
          "base_uri": "https://localhost:8080/"
        },
        "id": "DyLepC5IZhZu",
        "outputId": "e3dbfdfb-3591-4d66-ea44-17ef3cc63198"
      },
      "source": [
        "new_img=[]\n",
        "for i in img:\n",
        "    new_img.append(i)\n",
        "new_img=np.array(new_img)\n",
        "new_img.shape  "
      ],
      "id": "DyLepC5IZhZu",
      "execution_count": null,
      "outputs": [
        {
          "output_type": "execute_result",
          "data": {
            "text/plain": [
              "(60, 576, 576)"
            ]
          },
          "metadata": {},
          "execution_count": 51
        }
      ]
    },
    {
      "cell_type": "code",
      "metadata": {
        "id": "MiJFBjBxYcso"
      },
      "source": [
        "  # Resize the images\n",
        "from skimage.transform import resize\n",
        "xx=[]\n",
        "new_img=[]\n",
        "for i in img:\n",
        "    new_img.append(resize(i,(32,32)))\n",
        " "
      ],
      "id": "MiJFBjBxYcso",
      "execution_count": null,
      "outputs": []
    },
    {
      "cell_type": "code",
      "metadata": {
        "colab": {
          "base_uri": "https://localhost:8080/"
        },
        "id": "QXf-PdJoZouN",
        "outputId": "c13a5c35-b8ff-4b29-9630-61a3c027c96b"
      },
      "source": [
        "new_img=np.array(new_img)\n",
        "new_img.shape   "
      ],
      "id": "QXf-PdJoZouN",
      "execution_count": null,
      "outputs": [
        {
          "output_type": "execute_result",
          "data": {
            "text/plain": [
              "(60, 32, 32)"
            ]
          },
          "metadata": {},
          "execution_count": 54
        }
      ]
    },
    {
      "cell_type": "code",
      "metadata": {
        "id": "Iyx8n2jMaB8w"
      },
      "source": [
        "#\"canvas1\", \"cushion1\", \"linsseeds1\", \"sand1\",\"seat2\",\"stone1\"\n",
        "#Preparing label for multiclass\n",
        "ymultiii = []\n",
        "for f in listOfFiles:\n",
        "    if 'canvas1' in f:\n",
        "        ymultiii.append('0')\n",
        "    if 'cushion1' in f:\n",
        "        ymultiii.append('1')\n",
        "    if 'linsseeds1' in f:\n",
        "        ymultiii.append('2')\n",
        "    if 'sand1' in f:\n",
        "        ymultiii.append('3')\n",
        "    if 'seat2' in f:\n",
        "        ymultiii.append('4')\n",
        "    if 'stone1' in f:\n",
        "        ymultiii.append('5')                "
      ],
      "id": "Iyx8n2jMaB8w",
      "execution_count": null,
      "outputs": []
    },
    {
      "cell_type": "code",
      "metadata": {
        "colab": {
          "base_uri": "https://localhost:8080/"
        },
        "id": "2JV94_ceaXHq",
        "outputId": "c2ec6b47-ec79-4533-d0ea-98edd0a93aee"
      },
      "source": [
        "np.array(ymultiii).shape"
      ],
      "id": "2JV94_ceaXHq",
      "execution_count": null,
      "outputs": [
        {
          "output_type": "execute_result",
          "data": {
            "text/plain": [
              "(60,)"
            ]
          },
          "metadata": {},
          "execution_count": 56
        }
      ]
    },
    {
      "cell_type": "code",
      "metadata": {
        "id": "TURTDZZVaex-"
      },
      "source": [
        "new_data=[]\n",
        "new_label_1=[]\n",
        "for i in range(new_img.shape[0]-1):\n",
        "  for j in range(i+1 , new_img.shape[0]):\n",
        "    new_data.append( np.concatenate((new_img[i].flatten(),new_img[j].flatten())))\n",
        "    if ymultiii[i]==ymultiii[j]:\n",
        "      new_label_1.append(1)\n",
        "    else:\n",
        "      new_label_1.append(0)"
      ],
      "id": "TURTDZZVaex-",
      "execution_count": null,
      "outputs": []
    },
    {
      "cell_type": "code",
      "metadata": {
        "colab": {
          "base_uri": "https://localhost:8080/"
        },
        "id": "ZonQWbKhaeuB",
        "outputId": "324f23a5-a09c-4987-e1db-717e06d3a887"
      },
      "source": [
        "new_label_1"
      ],
      "id": "ZonQWbKhaeuB",
      "execution_count": null,
      "outputs": [
        {
          "output_type": "execute_result",
          "data": {
            "text/plain": [
              "[1,\n",
              " 1,\n",
              " 1,\n",
              " 1,\n",
              " 1,\n",
              " 1,\n",
              " 1,\n",
              " 1,\n",
              " 1,\n",
              " 0,\n",
              " 0,\n",
              " 0,\n",
              " 0,\n",
              " 0,\n",
              " 0,\n",
              " 0,\n",
              " 0,\n",
              " 0,\n",
              " 0,\n",
              " 0,\n",
              " 0,\n",
              " 0,\n",
              " 0,\n",
              " 0,\n",
              " 0,\n",
              " 0,\n",
              " 0,\n",
              " 0,\n",
              " 0,\n",
              " 0,\n",
              " 0,\n",
              " 0,\n",
              " 0,\n",
              " 0,\n",
              " 0,\n",
              " 0,\n",
              " 0,\n",
              " 0,\n",
              " 0,\n",
              " 0,\n",
              " 0,\n",
              " 0,\n",
              " 0,\n",
              " 0,\n",
              " 0,\n",
              " 0,\n",
              " 0,\n",
              " 0,\n",
              " 0,\n",
              " 0,\n",
              " 0,\n",
              " 0,\n",
              " 0,\n",
              " 0,\n",
              " 0,\n",
              " 0,\n",
              " 0,\n",
              " 0,\n",
              " 0,\n",
              " 1,\n",
              " 1,\n",
              " 1,\n",
              " 1,\n",
              " 1,\n",
              " 1,\n",
              " 1,\n",
              " 1,\n",
              " 0,\n",
              " 0,\n",
              " 0,\n",
              " 0,\n",
              " 0,\n",
              " 0,\n",
              " 0,\n",
              " 0,\n",
              " 0,\n",
              " 0,\n",
              " 0,\n",
              " 0,\n",
              " 0,\n",
              " 0,\n",
              " 0,\n",
              " 0,\n",
              " 0,\n",
              " 0,\n",
              " 0,\n",
              " 0,\n",
              " 0,\n",
              " 0,\n",
              " 0,\n",
              " 0,\n",
              " 0,\n",
              " 0,\n",
              " 0,\n",
              " 0,\n",
              " 0,\n",
              " 0,\n",
              " 0,\n",
              " 0,\n",
              " 0,\n",
              " 0,\n",
              " 0,\n",
              " 0,\n",
              " 0,\n",
              " 0,\n",
              " 0,\n",
              " 0,\n",
              " 0,\n",
              " 0,\n",
              " 0,\n",
              " 0,\n",
              " 0,\n",
              " 0,\n",
              " 0,\n",
              " 0,\n",
              " 0,\n",
              " 0,\n",
              " 1,\n",
              " 1,\n",
              " 1,\n",
              " 1,\n",
              " 1,\n",
              " 1,\n",
              " 1,\n",
              " 0,\n",
              " 0,\n",
              " 0,\n",
              " 0,\n",
              " 0,\n",
              " 0,\n",
              " 0,\n",
              " 0,\n",
              " 0,\n",
              " 0,\n",
              " 0,\n",
              " 0,\n",
              " 0,\n",
              " 0,\n",
              " 0,\n",
              " 0,\n",
              " 0,\n",
              " 0,\n",
              " 0,\n",
              " 0,\n",
              " 0,\n",
              " 0,\n",
              " 0,\n",
              " 0,\n",
              " 0,\n",
              " 0,\n",
              " 0,\n",
              " 0,\n",
              " 0,\n",
              " 0,\n",
              " 0,\n",
              " 0,\n",
              " 0,\n",
              " 0,\n",
              " 0,\n",
              " 0,\n",
              " 0,\n",
              " 0,\n",
              " 0,\n",
              " 0,\n",
              " 0,\n",
              " 0,\n",
              " 0,\n",
              " 0,\n",
              " 0,\n",
              " 0,\n",
              " 0,\n",
              " 0,\n",
              " 0,\n",
              " 0,\n",
              " 1,\n",
              " 1,\n",
              " 1,\n",
              " 1,\n",
              " 1,\n",
              " 1,\n",
              " 0,\n",
              " 0,\n",
              " 0,\n",
              " 0,\n",
              " 0,\n",
              " 0,\n",
              " 0,\n",
              " 0,\n",
              " 0,\n",
              " 0,\n",
              " 0,\n",
              " 0,\n",
              " 0,\n",
              " 0,\n",
              " 0,\n",
              " 0,\n",
              " 0,\n",
              " 0,\n",
              " 0,\n",
              " 0,\n",
              " 0,\n",
              " 0,\n",
              " 0,\n",
              " 0,\n",
              " 0,\n",
              " 0,\n",
              " 0,\n",
              " 0,\n",
              " 0,\n",
              " 0,\n",
              " 0,\n",
              " 0,\n",
              " 0,\n",
              " 0,\n",
              " 0,\n",
              " 0,\n",
              " 0,\n",
              " 0,\n",
              " 0,\n",
              " 0,\n",
              " 0,\n",
              " 0,\n",
              " 0,\n",
              " 0,\n",
              " 0,\n",
              " 0,\n",
              " 0,\n",
              " 0,\n",
              " 0,\n",
              " 0,\n",
              " 1,\n",
              " 1,\n",
              " 1,\n",
              " 1,\n",
              " 1,\n",
              " 0,\n",
              " 0,\n",
              " 0,\n",
              " 0,\n",
              " 0,\n",
              " 0,\n",
              " 0,\n",
              " 0,\n",
              " 0,\n",
              " 0,\n",
              " 0,\n",
              " 0,\n",
              " 0,\n",
              " 0,\n",
              " 0,\n",
              " 0,\n",
              " 0,\n",
              " 0,\n",
              " 0,\n",
              " 0,\n",
              " 0,\n",
              " 0,\n",
              " 0,\n",
              " 0,\n",
              " 0,\n",
              " 0,\n",
              " 0,\n",
              " 0,\n",
              " 0,\n",
              " 0,\n",
              " 0,\n",
              " 0,\n",
              " 0,\n",
              " 0,\n",
              " 0,\n",
              " 0,\n",
              " 0,\n",
              " 0,\n",
              " 0,\n",
              " 0,\n",
              " 0,\n",
              " 0,\n",
              " 0,\n",
              " 0,\n",
              " 0,\n",
              " 0,\n",
              " 0,\n",
              " 0,\n",
              " 0,\n",
              " 0,\n",
              " 1,\n",
              " 1,\n",
              " 1,\n",
              " 1,\n",
              " 0,\n",
              " 0,\n",
              " 0,\n",
              " 0,\n",
              " 0,\n",
              " 0,\n",
              " 0,\n",
              " 0,\n",
              " 0,\n",
              " 0,\n",
              " 0,\n",
              " 0,\n",
              " 0,\n",
              " 0,\n",
              " 0,\n",
              " 0,\n",
              " 0,\n",
              " 0,\n",
              " 0,\n",
              " 0,\n",
              " 0,\n",
              " 0,\n",
              " 0,\n",
              " 0,\n",
              " 0,\n",
              " 0,\n",
              " 0,\n",
              " 0,\n",
              " 0,\n",
              " 0,\n",
              " 0,\n",
              " 0,\n",
              " 0,\n",
              " 0,\n",
              " 0,\n",
              " 0,\n",
              " 0,\n",
              " 0,\n",
              " 0,\n",
              " 0,\n",
              " 0,\n",
              " 0,\n",
              " 0,\n",
              " 0,\n",
              " 0,\n",
              " 0,\n",
              " 0,\n",
              " 0,\n",
              " 0,\n",
              " 0,\n",
              " 1,\n",
              " 1,\n",
              " 1,\n",
              " 0,\n",
              " 0,\n",
              " 0,\n",
              " 0,\n",
              " 0,\n",
              " 0,\n",
              " 0,\n",
              " 0,\n",
              " 0,\n",
              " 0,\n",
              " 0,\n",
              " 0,\n",
              " 0,\n",
              " 0,\n",
              " 0,\n",
              " 0,\n",
              " 0,\n",
              " 0,\n",
              " 0,\n",
              " 0,\n",
              " 0,\n",
              " 0,\n",
              " 0,\n",
              " 0,\n",
              " 0,\n",
              " 0,\n",
              " 0,\n",
              " 0,\n",
              " 0,\n",
              " 0,\n",
              " 0,\n",
              " 0,\n",
              " 0,\n",
              " 0,\n",
              " 0,\n",
              " 0,\n",
              " 0,\n",
              " 0,\n",
              " 0,\n",
              " 0,\n",
              " 0,\n",
              " 0,\n",
              " 0,\n",
              " 0,\n",
              " 0,\n",
              " 0,\n",
              " 0,\n",
              " 0,\n",
              " 0,\n",
              " 0,\n",
              " 1,\n",
              " 1,\n",
              " 0,\n",
              " 0,\n",
              " 0,\n",
              " 0,\n",
              " 0,\n",
              " 0,\n",
              " 0,\n",
              " 0,\n",
              " 0,\n",
              " 0,\n",
              " 0,\n",
              " 0,\n",
              " 0,\n",
              " 0,\n",
              " 0,\n",
              " 0,\n",
              " 0,\n",
              " 0,\n",
              " 0,\n",
              " 0,\n",
              " 0,\n",
              " 0,\n",
              " 0,\n",
              " 0,\n",
              " 0,\n",
              " 0,\n",
              " 0,\n",
              " 0,\n",
              " 0,\n",
              " 0,\n",
              " 0,\n",
              " 0,\n",
              " 0,\n",
              " 0,\n",
              " 0,\n",
              " 0,\n",
              " 0,\n",
              " 0,\n",
              " 0,\n",
              " 0,\n",
              " 0,\n",
              " 0,\n",
              " 0,\n",
              " 0,\n",
              " 0,\n",
              " 0,\n",
              " 0,\n",
              " 0,\n",
              " 0,\n",
              " 0,\n",
              " 1,\n",
              " 0,\n",
              " 0,\n",
              " 0,\n",
              " 0,\n",
              " 0,\n",
              " 0,\n",
              " 0,\n",
              " 0,\n",
              " 0,\n",
              " 0,\n",
              " 0,\n",
              " 0,\n",
              " 0,\n",
              " 0,\n",
              " 0,\n",
              " 0,\n",
              " 0,\n",
              " 0,\n",
              " 0,\n",
              " 0,\n",
              " 0,\n",
              " 0,\n",
              " 0,\n",
              " 0,\n",
              " 0,\n",
              " 0,\n",
              " 0,\n",
              " 0,\n",
              " 0,\n",
              " 0,\n",
              " 0,\n",
              " 0,\n",
              " 0,\n",
              " 0,\n",
              " 0,\n",
              " 0,\n",
              " 0,\n",
              " 0,\n",
              " 0,\n",
              " 0,\n",
              " 0,\n",
              " 0,\n",
              " 0,\n",
              " 0,\n",
              " 0,\n",
              " 0,\n",
              " 0,\n",
              " 0,\n",
              " 0,\n",
              " 0,\n",
              " 0,\n",
              " 0,\n",
              " 0,\n",
              " 0,\n",
              " 0,\n",
              " 0,\n",
              " 0,\n",
              " 0,\n",
              " 0,\n",
              " 0,\n",
              " 0,\n",
              " 0,\n",
              " 0,\n",
              " 0,\n",
              " 0,\n",
              " 0,\n",
              " 0,\n",
              " 0,\n",
              " 0,\n",
              " 0,\n",
              " 0,\n",
              " 0,\n",
              " 0,\n",
              " 0,\n",
              " 0,\n",
              " 0,\n",
              " 0,\n",
              " 0,\n",
              " 0,\n",
              " 0,\n",
              " 0,\n",
              " 0,\n",
              " 0,\n",
              " 0,\n",
              " 0,\n",
              " 0,\n",
              " 0,\n",
              " 0,\n",
              " 0,\n",
              " 0,\n",
              " 0,\n",
              " 0,\n",
              " 0,\n",
              " 0,\n",
              " 0,\n",
              " 0,\n",
              " 0,\n",
              " 0,\n",
              " 0,\n",
              " 0,\n",
              " 1,\n",
              " 1,\n",
              " 1,\n",
              " 1,\n",
              " 1,\n",
              " 1,\n",
              " 1,\n",
              " 1,\n",
              " 1,\n",
              " 0,\n",
              " 0,\n",
              " 0,\n",
              " 0,\n",
              " 0,\n",
              " 0,\n",
              " 0,\n",
              " 0,\n",
              " 0,\n",
              " 0,\n",
              " 0,\n",
              " 0,\n",
              " 0,\n",
              " 0,\n",
              " 0,\n",
              " 0,\n",
              " 0,\n",
              " 0,\n",
              " 0,\n",
              " 0,\n",
              " 0,\n",
              " 0,\n",
              " 0,\n",
              " 0,\n",
              " 0,\n",
              " 0,\n",
              " 0,\n",
              " 0,\n",
              " 0,\n",
              " 0,\n",
              " 0,\n",
              " 0,\n",
              " 0,\n",
              " 0,\n",
              " 0,\n",
              " 0,\n",
              " 0,\n",
              " 0,\n",
              " 0,\n",
              " 0,\n",
              " 1,\n",
              " 1,\n",
              " 1,\n",
              " 1,\n",
              " 1,\n",
              " 1,\n",
              " 1,\n",
              " 1,\n",
              " 0,\n",
              " 0,\n",
              " 0,\n",
              " 0,\n",
              " 0,\n",
              " 0,\n",
              " 0,\n",
              " 0,\n",
              " 0,\n",
              " 0,\n",
              " 0,\n",
              " 0,\n",
              " 0,\n",
              " 0,\n",
              " 0,\n",
              " 0,\n",
              " 0,\n",
              " 0,\n",
              " 0,\n",
              " 0,\n",
              " 0,\n",
              " 0,\n",
              " 0,\n",
              " 0,\n",
              " 0,\n",
              " 0,\n",
              " 0,\n",
              " 0,\n",
              " 0,\n",
              " 0,\n",
              " 0,\n",
              " 0,\n",
              " 0,\n",
              " 0,\n",
              " 0,\n",
              " 0,\n",
              " 0,\n",
              " 0,\n",
              " 0,\n",
              " 0,\n",
              " 1,\n",
              " 1,\n",
              " 1,\n",
              " 1,\n",
              " 1,\n",
              " 1,\n",
              " 1,\n",
              " 0,\n",
              " 0,\n",
              " 0,\n",
              " 0,\n",
              " 0,\n",
              " 0,\n",
              " 0,\n",
              " 0,\n",
              " 0,\n",
              " 0,\n",
              " 0,\n",
              " 0,\n",
              " 0,\n",
              " 0,\n",
              " 0,\n",
              " 0,\n",
              " 0,\n",
              " 0,\n",
              " 0,\n",
              " 0,\n",
              " 0,\n",
              " 0,\n",
              " 0,\n",
              " 0,\n",
              " 0,\n",
              " 0,\n",
              " 0,\n",
              " 0,\n",
              " 0,\n",
              " 0,\n",
              " 0,\n",
              " 0,\n",
              " 0,\n",
              " 0,\n",
              " 0,\n",
              " 0,\n",
              " 0,\n",
              " 0,\n",
              " 0,\n",
              " 0,\n",
              " 1,\n",
              " 1,\n",
              " 1,\n",
              " 1,\n",
              " 1,\n",
              " 1,\n",
              " 0,\n",
              " 0,\n",
              " 0,\n",
              " 0,\n",
              " 0,\n",
              " 0,\n",
              " 0,\n",
              " 0,\n",
              " 0,\n",
              " 0,\n",
              " 0,\n",
              " 0,\n",
              " 0,\n",
              " 0,\n",
              " 0,\n",
              " 0,\n",
              " 0,\n",
              " 0,\n",
              " 0,\n",
              " 0,\n",
              " 0,\n",
              " 0,\n",
              " 0,\n",
              " 0,\n",
              " 0,\n",
              " 0,\n",
              " 0,\n",
              " 0,\n",
              " 0,\n",
              " 0,\n",
              " 0,\n",
              " 0,\n",
              " 0,\n",
              " 0,\n",
              " 0,\n",
              " 0,\n",
              " 0,\n",
              " 0,\n",
              " 0,\n",
              " 0,\n",
              " 1,\n",
              " 1,\n",
              " 1,\n",
              " 1,\n",
              " 1,\n",
              " 0,\n",
              " 0,\n",
              " 0,\n",
              " 0,\n",
              " 0,\n",
              " 0,\n",
              " 0,\n",
              " 0,\n",
              " 0,\n",
              " 0,\n",
              " 0,\n",
              " 0,\n",
              " 0,\n",
              " 0,\n",
              " 0,\n",
              " 0,\n",
              " 0,\n",
              " 0,\n",
              " 0,\n",
              " 0,\n",
              " 0,\n",
              " 0,\n",
              " 0,\n",
              " 0,\n",
              " 0,\n",
              " 0,\n",
              " 0,\n",
              " 0,\n",
              " 0,\n",
              " 0,\n",
              " 0,\n",
              " 0,\n",
              " 0,\n",
              " 0,\n",
              " 0,\n",
              " 0,\n",
              " 0,\n",
              " 0,\n",
              " 0,\n",
              " 0,\n",
              " 1,\n",
              " 1,\n",
              " 1,\n",
              " 1,\n",
              " 0,\n",
              " 0,\n",
              " 0,\n",
              " 0,\n",
              " 0,\n",
              " 0,\n",
              " 0,\n",
              " 0,\n",
              " 0,\n",
              " 0,\n",
              " 0,\n",
              " 0,\n",
              " 0,\n",
              " 0,\n",
              " 0,\n",
              " 0,\n",
              " 0,\n",
              " 0,\n",
              " 0,\n",
              " 0,\n",
              " 0,\n",
              " 0,\n",
              " 0,\n",
              " 0,\n",
              " 0,\n",
              " 0,\n",
              " 0,\n",
              " 0,\n",
              " 0,\n",
              " 0,\n",
              " 0,\n",
              " 0,\n",
              " 0,\n",
              " 0,\n",
              " 0,\n",
              " 0,\n",
              " 0,\n",
              " 0,\n",
              " 0,\n",
              " 0,\n",
              " 1,\n",
              " 1,\n",
              " 1,\n",
              " 0,\n",
              " 0,\n",
              " 0,\n",
              " 0,\n",
              " 0,\n",
              " 0,\n",
              " 0,\n",
              " 0,\n",
              " 0,\n",
              " 0,\n",
              " 0,\n",
              " 0,\n",
              " 0,\n",
              " 0,\n",
              " 0,\n",
              " 0,\n",
              " 0,\n",
              " 0,\n",
              " 0,\n",
              " 0,\n",
              " 0,\n",
              " 0,\n",
              " 0,\n",
              " 0,\n",
              " 0,\n",
              " 0,\n",
              " 0,\n",
              " 0,\n",
              " 0,\n",
              " 0,\n",
              " 0,\n",
              " 0,\n",
              " 0,\n",
              " 0,\n",
              " 0,\n",
              " 0,\n",
              " 0,\n",
              " 0,\n",
              " 0,\n",
              " 0,\n",
              " 1,\n",
              " 1,\n",
              " 0,\n",
              " 0,\n",
              " 0,\n",
              " 0,\n",
              " 0,\n",
              " 0,\n",
              " 0,\n",
              " 0,\n",
              " 0,\n",
              " 0,\n",
              " 0,\n",
              " 0,\n",
              " 0,\n",
              " 0,\n",
              " 0,\n",
              " 0,\n",
              " 0,\n",
              " 0,\n",
              " 0,\n",
              " 0,\n",
              " 0,\n",
              " 0,\n",
              " 0,\n",
              " 0,\n",
              " 0,\n",
              " 0,\n",
              " 0,\n",
              " 0,\n",
              " 0,\n",
              " 0,\n",
              " 0,\n",
              " 0,\n",
              " 0,\n",
              " 0,\n",
              " 0,\n",
              " 0,\n",
              " 0,\n",
              " 0,\n",
              " 0,\n",
              " 0,\n",
              " 1,\n",
              " 0,\n",
              " 0,\n",
              " 0,\n",
              " 0,\n",
              " 0,\n",
              " 0,\n",
              " 0,\n",
              " 0,\n",
              " 0,\n",
              " 0,\n",
              " 0,\n",
              " 0,\n",
              " 0,\n",
              " 0,\n",
              " 0,\n",
              " 0,\n",
              " 0,\n",
              " 0,\n",
              " 0,\n",
              " 0,\n",
              " 0,\n",
              " 0,\n",
              " 0,\n",
              " 0,\n",
              " 0,\n",
              " 0,\n",
              " 0,\n",
              " 0,\n",
              " 0,\n",
              " 0,\n",
              " 0,\n",
              " 0,\n",
              " 0,\n",
              " 0,\n",
              " 0,\n",
              " 0,\n",
              " 0,\n",
              " 0,\n",
              " 0,\n",
              " 0,\n",
              " 0,\n",
              " 0,\n",
              " 0,\n",
              " 0,\n",
              " 0,\n",
              " 0,\n",
              " 0,\n",
              " 0,\n",
              " 0,\n",
              " 0,\n",
              " 0,\n",
              " 0,\n",
              " 0,\n",
              " 0,\n",
              " 0,\n",
              " 0,\n",
              " 0,\n",
              " 0,\n",
              " 0,\n",
              " 0,\n",
              " 0,\n",
              " 0,\n",
              " 0,\n",
              " 0,\n",
              " 0,\n",
              " 0,\n",
              " 0,\n",
              " 0,\n",
              " 0,\n",
              " 0,\n",
              " 0,\n",
              " 0,\n",
              " 0,\n",
              " 0,\n",
              " 0,\n",
              " 0,\n",
              " 0,\n",
              " 0,\n",
              " 0,\n",
              " 0,\n",
              " 1,\n",
              " 1,\n",
              " 1,\n",
              " 1,\n",
              " 1,\n",
              " 1,\n",
              " 1,\n",
              " 1,\n",
              " 1,\n",
              " 0,\n",
              " ...]"
            ]
          },
          "metadata": {},
          "execution_count": 58
        }
      ]
    },
    {
      "cell_type": "code",
      "metadata": {
        "colab": {
          "base_uri": "https://localhost:8080/"
        },
        "id": "YEmOjI8faemj",
        "outputId": "96351e37-836c-4df5-846d-e2f043a1b750"
      },
      "source": [
        "print('Classifier accuracy_score {}'.format(accuracy_score(new_label_1, nn_clf.predict(X=new_data))))\n"
      ],
      "id": "YEmOjI8faemj",
      "execution_count": null,
      "outputs": [
        {
          "output_type": "stream",
          "name": "stdout",
          "text": [
            "Classifier accuracy_score 0.6367231638418079\n"
          ]
        }
      ]
    },
    {
      "cell_type": "code",
      "metadata": {
        "id": "nYKzxyXU1t5R"
      },
      "source": [
        "score_cc_y=[]\n",
        "for i in new_data:\n",
        "       score_cc_y.append(compare_images(i[:1024], i[1024:],method='cc', normalize='y'))"
      ],
      "id": "nYKzxyXU1t5R",
      "execution_count": null,
      "outputs": []
    },
    {
      "cell_type": "code",
      "metadata": {
        "id": "naJmMWOxaejn"
      },
      "source": [
        "y_match_pred = []\n",
        "for i in range(len(score_cc_y)):\n",
        "    if score_cc_y[i] > threshold_score_cc_y:\n",
        "        y_match_pred.append(1)\n",
        "    else:\n",
        "        y_match_pred.append(0)"
      ],
      "id": "naJmMWOxaejn",
      "execution_count": null,
      "outputs": []
    },
    {
      "cell_type": "code",
      "metadata": {
        "colab": {
          "base_uri": "https://localhost:8080/"
        },
        "id": "-eeXEg-JaehJ",
        "outputId": "bb069d45-224e-42f4-9d03-ab0ebd2c2262"
      },
      "source": [
        "print('accuracy_score score accuracy {0} '.format(accuracy_score(new_label_1, y_match_pred)))"
      ],
      "id": "-eeXEg-JaehJ",
      "execution_count": null,
      "outputs": [
        {
          "output_type": "stream",
          "name": "stdout",
          "text": [
            "accuracy_score score accuracy 0.5774011299435028 \n"
          ]
        }
      ]
    },
    {
      "cell_type": "markdown",
      "metadata": {
        "id": "Hzlh3s8cZNK-"
      },
      "source": [
        ""
      ],
      "id": "Hzlh3s8cZNK-"
    },
    {
      "cell_type": "markdown",
      "metadata": {
        "id": "cj-akOJL3_Vb"
      },
      "source": [
        "# **feature preprocessing**"
      ],
      "id": "cj-akOJL3_Vb"
    },
    {
      "cell_type": "markdown",
      "metadata": {
        "id": "oLxl_oz6aNlH"
      },
      "source": [
        "#using la place to Find the edges of an image efilter then pca for feature reduction then \n",
        "#undersampling for embalance data\n",
        "#no improvment shown in mlp accuracy after filter"
      ],
      "id": "oLxl_oz6aNlH"
    },
    {
      "cell_type": "code",
      "metadata": {
        "id": "eYvcAovuMjzG"
      },
      "source": [
        "import skimage\n",
        "from skimage import filters\n",
        "X_filtered = skimage.filters.laplace(x, ksize=5)"
      ],
      "id": "eYvcAovuMjzG",
      "execution_count": null,
      "outputs": []
    },
    {
      "cell_type": "code",
      "metadata": {
        "id": "CwBkMgA3jbov"
      },
      "source": [
        "from sklearn.decomposition import PCA\n",
        "\n",
        "pca = PCA(n_components=32)\n",
        "X_filtered_scaled = pca.fit_transform(X_filtered)"
      ],
      "id": "CwBkMgA3jbov",
      "execution_count": null,
      "outputs": []
    },
    {
      "cell_type": "code",
      "metadata": {
        "id": "ECDsh52j8y-W"
      },
      "source": [
        ""
      ],
      "id": "ECDsh52j8y-W",
      "execution_count": null,
      "outputs": []
    },
    {
      "cell_type": "code",
      "metadata": {
        "id": "RxaV2PYjnw9_"
      },
      "source": [
        "X_train, X_mul, y_train, y_mul = train_test_split(X_filtered_scaled,new_label, train_size=0.8, random_state=42)"
      ],
      "id": "RxaV2PYjnw9_",
      "execution_count": null,
      "outputs": []
    },
    {
      "cell_type": "code",
      "metadata": {
        "colab": {
          "base_uri": "https://localhost:8080/"
        },
        "id": "XWriHQ1WjVdv",
        "outputId": "01201e30-3a08-4e3e-c782-94d30e6cc018"
      },
      "source": [
        "X_train.shape"
      ],
      "id": "XWriHQ1WjVdv",
      "execution_count": null,
      "outputs": [
        {
          "output_type": "execute_result",
          "data": {
            "text/plain": [
              "(12888, 32)"
            ]
          },
          "metadata": {},
          "execution_count": 82
        }
      ]
    },
    {
      "cell_type": "code",
      "metadata": {
        "id": "giT96Bjrsfq9"
      },
      "source": [
        ""
      ],
      "id": "giT96Bjrsfq9",
      "execution_count": null,
      "outputs": []
    },
    {
      "cell_type": "code",
      "metadata": {
        "colab": {
          "base_uri": "https://localhost:8080/"
        },
        "id": "PFVK3maimbSo",
        "outputId": "258f0f84-5885-4630-da0b-f0af6d51f1e7"
      },
      "source": [
        "rus = RandomUnderSampler(random_state=0)\n",
        "x_rus, y_rus= rus.fit_resample(X_train, y_train)"
      ],
      "id": "PFVK3maimbSo",
      "execution_count": null,
      "outputs": [
        {
          "output_type": "stream",
          "name": "stderr",
          "text": [
            "/usr/local/lib/python3.7/dist-packages/sklearn/utils/deprecation.py:87: FutureWarning: Function safe_indexing is deprecated; safe_indexing is deprecated in version 0.22 and will be removed in version 0.24.\n",
            "  warnings.warn(msg, category=FutureWarning)\n"
          ]
        }
      ]
    },
    {
      "cell_type": "code",
      "metadata": {
        "colab": {
          "base_uri": "https://localhost:8080/",
          "height": 1000
        },
        "id": "hCBd9ZmXop_f",
        "outputId": "e260739c-58e6-45e7-b3ec-7678744a3fe3"
      },
      "source": [
        "import warnings\n",
        "from sklearn.neural_network import MLPClassifier\n",
        "from sklearn.metrics import accuracy_score\n",
        "\n",
        "nEpochs = 50\n",
        "\n",
        "nn_clf = MLPClassifier(max_iter=1,warm_start='true',solver='sgd',hidden_layer_sizes=50)\n",
        "\n",
        "train_errors, test_errors = [], []\n",
        "\n",
        "for epoch in range(nEpochs): \n",
        "    with warnings.catch_warnings():\n",
        "        warnings.simplefilter(\"ignore\")\n",
        "        nn_clf.fit(x_rus, y_rus)\n",
        "    print(f'Iteration {epoch}, loss = {nn_clf.loss_}')\n",
        "    train_errors.append(accuracy_score(y_rus, nn_clf.predict(x_rus)))\n",
        "    test_errors.append(accuracy_score(y_mul, nn_clf.predict(X_mul)))\n",
        "    \n",
        "plt.plot(np.sqrt(train_errors), \"r-+\", linewidth=2, label=\"train\")\n",
        "plt.plot(np.sqrt(test_errors), \"b-\", linewidth=3, label=\"test\")\n",
        "plt.legend(loc=\"upper right\", fontsize=14)\n",
        "plt.xlabel(\"Epochs\", fontsize=14)\n",
        "plt.ylabel(\" score\", fontsize=14)"
      ],
      "id": "hCBd9ZmXop_f",
      "execution_count": null,
      "outputs": [
        {
          "output_type": "stream",
          "name": "stdout",
          "text": [
            "Iteration 0, loss = 0.9660182713534068\n",
            "Iteration 1, loss = 0.898587989110367\n",
            "Iteration 2, loss = 0.8427552290443356\n",
            "Iteration 3, loss = 0.8056828661897107\n",
            "Iteration 4, loss = 0.7818957285484821\n",
            "Iteration 5, loss = 0.7656092972057333\n",
            "Iteration 6, loss = 0.754001045287984\n",
            "Iteration 7, loss = 0.7455473672096091\n",
            "Iteration 8, loss = 0.7389962531826066\n",
            "Iteration 9, loss = 0.73325388384327\n",
            "Iteration 10, loss = 0.7283652565968041\n",
            "Iteration 11, loss = 0.7240771546340815\n",
            "Iteration 12, loss = 0.7202163948475363\n",
            "Iteration 13, loss = 0.7167943363611038\n",
            "Iteration 14, loss = 0.7135131390364166\n",
            "Iteration 15, loss = 0.7106322708336208\n",
            "Iteration 16, loss = 0.7078884928597194\n",
            "Iteration 17, loss = 0.7054480076674712\n",
            "Iteration 18, loss = 0.7031339014319496\n",
            "Iteration 19, loss = 0.7010723717111741\n",
            "Iteration 20, loss = 0.6989973799008106\n",
            "Iteration 21, loss = 0.6971412492875317\n",
            "Iteration 22, loss = 0.695402797967768\n",
            "Iteration 23, loss = 0.6937828011195651\n",
            "Iteration 24, loss = 0.6922408297398431\n",
            "Iteration 25, loss = 0.6907402208773628\n",
            "Iteration 26, loss = 0.6894027529939634\n",
            "Iteration 27, loss = 0.6880743712941798\n",
            "Iteration 28, loss = 0.6868717451018286\n",
            "Iteration 29, loss = 0.6857103374876176\n",
            "Iteration 30, loss = 0.6846164080238348\n",
            "Iteration 31, loss = 0.6835964785740019\n",
            "Iteration 32, loss = 0.6825402414936009\n",
            "Iteration 33, loss = 0.6815817553066926\n",
            "Iteration 34, loss = 0.680701099372653\n",
            "Iteration 35, loss = 0.6798071526401623\n",
            "Iteration 36, loss = 0.6789389886709525\n",
            "Iteration 37, loss = 0.6781501246493091\n",
            "Iteration 38, loss = 0.6773532325698474\n",
            "Iteration 39, loss = 0.67663237531082\n",
            "Iteration 40, loss = 0.6758903623808729\n",
            "Iteration 41, loss = 0.6752342630300392\n",
            "Iteration 42, loss = 0.6745638903156018\n",
            "Iteration 43, loss = 0.6738794187398255\n",
            "Iteration 44, loss = 0.6732719400958117\n",
            "Iteration 45, loss = 0.6726666058329978\n",
            "Iteration 46, loss = 0.6720636845306576\n",
            "Iteration 47, loss = 0.6714973178359346\n",
            "Iteration 48, loss = 0.6709365322252467\n",
            "Iteration 49, loss = 0.6704722684228929\n"
          ]
        },
        {
          "output_type": "execute_result",
          "data": {
            "text/plain": [
              "Text(0, 0.5, ' score')"
            ]
          },
          "metadata": {},
          "execution_count": 90
        },
        {
          "output_type": "display_data",
          "data": {
            "image/png": "[encoded data removed]",
            "text/plain": [
              "<Figure size 432x288 with 1 Axes>"
            ]
          },
          "metadata": {
            "needs_background": "light"
          }
        }
      ]
    },
    {
      "cell_type": "code",
      "metadata": {
        "colab": {
          "base_uri": "https://localhost:8080/"
        },
        "id": "1dJcsdzooyuf",
        "outputId": "5817ca90-5177-4072-8d19-55b2b2bfc00d"
      },
      "source": [
        "from sklearn.metrics import accuracy_score\n",
        "\n",
        "y_pred = nn_clf.predict(x_rus)\n",
        "y_pred_test = nn_clf.predict(X_mul)\n",
        "print('Classifier accuracy on the training {0} '.format(accuracy_score(y_rus, y_pred)))\n",
        "print('Classifier accuracy on the test {0}'.format(accuracy_score(y_mul, y_pred_test)))"
      ],
      "id": "1dJcsdzooyuf",
      "execution_count": null,
      "outputs": [
        {
          "output_type": "stream",
          "name": "stdout",
          "text": [
            "Classifier accuracy on the training 0.5929013816102906 \n",
            "Classifier accuracy on the test 0.5782122905027933\n"
          ]
        }
      ]
    },
    {
      "cell_type": "code",
      "metadata": {
        "id": "kDcZRJ0Yo9O3"
      },
      "source": [
        ""
      ],
      "id": "kDcZRJ0Yo9O3",
      "execution_count": null,
      "outputs": []
    }
  ]
}