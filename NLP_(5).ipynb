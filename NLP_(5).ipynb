{
  "nbformat": 4,
  "nbformat_minor": 5,
  "metadata": {
    "colab": {
      "name": "NLP (5).ipynb",
      "provenance": [],
      "include_colab_link": true
    },
    "kernelspec": {
      "display_name": "Python 3",
      "language": "python",
      "name": "python3"
    },
    "language_info": {
      "codemirror_mode": {
        "name": "ipython",
        "version": 3
      },
      "file_extension": ".py",
      "mimetype": "text/x-python",
      "name": "python",
      "nbconvert_exporter": "python",
      "pygments_lexer": "ipython3",
      "version": "3.8.8"
    }
  },
  "cells": [
    {
      "cell_type": "markdown",
      "metadata": {
        "id": "view-in-github",
        "colab_type": "text"
      },
      "source": [
        "<a href=\"https://colab.research.google.com/github/neamagalal/machine/blob/main/NLP_(5).ipynb\" target=\"_parent\"><img src=\"https://colab.research.google.com/assets/colab-badge.svg\" alt=\"Open In Colab\"/></a>"
      ]
    },
    {
      "cell_type": "code",
      "metadata": {
        "colab": {
          "base_uri": "https://localhost:8080/",
          "height": 603
        },
        "id": "df94c3fc",
        "outputId": "93d666ae-a6a8-44c5-ffa7-3d41540ce4cc"
      },
      "source": [
        "import re\n",
        "import nltk\n",
        "import numpy as np\n",
        "import pandas as pd\n",
        "import random\n",
        "from sklearn.model_selection import train_test_split\n",
        "from nltk.corpus import stopwords\n",
        "from nltk.tokenize import RegexpTokenizer\n",
        "import nltk\n",
        "from nltk.probability import FreqDist\n",
        "import matplotlib.pyplot as plt\n",
        "from nltk.corpus import stopwords\n",
        "from urllib  import request\n",
        "from sklearn.feature_extraction.text import CountVectorizer\n",
        "from sklearn.feature_extraction.text import TfidfTransformer\n",
        "\n",
        "#from keras.preprocessing.text import Tokenizer\n",
        "from collections import Counter\n",
        "nltk.download('punkt')\n",
        "nltk.download('gutenberg')\n",
        "\n",
        "#get random books from gutnberg you can use this code to know the files \n",
        "\n",
        "partitions=[]\n",
        "authors= [  'Jack London'  , ' H. Rider Haggard '  ,'David Widger','Baroness Orczy',  'Volunteer']\n",
        "authors_label= {  'Jack London':1  , ' H. Rider Haggard ':2  ,'David Widger':3,'Baroness Orczy':4,  'Volunteer':5}\n",
        "#books = [  'whitman-leaves.txt'  , 'shakespeare-hamlet.txt'  ,  'chesterton-brown.txt'  ,'austen-persuasion.txt', 'austen-sense.txt' ]\n",
        "\n",
        "address=[]\n",
        "books=[]\n",
        "address.append('https://www.gutenberg.org/files/215/215-0.txt')\n",
        "address.append('https://www.gutenberg.org/files/3155/3155-0.txt')\n",
        "address.append('https://www.gutenberg.org/files/1257/1257-0.txt')\n",
        "address.append('https://www.gutenberg.org/files/60/60-0.txt')\n",
        "address.append('https://www.gutenberg.org/files/421/421-0.txt')\n",
        "\n",
        "\n",
        "for i in address:\n",
        " books.append(request.urlopen(i).read().decode('utf8'))\n",
        "\n",
        "\n",
        "for book in books:\n",
        "#tokenizer forms tokens out of alphabetic sequences\n",
        "#text = nltk.corpus.gutenberg.raw(books )\n",
        "#use there list of books \n",
        "  words=nltk.word_tokenize(book)\n",
        "  fdist = FreqDist(words)\n",
        "  #print(fdist)\n",
        "  #print(fdist.most_common(2))\n",
        "\n",
        "\n",
        "#stop word\n",
        "nltk.download('stopwords')\n",
        "stop_words=set(stopwords.words(\"english\"))\n",
        "#print(stop_words)\n",
        "\n",
        "\n",
        "#print(\"Filterd Sentence:\",filtered_sents)\n",
        "#fdist = FreqDist(filtered_sents)\n",
        "#fdist.plot(30,cumulative=False)\n",
        "#plt.show()\n",
        "\n",
        "# creatpartition or record has 100 words\n",
        "for author, book in zip(authors, books):\n",
        "    words=nltk.word_tokenize(book)\n",
        "    filtered_sents=[]\n",
        "    for w in words:\n",
        "      if w.lower() not in stop_words and w.isalnum() :\n",
        "        filtered_sents.append(w)\n",
        "\n",
        "    #filtered_sents =random.shuffle( filtered_sents)\n",
        "    #print(filtered_sents)\n",
        "    for h in range(200):\n",
        "        randomm =  random.randint( 0 , len( filtered_sents)-100  )\n",
        "        #each partition or record has 100 words\n",
        "        partition_text = filtered_sents[ randomm : randomm+100 ]\n",
        "        full_text = \" \".join(partition_text)\n",
        "        partitions.append([full_text,partition_text, author ,authors_label[author]])\n",
        "\n",
        "#df = pd.DataFrame(sum(partitions, []), columns = [\"Partitions\", \"Labels\"])\n",
        "\n",
        "#print(partitions)\n",
        "#df = pd.DataFrame(  [[m , n ] for m, n in zip( partitions,author)])\n",
        "#df=partition_text\n",
        "#df.iloc[:,3]\n",
        "df=pd.DataFrame(partitions,columns=['text','part'  ,'author' ,'label'])\n",
        "#df.to_csv(  \"file.csv\"  )\n",
        "#print(df)\n",
        "\n",
        "#fdist.plot(30,cumulative=False)\n",
        "#plt.show()\n"
      ],
      "id": "df94c3fc",
      "execution_count": null,
      "outputs": [
        {
          "name": "stderr",
          "output_type": "stream",
          "text": [
            "[nltk_data] Downloading package punkt to\n",
            "[nltk_data]     C:\\Users\\win\\AppData\\Roaming\\nltk_data...\n",
            "[nltk_data]   Package punkt is already up-to-date!\n",
            "[nltk_data] Downloading package gutenberg to\n",
            "[nltk_data]     C:\\Users\\win\\AppData\\Roaming\\nltk_data...\n",
            "[nltk_data]   Package gutenberg is already up-to-date!\n",
            "[nltk_data] Downloading package stopwords to\n",
            "[nltk_data]     C:\\Users\\win\\AppData\\Roaming\\nltk_data...\n",
            "[nltk_data]   Package stopwords is already up-to-date!\n"
          ]
        }
      ]
    },
    {
      "cell_type": "code",
      "metadata": {
        "colab": {
          "base_uri": "https://localhost:8080/",
          "height": 415
        },
        "id": "5818a3d9",
        "outputId": "5f09bacd-fdfb-420f-910f-0f0fffa0f9b5"
      },
      "source": [
        "df"
      ],
      "id": "5818a3d9",
      "execution_count": null,
      "outputs": [
        {
          "data": {
            "text/html": [
              "<div>\n",
              "<style scoped>\n",
              "    .dataframe tbody tr th:only-of-type {\n",
              "        vertical-align: middle;\n",
              "    }\n",
              "\n",
              "    .dataframe tbody tr th {\n",
              "        vertical-align: top;\n",
              "    }\n",
              "\n",
              "    .dataframe thead th {\n",
              "        text-align: right;\n",
              "    }\n",
              "</style>\n",
              "<table border=\"1\" class=\"dataframe\">\n",
              "  <thead>\n",
              "    <tr style=\"text-align: right;\">\n",
              "      <th></th>\n",
              "      <th>text</th>\n",
              "      <th>part</th>\n",
              "      <th>author</th>\n",
              "      <th>label</th>\n",
              "    </tr>\n",
              "  </thead>\n",
              "  <tbody>\n",
              "    <tr>\n",
              "      <th>0</th>\n",
              "      <td>fished salmon broad stream emptied somewhere s...</td>\n",
              "      <td>[fished, salmon, broad, stream, emptied, somew...</td>\n",
              "      <td>Jack London</td>\n",
              "      <td>1</td>\n",
              "    </tr>\n",
              "    <tr>\n",
              "      <th>1</th>\n",
              "      <td>crashed ground head chest last time rushed man...</td>\n",
              "      <td>[crashed, ground, head, chest, last, time, rus...</td>\n",
              "      <td>Jack London</td>\n",
              "      <td>1</td>\n",
              "    </tr>\n",
              "    <tr>\n",
              "      <th>2</th>\n",
              "      <td>crying grief pain tried drive away whip paid h...</td>\n",
              "      <td>[crying, grief, pain, tried, drive, away, whip...</td>\n",
              "      <td>Jack London</td>\n",
              "      <td>1</td>\n",
              "    </tr>\n",
              "    <tr>\n",
              "      <th>3</th>\n",
              "      <td>bank lazy eyes blinking fire sounds sights ano...</td>\n",
              "      <td>[bank, lazy, eyes, blinking, fire, sounds, sig...</td>\n",
              "      <td>Jack London</td>\n",
              "      <td>1</td>\n",
              "    </tr>\n",
              "    <tr>\n",
              "      <th>4</th>\n",
              "      <td>prominently displaying sentence set forth para...</td>\n",
              "      <td>[prominently, displaying, sentence, set, forth...</td>\n",
              "      <td>Jack London</td>\n",
              "      <td>1</td>\n",
              "    </tr>\n",
              "    <tr>\n",
              "      <th>...</th>\n",
              "      <td>...</td>\n",
              "      <td>...</td>\n",
              "      <td>...</td>\n",
              "      <td>...</td>\n",
              "    </tr>\n",
              "    <tr>\n",
              "      <th>995</th>\n",
              "      <td>say much name sir said think said strange natu...</td>\n",
              "      <td>[say, much, name, sir, said, think, said, stra...</td>\n",
              "      <td>Volunteer</td>\n",
              "      <td>5</td>\n",
              "    </tr>\n",
              "    <tr>\n",
              "      <th>996</th>\n",
              "      <td>sermon Alan stood quite still tails clapping b...</td>\n",
              "      <td>[sermon, Alan, stood, quite, still, tails, cla...</td>\n",
              "      <td>Volunteer</td>\n",
              "      <td>5</td>\n",
              "    </tr>\n",
              "    <tr>\n",
              "      <th>997</th>\n",
              "      <td>copies Project works provide accordance paragr...</td>\n",
              "      <td>[copies, Project, works, provide, accordance, ...</td>\n",
              "      <td>Volunteer</td>\n",
              "      <td>5</td>\n",
              "    </tr>\n",
              "    <tr>\n",
              "      <th>998</th>\n",
              "      <td>Ardshiel power must tell King Factor upon seve...</td>\n",
              "      <td>[Ardshiel, power, must, tell, King, Factor, up...</td>\n",
              "      <td>Volunteer</td>\n",
              "      <td>5</td>\n",
              "    </tr>\n",
              "    <tr>\n",
              "      <th>999</th>\n",
              "      <td>hear gentrice put money folk pockets sighed di...</td>\n",
              "      <td>[hear, gentrice, put, money, folk, pockets, si...</td>\n",
              "      <td>Volunteer</td>\n",
              "      <td>5</td>\n",
              "    </tr>\n",
              "  </tbody>\n",
              "</table>\n",
              "<p>1000 rows × 4 columns</p>\n",
              "</div>"
            ],
            "text/plain": [
              "                                                  text  \\\n",
              "0    fished salmon broad stream emptied somewhere s...   \n",
              "1    crashed ground head chest last time rushed man...   \n",
              "2    crying grief pain tried drive away whip paid h...   \n",
              "3    bank lazy eyes blinking fire sounds sights ano...   \n",
              "4    prominently displaying sentence set forth para...   \n",
              "..                                                 ...   \n",
              "995  say much name sir said think said strange natu...   \n",
              "996  sermon Alan stood quite still tails clapping b...   \n",
              "997  copies Project works provide accordance paragr...   \n",
              "998  Ardshiel power must tell King Factor upon seve...   \n",
              "999  hear gentrice put money folk pockets sighed di...   \n",
              "\n",
              "                                                  part       author  label  \n",
              "0    [fished, salmon, broad, stream, emptied, somew...  Jack London      1  \n",
              "1    [crashed, ground, head, chest, last, time, rus...  Jack London      1  \n",
              "2    [crying, grief, pain, tried, drive, away, whip...  Jack London      1  \n",
              "3    [bank, lazy, eyes, blinking, fire, sounds, sig...  Jack London      1  \n",
              "4    [prominently, displaying, sentence, set, forth...  Jack London      1  \n",
              "..                                                 ...          ...    ...  \n",
              "995  [say, much, name, sir, said, think, said, stra...    Volunteer      5  \n",
              "996  [sermon, Alan, stood, quite, still, tails, cla...    Volunteer      5  \n",
              "997  [copies, Project, works, provide, accordance, ...    Volunteer      5  \n",
              "998  [Ardshiel, power, must, tell, King, Factor, up...    Volunteer      5  \n",
              "999  [hear, gentrice, put, money, folk, pockets, si...    Volunteer      5  \n",
              "\n",
              "[1000 rows x 4 columns]"
            ]
          },
          "execution_count": 2,
          "metadata": {},
          "output_type": "execute_result"
        }
      ]
    },
    {
      "cell_type": "code",
      "metadata": {
        "id": "e723cb35"
      },
      "source": [
        "X = df['text'] \n",
        "#y = df['label']\n",
        "y = df['author']"
      ],
      "id": "e723cb35",
      "execution_count": null,
      "outputs": []
    },
    {
      "cell_type": "code",
      "metadata": {
        "id": "e49b219a",
        "outputId": "08b27a26-1c57-42fc-b180-2f65a0b11351"
      },
      "source": [
        "nltk.download('stopwords')\n",
        "lst_stopwords = nltk.corpus.stopwords.words(\"english\")\n",
        "def utils_preprocess_text(text, flg_stemm=False, flg_lemm=True):#, lst_stopwords=None):\n",
        "    ## clean (convert to lowercase and remove punctuations and characters and then strip)\n",
        "    text = re.sub(r'[^\\w\\s]', '', str(text).lower().strip())\n",
        "            \n",
        "    ## Tokenize (convert from string to list)\n",
        "    lst_text = text.split()\n",
        "    ## remove Stopwords\n",
        "    if lst_stopwords is not None:\n",
        "        lst_text = [word for word in lst_text if word not in \n",
        "                    lst_stopwords]\n",
        "                \n",
        "    ## Stemming (remove -ing, -ly, ...)\n",
        "    if flg_stemm == True:\n",
        "        ps = nltk.stem.porter.PorterStemmer()\n",
        "        lst_text = [ps.stem(word) for word in lst_text]\n",
        "                \n",
        "    ## Lemmatisation (convert the word into root word)\n",
        "    if flg_lemm == True:\n",
        "        lem = nltk.stem.wordnet.WordNetLemmatizer()\n",
        "        lst_text = [lem.lemmatize(word) for word in lst_text]\n",
        "            \n",
        "    ## back to string from list\n",
        "    text = \" \".join(lst_text)\n",
        "    return text"
      ],
      "id": "e49b219a",
      "execution_count": null,
      "outputs": [
        {
          "name": "stderr",
          "output_type": "stream",
          "text": [
            "[nltk_data] Downloading package stopwords to\n",
            "[nltk_data]     C:\\Users\\win\\AppData\\Roaming\\nltk_data...\n",
            "[nltk_data]   Package stopwords is already up-to-date!\n"
          ]
        }
      ]
    },
    {
      "cell_type": "code",
      "metadata": {
        "id": "6f220ccc",
        "outputId": "0a2489bc-c56d-4fbc-bf74-8cbe67ca9be3"
      },
      "source": [
        "import nltk\n",
        "nltk.download('wordnet')\n",
        "\n",
        "df[\"text_clean\"] = df[\"text\"].apply(lambda x: utils_preprocess_text(x, flg_stemm=False, flg_lemm=True))#, lst_stopwords))\n",
        "df.head()"
      ],
      "id": "6f220ccc",
      "execution_count": null,
      "outputs": [
        {
          "name": "stderr",
          "output_type": "stream",
          "text": [
            "[nltk_data] Downloading package wordnet to\n",
            "[nltk_data]     C:\\Users\\win\\AppData\\Roaming\\nltk_data...\n",
            "[nltk_data]   Unzipping corpora\\wordnet.zip.\n"
          ]
        },
        {
          "data": {
            "text/html": [
              "<div>\n",
              "<style scoped>\n",
              "    .dataframe tbody tr th:only-of-type {\n",
              "        vertical-align: middle;\n",
              "    }\n",
              "\n",
              "    .dataframe tbody tr th {\n",
              "        vertical-align: top;\n",
              "    }\n",
              "\n",
              "    .dataframe thead th {\n",
              "        text-align: right;\n",
              "    }\n",
              "</style>\n",
              "<table border=\"1\" class=\"dataframe\">\n",
              "  <thead>\n",
              "    <tr style=\"text-align: right;\">\n",
              "      <th></th>\n",
              "      <th>text</th>\n",
              "      <th>part</th>\n",
              "      <th>author</th>\n",
              "      <th>label</th>\n",
              "      <th>text_clean</th>\n",
              "    </tr>\n",
              "  </thead>\n",
              "  <tbody>\n",
              "    <tr>\n",
              "      <th>0</th>\n",
              "      <td>fished salmon broad stream emptied somewhere s...</td>\n",
              "      <td>[fished, salmon, broad, stream, emptied, somew...</td>\n",
              "      <td>Jack London</td>\n",
              "      <td>1</td>\n",
              "      <td>fished salmon broad stream emptied somewhere s...</td>\n",
              "    </tr>\n",
              "    <tr>\n",
              "      <th>1</th>\n",
              "      <td>crashed ground head chest last time rushed man...</td>\n",
              "      <td>[crashed, ground, head, chest, last, time, rus...</td>\n",
              "      <td>Jack London</td>\n",
              "      <td>1</td>\n",
              "      <td>crashed ground head chest last time rushed man...</td>\n",
              "    </tr>\n",
              "    <tr>\n",
              "      <th>2</th>\n",
              "      <td>crying grief pain tried drive away whip paid h...</td>\n",
              "      <td>[crying, grief, pain, tried, drive, away, whip...</td>\n",
              "      <td>Jack London</td>\n",
              "      <td>1</td>\n",
              "      <td>cry grief pain tried drive away whip paid heed...</td>\n",
              "    </tr>\n",
              "    <tr>\n",
              "      <th>3</th>\n",
              "      <td>bank lazy eyes blinking fire sounds sights ano...</td>\n",
              "      <td>[bank, lazy, eyes, blinking, fire, sounds, sig...</td>\n",
              "      <td>Jack London</td>\n",
              "      <td>1</td>\n",
              "      <td>bank lazy eye blinking fire sound sight anothe...</td>\n",
              "    </tr>\n",
              "    <tr>\n",
              "      <th>4</th>\n",
              "      <td>prominently displaying sentence set forth para...</td>\n",
              "      <td>[prominently, displaying, sentence, set, forth...</td>\n",
              "      <td>Jack London</td>\n",
              "      <td>1</td>\n",
              "      <td>prominently displaying sentence set forth para...</td>\n",
              "    </tr>\n",
              "  </tbody>\n",
              "</table>\n",
              "</div>"
            ],
            "text/plain": [
              "                                                text  \\\n",
              "0  fished salmon broad stream emptied somewhere s...   \n",
              "1  crashed ground head chest last time rushed man...   \n",
              "2  crying grief pain tried drive away whip paid h...   \n",
              "3  bank lazy eyes blinking fire sounds sights ano...   \n",
              "4  prominently displaying sentence set forth para...   \n",
              "\n",
              "                                                part       author  label  \\\n",
              "0  [fished, salmon, broad, stream, emptied, somew...  Jack London      1   \n",
              "1  [crashed, ground, head, chest, last, time, rus...  Jack London      1   \n",
              "2  [crying, grief, pain, tried, drive, away, whip...  Jack London      1   \n",
              "3  [bank, lazy, eyes, blinking, fire, sounds, sig...  Jack London      1   \n",
              "4  [prominently, displaying, sentence, set, forth...  Jack London      1   \n",
              "\n",
              "                                          text_clean  \n",
              "0  fished salmon broad stream emptied somewhere s...  \n",
              "1  crashed ground head chest last time rushed man...  \n",
              "2  cry grief pain tried drive away whip paid heed...  \n",
              "3  bank lazy eye blinking fire sound sight anothe...  \n",
              "4  prominently displaying sentence set forth para...  "
            ]
          },
          "execution_count": 62,
          "metadata": {},
          "output_type": "execute_result"
        }
      ]
    },
    {
      "cell_type": "code",
      "metadata": {
        "id": "cb61ea5c",
        "outputId": "47225308-cceb-4e17-ed28-670b5ef64648"
      },
      "source": [
        "## for plotting\n",
        "import matplotlib.pyplot as plt\n",
        "import seaborn as sns\n",
        "import wordcloud\n",
        "\n",
        "x = 'author'\n",
        "fig, ax = plt.subplots()\n",
        "fig.suptitle(x, fontsize=12)\n",
        "df[x].reset_index().groupby(x).count().sort_values(by= \n",
        "       \"index\").plot(kind=\"barh\", legend=False, \n",
        "        ax=ax).grid(axis='x')\n",
        "plt.show()"
      ],
      "id": "cb61ea5c",
      "execution_count": null,
      "outputs": [
        {
          "data": {
            "image/png": "[encoded data removed]",
            "text/plain": [
              "<Figure size 432x288 with 1 Axes>"
            ]
          },
          "metadata": {
            "needs_background": "light"
          },
          "output_type": "display_data"
        }
      ]
    },
    {
      "cell_type": "code",
      "metadata": {
        "colab": {
          "base_uri": "https://localhost:8080/"
        },
        "id": "0b3f9d67",
        "outputId": "0f042e4a-1b07-407d-f26e-7885dbd4e9a8"
      },
      "source": [
        "#tfidf split\n",
        "\n",
        "from sklearn.model_selection import train_test_split\n",
        "\n",
        "X_train, X_test, y_train, y_test= train_test_split(X, y, test_size=0.30, random_state=42)\n",
        "\n",
        "print('Training Data Shape:', X_train.shape)\n",
        "print('Testing Data Shape: ', X_test.shape)"
      ],
      "id": "0b3f9d67",
      "execution_count": null,
      "outputs": [
        {
          "name": "stdout",
          "output_type": "stream",
          "text": [
            "Training Data Shape: (700,)\n",
            "Testing Data Shape:  (300,)\n"
          ]
        }
      ]
    },
    {
      "cell_type": "code",
      "metadata": {
        "id": "77eb815b"
      },
      "source": [
        "import matplotlib.pyplot as plt  \n",
        "from sklearn.datasets import make_classification\n",
        "from sklearn.metrics import plot_confusion_matrix"
      ],
      "id": "77eb815b",
      "execution_count": null,
      "outputs": []
    },
    {
      "cell_type": "markdown",
      "metadata": {
        "id": "fe3ffcfe"
      },
      "source": [
        "# SVm"
      ],
      "id": "fe3ffcfe"
    },
    {
      "cell_type": "markdown",
      "metadata": {
        "id": "7655c24c-2333-43b3-b3f5-755c0da9a0e0"
      },
      "source": [
        "svm bow"
      ],
      "id": "7655c24c-2333-43b3-b3f5-755c0da9a0e0"
    },
    {
      "cell_type": "code",
      "metadata": {
        "id": "4c510942-ab18-4d4a-b5e0-0f69ddfed7d5"
      },
      "source": [
        "#use pipeline to do BOW and clad=ssifier in the same time\n",
        "\n",
        "from sklearn.pipeline import Pipeline\n",
        "from sklearn.linear_model import SGDClassifier\n",
        "\n",
        "svm_bow =Pipeline([\n",
        "    ('vect', CountVectorizer()),\n",
        "    ('clf', SGDClassifier(loss='hinge', penalty='l2',\n",
        "                          alpha=1e-3, random_state=42,\n",
        "                          max_iter=20, tol=None)),\n",
        "])\n",
        "\n",
        "\n",
        "svm_bow.fit(X_train, y_train) \n",
        "predictions =svm_bow.predict(X_test)"
      ],
      "id": "4c510942-ab18-4d4a-b5e0-0f69ddfed7d5",
      "execution_count": null,
      "outputs": []
    },
    {
      "cell_type": "code",
      "metadata": {
        "id": "1e59caeb-ba80-492c-a22c-74d67370bd3b",
        "outputId": "09f719ab-08f0-4368-cfae-2b4372a17f00"
      },
      "source": [
        "svm_bow.score(X_test,y_test)\n",
        "\n"
      ],
      "id": "1e59caeb-ba80-492c-a22c-74d67370bd3b",
      "execution_count": null,
      "outputs": [
        {
          "data": {
            "text/plain": [
              "0.9666666666666667"
            ]
          },
          "execution_count": 73,
          "metadata": {},
          "output_type": "execute_result"
        }
      ]
    },
    {
      "cell_type": "code",
      "metadata": {
        "id": "f6548b2c",
        "outputId": "736d4dd5-0026-426d-b806-6d3299bb6478"
      },
      "source": [
        "from sklearn import metrics\n",
        "print(metrics.confusion_matrix(y_test,predictions))"
      ],
      "id": "f6548b2c",
      "execution_count": null,
      "outputs": [
        {
          "name": "stdout",
          "output_type": "stream",
          "text": [
            "[[71  0  0  0  0]\n",
            " [ 0 51  0  0  2]\n",
            " [ 0  3 52  2  0]\n",
            " [ 0  2  1 50  2]\n",
            " [ 1  1  2  0 60]]\n"
          ]
        }
      ]
    },
    {
      "cell_type": "code",
      "metadata": {
        "id": "b3769125",
        "outputId": "4f3235d6-5fe2-4b81-c55d-e5b1896a2c84"
      },
      "source": [
        "print(metrics.classification_report(y_test,predictions))\n",
        "print(metrics.accuracy_score(y_test,predictions))\n",
        "plot_confusion_matrix(svm_bow,X_train,y_train)  \n",
        "plt.show()"
      ],
      "id": "b3769125",
      "execution_count": null,
      "outputs": [
        {
          "name": "stdout",
          "output_type": "stream",
          "text": [
            "                    precision    recall  f1-score   support\n",
            "\n",
            " H. Rider Haggard        0.99      1.00      0.99        71\n",
            "    Baroness Orczy       0.89      0.96      0.93        53\n",
            "      David Widger       0.95      0.91      0.93        57\n",
            "       Jack London       0.96      0.91      0.93        55\n",
            "         Volunteer       0.94      0.94      0.94        64\n",
            "\n",
            "          accuracy                           0.95       300\n",
            "         macro avg       0.95      0.94      0.94       300\n",
            "      weighted avg       0.95      0.95      0.95       300\n",
            "\n",
            "0.9466666666666667\n"
          ]
        },
        {
          "data": {
            "image/png": "[encoded data removed]",
            "text/plain": [
              "<Figure size 432x288 with 2 Axes>"
            ]
          },
          "metadata": {
            "needs_background": "light"
          },
          "output_type": "display_data"
        }
      ]
    },
    {
      "cell_type": "code",
      "metadata": {
        "id": "e965174c",
        "outputId": "42347007-7544-42d2-c855-2bb53defed83"
      },
      "source": [
        "svm_bow =Pipeline([\n",
        "    ('vect', CountVectorizer()),\n",
        "    ('tfidf', TfidfTransformer()),\n",
        "    ('clf', SGDClassifier(loss='hinge', penalty='l2',\n",
        "                          alpha=1e-3, random_state=42,\n",
        "                          max_iter=5, tol=None)),\n",
        "])\n",
        "\n",
        "\n",
        "svm_bow.fit(X_train, y_train)"
      ],
      "id": "e965174c",
      "execution_count": null,
      "outputs": [
        {
          "data": {
            "text/plain": [
              "Pipeline(steps=[('vect', CountVectorizer()), ('tfidf', TfidfTransformer()),\n",
              "                ('clf',\n",
              "                 SGDClassifier(alpha=0.001, max_iter=5, random_state=42,\n",
              "                               tol=None))])"
            ]
          },
          "execution_count": 42,
          "metadata": {},
          "output_type": "execute_result"
        }
      ]
    },
    {
      "cell_type": "code",
      "metadata": {
        "id": "5fc5ed27"
      },
      "source": [
        "from sklearn.model_selection import GridSearchCV\n",
        "parameters = {\n",
        "    'vect__ngram_range':[(1, 1), (1, 2),(1,3)],\n",
        "    #use tdidf or not\n",
        "     'tfidf__use_idf':(True, False),\n",
        "}#use it one cisionTree\n",
        "gs_clf = GridSearchCV(svm_bow, parameters, cv=10, n_jobs=-4)\n",
        "\n",
        "# Let's train with a smaller subset of the data:\n",
        "gs_clf = gs_clf.fit(X_train, y_train)"
      ],
      "id": "5fc5ed27",
      "execution_count": null,
      "outputs": []
    },
    {
      "cell_type": "code",
      "metadata": {
        "id": "95872b4c-0702-47d8-af20-b97d95181246",
        "outputId": "b963a54e-6182-40c9-bbd8-f39d3667a014"
      },
      "source": [
        "gs_clf.best_params_\n"
      ],
      "id": "95872b4c-0702-47d8-af20-b97d95181246",
      "execution_count": null,
      "outputs": [
        {
          "data": {
            "text/plain": [
              "{'tfidf__use_idf': True, 'vect__ngram_range': (1, 2)}"
            ]
          },
          "execution_count": 44,
          "metadata": {},
          "output_type": "execute_result"
        }
      ]
    },
    {
      "cell_type": "code",
      "metadata": {
        "id": "8e371e8c-3242-4745-bfe6-ab3e26f523c4",
        "outputId": "03d4136c-141a-4825-fdc3-e602ebb82f09"
      },
      "source": [
        "gs_clf.score(X_test,y_test)\n"
      ],
      "id": "8e371e8c-3242-4745-bfe6-ab3e26f523c4",
      "execution_count": null,
      "outputs": [
        {
          "data": {
            "text/plain": [
              "0.96"
            ]
          },
          "execution_count": 45,
          "metadata": {},
          "output_type": "execute_result"
        }
      ]
    },
    {
      "cell_type": "markdown",
      "metadata": {
        "id": "80ae7ae2"
      },
      "source": [
        "so GridSearch give us good accuracy , tfidf__use_idf: True, vect__ngram_range: (1, 1)"
      ],
      "id": "80ae7ae2"
    },
    {
      "cell_type": "code",
      "metadata": {
        "id": "8670ceaa",
        "outputId": "72cdd497-01b1-4127-d500-14d34ddf2669"
      },
      "source": [
        "from sklearn.model_selection import cross_val_score\n",
        "#passing a cross validation iterator;\n",
        "from sklearn.model_selection import ShuffleSplit\n",
        "n_samples = X.shape[0]\n",
        "# num split ,folds هنا افضل نتايج عن الي فوق كنت بستخدم الdefault\n",
        "cv = ShuffleSplit(n_splits=5, test_size=0.3, random_state=0)\n",
        "cross_val_score(svm_bow, X, y, cv=cv)"
      ],
      "id": "8670ceaa",
      "execution_count": null,
      "outputs": [
        {
          "data": {
            "text/plain": [
              "array([0.95333333, 0.92333333, 0.96666667, 0.95666667, 0.96      ])"
            ]
          },
          "execution_count": 12,
          "metadata": {},
          "output_type": "execute_result"
        }
      ]
    },
    {
      "cell_type": "markdown",
      "metadata": {
        "id": "7f31a28d"
      },
      "source": [
        "# Decision Tree Classifier"
      ],
      "id": "7f31a28d"
    },
    {
      "cell_type": "code",
      "metadata": {
        "id": "e65e2591-04c1-47da-ace3-a02f5f3624d4"
      },
      "source": [
        "from sklearn.tree import DecisionTreeClassifier\n",
        "\n",
        "\n",
        "decisionTree_bow =Pipeline([\n",
        "    #bow\n",
        "    ('vect', CountVectorizer(ngram_range=(1,1))),\n",
        "    #classifier\n",
        "    ('clf', DecisionTreeClassifier(max_depth=100)),\n",
        "])\n",
        "\n",
        "\n",
        "decisionTree_bow.fit(X_train, y_train) \n",
        "predictions2 =decisionTree_bow.predict(X_test)"
      ],
      "id": "e65e2591-04c1-47da-ace3-a02f5f3624d4",
      "execution_count": null,
      "outputs": []
    },
    {
      "cell_type": "code",
      "metadata": {
        "id": "10075bf5-ee14-40e9-bcad-f40255239116",
        "outputId": "df044144-a8b9-401d-fd54-8815d800175b"
      },
      "source": [
        "decisionTree_bow.score(X_test,y_test)"
      ],
      "id": "10075bf5-ee14-40e9-bcad-f40255239116",
      "execution_count": null,
      "outputs": [
        {
          "data": {
            "text/plain": [
              "0.8866666666666667"
            ]
          },
          "execution_count": 17,
          "metadata": {},
          "output_type": "execute_result"
        }
      ]
    },
    {
      "cell_type": "code",
      "metadata": {
        "id": "a3e7bd96",
        "outputId": "30166ac7-32bf-45d2-ae23-33b79be3b36d"
      },
      "source": [
        "print(metrics.classification_report(y_test,predictions2))\n",
        "plot_confusion_matrix(decisionTree_bow,X_train,y_train)  \n",
        "plt.show()\n",
        "\n"
      ],
      "id": "a3e7bd96",
      "execution_count": null,
      "outputs": [
        {
          "name": "stdout",
          "output_type": "stream",
          "text": [
            "                    precision    recall  f1-score   support\n",
            "\n",
            " H. Rider Haggard        0.84      0.96      0.89        71\n",
            "    Baroness Orczy       0.85      0.89      0.87        53\n",
            "      David Widger       0.96      0.86      0.91        57\n",
            "       Jack London       0.96      0.91      0.93        55\n",
            "         Volunteer       0.85      0.81      0.83        64\n",
            "\n",
            "          accuracy                           0.89       300\n",
            "         macro avg       0.89      0.89      0.89       300\n",
            "      weighted avg       0.89      0.89      0.89       300\n",
            "\n"
          ]
        },
        {
          "data": {
            "image/png": "[encoded data removed]",
            "text/plain": [
              "<Figure size 432x288 with 2 Axes>"
            ]
          },
          "metadata": {
            "needs_background": "light"
          },
          "output_type": "display_data"
        }
      ]
    },
    {
      "cell_type": "code",
      "metadata": {
        "id": "20a2f9f6-8611-44d4-8a53-37dc85f05097",
        "outputId": "05deefa5-6809-41cf-b703-0f46c38339d4"
      },
      "source": [
        "decisionTree_tfidf =Pipeline([\n",
        "    ('vect', CountVectorizer(ngram_range=(1,2))),\n",
        "    ('tfidf', TfidfTransformer()),\n",
        "    ('clf', DecisionTreeClassifier(max_depth=10)),\n",
        "])\n",
        "\n",
        "\n",
        "decisionTree_tfidf.fit(X_train, y_train)\n",
        "\n",
        "predictions2 =decisionTree_tfidf.predict(X_test)\n",
        "\n",
        "decisionTree_tfidf.score(X_test,y_test)"
      ],
      "id": "20a2f9f6-8611-44d4-8a53-37dc85f05097",
      "execution_count": null,
      "outputs": [
        {
          "data": {
            "text/plain": [
              "0.7466666666666667"
            ]
          },
          "execution_count": 74,
          "metadata": {},
          "output_type": "execute_result"
        }
      ]
    },
    {
      "cell_type": "code",
      "metadata": {
        "id": "03e075cd"
      },
      "source": [
        "from sklearn.model_selection import GridSearchCV\n",
        "parameters = {#vect ngram to show you one ngram,2,3ngram\n",
        "    'vect__ngram_range': [(1, 1), (1, 2),(1,3)]#,\n",
        "    #use tdidf or not\n",
        "     #'tfidf__use_idf': (True, False),\n",
        "}#use it one cisionTree\n",
        "gs_clf = GridSearchCV(decisionTree_bow, parameters, cv=10, n_jobs=-4)\n",
        "\n",
        "# Let's train with a smaller subset of the data:\n",
        "gs_clf = gs_clf.fit(X_train, y_train)"
      ],
      "id": "03e075cd",
      "execution_count": null,
      "outputs": []
    },
    {
      "cell_type": "code",
      "metadata": {
        "id": "2b2f9b5b",
        "outputId": "5cb86f15-79b9-4bbe-c255-9c0307795149"
      },
      "source": [
        "gs_clf.best_params_"
      ],
      "id": "2b2f9b5b",
      "execution_count": null,
      "outputs": [
        {
          "data": {
            "text/plain": [
              "{'vect__ngram_range': (1, 3)}"
            ]
          },
          "execution_count": 76,
          "metadata": {},
          "output_type": "execute_result"
        }
      ]
    },
    {
      "cell_type": "code",
      "metadata": {
        "id": "d0daf358",
        "outputId": "e326ac09-8e32-4a45-cc29-a0d88387659f"
      },
      "source": [
        "gs_clf.score(X_test,y_test)"
      ],
      "id": "d0daf358",
      "execution_count": null,
      "outputs": [
        {
          "data": {
            "text/plain": [
              "0.9033333333333333"
            ]
          },
          "execution_count": 77,
          "metadata": {},
          "output_type": "execute_result"
        }
      ]
    },
    {
      "cell_type": "code",
      "metadata": {
        "id": "8917682b",
        "outputId": "5f757afe-3e9b-42a1-aa3a-76e558c4c725"
      },
      "source": [
        "from sklearn.model_selection import cross_val_score\n",
        "#passing a cross validation iterator;\n",
        "from sklearn.model_selection import ShuffleSplit\n",
        "n_samples = X.shape[0]\n",
        "# num split ,folds هنا افضل نتايج عن الي فوق كنت بستخدم الdefault\n",
        "cv = ShuffleSplit(n_splits=5, test_size=0.3, random_state=0)\n",
        "cross_val_score(decisionTree_bow, X, y, cv=cv)\n",
        "\n"
      ],
      "id": "8917682b",
      "execution_count": null,
      "outputs": [
        {
          "data": {
            "text/plain": [
              "array([0.88      , 0.83666667, 0.87333333, 0.82666667, 0.86333333])"
            ]
          },
          "execution_count": 78,
          "metadata": {},
          "output_type": "execute_result"
        }
      ]
    },
    {
      "cell_type": "markdown",
      "metadata": {
        "id": "93a7cd5d"
      },
      "source": [
        "# Knn"
      ],
      "id": "93a7cd5d"
    },
    {
      "cell_type": "code",
      "metadata": {
        "id": "a826cc67-cc9a-4c81-983e-79f5dbe62dc5"
      },
      "source": [
        "from sklearn.neighbors import KNeighborsClassifier\n",
        "\n",
        "KNeighbors_tfidf =Pipeline([\n",
        "    #bow\n",
        "    ('vect', CountVectorizer(ngram_range=(1,2))),\n",
        "    #Tdfidf\n",
        "    ('tfidf', TfidfTransformer()),\n",
        "    ('clf', KNeighborsClassifier(n_neighbors=7)),\n",
        "])\n",
        "\n",
        "\n",
        "KNeighbors_tfidf.fit(X_train, y_train)\n",
        "predictions3 =KNeighbors_tfidf.predict(X_test)\n",
        " "
      ],
      "id": "a826cc67-cc9a-4c81-983e-79f5dbe62dc5",
      "execution_count": null,
      "outputs": []
    },
    {
      "cell_type": "code",
      "metadata": {
        "id": "c3a4df0d-5fe5-4112-857c-c97c2e026686",
        "outputId": "5f86eebe-5a33-4efc-cf5b-f21c3aed0167"
      },
      "source": [
        "KNeighbors_tfidf.score(X_test,y_test)"
      ],
      "id": "c3a4df0d-5fe5-4112-857c-c97c2e026686",
      "execution_count": null,
      "outputs": [
        {
          "data": {
            "text/plain": [
              "0.9533333333333334"
            ]
          },
          "execution_count": 80,
          "metadata": {},
          "output_type": "execute_result"
        }
      ]
    },
    {
      "cell_type": "code",
      "metadata": {
        "id": "55a7703f",
        "outputId": "e0d7e1a9-db7f-4682-ff2e-a6d83a5a82bd"
      },
      "source": [
        "print(metrics.classification_report(y_test,predictions3))\n",
        "plot_confusion_matrix(KNeighbors_tfidf,X_train,y_train)  \n",
        "plt.show()\n"
      ],
      "id": "55a7703f",
      "execution_count": null,
      "outputs": [
        {
          "name": "stdout",
          "output_type": "stream",
          "text": [
            "                    precision    recall  f1-score   support\n",
            "\n",
            " H. Rider Haggard        1.00      0.96      0.98        71\n",
            "    Baroness Orczy       0.88      0.96      0.92        53\n",
            "      David Widger       0.98      0.91      0.95        57\n",
            "       Jack London       0.96      0.93      0.94        55\n",
            "         Volunteer       0.94      1.00      0.97        64\n",
            "\n",
            "          accuracy                           0.95       300\n",
            "         macro avg       0.95      0.95      0.95       300\n",
            "      weighted avg       0.96      0.95      0.95       300\n",
            "\n"
          ]
        },
        {
          "data": {
            "image/png": "[encoded data removed]",
            "text/plain": [
              "<Figure size 432x288 with 2 Axes>"
            ]
          },
          "metadata": {
            "needs_background": "light"
          },
          "output_type": "display_data"
        }
      ]
    },
    {
      "cell_type": "code",
      "metadata": {
        "id": "870795fc"
      },
      "source": [
        "from sklearn.model_selection import GridSearchCV\n",
        "parameters = {#vect ngram to show you one ngram,2,3ngram\n",
        "    'vect__ngram_range': [(1, 1), (1, 2),(1,3)],\n",
        "    #use tdidf or not\n",
        "     'tfidf__use_idf': (True, False),\n",
        "}#use it one cisionTree\n",
        "gs_clf = GridSearchCV(KNeighbors_tfidf, parameters, cv=10, n_jobs=-4)\n",
        "\n",
        "# Let's train with a smaller subset of the data:\n",
        "gs_clf = gs_clf.fit(X_train, y_train)"
      ],
      "id": "870795fc",
      "execution_count": null,
      "outputs": []
    },
    {
      "cell_type": "code",
      "metadata": {
        "id": "5e217f53",
        "outputId": "8b542007-d031-4fa6-b87f-ef127158b772"
      },
      "source": [
        "#knn give better accurracy when tfidf true,ngram unigram 0.94\n",
        "\n",
        "gs_clf.best_params_"
      ],
      "id": "5e217f53",
      "execution_count": null,
      "outputs": [
        {
          "data": {
            "text/plain": [
              "{'tfidf__use_idf': True, 'vect__ngram_range': (1, 1)}"
            ]
          },
          "execution_count": 83,
          "metadata": {},
          "output_type": "execute_result"
        }
      ]
    },
    {
      "cell_type": "code",
      "metadata": {
        "id": "87a4c184",
        "outputId": "c85de018-d245-4e97-ee0f-71793ab033dd"
      },
      "source": [
        "gs_clf.score(X_test,y_test)\n"
      ],
      "id": "87a4c184",
      "execution_count": null,
      "outputs": [
        {
          "data": {
            "text/plain": [
              "0.9466666666666667"
            ]
          },
          "execution_count": 84,
          "metadata": {},
          "output_type": "execute_result"
        }
      ]
    },
    {
      "cell_type": "code",
      "metadata": {
        "id": "51ee652e",
        "outputId": "42bd105e-c765-48e9-ff10-c587c39341a2"
      },
      "source": [
        "from sklearn.model_selection import cross_val_score\n",
        "#passing a cross validation iterator;\n",
        "from sklearn.model_selection import ShuffleSplit\n",
        "n_samples = X.shape[0]\n",
        "# num split ,folds هنا افضل نتايج عن الي فوق كنت بستخدم الdefault\n",
        "cv = ShuffleSplit(n_splits=5, test_size=0.3, random_state=0)\n",
        "cross_val_score(KNeighbors_tfidf, X, y, cv=cv)"
      ],
      "id": "51ee652e",
      "execution_count": null,
      "outputs": [
        {
          "data": {
            "text/plain": [
              "array([0.95666667, 0.95      , 0.96666667, 0.94666667, 0.94      ])"
            ]
          },
          "execution_count": 29,
          "metadata": {},
          "output_type": "execute_result"
        }
      ]
    },
    {
      "cell_type": "code",
      "metadata": {
        "id": "30efd563",
        "outputId": "2219cbc5-439f-4ae8-b342-81a9fe0b22cb"
      },
      "source": [
        "# Create and generate a word cloud image:\n",
        "import numpy as np\n",
        "import pandas as pd\n",
        "from os import path\n",
        "from PIL import Image\n",
        "from wordcloud import WordCloud, STOPWORDS, ImageColorGenerator\n",
        "import matplotlib.pyplot as plt\n",
        "#matplotlib inline\n",
        "#to get the same word with the same color\n",
        "wordcloud = WordCloud().generate(str(X))\n",
        "\n",
        "# Display the generated image:\n",
        "plt.imshow(wordcloud, interpolation='bilinear')\n",
        "plt.axis(\"off\")\n",
        "plt.show()"
      ],
      "id": "30efd563",
      "execution_count": null,
      "outputs": [
        {
          "data": {
            "image/png": "[encoded data removed]",
            "text/plain": [
              "<Figure size 432x288 with 1 Axes>"
            ]
          },
          "metadata": {
            "needs_background": "light"
          },
          "output_type": "display_data"
        }
      ]
    },
    {
      "cell_type": "code",
      "metadata": {
        "id": "494646d1"
      },
      "source": [
        ""
      ],
      "id": "494646d1",
      "execution_count": null,
      "outputs": []
    }
  ]
}