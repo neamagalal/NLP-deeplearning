{
  "nbformat": 4,
  "nbformat_minor": 5,
  "metadata": {
    "colab": {
      "name": "Computer vision 3.ipynb",
      "provenance": [],
      "collapsed_sections": [
        "2edbebe7"
      ],
      "include_colab_link": true
    },
    "hide_input": false,
    "kernelspec": {
      "display_name": "Python 3",
      "language": "python",
      "name": "python3"
    },
    "language_info": {
      "codemirror_mode": {
        "name": "ipython",
        "version": 3
      },
      "file_extension": ".py",
      "mimetype": "text/x-python",
      "name": "python",
      "nbconvert_exporter": "python",
      "pygments_lexer": "ipython3",
      "version": "3.8.8"
    },
    "varInspector": {
      "cols": {
        "lenName": 16,
        "lenType": 16,
        "lenVar": 40
      },
      "kernels_config": {
        "python": {
          "delete_cmd_postfix": "",
          "delete_cmd_prefix": "del ",
          "library": "var_list.py",
          "varRefreshCmd": "print(var_dic_list())"
        },
        "r": {
          "delete_cmd_postfix": ") ",
          "delete_cmd_prefix": "rm(",
          "library": "var_list.r",
          "varRefreshCmd": "cat(var_dic_list()) "
        }
      },
      "types_to_exclude": [
        "module",
        "function",
        "builtin_function_or_method",
        "instance",
        "_Feature"
      ],
      "window_display": false
    }
  },
  "cells": [
    {
      "cell_type": "markdown",
      "metadata": {
        "id": "view-in-github",
        "colab_type": "text"
      },
      "source": [
        "<a href=\"https://colab.research.google.com/github/neamagalal/machine/blob/main/Computer_vision_3.ipynb\" target=\"_parent\"><img src=\"https://colab.research.google.com/assets/colab-badge.svg\" alt=\"Open In Colab\"/></a>"
      ]
    },
    {
      "cell_type": "markdown",
      "metadata": {
        "id": "2edbebe7"
      },
      "source": [
        "# Importing libraries"
      ],
      "id": "2edbebe7"
    },
    {
      "cell_type": "code",
      "metadata": {
        "id": "86e09bce"
      },
      "source": [
        "#importing libraries\n",
        "import os\n",
        "import pandas as pd\n",
        "import numpy as np\n",
        "from sklearn.metrics import confusion_matrix,plot_confusion_matrix,classification_report\n",
        "import seaborn as sns\n",
        "import matplotlib.pyplot as plt\n",
        "import seaborn as sns\n",
        "from sklearn.metrics import accuracy_score,precision_score,recall_score,f1_score\n",
        "from sklearn.metrics import plot_roc_curve,roc_curve, roc_auc_score,auc\n",
        "from sklearn.model_selection import train_test_split\n",
        "from skimage import io\n",
        "from skimage.color import rgb2gray\n",
        "from skimage.transform import resize\n",
        "import tensorflow as tf\n",
        "import tensorflow.keras\n",
        "from tensorflow.keras.models import Model\n",
        "from tensorflow.keras.layers import Dense, Flatten, Conv2D, MaxPooling2D\n",
        "# from tensorflow.keras import backend as K\n"
      ],
      "id": "86e09bce",
      "execution_count": null,
      "outputs": []
    },
    {
      "cell_type": "code",
      "metadata": {
        "id": "hbBYH1MELepk"
      },
      "source": [
        "# To support both python 2 and python 3\n",
        "from __future__ import division, print_function, unicode_literals\n",
        "\n",
        "# Common imports\n",
        "import numpy as np\n",
        "import os\n",
        "\n",
        "# to make this notebook's output stable across runs\n",
        "def reset_graph(seed=42):\n",
        "    tf.reset_default_graph()\n",
        "    tf.set_random_seed(seed)\n",
        "    np.random.seed(seed)\n",
        "\n",
        "# To plot pretty figures\n",
        "%matplotlib inline\n",
        "import matplotlib\n",
        "import matplotlib.pyplot as plt\n",
        "plt.rcParams['axes.labelsize'] = 14\n",
        "plt.rcParams['xtick.labelsize'] = 12\n",
        "plt.rcParams['ytick.labelsize'] = 12\n",
        "\n",
        "# Where to save the figures\n",
        "PROJECT_ROOT_DIR = \".\"\n",
        "NB_ID = \"VGG_MNIST\"\n",
        "\n",
        "# create the directory if it does not exist\n",
        "os.makedirs(os.path.join(PROJECT_ROOT_DIR, \"images\", NB_ID), exist_ok = True)\n",
        "        \n",
        "def save_fig(fig_id, tight_layout=True):\n",
        "    path = os.path.join(PROJECT_ROOT_DIR, \"images\", NB_ID, fig_id + \".png\")\n",
        "    print(\"Saving figure\", fig_id)\n",
        "    if tight_layout:\n",
        "        plt.tight_layout()\n",
        "    plt.savefig(path, format='png', dpi=300)"
      ],
      "id": "hbBYH1MELepk",
      "execution_count": null,
      "outputs": []
    },
    {
      "cell_type": "markdown",
      "metadata": {
        "id": "70ef2e68"
      },
      "source": [
        "## Reading the Folders "
      ],
      "id": "70ef2e68"
    },
    {
      "cell_type": "code",
      "metadata": {
        "colab": {
          "base_uri": "https://localhost:8080/"
        },
        "id": "JCw0miFt547s",
        "outputId": "b19d5566-057b-4f79-bddb-be3a763c9aec"
      },
      "source": [
        "from google.colab import drive\n",
        "drive.mount('/content/drive')"
      ],
      "id": "JCw0miFt547s",
      "execution_count": null,
      "outputs": [
        {
          "output_type": "stream",
          "name": "stdout",
          "text": [
            "Drive already mounted at /content/drive; to attempt to forcibly remount, call drive.mount(\"/content/drive\", force_remount=True).\n"
          ]
        }
      ]
    },
    {
      "cell_type": "code",
      "metadata": {
        "colab": {
          "base_uri": "https://localhost:8080/"
        },
        "id": "0bdbd899",
        "outputId": "1684eee8-31c3-45f0-dac2-3a09ad4b72a9"
      },
      "source": [
        "os.listdir(path='.')\n",
        "\n",
        "def getListOfFiles(dirName):\n",
        "    \n",
        "    listOfFile = os.listdir(dirName)\n",
        "    allFiles = list()\n",
        "    \n",
        "    for entry in listOfFile:\n",
        "        fullPath = os.path.join(dirName, entry)\n",
        "        if os.path.isdir(fullPath):\n",
        "            allFiles = allFiles + getListOfFiles(fullPath)\n",
        "        else:\n",
        "            allFiles.append(fullPath)\n",
        "                \n",
        "    return allFiles        \n",
        "\n",
        "\n",
        "dirName = '/content/drive/MyDrive/training'\n",
        "\n",
        "listOfFiles = getListOfFiles(dirName)\n",
        "\n",
        "\n",
        "listOfFiles = list()\n",
        "for (dirpath, dirnames, filenames) in os.walk(dirName):\n",
        "    listOfFiles += [os.path.join(dirpath, file) for file in filenames]\n",
        "\n",
        "\n",
        "for i in listOfFiles:\n",
        "    print(i)    "
      ],
      "id": "0bdbd899",
      "execution_count": null,
      "outputs": [
        {
          "output_type": "stream",
          "name": "stdout",
          "text": [
            "/content/drive/MyDrive/training/3/103.png\n",
            "/content/drive/MyDrive/training/3/104.png\n",
            "/content/drive/MyDrive/training/3/127.png\n",
            "/content/drive/MyDrive/training/3/116.png\n",
            "/content/drive/MyDrive/training/3/109.png\n",
            "/content/drive/MyDrive/training/3/105.png\n",
            "/content/drive/MyDrive/training/3/130.png\n",
            "/content/drive/MyDrive/training/3/1.png\n",
            "/content/drive/MyDrive/training/3/101.png\n",
            "/content/drive/MyDrive/training/3/119.png\n",
            "/content/drive/MyDrive/training/3/117.png\n",
            "/content/drive/MyDrive/training/3/107.png\n",
            "/content/drive/MyDrive/training/3/125.png\n",
            "/content/drive/MyDrive/training/3/124.png\n",
            "/content/drive/MyDrive/training/3/13.png\n",
            "/content/drive/MyDrive/training/3/126.png\n",
            "/content/drive/MyDrive/training/3/10.png\n",
            "/content/drive/MyDrive/training/3/108.png\n",
            "/content/drive/MyDrive/training/3/177.png\n",
            "/content/drive/MyDrive/training/3/168.png\n",
            "/content/drive/MyDrive/training/3/178.png\n",
            "/content/drive/MyDrive/training/3/175.png\n",
            "/content/drive/MyDrive/training/3/174.png\n",
            "/content/drive/MyDrive/training/3/131.png\n",
            "/content/drive/MyDrive/training/3/143.png\n",
            "/content/drive/MyDrive/training/3/161.png\n",
            "/content/drive/MyDrive/training/3/140.png\n",
            "/content/drive/MyDrive/training/3/14.png\n",
            "/content/drive/MyDrive/training/3/163.png\n",
            "/content/drive/MyDrive/training/3/159.png\n",
            "/content/drive/MyDrive/training/3/173.png\n",
            "/content/drive/MyDrive/training/3/169.png\n",
            "/content/drive/MyDrive/training/3/17.png\n",
            "/content/drive/MyDrive/training/3/138.png\n",
            "/content/drive/MyDrive/training/3/162.png\n",
            "/content/drive/MyDrive/training/3/170.png\n",
            "/content/drive/MyDrive/training/3/132.png\n",
            "/content/drive/MyDrive/training/3/165.png\n",
            "/content/drive/MyDrive/training/3/160.png\n",
            "/content/drive/MyDrive/training/3/230.png\n",
            "/content/drive/MyDrive/training/3/197.png\n",
            "/content/drive/MyDrive/training/3/216.png\n",
            "/content/drive/MyDrive/training/3/235.png\n",
            "/content/drive/MyDrive/training/3/234.png\n",
            "/content/drive/MyDrive/training/3/209.png\n",
            "/content/drive/MyDrive/training/3/201.png\n",
            "/content/drive/MyDrive/training/3/219.png\n",
            "/content/drive/MyDrive/training/3/198.png\n",
            "/content/drive/MyDrive/training/3/227.png\n",
            "/content/drive/MyDrive/training/3/188.png\n",
            "/content/drive/MyDrive/training/3/214.png\n",
            "/content/drive/MyDrive/training/3/233.png\n",
            "/content/drive/MyDrive/training/3/186.png\n",
            "/content/drive/MyDrive/training/3/221.png\n",
            "/content/drive/MyDrive/training/3/21.png\n",
            "/content/drive/MyDrive/training/3/225.png\n",
            "/content/drive/MyDrive/training/3/189.png\n",
            "/content/drive/MyDrive/training/3/218.png\n",
            "/content/drive/MyDrive/training/3/237.png\n",
            "/content/drive/MyDrive/training/3/217.png\n",
            "/content/drive/MyDrive/training/3/20.png\n",
            "/content/drive/MyDrive/training/3/27.png\n",
            "/content/drive/MyDrive/training/3/24.png\n",
            "/content/drive/MyDrive/training/3/271.png\n",
            "/content/drive/MyDrive/training/3/252.png\n",
            "/content/drive/MyDrive/training/3/249.png\n",
            "/content/drive/MyDrive/training/3/266.png\n",
            "/content/drive/MyDrive/training/3/243.png\n",
            "/content/drive/MyDrive/training/3/256.png\n",
            "/content/drive/MyDrive/training/3/274.png\n",
            "/content/drive/MyDrive/training/3/254.png\n",
            "/content/drive/MyDrive/training/3/258.png\n",
            "/content/drive/MyDrive/training/3/272.png\n",
            "/content/drive/MyDrive/training/3/244.png\n",
            "/content/drive/MyDrive/training/3/270.png\n",
            "/content/drive/MyDrive/training/3/317.png\n",
            "/content/drive/MyDrive/training/3/275.png\n",
            "/content/drive/MyDrive/training/3/310.png\n",
            "/content/drive/MyDrive/training/3/307.png\n",
            "/content/drive/MyDrive/training/3/293.png\n",
            "/content/drive/MyDrive/training/3/30.png\n",
            "/content/drive/MyDrive/training/3/322.png\n",
            "/content/drive/MyDrive/training/3/315.png\n",
            "/content/drive/MyDrive/training/3/290.png\n",
            "/content/drive/MyDrive/training/3/309.png\n",
            "/content/drive/MyDrive/training/3/318.png\n",
            "/content/drive/MyDrive/training/3/302.png\n",
            "/content/drive/MyDrive/training/3/306.png\n",
            "/content/drive/MyDrive/training/3/295.png\n",
            "/content/drive/MyDrive/training/3/314.png\n",
            "/content/drive/MyDrive/training/3/292.png\n",
            "/content/drive/MyDrive/training/3/325.png\n",
            "/content/drive/MyDrive/training/3/308.png\n",
            "/content/drive/MyDrive/training/3/313.png\n",
            "/content/drive/MyDrive/training/3/321.png\n",
            "/content/drive/MyDrive/training/3/31.png\n",
            "/content/drive/MyDrive/training/3/356.png\n",
            "/content/drive/MyDrive/training/3/34.png\n",
            "/content/drive/MyDrive/training/3/342.png\n",
            "/content/drive/MyDrive/training/3/326.png\n",
            "/content/drive/MyDrive/training/3/357.png\n",
            "/content/drive/MyDrive/training/3/364.png\n",
            "/content/drive/MyDrive/training/3/329.png\n",
            "/content/drive/MyDrive/training/3/361.png\n",
            "/content/drive/MyDrive/training/3/355.png\n",
            "/content/drive/MyDrive/training/3/344.png\n",
            "/content/drive/MyDrive/training/3/343.png\n",
            "/content/drive/MyDrive/training/3/330.png\n",
            "/content/drive/MyDrive/training/3/332.png\n",
            "/content/drive/MyDrive/training/3/365.png\n",
            "/content/drive/MyDrive/training/3/359.png\n",
            "/content/drive/MyDrive/training/3/347.png\n",
            "/content/drive/MyDrive/training/3/336.png\n",
            "/content/drive/MyDrive/training/3/360.png\n",
            "/content/drive/MyDrive/training/3/377.png\n",
            "/content/drive/MyDrive/training/3/411.png\n",
            "/content/drive/MyDrive/training/3/376.png\n",
            "/content/drive/MyDrive/training/3/420.png\n",
            "/content/drive/MyDrive/training/3/372.png\n",
            "/content/drive/MyDrive/training/3/415.png\n",
            "/content/drive/MyDrive/training/3/398.png\n",
            "/content/drive/MyDrive/training/3/367.png\n",
            "/content/drive/MyDrive/training/3/389.png\n",
            "/content/drive/MyDrive/training/3/412.png\n",
            "/content/drive/MyDrive/training/3/401.png\n",
            "/content/drive/MyDrive/training/3/366.png\n",
            "/content/drive/MyDrive/training/3/374.png\n",
            "/content/drive/MyDrive/training/3/378.png\n",
            "/content/drive/MyDrive/training/3/375.png\n",
            "/content/drive/MyDrive/training/3/37.png\n",
            "/content/drive/MyDrive/training/3/394.png\n",
            "/content/drive/MyDrive/training/3/369.png\n",
            "/content/drive/MyDrive/training/3/408.png\n",
            "/content/drive/MyDrive/training/3/413.png\n",
            "/content/drive/MyDrive/training/3/423.png\n",
            "/content/drive/MyDrive/training/3/417.png\n",
            "/content/drive/MyDrive/training/3/395.png\n",
            "/content/drive/MyDrive/training/3/386.png\n",
            "/content/drive/MyDrive/training/3/4.png\n",
            "/content/drive/MyDrive/training/3/385.png\n",
            "/content/drive/MyDrive/training/3/443.png\n",
            "/content/drive/MyDrive/training/3/440.png\n",
            "/content/drive/MyDrive/training/3/432.png\n",
            "/content/drive/MyDrive/training/3/46.png\n",
            "/content/drive/MyDrive/training/3/463.png\n",
            "/content/drive/MyDrive/training/3/44.png\n",
            "/content/drive/MyDrive/training/3/455.png\n",
            "/content/drive/MyDrive/training/3/437.png\n",
            "/content/drive/MyDrive/training/3/43.png\n",
            "/content/drive/MyDrive/training/3/458.png\n",
            "/content/drive/MyDrive/training/3/434.png\n",
            "/content/drive/MyDrive/training/3/464.png\n",
            "/content/drive/MyDrive/training/3/425.png\n",
            "/content/drive/MyDrive/training/3/433.png\n",
            "/content/drive/MyDrive/training/3/435.png\n",
            "/content/drive/MyDrive/training/3/436.png\n",
            "/content/drive/MyDrive/training/3/53.png\n",
            "/content/drive/MyDrive/training/3/49.png\n",
            "/content/drive/MyDrive/training/3/47.png\n",
            "/content/drive/MyDrive/training/3/81.png\n",
            "/content/drive/MyDrive/training/3/83.png\n",
            "/content/drive/MyDrive/training/3/78.png\n",
            "/content/drive/MyDrive/training/3/61.png\n",
            "/content/drive/MyDrive/training/3/469.png\n",
            "/content/drive/MyDrive/training/3/79.png\n",
            "/content/drive/MyDrive/training/3/72.png\n",
            "/content/drive/MyDrive/training/3/92.png\n",
            "/content/drive/MyDrive/training/3/88.png\n",
            "/content/drive/MyDrive/training/3/9.png\n",
            "/content/drive/MyDrive/training/3/8.png\n",
            "/content/drive/MyDrive/training/3/63.png\n",
            "/content/drive/MyDrive/training/3/70.png\n",
            "/content/drive/MyDrive/training/3/85.png\n",
            "/content/drive/MyDrive/training/3/77.png\n",
            "/content/drive/MyDrive/training/3/465.png\n",
            "/content/drive/MyDrive/training/3/71.png\n",
            "/content/drive/MyDrive/training/3/75.png\n",
            "/content/drive/MyDrive/training/3/97.png\n",
            "/content/drive/MyDrive/training/3/96.png\n",
            "/content/drive/MyDrive/training/3/99.png\n",
            "/content/drive/MyDrive/training/2/146.png\n",
            "/content/drive/MyDrive/training/2/14.png\n",
            "/content/drive/MyDrive/training/2/10.png\n",
            "/content/drive/MyDrive/training/2/101.png\n",
            "/content/drive/MyDrive/training/2/11.png\n",
            "/content/drive/MyDrive/training/2/123.png\n",
            "/content/drive/MyDrive/training/2/1495.png\n",
            "/content/drive/MyDrive/training/2/0.png\n",
            "/content/drive/MyDrive/training/2/1492.png\n",
            "/content/drive/MyDrive/training/2/13.png\n",
            "/content/drive/MyDrive/training/2/1485.png\n",
            "/content/drive/MyDrive/training/2/139.png\n",
            "/content/drive/MyDrive/training/2/1494.png\n",
            "/content/drive/MyDrive/training/2/102.png\n",
            "/content/drive/MyDrive/training/2/1489.png\n",
            "/content/drive/MyDrive/training/2/134.png\n",
            "/content/drive/MyDrive/training/2/100.png\n",
            "/content/drive/MyDrive/training/2/140.png\n",
            "/content/drive/MyDrive/training/2/1499.png\n",
            "/content/drive/MyDrive/training/2/1484.png\n",
            "/content/drive/MyDrive/training/2/141.png\n",
            "/content/drive/MyDrive/training/2/128.png\n",
            "/content/drive/MyDrive/training/2/135.png\n",
            "/content/drive/MyDrive/training/2/136.png\n",
            "/content/drive/MyDrive/training/2/113.png\n",
            "/content/drive/MyDrive/training/2/1482.png\n",
            "/content/drive/MyDrive/training/2/143.png\n",
            "/content/drive/MyDrive/training/2/145.png\n",
            "/content/drive/MyDrive/training/2/142.png\n",
            "/content/drive/MyDrive/training/2/132.png\n",
            "/content/drive/MyDrive/training/2/1487.png\n",
            "/content/drive/MyDrive/training/2/112.png\n",
            "/content/drive/MyDrive/training/2/15.png\n",
            "/content/drive/MyDrive/training/2/108.png\n",
            "/content/drive/MyDrive/training/2/1491.png\n",
            "/content/drive/MyDrive/training/2/103.png\n",
            "/content/drive/MyDrive/training/2/1490.png\n",
            "/content/drive/MyDrive/training/2/137.png\n",
            "/content/drive/MyDrive/training/2/154.png\n",
            "/content/drive/MyDrive/training/2/208.png\n",
            "/content/drive/MyDrive/training/2/161.png\n",
            "/content/drive/MyDrive/training/2/1505.png\n",
            "/content/drive/MyDrive/training/2/1506.png\n",
            "/content/drive/MyDrive/training/2/1513.png\n",
            "/content/drive/MyDrive/training/2/209.png\n",
            "/content/drive/MyDrive/training/2/188.png\n",
            "/content/drive/MyDrive/training/2/176.png\n",
            "/content/drive/MyDrive/training/2/167.png\n",
            "/content/drive/MyDrive/training/2/17.png\n",
            "/content/drive/MyDrive/training/2/155.png\n",
            "/content/drive/MyDrive/training/2/206.png\n",
            "/content/drive/MyDrive/training/2/157.png\n",
            "/content/drive/MyDrive/training/2/205.png\n",
            "/content/drive/MyDrive/training/2/159.png\n",
            "/content/drive/MyDrive/training/2/197.png\n",
            "/content/drive/MyDrive/training/2/198.png\n",
            "/content/drive/MyDrive/training/2/171.png\n",
            "/content/drive/MyDrive/training/2/1515.png\n",
            "/content/drive/MyDrive/training/2/164.png\n",
            "/content/drive/MyDrive/training/2/175.png\n",
            "/content/drive/MyDrive/training/2/181.png\n",
            "/content/drive/MyDrive/training/2/210.png\n",
            "/content/drive/MyDrive/training/2/203.png\n",
            "/content/drive/MyDrive/training/2/153.png\n",
            "/content/drive/MyDrive/training/2/207.png\n",
            "/content/drive/MyDrive/training/2/21.png\n",
            "/content/drive/MyDrive/training/2/190.png\n",
            "/content/drive/MyDrive/training/2/152.png\n",
            "/content/drive/MyDrive/training/2/187.png\n",
            "/content/drive/MyDrive/training/2/204.png\n",
            "/content/drive/MyDrive/training/2/1508.png\n",
            "/content/drive/MyDrive/training/2/1510.png\n",
            "/content/drive/MyDrive/training/2/1507.png\n",
            "/content/drive/MyDrive/training/2/196.png\n",
            "/content/drive/MyDrive/training/2/1501.png\n",
            "/content/drive/MyDrive/training/2/211.png\n",
            "/content/drive/MyDrive/training/2/195.png\n",
            "/content/drive/MyDrive/training/2/225.png\n",
            "/content/drive/MyDrive/training/2/28.png\n",
            "/content/drive/MyDrive/training/2/275.png\n",
            "/content/drive/MyDrive/training/2/268.png\n",
            "/content/drive/MyDrive/training/2/266.png\n",
            "/content/drive/MyDrive/training/2/239.png\n",
            "/content/drive/MyDrive/training/2/231.png\n",
            "/content/drive/MyDrive/training/2/253.png\n",
            "/content/drive/MyDrive/training/2/269.png\n",
            "/content/drive/MyDrive/training/2/276.png\n",
            "/content/drive/MyDrive/training/2/240.png\n",
            "/content/drive/MyDrive/training/2/223.png\n",
            "/content/drive/MyDrive/training/2/281.png\n",
            "/content/drive/MyDrive/training/2/265.png\n",
            "/content/drive/MyDrive/training/2/256.png\n",
            "/content/drive/MyDrive/training/2/261.png\n",
            "/content/drive/MyDrive/training/2/27.png\n",
            "/content/drive/MyDrive/training/2/254.png\n",
            "/content/drive/MyDrive/training/2/280.png\n",
            "/content/drive/MyDrive/training/2/24.png\n",
            "/content/drive/MyDrive/training/2/221.png\n",
            "/content/drive/MyDrive/training/2/270.png\n",
            "/content/drive/MyDrive/training/2/230.png\n",
            "/content/drive/MyDrive/training/2/285.png\n",
            "/content/drive/MyDrive/training/2/220.png\n",
            "/content/drive/MyDrive/training/2/26.png\n",
            "/content/drive/MyDrive/training/2/243.png\n",
            "/content/drive/MyDrive/training/2/216.png\n",
            "/content/drive/MyDrive/training/2/273.png\n",
            "/content/drive/MyDrive/training/2/23.png\n",
            "/content/drive/MyDrive/training/2/22.png\n",
            "/content/drive/MyDrive/training/2/264.png\n",
            "/content/drive/MyDrive/training/2/242.png\n",
            "/content/drive/MyDrive/training/2/255.png\n",
            "/content/drive/MyDrive/training/2/236.png\n",
            "/content/drive/MyDrive/training/2/252.png\n",
            "/content/drive/MyDrive/training/2/288.png\n",
            "/content/drive/MyDrive/training/2/250.png\n",
            "/content/drive/MyDrive/training/2/354.png\n",
            "/content/drive/MyDrive/training/2/326.png\n",
            "/content/drive/MyDrive/training/2/307.png\n",
            "/content/drive/MyDrive/training/2/301.png\n",
            "/content/drive/MyDrive/training/2/344.png\n",
            "/content/drive/MyDrive/training/2/333.png\n",
            "/content/drive/MyDrive/training/2/314.png\n",
            "/content/drive/MyDrive/training/2/35.png\n",
            "/content/drive/MyDrive/training/2/33.png\n",
            "/content/drive/MyDrive/training/2/31.png\n",
            "/content/drive/MyDrive/training/2/318.png\n",
            "/content/drive/MyDrive/training/2/305.png\n",
            "/content/drive/MyDrive/training/2/327.png\n",
            "/content/drive/MyDrive/training/2/294.png\n",
            "/content/drive/MyDrive/training/2/319.png\n",
            "/content/drive/MyDrive/training/2/317.png\n",
            "/content/drive/MyDrive/training/2/310.png\n",
            "/content/drive/MyDrive/training/2/350.png\n",
            "/content/drive/MyDrive/training/2/328.png\n",
            "/content/drive/MyDrive/training/2/361.png\n",
            "/content/drive/MyDrive/training/2/290.png\n",
            "/content/drive/MyDrive/training/2/32.png\n",
            "/content/drive/MyDrive/training/2/322.png\n",
            "/content/drive/MyDrive/training/2/358.png\n",
            "/content/drive/MyDrive/training/2/345.png\n",
            "/content/drive/MyDrive/training/2/300.png\n",
            "/content/drive/MyDrive/training/2/308.png\n",
            "/content/drive/MyDrive/training/2/335.png\n",
            "/content/drive/MyDrive/training/2/356.png\n",
            "/content/drive/MyDrive/training/2/316.png\n",
            "/content/drive/MyDrive/training/2/360.png\n",
            "/content/drive/MyDrive/training/2/295.png\n",
            "/content/drive/MyDrive/training/2/357.png\n",
            "/content/drive/MyDrive/training/2/359.png\n",
            "/content/drive/MyDrive/training/2/296.png\n",
            "/content/drive/MyDrive/training/2/30.png\n",
            "/content/drive/MyDrive/training/2/68.png\n",
            "/content/drive/MyDrive/training/2/38.png\n",
            "/content/drive/MyDrive/training/2/76.png\n",
            "/content/drive/MyDrive/training/2/80.png\n",
            "/content/drive/MyDrive/training/2/74.png\n",
            "/content/drive/MyDrive/training/2/73.png\n",
            "/content/drive/MyDrive/training/2/47.png\n",
            "/content/drive/MyDrive/training/2/39.png\n",
            "/content/drive/MyDrive/training/2/79.png\n",
            "/content/drive/MyDrive/training/2/58.png\n",
            "/content/drive/MyDrive/training/2/37.png\n",
            "/content/drive/MyDrive/training/2/45.png\n",
            "/content/drive/MyDrive/training/2/82.png\n",
            "/content/drive/MyDrive/training/2/56.png\n",
            "/content/drive/MyDrive/training/2/42.png\n",
            "/content/drive/MyDrive/training/2/88.png\n",
            "/content/drive/MyDrive/training/2/44.png\n",
            "/content/drive/MyDrive/training/2/85.png\n",
            "/content/drive/MyDrive/training/2/61.png\n",
            "/content/drive/MyDrive/training/2/62.png\n",
            "/content/drive/MyDrive/training/2/86.png\n",
            "/content/drive/MyDrive/training/2/55.png\n",
            "/content/drive/MyDrive/training/2/72.png\n",
            "/content/drive/MyDrive/training/2/67.png\n",
            "/content/drive/MyDrive/training/2/75.png\n",
            "/content/drive/MyDrive/training/2/96.png\n",
            "/content/drive/MyDrive/training/2/66.png\n",
            "/content/drive/MyDrive/training/2/99.png\n",
            "/content/drive/MyDrive/training/2/98.png\n",
            "/content/drive/MyDrive/training/4/110.png\n",
            "/content/drive/MyDrive/training/4/104.png\n",
            "/content/drive/MyDrive/training/4/109.png\n",
            "/content/drive/MyDrive/training/4/1.png\n",
            "/content/drive/MyDrive/training/4/112.png\n",
            "/content/drive/MyDrive/training/4/111.png\n",
            "/content/drive/MyDrive/training/4/10.png\n",
            "/content/drive/MyDrive/training/4/107.png\n",
            "/content/drive/MyDrive/training/4/106.png\n",
            "/content/drive/MyDrive/training/4/102.png\n",
            "/content/drive/MyDrive/training/4/118.png\n",
            "/content/drive/MyDrive/training/4/120.png\n",
            "/content/drive/MyDrive/training/4/138.png\n",
            "/content/drive/MyDrive/training/4/133.png\n",
            "/content/drive/MyDrive/training/4/117.png\n",
            "/content/drive/MyDrive/training/4/142.png\n",
            "/content/drive/MyDrive/training/4/140.png\n",
            "/content/drive/MyDrive/training/4/115.png\n",
            "/content/drive/MyDrive/training/4/12.png\n",
            "/content/drive/MyDrive/training/4/114.png\n",
            "/content/drive/MyDrive/training/4/183.png\n",
            "/content/drive/MyDrive/training/4/171.png\n",
            "/content/drive/MyDrive/training/4/153.png\n",
            "/content/drive/MyDrive/training/4/149.png\n",
            "/content/drive/MyDrive/training/4/15.png\n",
            "/content/drive/MyDrive/training/4/195.png\n",
            "/content/drive/MyDrive/training/4/174.png\n",
            "/content/drive/MyDrive/training/4/192.png\n",
            "/content/drive/MyDrive/training/4/17.png\n",
            "/content/drive/MyDrive/training/4/165.png\n",
            "/content/drive/MyDrive/training/4/160.png\n",
            "/content/drive/MyDrive/training/4/173.png\n",
            "/content/drive/MyDrive/training/4/167.png\n",
            "/content/drive/MyDrive/training/4/170.png\n",
            "/content/drive/MyDrive/training/4/189.png\n",
            "/content/drive/MyDrive/training/4/158.png\n",
            "/content/drive/MyDrive/training/4/146.png\n",
            "/content/drive/MyDrive/training/4/16.png\n",
            "/content/drive/MyDrive/training/4/147.png\n",
            "/content/drive/MyDrive/training/4/186.png\n",
            "/content/drive/MyDrive/training/4/156.png\n",
            "/content/drive/MyDrive/training/4/190.png\n",
            "/content/drive/MyDrive/training/4/178.png\n",
            "/content/drive/MyDrive/training/4/176.png\n",
            "/content/drive/MyDrive/training/4/182.png\n",
            "/content/drive/MyDrive/training/4/148.png\n",
            "/content/drive/MyDrive/training/4/152.png\n",
            "/content/drive/MyDrive/training/4/235.png\n",
            "/content/drive/MyDrive/training/4/229.png\n",
            "/content/drive/MyDrive/training/4/20.png\n",
            "/content/drive/MyDrive/training/4/210.png\n",
            "/content/drive/MyDrive/training/4/234.png\n",
            "/content/drive/MyDrive/training/4/207.png\n",
            "/content/drive/MyDrive/training/4/226.png\n",
            "/content/drive/MyDrive/training/4/22.png\n",
            "/content/drive/MyDrive/training/4/198.png\n",
            "/content/drive/MyDrive/training/4/231.png\n",
            "/content/drive/MyDrive/training/4/203.png\n",
            "/content/drive/MyDrive/training/4/208.png\n",
            "/content/drive/MyDrive/training/4/214.png\n",
            "/content/drive/MyDrive/training/4/220.png\n",
            "/content/drive/MyDrive/training/4/222.png\n",
            "/content/drive/MyDrive/training/4/215.png\n",
            "/content/drive/MyDrive/training/4/213.png\n",
            "/content/drive/MyDrive/training/4/230.png\n",
            "/content/drive/MyDrive/training/4/224.png\n",
            "/content/drive/MyDrive/training/4/239.png\n",
            "/content/drive/MyDrive/training/4/25.png\n",
            "/content/drive/MyDrive/training/4/24.png\n",
            "/content/drive/MyDrive/training/4/274.png\n",
            "/content/drive/MyDrive/training/4/250.png\n",
            "/content/drive/MyDrive/training/4/272.png\n",
            "/content/drive/MyDrive/training/4/27.png\n",
            "/content/drive/MyDrive/training/4/266.png\n",
            "/content/drive/MyDrive/training/4/269.png\n",
            "/content/drive/MyDrive/training/4/256.png\n",
            "/content/drive/MyDrive/training/4/261.png\n",
            "/content/drive/MyDrive/training/4/246.png\n",
            "/content/drive/MyDrive/training/4/268.png\n",
            "/content/drive/MyDrive/training/4/260.png\n",
            "/content/drive/MyDrive/training/4/253.png\n",
            "/content/drive/MyDrive/training/4/247.png\n",
            "/content/drive/MyDrive/training/4/249.png\n",
            "/content/drive/MyDrive/training/4/252.png\n",
            "/content/drive/MyDrive/training/4/275.png\n",
            "/content/drive/MyDrive/training/4/284.png\n",
            "/content/drive/MyDrive/training/4/291.png\n",
            "/content/drive/MyDrive/training/4/286.png\n",
            "/content/drive/MyDrive/training/4/287.png\n",
            "/content/drive/MyDrive/training/4/279.png\n",
            "/content/drive/MyDrive/training/4/294.png\n",
            "/content/drive/MyDrive/training/4/281.png\n",
            "/content/drive/MyDrive/training/4/3.png\n",
            "/content/drive/MyDrive/training/4/295.png\n",
            "/content/drive/MyDrive/training/4/31.png\n",
            "/content/drive/MyDrive/training/4/322.png\n",
            "/content/drive/MyDrive/training/4/304.png\n",
            "/content/drive/MyDrive/training/4/313.png\n",
            "/content/drive/MyDrive/training/4/318.png\n",
            "/content/drive/MyDrive/training/4/311.png\n",
            "/content/drive/MyDrive/training/4/314.png\n",
            "/content/drive/MyDrive/training/4/309.png\n",
            "/content/drive/MyDrive/training/4/320.png\n",
            "/content/drive/MyDrive/training/4/305.png\n",
            "/content/drive/MyDrive/training/4/303.png\n",
            "/content/drive/MyDrive/training/4/319.png\n",
            "/content/drive/MyDrive/training/4/312.png\n",
            "/content/drive/MyDrive/training/4/339.png\n",
            "/content/drive/MyDrive/training/4/346.png\n",
            "/content/drive/MyDrive/training/4/336.png\n",
            "/content/drive/MyDrive/training/4/335.png\n",
            "/content/drive/MyDrive/training/4/337.png\n",
            "/content/drive/MyDrive/training/4/324.png\n",
            "/content/drive/MyDrive/training/4/329.png\n",
            "/content/drive/MyDrive/training/4/341.png\n",
            "/content/drive/MyDrive/training/4/330.png\n",
            "/content/drive/MyDrive/training/4/345.png\n",
            "/content/drive/MyDrive/training/4/340.png\n",
            "/content/drive/MyDrive/training/4/342.png\n",
            "/content/drive/MyDrive/training/4/350.png\n",
            "/content/drive/MyDrive/training/4/333.png\n",
            "/content/drive/MyDrive/training/4/323.png\n",
            "/content/drive/MyDrive/training/4/343.png\n",
            "/content/drive/MyDrive/training/4/349.png\n",
            "/content/drive/MyDrive/training/4/331.png\n",
            "/content/drive/MyDrive/training/4/370.png\n",
            "/content/drive/MyDrive/training/4/352.png\n",
            "/content/drive/MyDrive/training/4/356.png\n",
            "/content/drive/MyDrive/training/4/362.png\n",
            "/content/drive/MyDrive/training/4/378.png\n",
            "/content/drive/MyDrive/training/4/371.png\n",
            "/content/drive/MyDrive/training/4/363.png\n",
            "/content/drive/MyDrive/training/4/366.png\n",
            "/content/drive/MyDrive/training/4/375.png\n",
            "/content/drive/MyDrive/training/4/372.png\n",
            "/content/drive/MyDrive/training/4/355.png\n",
            "/content/drive/MyDrive/training/4/359.png\n",
            "/content/drive/MyDrive/training/4/358.png\n",
            "/content/drive/MyDrive/training/4/37.png\n",
            "/content/drive/MyDrive/training/4/364.png\n",
            "/content/drive/MyDrive/training/4/365.png\n",
            "/content/drive/MyDrive/training/4/367.png\n",
            "/content/drive/MyDrive/training/4/380.png\n",
            "/content/drive/MyDrive/training/4/54.png\n",
            "/content/drive/MyDrive/training/4/39.png\n",
            "/content/drive/MyDrive/training/4/55.png\n",
            "/content/drive/MyDrive/training/4/4.png\n",
            "/content/drive/MyDrive/training/4/51.png\n",
            "/content/drive/MyDrive/training/4/381.png\n",
            "/content/drive/MyDrive/training/4/53.png\n",
            "/content/drive/MyDrive/training/4/43.png\n",
            "/content/drive/MyDrive/training/4/45.png\n",
            "/content/drive/MyDrive/training/4/40.png\n",
            "/content/drive/MyDrive/training/4/48.png\n",
            "/content/drive/MyDrive/training/4/56.png\n",
            "/content/drive/MyDrive/training/4/41.png\n",
            "/content/drive/MyDrive/training/4/47.png\n",
            "/content/drive/MyDrive/training/4/68.png\n",
            "/content/drive/MyDrive/training/4/6.png\n",
            "/content/drive/MyDrive/training/4/75.png\n",
            "/content/drive/MyDrive/training/4/79.png\n",
            "/content/drive/MyDrive/training/4/7.png\n",
            "/content/drive/MyDrive/training/4/82.png\n",
            "/content/drive/MyDrive/training/4/80.png\n",
            "/content/drive/MyDrive/training/4/78.png\n",
            "/content/drive/MyDrive/training/4/76.png\n",
            "/content/drive/MyDrive/training/4/64.png\n",
            "/content/drive/MyDrive/training/4/65.png\n",
            "/content/drive/MyDrive/training/4/77.png\n",
            "/content/drive/MyDrive/training/4/8.png\n",
            "/content/drive/MyDrive/training/4/87.png\n",
            "/content/drive/MyDrive/training/4/83.png\n",
            "/content/drive/MyDrive/training/4/91.png\n",
            "/content/drive/MyDrive/training/4/93.png\n",
            "/content/drive/MyDrive/training/4/88.png\n",
            "/content/drive/MyDrive/training/4/84.png\n",
            "/content/drive/MyDrive/training/4/86.png\n",
            "/content/drive/MyDrive/training/4/95.png\n",
            "/content/drive/MyDrive/training/4/98.png\n",
            "/content/drive/MyDrive/training/4/94.png\n",
            "/content/drive/MyDrive/training/1/0.png\n",
            "/content/drive/MyDrive/training/1/104.png\n",
            "/content/drive/MyDrive/training/1/106.png\n",
            "/content/drive/MyDrive/training/1/116.png\n",
            "/content/drive/MyDrive/training/1/113.png\n",
            "/content/drive/MyDrive/training/1/124.png\n",
            "/content/drive/MyDrive/training/1/122.png\n",
            "/content/drive/MyDrive/training/1/10.png\n",
            "/content/drive/MyDrive/training/1/11.png\n",
            "/content/drive/MyDrive/training/1/133.png\n",
            "/content/drive/MyDrive/training/1/119.png\n",
            "/content/drive/MyDrive/training/1/12.png\n",
            "/content/drive/MyDrive/training/1/102.png\n",
            "/content/drive/MyDrive/training/1/107.png\n",
            "/content/drive/MyDrive/training/1/135.png\n",
            "/content/drive/MyDrive/training/1/111.png\n",
            "/content/drive/MyDrive/training/1/117.png\n",
            "/content/drive/MyDrive/training/1/134.png\n",
            "/content/drive/MyDrive/training/1/1.png\n",
            "/content/drive/MyDrive/training/1/129.png\n",
            "/content/drive/MyDrive/training/1/112.png\n",
            "/content/drive/MyDrive/training/1/100.png\n",
            "/content/drive/MyDrive/training/1/136.png\n",
            "/content/drive/MyDrive/training/1/137.png\n",
            "/content/drive/MyDrive/training/1/110.png\n",
            "/content/drive/MyDrive/training/1/105.png\n",
            "/content/drive/MyDrive/training/1/131.png\n",
            "/content/drive/MyDrive/training/1/130.png\n",
            "/content/drive/MyDrive/training/1/128.png\n",
            "/content/drive/MyDrive/training/1/142.png\n",
            "/content/drive/MyDrive/training/1/175.png\n",
            "/content/drive/MyDrive/training/1/180.png\n",
            "/content/drive/MyDrive/training/1/161.png\n",
            "/content/drive/MyDrive/training/1/178.png\n",
            "/content/drive/MyDrive/training/1/160.png\n",
            "/content/drive/MyDrive/training/1/16.png\n",
            "/content/drive/MyDrive/training/1/14.png\n",
            "/content/drive/MyDrive/training/1/176.png\n",
            "/content/drive/MyDrive/training/1/153.png\n",
            "/content/drive/MyDrive/training/1/147.png\n",
            "/content/drive/MyDrive/training/1/152.png\n",
            "/content/drive/MyDrive/training/1/172.png\n",
            "/content/drive/MyDrive/training/1/139.png\n",
            "/content/drive/MyDrive/training/1/163.png\n",
            "/content/drive/MyDrive/training/1/144.png\n",
            "/content/drive/MyDrive/training/1/170.png\n",
            "/content/drive/MyDrive/training/1/157.png\n",
            "/content/drive/MyDrive/training/1/143.png\n",
            "/content/drive/MyDrive/training/1/138.png\n",
            "/content/drive/MyDrive/training/1/165.png\n",
            "/content/drive/MyDrive/training/1/168.png\n",
            "/content/drive/MyDrive/training/1/164.png\n",
            "/content/drive/MyDrive/training/1/156.png\n",
            "/content/drive/MyDrive/training/1/174.png\n",
            "/content/drive/MyDrive/training/1/145.png\n",
            "/content/drive/MyDrive/training/1/171.png\n",
            "/content/drive/MyDrive/training/1/159.png\n",
            "/content/drive/MyDrive/training/1/149.png\n",
            "/content/drive/MyDrive/training/1/141.png\n",
            "/content/drive/MyDrive/training/1/154.png\n",
            "/content/drive/MyDrive/training/1/155.png\n",
            "/content/drive/MyDrive/training/1/158.png\n",
            "/content/drive/MyDrive/training/1/179.png\n",
            "/content/drive/MyDrive/training/1/150.png\n",
            "/content/drive/MyDrive/training/1/173.png\n",
            "/content/drive/MyDrive/training/1/226.png\n",
            "/content/drive/MyDrive/training/1/222.png\n",
            "/content/drive/MyDrive/training/1/184.png\n",
            "/content/drive/MyDrive/training/1/195.png\n",
            "/content/drive/MyDrive/training/1/187.png\n",
            "/content/drive/MyDrive/training/1/188.png\n",
            "/content/drive/MyDrive/training/1/229.png\n",
            "/content/drive/MyDrive/training/1/217.png\n",
            "/content/drive/MyDrive/training/1/186.png\n",
            "/content/drive/MyDrive/training/1/190.png\n",
            "/content/drive/MyDrive/training/1/221.png\n",
            "/content/drive/MyDrive/training/1/230.png\n",
            "/content/drive/MyDrive/training/1/219.png\n",
            "/content/drive/MyDrive/training/1/185.png\n",
            "/content/drive/MyDrive/training/1/183.png\n",
            "/content/drive/MyDrive/training/1/228.png\n",
            "/content/drive/MyDrive/training/1/215.png\n",
            "/content/drive/MyDrive/training/1/204.png\n",
            "/content/drive/MyDrive/training/1/182.png\n",
            "/content/drive/MyDrive/training/1/193.png\n",
            "/content/drive/MyDrive/training/1/23.png\n",
            "/content/drive/MyDrive/training/1/200.png\n",
            "/content/drive/MyDrive/training/1/189.png\n",
            "/content/drive/MyDrive/training/1/227.png\n",
            "/content/drive/MyDrive/training/1/201.png\n",
            "/content/drive/MyDrive/training/1/211.png\n",
            "/content/drive/MyDrive/training/1/199.png\n",
            "/content/drive/MyDrive/training/1/202.png\n",
            "/content/drive/MyDrive/training/1/181.png\n",
            "/content/drive/MyDrive/training/1/194.png\n",
            "/content/drive/MyDrive/training/1/198.png\n",
            "/content/drive/MyDrive/training/1/225.png\n",
            "/content/drive/MyDrive/training/1/205.png\n",
            "/content/drive/MyDrive/training/1/197.png\n",
            "/content/drive/MyDrive/training/1/203.png\n",
            "/content/drive/MyDrive/training/1/216.png\n",
            "/content/drive/MyDrive/training/1/218.png\n",
            "/content/drive/MyDrive/training/1/235.png\n",
            "/content/drive/MyDrive/training/1/257.png\n",
            "/content/drive/MyDrive/training/1/248.png\n",
            "/content/drive/MyDrive/training/1/264.png\n",
            "/content/drive/MyDrive/training/1/262.png\n",
            "/content/drive/MyDrive/training/1/247.png\n",
            "/content/drive/MyDrive/training/1/271.png\n",
            "/content/drive/MyDrive/training/1/34.png\n",
            "/content/drive/MyDrive/training/1/274.png\n",
            "/content/drive/MyDrive/training/1/239.png\n",
            "/content/drive/MyDrive/training/1/265.png\n",
            "/content/drive/MyDrive/training/1/275.png\n",
            "/content/drive/MyDrive/training/1/233.png\n",
            "/content/drive/MyDrive/training/1/243.png\n",
            "/content/drive/MyDrive/training/1/272.png\n",
            "/content/drive/MyDrive/training/1/29.png\n",
            "/content/drive/MyDrive/training/1/256.png\n",
            "/content/drive/MyDrive/training/1/249.png\n",
            "/content/drive/MyDrive/training/1/270.png\n",
            "/content/drive/MyDrive/training/1/30.png\n",
            "/content/drive/MyDrive/training/1/254.png\n",
            "/content/drive/MyDrive/training/1/261.png\n",
            "/content/drive/MyDrive/training/1/26.png\n",
            "/content/drive/MyDrive/training/1/273.png\n",
            "/content/drive/MyDrive/training/1/269.png\n",
            "/content/drive/MyDrive/training/1/234.png\n",
            "/content/drive/MyDrive/training/1/244.png\n",
            "/content/drive/MyDrive/training/1/250.png\n",
            "/content/drive/MyDrive/training/1/277.png\n",
            "/content/drive/MyDrive/training/1/35.png\n",
            "/content/drive/MyDrive/training/1/246.png\n",
            "/content/drive/MyDrive/training/1/33.png\n",
            "/content/drive/MyDrive/training/1/260.png\n",
            "/content/drive/MyDrive/training/1/258.png\n",
            "/content/drive/MyDrive/training/1/259.png\n",
            "/content/drive/MyDrive/training/1/278.png\n",
            "/content/drive/MyDrive/training/1/232.png\n",
            "/content/drive/MyDrive/training/1/267.png\n",
            "/content/drive/MyDrive/training/1/62.png\n",
            "/content/drive/MyDrive/training/1/90.png\n",
            "/content/drive/MyDrive/training/1/37.png\n",
            "/content/drive/MyDrive/training/1/58.png\n",
            "/content/drive/MyDrive/training/1/92.png\n",
            "/content/drive/MyDrive/training/1/69.png\n",
            "/content/drive/MyDrive/training/1/65.png\n",
            "/content/drive/MyDrive/training/1/70.png\n",
            "/content/drive/MyDrive/training/1/72.png\n",
            "/content/drive/MyDrive/training/1/52.png\n",
            "/content/drive/MyDrive/training/1/9.png\n",
            "/content/drive/MyDrive/training/1/89.png\n",
            "/content/drive/MyDrive/training/1/56.png\n",
            "/content/drive/MyDrive/training/1/39.png\n",
            "/content/drive/MyDrive/training/1/64.png\n",
            "/content/drive/MyDrive/training/1/44.png\n",
            "/content/drive/MyDrive/training/1/75.png\n",
            "/content/drive/MyDrive/training/1/38.png\n",
            "/content/drive/MyDrive/training/1/53.png\n",
            "/content/drive/MyDrive/training/1/76.png\n",
            "/content/drive/MyDrive/training/1/84.png\n",
            "/content/drive/MyDrive/training/1/60.png\n",
            "/content/drive/MyDrive/training/1/95.png\n",
            "/content/drive/MyDrive/training/1/49.png\n",
            "/content/drive/MyDrive/training/1/82.png\n",
            "/content/drive/MyDrive/training/1/40.png\n",
            "/content/drive/MyDrive/training/1/43.png\n",
            "/content/drive/MyDrive/training/1/61.png\n",
            "/content/drive/MyDrive/training/1/83.png\n",
            "/content/drive/MyDrive/training/1/48.png\n",
            "/content/drive/MyDrive/training/1/46.png\n",
            "/content/drive/MyDrive/training/1/81.png\n",
            "/content/drive/MyDrive/training/1/71.png\n",
            "/content/drive/MyDrive/training/1/7.png\n",
            "/content/drive/MyDrive/training/1/91.png\n",
            "/content/drive/MyDrive/training/1/59.png\n",
            "/content/drive/MyDrive/training/1/96.png\n",
            "/content/drive/MyDrive/training/1/47.png\n",
            "/content/drive/MyDrive/training/1/97.png\n",
            "/content/drive/MyDrive/training/1/98.png\n",
            "/content/drive/MyDrive/training/6/1.png\n",
            "/content/drive/MyDrive/training/6/110.png\n",
            "/content/drive/MyDrive/training/6/0.png\n",
            "/content/drive/MyDrive/training/6/102.png\n",
            "/content/drive/MyDrive/training/6/107.png\n",
            "/content/drive/MyDrive/training/6/111.png\n",
            "/content/drive/MyDrive/training/6/100.png\n",
            "/content/drive/MyDrive/training/6/117.png\n",
            "/content/drive/MyDrive/training/6/114.png\n",
            "/content/drive/MyDrive/training/6/105.png\n",
            "/content/drive/MyDrive/training/6/108.png\n",
            "/content/drive/MyDrive/training/6/115.png\n",
            "/content/drive/MyDrive/training/6/112.png\n",
            "/content/drive/MyDrive/training/6/126.png\n",
            "/content/drive/MyDrive/training/6/123.png\n",
            "/content/drive/MyDrive/training/6/122.png\n",
            "/content/drive/MyDrive/training/6/127.png\n",
            "/content/drive/MyDrive/training/6/118.png\n",
            "/content/drive/MyDrive/training/6/120.png\n",
            "/content/drive/MyDrive/training/6/119.png\n",
            "/content/drive/MyDrive/training/6/129.png\n",
            "/content/drive/MyDrive/training/6/128.png\n",
            "/content/drive/MyDrive/training/6/130.png\n",
            "/content/drive/MyDrive/training/6/13.png\n",
            "/content/drive/MyDrive/training/6/132.png\n",
            "/content/drive/MyDrive/training/6/151.png\n",
            "/content/drive/MyDrive/training/6/131.png\n",
            "/content/drive/MyDrive/training/6/137.png\n",
            "/content/drive/MyDrive/training/6/146.png\n",
            "/content/drive/MyDrive/training/6/152.png\n",
            "/content/drive/MyDrive/training/6/133.png\n",
            "/content/drive/MyDrive/training/6/154.png\n",
            "/content/drive/MyDrive/training/6/135.png\n",
            "/content/drive/MyDrive/training/6/145.png\n",
            "/content/drive/MyDrive/training/6/144.png\n",
            "/content/drive/MyDrive/training/6/150.png\n",
            "/content/drive/MyDrive/training/6/139.png\n",
            "/content/drive/MyDrive/training/6/148.png\n",
            "/content/drive/MyDrive/training/6/149.png\n",
            "/content/drive/MyDrive/training/6/134.png\n",
            "/content/drive/MyDrive/training/6/142.png\n",
            "/content/drive/MyDrive/training/6/138.png\n",
            "/content/drive/MyDrive/training/6/182.png\n",
            "/content/drive/MyDrive/training/6/164.png\n",
            "/content/drive/MyDrive/training/6/179.png\n",
            "/content/drive/MyDrive/training/6/161.png\n",
            "/content/drive/MyDrive/training/6/180.png\n",
            "/content/drive/MyDrive/training/6/17.png\n",
            "/content/drive/MyDrive/training/6/177.png\n",
            "/content/drive/MyDrive/training/6/183.png\n",
            "/content/drive/MyDrive/training/6/167.png\n",
            "/content/drive/MyDrive/training/6/170.png\n",
            "/content/drive/MyDrive/training/6/157.png\n",
            "/content/drive/MyDrive/training/6/155.png\n",
            "/content/drive/MyDrive/training/6/178.png\n",
            "/content/drive/MyDrive/training/6/156.png\n",
            "/content/drive/MyDrive/training/6/176.png\n",
            "/content/drive/MyDrive/training/6/160.png\n",
            "/content/drive/MyDrive/training/6/16.png\n",
            "/content/drive/MyDrive/training/6/172.png\n",
            "/content/drive/MyDrive/training/6/175.png\n",
            "/content/drive/MyDrive/training/6/191.png\n",
            "/content/drive/MyDrive/training/6/187.png\n",
            "/content/drive/MyDrive/training/6/206.png\n",
            "/content/drive/MyDrive/training/6/198.png\n",
            "/content/drive/MyDrive/training/6/193.png\n",
            "/content/drive/MyDrive/training/6/210.png\n",
            "/content/drive/MyDrive/training/6/201.png\n",
            "/content/drive/MyDrive/training/6/195.png\n",
            "/content/drive/MyDrive/training/6/200.png\n",
            "/content/drive/MyDrive/training/6/203.png\n",
            "/content/drive/MyDrive/training/6/205.png\n",
            "/content/drive/MyDrive/training/6/197.png\n",
            "/content/drive/MyDrive/training/6/189.png\n",
            "/content/drive/MyDrive/training/6/190.png\n",
            "/content/drive/MyDrive/training/6/188.png\n",
            "/content/drive/MyDrive/training/6/19.png\n",
            "/content/drive/MyDrive/training/6/185.png\n",
            "/content/drive/MyDrive/training/6/20.png\n",
            "/content/drive/MyDrive/training/6/211.png\n",
            "/content/drive/MyDrive/training/6/204.png\n",
            "/content/drive/MyDrive/training/6/212.png\n",
            "/content/drive/MyDrive/training/6/196.png\n",
            "/content/drive/MyDrive/training/6/208.png\n",
            "/content/drive/MyDrive/training/6/199.png\n",
            "/content/drive/MyDrive/training/6/186.png\n",
            "/content/drive/MyDrive/training/6/236.png\n",
            "/content/drive/MyDrive/training/6/223.png\n",
            "/content/drive/MyDrive/training/6/225.png\n",
            "/content/drive/MyDrive/training/6/229.png\n",
            "/content/drive/MyDrive/training/6/217.png\n",
            "/content/drive/MyDrive/training/6/219.png\n",
            "/content/drive/MyDrive/training/6/237.png\n",
            "/content/drive/MyDrive/training/6/214.png\n",
            "/content/drive/MyDrive/training/6/23.png\n",
            "/content/drive/MyDrive/training/6/228.png\n",
            "/content/drive/MyDrive/training/6/22.png\n",
            "/content/drive/MyDrive/training/6/231.png\n",
            "/content/drive/MyDrive/training/6/224.png\n",
            "/content/drive/MyDrive/training/6/227.png\n",
            "/content/drive/MyDrive/training/6/234.png\n",
            "/content/drive/MyDrive/training/6/230.png\n",
            "/content/drive/MyDrive/training/6/249.png\n",
            "/content/drive/MyDrive/training/6/252.png\n",
            "/content/drive/MyDrive/training/6/248.png\n",
            "/content/drive/MyDrive/training/6/250.png\n",
            "/content/drive/MyDrive/training/6/239.png\n",
            "/content/drive/MyDrive/training/6/247.png\n",
            "/content/drive/MyDrive/training/6/251.png\n",
            "/content/drive/MyDrive/training/6/244.png\n",
            "/content/drive/MyDrive/training/6/246.png\n",
            "/content/drive/MyDrive/training/6/24.png\n",
            "/content/drive/MyDrive/training/6/238.png\n",
            "/content/drive/MyDrive/training/6/241.png\n",
            "/content/drive/MyDrive/training/6/245.png\n",
            "/content/drive/MyDrive/training/6/25.png\n",
            "/content/drive/MyDrive/training/6/242.png\n",
            "/content/drive/MyDrive/training/6/243.png\n",
            "/content/drive/MyDrive/training/6/240.png\n",
            "/content/drive/MyDrive/training/6/256.png\n",
            "/content/drive/MyDrive/training/6/41.png\n",
            "/content/drive/MyDrive/training/6/261.png\n",
            "/content/drive/MyDrive/training/6/32.png\n",
            "/content/drive/MyDrive/training/6/51.png\n",
            "/content/drive/MyDrive/training/6/34.png\n",
            "/content/drive/MyDrive/training/6/258.png\n",
            "/content/drive/MyDrive/training/6/26.png\n",
            "/content/drive/MyDrive/training/6/33.png\n",
            "/content/drive/MyDrive/training/6/27.png\n",
            "/content/drive/MyDrive/training/6/40.png\n",
            "/content/drive/MyDrive/training/6/255.png\n",
            "/content/drive/MyDrive/training/6/42.png\n",
            "/content/drive/MyDrive/training/6/37.png\n",
            "/content/drive/MyDrive/training/6/28.png\n",
            "/content/drive/MyDrive/training/6/54.png\n",
            "/content/drive/MyDrive/training/6/257.png\n",
            "/content/drive/MyDrive/training/6/36.png\n",
            "/content/drive/MyDrive/training/6/45.png\n",
            "/content/drive/MyDrive/training/6/53.png\n",
            "/content/drive/MyDrive/training/6/50.png\n",
            "/content/drive/MyDrive/training/6/52.png\n",
            "/content/drive/MyDrive/training/6/29.png\n",
            "/content/drive/MyDrive/training/6/262.png\n",
            "/content/drive/MyDrive/training/6/46.png\n",
            "/content/drive/MyDrive/training/6/39.png\n",
            "/content/drive/MyDrive/training/6/55.png\n",
            "/content/drive/MyDrive/training/6/75.png\n",
            "/content/drive/MyDrive/training/6/57.png\n",
            "/content/drive/MyDrive/training/6/78.png\n",
            "/content/drive/MyDrive/training/6/80.png\n",
            "/content/drive/MyDrive/training/6/76.png\n",
            "/content/drive/MyDrive/training/6/58.png\n",
            "/content/drive/MyDrive/training/6/59.png\n",
            "/content/drive/MyDrive/training/6/56.png\n",
            "/content/drive/MyDrive/training/6/79.png\n",
            "/content/drive/MyDrive/training/6/8.png\n",
            "/content/drive/MyDrive/training/6/65.png\n",
            "/content/drive/MyDrive/training/6/68.png\n",
            "/content/drive/MyDrive/training/6/6.png\n",
            "/content/drive/MyDrive/training/6/67.png\n",
            "/content/drive/MyDrive/training/6/7.png\n",
            "/content/drive/MyDrive/training/6/73.png\n",
            "/content/drive/MyDrive/training/6/60.png\n",
            "/content/drive/MyDrive/training/6/66.png\n",
            "/content/drive/MyDrive/training/6/63.png\n",
            "/content/drive/MyDrive/training/6/92.png\n",
            "/content/drive/MyDrive/training/6/86.png\n",
            "/content/drive/MyDrive/training/6/98.png\n",
            "/content/drive/MyDrive/training/6/83.png\n",
            "/content/drive/MyDrive/training/6/89.png\n",
            "/content/drive/MyDrive/training/6/94.png\n",
            "/content/drive/MyDrive/training/6/85.png\n",
            "/content/drive/MyDrive/training/6/99.png\n",
            "/content/drive/MyDrive/training/6/9.png\n",
            "/content/drive/MyDrive/training/6/91.png\n",
            "/content/drive/MyDrive/training/6/82.png\n",
            "/content/drive/MyDrive/training/6/87.png\n",
            "/content/drive/MyDrive/training/6/81.png\n",
            "/content/drive/MyDrive/training/6/88.png\n",
            "/content/drive/MyDrive/training/6/90.png\n"
          ]
        }
      ]
    },
    {
      "cell_type": "code",
      "metadata": {
        "colab": {
          "base_uri": "https://localhost:8080/"
        },
        "id": "fd9610d6",
        "scrolled": true,
        "outputId": "f08f18b4-a031-4c0a-ad06-b983ef149626"
      },
      "source": [
        "#certain 4 folders\n",
        "folder_names = [\"1\", \"2\", \"3\", \"4\",\"6\"]\n",
        "listOfFiles = [f for f in listOfFiles if any([n in f for n in folder_names])]\n",
        "print(listOfFiles)"
      ],
      "id": "fd9610d6",
      "execution_count": null,
      "outputs": [
        {
          "output_type": "stream",
          "name": "stdout",
          "text": [
            "['/content/drive/MyDrive/training/3/103.png', '/content/drive/MyDrive/training/3/104.png', '/content/drive/MyDrive/training/3/127.png', '/content/drive/MyDrive/training/3/116.png', '/content/drive/MyDrive/training/3/109.png', '/content/drive/MyDrive/training/3/105.png', '/content/drive/MyDrive/training/3/130.png', '/content/drive/MyDrive/training/3/1.png', '/content/drive/MyDrive/training/3/101.png', '/content/drive/MyDrive/training/3/119.png', '/content/drive/MyDrive/training/3/117.png', '/content/drive/MyDrive/training/3/107.png', '/content/drive/MyDrive/training/3/125.png', '/content/drive/MyDrive/training/3/124.png', '/content/drive/MyDrive/training/3/13.png', '/content/drive/MyDrive/training/3/126.png', '/content/drive/MyDrive/training/3/10.png', '/content/drive/MyDrive/training/3/108.png', '/content/drive/MyDrive/training/3/177.png', '/content/drive/MyDrive/training/3/168.png', '/content/drive/MyDrive/training/3/178.png', '/content/drive/MyDrive/training/3/175.png', '/content/drive/MyDrive/training/3/174.png', '/content/drive/MyDrive/training/3/131.png', '/content/drive/MyDrive/training/3/143.png', '/content/drive/MyDrive/training/3/161.png', '/content/drive/MyDrive/training/3/140.png', '/content/drive/MyDrive/training/3/14.png', '/content/drive/MyDrive/training/3/163.png', '/content/drive/MyDrive/training/3/159.png', '/content/drive/MyDrive/training/3/173.png', '/content/drive/MyDrive/training/3/169.png', '/content/drive/MyDrive/training/3/17.png', '/content/drive/MyDrive/training/3/138.png', '/content/drive/MyDrive/training/3/162.png', '/content/drive/MyDrive/training/3/170.png', '/content/drive/MyDrive/training/3/132.png', '/content/drive/MyDrive/training/3/165.png', '/content/drive/MyDrive/training/3/160.png', '/content/drive/MyDrive/training/3/230.png', '/content/drive/MyDrive/training/3/197.png', '/content/drive/MyDrive/training/3/216.png', '/content/drive/MyDrive/training/3/235.png', '/content/drive/MyDrive/training/3/234.png', '/content/drive/MyDrive/training/3/209.png', '/content/drive/MyDrive/training/3/201.png', '/content/drive/MyDrive/training/3/219.png', '/content/drive/MyDrive/training/3/198.png', '/content/drive/MyDrive/training/3/227.png', '/content/drive/MyDrive/training/3/188.png', '/content/drive/MyDrive/training/3/214.png', '/content/drive/MyDrive/training/3/233.png', '/content/drive/MyDrive/training/3/186.png', '/content/drive/MyDrive/training/3/221.png', '/content/drive/MyDrive/training/3/21.png', '/content/drive/MyDrive/training/3/225.png', '/content/drive/MyDrive/training/3/189.png', '/content/drive/MyDrive/training/3/218.png', '/content/drive/MyDrive/training/3/237.png', '/content/drive/MyDrive/training/3/217.png', '/content/drive/MyDrive/training/3/20.png', '/content/drive/MyDrive/training/3/27.png', '/content/drive/MyDrive/training/3/24.png', '/content/drive/MyDrive/training/3/271.png', '/content/drive/MyDrive/training/3/252.png', '/content/drive/MyDrive/training/3/249.png', '/content/drive/MyDrive/training/3/266.png', '/content/drive/MyDrive/training/3/243.png', '/content/drive/MyDrive/training/3/256.png', '/content/drive/MyDrive/training/3/274.png', '/content/drive/MyDrive/training/3/254.png', '/content/drive/MyDrive/training/3/258.png', '/content/drive/MyDrive/training/3/272.png', '/content/drive/MyDrive/training/3/244.png', '/content/drive/MyDrive/training/3/270.png', '/content/drive/MyDrive/training/3/317.png', '/content/drive/MyDrive/training/3/275.png', '/content/drive/MyDrive/training/3/310.png', '/content/drive/MyDrive/training/3/307.png', '/content/drive/MyDrive/training/3/293.png', '/content/drive/MyDrive/training/3/30.png', '/content/drive/MyDrive/training/3/322.png', '/content/drive/MyDrive/training/3/315.png', '/content/drive/MyDrive/training/3/290.png', '/content/drive/MyDrive/training/3/309.png', '/content/drive/MyDrive/training/3/318.png', '/content/drive/MyDrive/training/3/302.png', '/content/drive/MyDrive/training/3/306.png', '/content/drive/MyDrive/training/3/295.png', '/content/drive/MyDrive/training/3/314.png', '/content/drive/MyDrive/training/3/292.png', '/content/drive/MyDrive/training/3/325.png', '/content/drive/MyDrive/training/3/308.png', '/content/drive/MyDrive/training/3/313.png', '/content/drive/MyDrive/training/3/321.png', '/content/drive/MyDrive/training/3/31.png', '/content/drive/MyDrive/training/3/356.png', '/content/drive/MyDrive/training/3/34.png', '/content/drive/MyDrive/training/3/342.png', '/content/drive/MyDrive/training/3/326.png', '/content/drive/MyDrive/training/3/357.png', '/content/drive/MyDrive/training/3/364.png', '/content/drive/MyDrive/training/3/329.png', '/content/drive/MyDrive/training/3/361.png', '/content/drive/MyDrive/training/3/355.png', '/content/drive/MyDrive/training/3/344.png', '/content/drive/MyDrive/training/3/343.png', '/content/drive/MyDrive/training/3/330.png', '/content/drive/MyDrive/training/3/332.png', '/content/drive/MyDrive/training/3/365.png', '/content/drive/MyDrive/training/3/359.png', '/content/drive/MyDrive/training/3/347.png', '/content/drive/MyDrive/training/3/336.png', '/content/drive/MyDrive/training/3/360.png', '/content/drive/MyDrive/training/3/377.png', '/content/drive/MyDrive/training/3/411.png', '/content/drive/MyDrive/training/3/376.png', '/content/drive/MyDrive/training/3/420.png', '/content/drive/MyDrive/training/3/372.png', '/content/drive/MyDrive/training/3/415.png', '/content/drive/MyDrive/training/3/398.png', '/content/drive/MyDrive/training/3/367.png', '/content/drive/MyDrive/training/3/389.png', '/content/drive/MyDrive/training/3/412.png', '/content/drive/MyDrive/training/3/401.png', '/content/drive/MyDrive/training/3/366.png', '/content/drive/MyDrive/training/3/374.png', '/content/drive/MyDrive/training/3/378.png', '/content/drive/MyDrive/training/3/375.png', '/content/drive/MyDrive/training/3/37.png', '/content/drive/MyDrive/training/3/394.png', '/content/drive/MyDrive/training/3/369.png', '/content/drive/MyDrive/training/3/408.png', '/content/drive/MyDrive/training/3/413.png', '/content/drive/MyDrive/training/3/423.png', '/content/drive/MyDrive/training/3/417.png', '/content/drive/MyDrive/training/3/395.png', '/content/drive/MyDrive/training/3/386.png', '/content/drive/MyDrive/training/3/4.png', '/content/drive/MyDrive/training/3/385.png', '/content/drive/MyDrive/training/3/443.png', '/content/drive/MyDrive/training/3/440.png', '/content/drive/MyDrive/training/3/432.png', '/content/drive/MyDrive/training/3/46.png', '/content/drive/MyDrive/training/3/463.png', '/content/drive/MyDrive/training/3/44.png', '/content/drive/MyDrive/training/3/455.png', '/content/drive/MyDrive/training/3/437.png', '/content/drive/MyDrive/training/3/43.png', '/content/drive/MyDrive/training/3/458.png', '/content/drive/MyDrive/training/3/434.png', '/content/drive/MyDrive/training/3/464.png', '/content/drive/MyDrive/training/3/425.png', '/content/drive/MyDrive/training/3/433.png', '/content/drive/MyDrive/training/3/435.png', '/content/drive/MyDrive/training/3/436.png', '/content/drive/MyDrive/training/3/53.png', '/content/drive/MyDrive/training/3/49.png', '/content/drive/MyDrive/training/3/47.png', '/content/drive/MyDrive/training/3/81.png', '/content/drive/MyDrive/training/3/83.png', '/content/drive/MyDrive/training/3/78.png', '/content/drive/MyDrive/training/3/61.png', '/content/drive/MyDrive/training/3/469.png', '/content/drive/MyDrive/training/3/79.png', '/content/drive/MyDrive/training/3/72.png', '/content/drive/MyDrive/training/3/92.png', '/content/drive/MyDrive/training/3/88.png', '/content/drive/MyDrive/training/3/9.png', '/content/drive/MyDrive/training/3/8.png', '/content/drive/MyDrive/training/3/63.png', '/content/drive/MyDrive/training/3/70.png', '/content/drive/MyDrive/training/3/85.png', '/content/drive/MyDrive/training/3/77.png', '/content/drive/MyDrive/training/3/465.png', '/content/drive/MyDrive/training/3/71.png', '/content/drive/MyDrive/training/3/75.png', '/content/drive/MyDrive/training/3/97.png', '/content/drive/MyDrive/training/3/96.png', '/content/drive/MyDrive/training/3/99.png', '/content/drive/MyDrive/training/2/146.png', '/content/drive/MyDrive/training/2/14.png', '/content/drive/MyDrive/training/2/10.png', '/content/drive/MyDrive/training/2/101.png', '/content/drive/MyDrive/training/2/11.png', '/content/drive/MyDrive/training/2/123.png', '/content/drive/MyDrive/training/2/1495.png', '/content/drive/MyDrive/training/2/0.png', '/content/drive/MyDrive/training/2/1492.png', '/content/drive/MyDrive/training/2/13.png', '/content/drive/MyDrive/training/2/1485.png', '/content/drive/MyDrive/training/2/139.png', '/content/drive/MyDrive/training/2/1494.png', '/content/drive/MyDrive/training/2/102.png', '/content/drive/MyDrive/training/2/1489.png', '/content/drive/MyDrive/training/2/134.png', '/content/drive/MyDrive/training/2/100.png', '/content/drive/MyDrive/training/2/140.png', '/content/drive/MyDrive/training/2/1499.png', '/content/drive/MyDrive/training/2/1484.png', '/content/drive/MyDrive/training/2/141.png', '/content/drive/MyDrive/training/2/128.png', '/content/drive/MyDrive/training/2/135.png', '/content/drive/MyDrive/training/2/136.png', '/content/drive/MyDrive/training/2/113.png', '/content/drive/MyDrive/training/2/1482.png', '/content/drive/MyDrive/training/2/143.png', '/content/drive/MyDrive/training/2/145.png', '/content/drive/MyDrive/training/2/142.png', '/content/drive/MyDrive/training/2/132.png', '/content/drive/MyDrive/training/2/1487.png', '/content/drive/MyDrive/training/2/112.png', '/content/drive/MyDrive/training/2/15.png', '/content/drive/MyDrive/training/2/108.png', '/content/drive/MyDrive/training/2/1491.png', '/content/drive/MyDrive/training/2/103.png', '/content/drive/MyDrive/training/2/1490.png', '/content/drive/MyDrive/training/2/137.png', '/content/drive/MyDrive/training/2/154.png', '/content/drive/MyDrive/training/2/208.png', '/content/drive/MyDrive/training/2/161.png', '/content/drive/MyDrive/training/2/1505.png', '/content/drive/MyDrive/training/2/1506.png', '/content/drive/MyDrive/training/2/1513.png', '/content/drive/MyDrive/training/2/209.png', '/content/drive/MyDrive/training/2/188.png', '/content/drive/MyDrive/training/2/176.png', '/content/drive/MyDrive/training/2/167.png', '/content/drive/MyDrive/training/2/17.png', '/content/drive/MyDrive/training/2/155.png', '/content/drive/MyDrive/training/2/206.png', '/content/drive/MyDrive/training/2/157.png', '/content/drive/MyDrive/training/2/205.png', '/content/drive/MyDrive/training/2/159.png', '/content/drive/MyDrive/training/2/197.png', '/content/drive/MyDrive/training/2/198.png', '/content/drive/MyDrive/training/2/171.png', '/content/drive/MyDrive/training/2/1515.png', '/content/drive/MyDrive/training/2/164.png', '/content/drive/MyDrive/training/2/175.png', '/content/drive/MyDrive/training/2/181.png', '/content/drive/MyDrive/training/2/210.png', '/content/drive/MyDrive/training/2/203.png', '/content/drive/MyDrive/training/2/153.png', '/content/drive/MyDrive/training/2/207.png', '/content/drive/MyDrive/training/2/21.png', '/content/drive/MyDrive/training/2/190.png', '/content/drive/MyDrive/training/2/152.png', '/content/drive/MyDrive/training/2/187.png', '/content/drive/MyDrive/training/2/204.png', '/content/drive/MyDrive/training/2/1508.png', '/content/drive/MyDrive/training/2/1510.png', '/content/drive/MyDrive/training/2/1507.png', '/content/drive/MyDrive/training/2/196.png', '/content/drive/MyDrive/training/2/1501.png', '/content/drive/MyDrive/training/2/211.png', '/content/drive/MyDrive/training/2/195.png', '/content/drive/MyDrive/training/2/225.png', '/content/drive/MyDrive/training/2/28.png', '/content/drive/MyDrive/training/2/275.png', '/content/drive/MyDrive/training/2/268.png', '/content/drive/MyDrive/training/2/266.png', '/content/drive/MyDrive/training/2/239.png', '/content/drive/MyDrive/training/2/231.png', '/content/drive/MyDrive/training/2/253.png', '/content/drive/MyDrive/training/2/269.png', '/content/drive/MyDrive/training/2/276.png', '/content/drive/MyDrive/training/2/240.png', '/content/drive/MyDrive/training/2/223.png', '/content/drive/MyDrive/training/2/281.png', '/content/drive/MyDrive/training/2/265.png', '/content/drive/MyDrive/training/2/256.png', '/content/drive/MyDrive/training/2/261.png', '/content/drive/MyDrive/training/2/27.png', '/content/drive/MyDrive/training/2/254.png', '/content/drive/MyDrive/training/2/280.png', '/content/drive/MyDrive/training/2/24.png', '/content/drive/MyDrive/training/2/221.png', '/content/drive/MyDrive/training/2/270.png', '/content/drive/MyDrive/training/2/230.png', '/content/drive/MyDrive/training/2/285.png', '/content/drive/MyDrive/training/2/220.png', '/content/drive/MyDrive/training/2/26.png', '/content/drive/MyDrive/training/2/243.png', '/content/drive/MyDrive/training/2/216.png', '/content/drive/MyDrive/training/2/273.png', '/content/drive/MyDrive/training/2/23.png', '/content/drive/MyDrive/training/2/22.png', '/content/drive/MyDrive/training/2/264.png', '/content/drive/MyDrive/training/2/242.png', '/content/drive/MyDrive/training/2/255.png', '/content/drive/MyDrive/training/2/236.png', '/content/drive/MyDrive/training/2/252.png', '/content/drive/MyDrive/training/2/288.png', '/content/drive/MyDrive/training/2/250.png', '/content/drive/MyDrive/training/2/354.png', '/content/drive/MyDrive/training/2/326.png', '/content/drive/MyDrive/training/2/307.png', '/content/drive/MyDrive/training/2/301.png', '/content/drive/MyDrive/training/2/344.png', '/content/drive/MyDrive/training/2/333.png', '/content/drive/MyDrive/training/2/314.png', '/content/drive/MyDrive/training/2/35.png', '/content/drive/MyDrive/training/2/33.png', '/content/drive/MyDrive/training/2/31.png', '/content/drive/MyDrive/training/2/318.png', '/content/drive/MyDrive/training/2/305.png', '/content/drive/MyDrive/training/2/327.png', '/content/drive/MyDrive/training/2/294.png', '/content/drive/MyDrive/training/2/319.png', '/content/drive/MyDrive/training/2/317.png', '/content/drive/MyDrive/training/2/310.png', '/content/drive/MyDrive/training/2/350.png', '/content/drive/MyDrive/training/2/328.png', '/content/drive/MyDrive/training/2/361.png', '/content/drive/MyDrive/training/2/290.png', '/content/drive/MyDrive/training/2/32.png', '/content/drive/MyDrive/training/2/322.png', '/content/drive/MyDrive/training/2/358.png', '/content/drive/MyDrive/training/2/345.png', '/content/drive/MyDrive/training/2/300.png', '/content/drive/MyDrive/training/2/308.png', '/content/drive/MyDrive/training/2/335.png', '/content/drive/MyDrive/training/2/356.png', '/content/drive/MyDrive/training/2/316.png', '/content/drive/MyDrive/training/2/360.png', '/content/drive/MyDrive/training/2/295.png', '/content/drive/MyDrive/training/2/357.png', '/content/drive/MyDrive/training/2/359.png', '/content/drive/MyDrive/training/2/296.png', '/content/drive/MyDrive/training/2/30.png', '/content/drive/MyDrive/training/2/68.png', '/content/drive/MyDrive/training/2/38.png', '/content/drive/MyDrive/training/2/76.png', '/content/drive/MyDrive/training/2/80.png', '/content/drive/MyDrive/training/2/74.png', '/content/drive/MyDrive/training/2/73.png', '/content/drive/MyDrive/training/2/47.png', '/content/drive/MyDrive/training/2/39.png', '/content/drive/MyDrive/training/2/79.png', '/content/drive/MyDrive/training/2/58.png', '/content/drive/MyDrive/training/2/37.png', '/content/drive/MyDrive/training/2/45.png', '/content/drive/MyDrive/training/2/82.png', '/content/drive/MyDrive/training/2/56.png', '/content/drive/MyDrive/training/2/42.png', '/content/drive/MyDrive/training/2/88.png', '/content/drive/MyDrive/training/2/44.png', '/content/drive/MyDrive/training/2/85.png', '/content/drive/MyDrive/training/2/61.png', '/content/drive/MyDrive/training/2/62.png', '/content/drive/MyDrive/training/2/86.png', '/content/drive/MyDrive/training/2/55.png', '/content/drive/MyDrive/training/2/72.png', '/content/drive/MyDrive/training/2/67.png', '/content/drive/MyDrive/training/2/75.png', '/content/drive/MyDrive/training/2/96.png', '/content/drive/MyDrive/training/2/66.png', '/content/drive/MyDrive/training/2/99.png', '/content/drive/MyDrive/training/2/98.png', '/content/drive/MyDrive/training/4/110.png', '/content/drive/MyDrive/training/4/104.png', '/content/drive/MyDrive/training/4/109.png', '/content/drive/MyDrive/training/4/1.png', '/content/drive/MyDrive/training/4/112.png', '/content/drive/MyDrive/training/4/111.png', '/content/drive/MyDrive/training/4/10.png', '/content/drive/MyDrive/training/4/107.png', '/content/drive/MyDrive/training/4/106.png', '/content/drive/MyDrive/training/4/102.png', '/content/drive/MyDrive/training/4/118.png', '/content/drive/MyDrive/training/4/120.png', '/content/drive/MyDrive/training/4/138.png', '/content/drive/MyDrive/training/4/133.png', '/content/drive/MyDrive/training/4/117.png', '/content/drive/MyDrive/training/4/142.png', '/content/drive/MyDrive/training/4/140.png', '/content/drive/MyDrive/training/4/115.png', '/content/drive/MyDrive/training/4/12.png', '/content/drive/MyDrive/training/4/114.png', '/content/drive/MyDrive/training/4/183.png', '/content/drive/MyDrive/training/4/171.png', '/content/drive/MyDrive/training/4/153.png', '/content/drive/MyDrive/training/4/149.png', '/content/drive/MyDrive/training/4/15.png', '/content/drive/MyDrive/training/4/195.png', '/content/drive/MyDrive/training/4/174.png', '/content/drive/MyDrive/training/4/192.png', '/content/drive/MyDrive/training/4/17.png', '/content/drive/MyDrive/training/4/165.png', '/content/drive/MyDrive/training/4/160.png', '/content/drive/MyDrive/training/4/173.png', '/content/drive/MyDrive/training/4/167.png', '/content/drive/MyDrive/training/4/170.png', '/content/drive/MyDrive/training/4/189.png', '/content/drive/MyDrive/training/4/158.png', '/content/drive/MyDrive/training/4/146.png', '/content/drive/MyDrive/training/4/16.png', '/content/drive/MyDrive/training/4/147.png', '/content/drive/MyDrive/training/4/186.png', '/content/drive/MyDrive/training/4/156.png', '/content/drive/MyDrive/training/4/190.png', '/content/drive/MyDrive/training/4/178.png', '/content/drive/MyDrive/training/4/176.png', '/content/drive/MyDrive/training/4/182.png', '/content/drive/MyDrive/training/4/148.png', '/content/drive/MyDrive/training/4/152.png', '/content/drive/MyDrive/training/4/235.png', '/content/drive/MyDrive/training/4/229.png', '/content/drive/MyDrive/training/4/20.png', '/content/drive/MyDrive/training/4/210.png', '/content/drive/MyDrive/training/4/234.png', '/content/drive/MyDrive/training/4/207.png', '/content/drive/MyDrive/training/4/226.png', '/content/drive/MyDrive/training/4/22.png', '/content/drive/MyDrive/training/4/198.png', '/content/drive/MyDrive/training/4/231.png', '/content/drive/MyDrive/training/4/203.png', '/content/drive/MyDrive/training/4/208.png', '/content/drive/MyDrive/training/4/214.png', '/content/drive/MyDrive/training/4/220.png', '/content/drive/MyDrive/training/4/222.png', '/content/drive/MyDrive/training/4/215.png', '/content/drive/MyDrive/training/4/213.png', '/content/drive/MyDrive/training/4/230.png', '/content/drive/MyDrive/training/4/224.png', '/content/drive/MyDrive/training/4/239.png', '/content/drive/MyDrive/training/4/25.png', '/content/drive/MyDrive/training/4/24.png', '/content/drive/MyDrive/training/4/274.png', '/content/drive/MyDrive/training/4/250.png', '/content/drive/MyDrive/training/4/272.png', '/content/drive/MyDrive/training/4/27.png', '/content/drive/MyDrive/training/4/266.png', '/content/drive/MyDrive/training/4/269.png', '/content/drive/MyDrive/training/4/256.png', '/content/drive/MyDrive/training/4/261.png', '/content/drive/MyDrive/training/4/246.png', '/content/drive/MyDrive/training/4/268.png', '/content/drive/MyDrive/training/4/260.png', '/content/drive/MyDrive/training/4/253.png', '/content/drive/MyDrive/training/4/247.png', '/content/drive/MyDrive/training/4/249.png', '/content/drive/MyDrive/training/4/252.png', '/content/drive/MyDrive/training/4/275.png', '/content/drive/MyDrive/training/4/284.png', '/content/drive/MyDrive/training/4/291.png', '/content/drive/MyDrive/training/4/286.png', '/content/drive/MyDrive/training/4/287.png', '/content/drive/MyDrive/training/4/279.png', '/content/drive/MyDrive/training/4/294.png', '/content/drive/MyDrive/training/4/281.png', '/content/drive/MyDrive/training/4/3.png', '/content/drive/MyDrive/training/4/295.png', '/content/drive/MyDrive/training/4/31.png', '/content/drive/MyDrive/training/4/322.png', '/content/drive/MyDrive/training/4/304.png', '/content/drive/MyDrive/training/4/313.png', '/content/drive/MyDrive/training/4/318.png', '/content/drive/MyDrive/training/4/311.png', '/content/drive/MyDrive/training/4/314.png', '/content/drive/MyDrive/training/4/309.png', '/content/drive/MyDrive/training/4/320.png', '/content/drive/MyDrive/training/4/305.png', '/content/drive/MyDrive/training/4/303.png', '/content/drive/MyDrive/training/4/319.png', '/content/drive/MyDrive/training/4/312.png', '/content/drive/MyDrive/training/4/339.png', '/content/drive/MyDrive/training/4/346.png', '/content/drive/MyDrive/training/4/336.png', '/content/drive/MyDrive/training/4/335.png', '/content/drive/MyDrive/training/4/337.png', '/content/drive/MyDrive/training/4/324.png', '/content/drive/MyDrive/training/4/329.png', '/content/drive/MyDrive/training/4/341.png', '/content/drive/MyDrive/training/4/330.png', '/content/drive/MyDrive/training/4/345.png', '/content/drive/MyDrive/training/4/340.png', '/content/drive/MyDrive/training/4/342.png', '/content/drive/MyDrive/training/4/350.png', '/content/drive/MyDrive/training/4/333.png', '/content/drive/MyDrive/training/4/323.png', '/content/drive/MyDrive/training/4/343.png', '/content/drive/MyDrive/training/4/349.png', '/content/drive/MyDrive/training/4/331.png', '/content/drive/MyDrive/training/4/370.png', '/content/drive/MyDrive/training/4/352.png', '/content/drive/MyDrive/training/4/356.png', '/content/drive/MyDrive/training/4/362.png', '/content/drive/MyDrive/training/4/378.png', '/content/drive/MyDrive/training/4/371.png', '/content/drive/MyDrive/training/4/363.png', '/content/drive/MyDrive/training/4/366.png', '/content/drive/MyDrive/training/4/375.png', '/content/drive/MyDrive/training/4/372.png', '/content/drive/MyDrive/training/4/355.png', '/content/drive/MyDrive/training/4/359.png', '/content/drive/MyDrive/training/4/358.png', '/content/drive/MyDrive/training/4/37.png', '/content/drive/MyDrive/training/4/364.png', '/content/drive/MyDrive/training/4/365.png', '/content/drive/MyDrive/training/4/367.png', '/content/drive/MyDrive/training/4/380.png', '/content/drive/MyDrive/training/4/54.png', '/content/drive/MyDrive/training/4/39.png', '/content/drive/MyDrive/training/4/55.png', '/content/drive/MyDrive/training/4/4.png', '/content/drive/MyDrive/training/4/51.png', '/content/drive/MyDrive/training/4/381.png', '/content/drive/MyDrive/training/4/53.png', '/content/drive/MyDrive/training/4/43.png', '/content/drive/MyDrive/training/4/45.png', '/content/drive/MyDrive/training/4/40.png', '/content/drive/MyDrive/training/4/48.png', '/content/drive/MyDrive/training/4/56.png', '/content/drive/MyDrive/training/4/41.png', '/content/drive/MyDrive/training/4/47.png', '/content/drive/MyDrive/training/4/68.png', '/content/drive/MyDrive/training/4/6.png', '/content/drive/MyDrive/training/4/75.png', '/content/drive/MyDrive/training/4/79.png', '/content/drive/MyDrive/training/4/7.png', '/content/drive/MyDrive/training/4/82.png', '/content/drive/MyDrive/training/4/80.png', '/content/drive/MyDrive/training/4/78.png', '/content/drive/MyDrive/training/4/76.png', '/content/drive/MyDrive/training/4/64.png', '/content/drive/MyDrive/training/4/65.png', '/content/drive/MyDrive/training/4/77.png', '/content/drive/MyDrive/training/4/8.png', '/content/drive/MyDrive/training/4/87.png', '/content/drive/MyDrive/training/4/83.png', '/content/drive/MyDrive/training/4/91.png', '/content/drive/MyDrive/training/4/93.png', '/content/drive/MyDrive/training/4/88.png', '/content/drive/MyDrive/training/4/84.png', '/content/drive/MyDrive/training/4/86.png', '/content/drive/MyDrive/training/4/95.png', '/content/drive/MyDrive/training/4/98.png', '/content/drive/MyDrive/training/4/94.png', '/content/drive/MyDrive/training/1/0.png', '/content/drive/MyDrive/training/1/104.png', '/content/drive/MyDrive/training/1/106.png', '/content/drive/MyDrive/training/1/116.png', '/content/drive/MyDrive/training/1/113.png', '/content/drive/MyDrive/training/1/124.png', '/content/drive/MyDrive/training/1/122.png', '/content/drive/MyDrive/training/1/10.png', '/content/drive/MyDrive/training/1/11.png', '/content/drive/MyDrive/training/1/133.png', '/content/drive/MyDrive/training/1/119.png', '/content/drive/MyDrive/training/1/12.png', '/content/drive/MyDrive/training/1/102.png', '/content/drive/MyDrive/training/1/107.png', '/content/drive/MyDrive/training/1/135.png', '/content/drive/MyDrive/training/1/111.png', '/content/drive/MyDrive/training/1/117.png', '/content/drive/MyDrive/training/1/134.png', '/content/drive/MyDrive/training/1/1.png', '/content/drive/MyDrive/training/1/129.png', '/content/drive/MyDrive/training/1/112.png', '/content/drive/MyDrive/training/1/100.png', '/content/drive/MyDrive/training/1/136.png', '/content/drive/MyDrive/training/1/137.png', '/content/drive/MyDrive/training/1/110.png', '/content/drive/MyDrive/training/1/105.png', '/content/drive/MyDrive/training/1/131.png', '/content/drive/MyDrive/training/1/130.png', '/content/drive/MyDrive/training/1/128.png', '/content/drive/MyDrive/training/1/142.png', '/content/drive/MyDrive/training/1/175.png', '/content/drive/MyDrive/training/1/180.png', '/content/drive/MyDrive/training/1/161.png', '/content/drive/MyDrive/training/1/178.png', '/content/drive/MyDrive/training/1/160.png', '/content/drive/MyDrive/training/1/16.png', '/content/drive/MyDrive/training/1/14.png', '/content/drive/MyDrive/training/1/176.png', '/content/drive/MyDrive/training/1/153.png', '/content/drive/MyDrive/training/1/147.png', '/content/drive/MyDrive/training/1/152.png', '/content/drive/MyDrive/training/1/172.png', '/content/drive/MyDrive/training/1/139.png', '/content/drive/MyDrive/training/1/163.png', '/content/drive/MyDrive/training/1/144.png', '/content/drive/MyDrive/training/1/170.png', '/content/drive/MyDrive/training/1/157.png', '/content/drive/MyDrive/training/1/143.png', '/content/drive/MyDrive/training/1/138.png', '/content/drive/MyDrive/training/1/165.png', '/content/drive/MyDrive/training/1/168.png', '/content/drive/MyDrive/training/1/164.png', '/content/drive/MyDrive/training/1/156.png', '/content/drive/MyDrive/training/1/174.png', '/content/drive/MyDrive/training/1/145.png', '/content/drive/MyDrive/training/1/171.png', '/content/drive/MyDrive/training/1/159.png', '/content/drive/MyDrive/training/1/149.png', '/content/drive/MyDrive/training/1/141.png', '/content/drive/MyDrive/training/1/154.png', '/content/drive/MyDrive/training/1/155.png', '/content/drive/MyDrive/training/1/158.png', '/content/drive/MyDrive/training/1/179.png', '/content/drive/MyDrive/training/1/150.png', '/content/drive/MyDrive/training/1/173.png', '/content/drive/MyDrive/training/1/226.png', '/content/drive/MyDrive/training/1/222.png', '/content/drive/MyDrive/training/1/184.png', '/content/drive/MyDrive/training/1/195.png', '/content/drive/MyDrive/training/1/187.png', '/content/drive/MyDrive/training/1/188.png', '/content/drive/MyDrive/training/1/229.png', '/content/drive/MyDrive/training/1/217.png', '/content/drive/MyDrive/training/1/186.png', '/content/drive/MyDrive/training/1/190.png', '/content/drive/MyDrive/training/1/221.png', '/content/drive/MyDrive/training/1/230.png', '/content/drive/MyDrive/training/1/219.png', '/content/drive/MyDrive/training/1/185.png', '/content/drive/MyDrive/training/1/183.png', '/content/drive/MyDrive/training/1/228.png', '/content/drive/MyDrive/training/1/215.png', '/content/drive/MyDrive/training/1/204.png', '/content/drive/MyDrive/training/1/182.png', '/content/drive/MyDrive/training/1/193.png', '/content/drive/MyDrive/training/1/23.png', '/content/drive/MyDrive/training/1/200.png', '/content/drive/MyDrive/training/1/189.png', '/content/drive/MyDrive/training/1/227.png', '/content/drive/MyDrive/training/1/201.png', '/content/drive/MyDrive/training/1/211.png', '/content/drive/MyDrive/training/1/199.png', '/content/drive/MyDrive/training/1/202.png', '/content/drive/MyDrive/training/1/181.png', '/content/drive/MyDrive/training/1/194.png', '/content/drive/MyDrive/training/1/198.png', '/content/drive/MyDrive/training/1/225.png', '/content/drive/MyDrive/training/1/205.png', '/content/drive/MyDrive/training/1/197.png', '/content/drive/MyDrive/training/1/203.png', '/content/drive/MyDrive/training/1/216.png', '/content/drive/MyDrive/training/1/218.png', '/content/drive/MyDrive/training/1/235.png', '/content/drive/MyDrive/training/1/257.png', '/content/drive/MyDrive/training/1/248.png', '/content/drive/MyDrive/training/1/264.png', '/content/drive/MyDrive/training/1/262.png', '/content/drive/MyDrive/training/1/247.png', '/content/drive/MyDrive/training/1/271.png', '/content/drive/MyDrive/training/1/34.png', '/content/drive/MyDrive/training/1/274.png', '/content/drive/MyDrive/training/1/239.png', '/content/drive/MyDrive/training/1/265.png', '/content/drive/MyDrive/training/1/275.png', '/content/drive/MyDrive/training/1/233.png', '/content/drive/MyDrive/training/1/243.png', '/content/drive/MyDrive/training/1/272.png', '/content/drive/MyDrive/training/1/29.png', '/content/drive/MyDrive/training/1/256.png', '/content/drive/MyDrive/training/1/249.png', '/content/drive/MyDrive/training/1/270.png', '/content/drive/MyDrive/training/1/30.png', '/content/drive/MyDrive/training/1/254.png', '/content/drive/MyDrive/training/1/261.png', '/content/drive/MyDrive/training/1/26.png', '/content/drive/MyDrive/training/1/273.png', '/content/drive/MyDrive/training/1/269.png', '/content/drive/MyDrive/training/1/234.png', '/content/drive/MyDrive/training/1/244.png', '/content/drive/MyDrive/training/1/250.png', '/content/drive/MyDrive/training/1/277.png', '/content/drive/MyDrive/training/1/35.png', '/content/drive/MyDrive/training/1/246.png', '/content/drive/MyDrive/training/1/33.png', '/content/drive/MyDrive/training/1/260.png', '/content/drive/MyDrive/training/1/258.png', '/content/drive/MyDrive/training/1/259.png', '/content/drive/MyDrive/training/1/278.png', '/content/drive/MyDrive/training/1/232.png', '/content/drive/MyDrive/training/1/267.png', '/content/drive/MyDrive/training/1/62.png', '/content/drive/MyDrive/training/1/90.png', '/content/drive/MyDrive/training/1/37.png', '/content/drive/MyDrive/training/1/58.png', '/content/drive/MyDrive/training/1/92.png', '/content/drive/MyDrive/training/1/69.png', '/content/drive/MyDrive/training/1/65.png', '/content/drive/MyDrive/training/1/70.png', '/content/drive/MyDrive/training/1/72.png', '/content/drive/MyDrive/training/1/52.png', '/content/drive/MyDrive/training/1/9.png', '/content/drive/MyDrive/training/1/89.png', '/content/drive/MyDrive/training/1/56.png', '/content/drive/MyDrive/training/1/39.png', '/content/drive/MyDrive/training/1/64.png', '/content/drive/MyDrive/training/1/44.png', '/content/drive/MyDrive/training/1/75.png', '/content/drive/MyDrive/training/1/38.png', '/content/drive/MyDrive/training/1/53.png', '/content/drive/MyDrive/training/1/76.png', '/content/drive/MyDrive/training/1/84.png', '/content/drive/MyDrive/training/1/60.png', '/content/drive/MyDrive/training/1/95.png', '/content/drive/MyDrive/training/1/49.png', '/content/drive/MyDrive/training/1/82.png', '/content/drive/MyDrive/training/1/40.png', '/content/drive/MyDrive/training/1/43.png', '/content/drive/MyDrive/training/1/61.png', '/content/drive/MyDrive/training/1/83.png', '/content/drive/MyDrive/training/1/48.png', '/content/drive/MyDrive/training/1/46.png', '/content/drive/MyDrive/training/1/81.png', '/content/drive/MyDrive/training/1/71.png', '/content/drive/MyDrive/training/1/7.png', '/content/drive/MyDrive/training/1/91.png', '/content/drive/MyDrive/training/1/59.png', '/content/drive/MyDrive/training/1/96.png', '/content/drive/MyDrive/training/1/47.png', '/content/drive/MyDrive/training/1/97.png', '/content/drive/MyDrive/training/1/98.png', '/content/drive/MyDrive/training/6/1.png', '/content/drive/MyDrive/training/6/110.png', '/content/drive/MyDrive/training/6/0.png', '/content/drive/MyDrive/training/6/102.png', '/content/drive/MyDrive/training/6/107.png', '/content/drive/MyDrive/training/6/111.png', '/content/drive/MyDrive/training/6/100.png', '/content/drive/MyDrive/training/6/117.png', '/content/drive/MyDrive/training/6/114.png', '/content/drive/MyDrive/training/6/105.png', '/content/drive/MyDrive/training/6/108.png', '/content/drive/MyDrive/training/6/115.png', '/content/drive/MyDrive/training/6/112.png', '/content/drive/MyDrive/training/6/126.png', '/content/drive/MyDrive/training/6/123.png', '/content/drive/MyDrive/training/6/122.png', '/content/drive/MyDrive/training/6/127.png', '/content/drive/MyDrive/training/6/118.png', '/content/drive/MyDrive/training/6/120.png', '/content/drive/MyDrive/training/6/119.png', '/content/drive/MyDrive/training/6/129.png', '/content/drive/MyDrive/training/6/128.png', '/content/drive/MyDrive/training/6/130.png', '/content/drive/MyDrive/training/6/13.png', '/content/drive/MyDrive/training/6/132.png', '/content/drive/MyDrive/training/6/151.png', '/content/drive/MyDrive/training/6/131.png', '/content/drive/MyDrive/training/6/137.png', '/content/drive/MyDrive/training/6/146.png', '/content/drive/MyDrive/training/6/152.png', '/content/drive/MyDrive/training/6/133.png', '/content/drive/MyDrive/training/6/154.png', '/content/drive/MyDrive/training/6/135.png', '/content/drive/MyDrive/training/6/145.png', '/content/drive/MyDrive/training/6/144.png', '/content/drive/MyDrive/training/6/150.png', '/content/drive/MyDrive/training/6/139.png', '/content/drive/MyDrive/training/6/148.png', '/content/drive/MyDrive/training/6/149.png', '/content/drive/MyDrive/training/6/134.png', '/content/drive/MyDrive/training/6/142.png', '/content/drive/MyDrive/training/6/138.png', '/content/drive/MyDrive/training/6/182.png', '/content/drive/MyDrive/training/6/164.png', '/content/drive/MyDrive/training/6/179.png', '/content/drive/MyDrive/training/6/161.png', '/content/drive/MyDrive/training/6/180.png', '/content/drive/MyDrive/training/6/17.png', '/content/drive/MyDrive/training/6/177.png', '/content/drive/MyDrive/training/6/183.png', '/content/drive/MyDrive/training/6/167.png', '/content/drive/MyDrive/training/6/170.png', '/content/drive/MyDrive/training/6/157.png', '/content/drive/MyDrive/training/6/155.png', '/content/drive/MyDrive/training/6/178.png', '/content/drive/MyDrive/training/6/156.png', '/content/drive/MyDrive/training/6/176.png', '/content/drive/MyDrive/training/6/160.png', '/content/drive/MyDrive/training/6/16.png', '/content/drive/MyDrive/training/6/172.png', '/content/drive/MyDrive/training/6/175.png', '/content/drive/MyDrive/training/6/191.png', '/content/drive/MyDrive/training/6/187.png', '/content/drive/MyDrive/training/6/206.png', '/content/drive/MyDrive/training/6/198.png', '/content/drive/MyDrive/training/6/193.png', '/content/drive/MyDrive/training/6/210.png', '/content/drive/MyDrive/training/6/201.png', '/content/drive/MyDrive/training/6/195.png', '/content/drive/MyDrive/training/6/200.png', '/content/drive/MyDrive/training/6/203.png', '/content/drive/MyDrive/training/6/205.png', '/content/drive/MyDrive/training/6/197.png', '/content/drive/MyDrive/training/6/189.png', '/content/drive/MyDrive/training/6/190.png', '/content/drive/MyDrive/training/6/188.png', '/content/drive/MyDrive/training/6/19.png', '/content/drive/MyDrive/training/6/185.png', '/content/drive/MyDrive/training/6/20.png', '/content/drive/MyDrive/training/6/211.png', '/content/drive/MyDrive/training/6/204.png', '/content/drive/MyDrive/training/6/212.png', '/content/drive/MyDrive/training/6/196.png', '/content/drive/MyDrive/training/6/208.png', '/content/drive/MyDrive/training/6/199.png', '/content/drive/MyDrive/training/6/186.png', '/content/drive/MyDrive/training/6/236.png', '/content/drive/MyDrive/training/6/223.png', '/content/drive/MyDrive/training/6/225.png', '/content/drive/MyDrive/training/6/229.png', '/content/drive/MyDrive/training/6/217.png', '/content/drive/MyDrive/training/6/219.png', '/content/drive/MyDrive/training/6/237.png', '/content/drive/MyDrive/training/6/214.png', '/content/drive/MyDrive/training/6/23.png', '/content/drive/MyDrive/training/6/228.png', '/content/drive/MyDrive/training/6/22.png', '/content/drive/MyDrive/training/6/231.png', '/content/drive/MyDrive/training/6/224.png', '/content/drive/MyDrive/training/6/227.png', '/content/drive/MyDrive/training/6/234.png', '/content/drive/MyDrive/training/6/230.png', '/content/drive/MyDrive/training/6/249.png', '/content/drive/MyDrive/training/6/252.png', '/content/drive/MyDrive/training/6/248.png', '/content/drive/MyDrive/training/6/250.png', '/content/drive/MyDrive/training/6/239.png', '/content/drive/MyDrive/training/6/247.png', '/content/drive/MyDrive/training/6/251.png', '/content/drive/MyDrive/training/6/244.png', '/content/drive/MyDrive/training/6/246.png', '/content/drive/MyDrive/training/6/24.png', '/content/drive/MyDrive/training/6/238.png', '/content/drive/MyDrive/training/6/241.png', '/content/drive/MyDrive/training/6/245.png', '/content/drive/MyDrive/training/6/25.png', '/content/drive/MyDrive/training/6/242.png', '/content/drive/MyDrive/training/6/243.png', '/content/drive/MyDrive/training/6/240.png', '/content/drive/MyDrive/training/6/256.png', '/content/drive/MyDrive/training/6/41.png', '/content/drive/MyDrive/training/6/261.png', '/content/drive/MyDrive/training/6/32.png', '/content/drive/MyDrive/training/6/51.png', '/content/drive/MyDrive/training/6/34.png', '/content/drive/MyDrive/training/6/258.png', '/content/drive/MyDrive/training/6/26.png', '/content/drive/MyDrive/training/6/33.png', '/content/drive/MyDrive/training/6/27.png', '/content/drive/MyDrive/training/6/40.png', '/content/drive/MyDrive/training/6/255.png', '/content/drive/MyDrive/training/6/42.png', '/content/drive/MyDrive/training/6/37.png', '/content/drive/MyDrive/training/6/28.png', '/content/drive/MyDrive/training/6/54.png', '/content/drive/MyDrive/training/6/257.png', '/content/drive/MyDrive/training/6/36.png', '/content/drive/MyDrive/training/6/45.png', '/content/drive/MyDrive/training/6/53.png', '/content/drive/MyDrive/training/6/50.png', '/content/drive/MyDrive/training/6/52.png', '/content/drive/MyDrive/training/6/29.png', '/content/drive/MyDrive/training/6/262.png', '/content/drive/MyDrive/training/6/46.png', '/content/drive/MyDrive/training/6/39.png', '/content/drive/MyDrive/training/6/55.png', '/content/drive/MyDrive/training/6/75.png', '/content/drive/MyDrive/training/6/57.png', '/content/drive/MyDrive/training/6/78.png', '/content/drive/MyDrive/training/6/80.png', '/content/drive/MyDrive/training/6/76.png', '/content/drive/MyDrive/training/6/58.png', '/content/drive/MyDrive/training/6/59.png', '/content/drive/MyDrive/training/6/56.png', '/content/drive/MyDrive/training/6/79.png', '/content/drive/MyDrive/training/6/8.png', '/content/drive/MyDrive/training/6/65.png', '/content/drive/MyDrive/training/6/68.png', '/content/drive/MyDrive/training/6/6.png', '/content/drive/MyDrive/training/6/67.png', '/content/drive/MyDrive/training/6/7.png', '/content/drive/MyDrive/training/6/73.png', '/content/drive/MyDrive/training/6/60.png', '/content/drive/MyDrive/training/6/66.png', '/content/drive/MyDrive/training/6/63.png', '/content/drive/MyDrive/training/6/92.png', '/content/drive/MyDrive/training/6/86.png', '/content/drive/MyDrive/training/6/98.png', '/content/drive/MyDrive/training/6/83.png', '/content/drive/MyDrive/training/6/89.png', '/content/drive/MyDrive/training/6/94.png', '/content/drive/MyDrive/training/6/85.png', '/content/drive/MyDrive/training/6/99.png', '/content/drive/MyDrive/training/6/9.png', '/content/drive/MyDrive/training/6/91.png', '/content/drive/MyDrive/training/6/82.png', '/content/drive/MyDrive/training/6/87.png', '/content/drive/MyDrive/training/6/81.png', '/content/drive/MyDrive/training/6/88.png', '/content/drive/MyDrive/training/6/90.png']\n"
          ]
        }
      ]
    },
    {
      "cell_type": "code",
      "metadata": {
        "id": "750f0320",
        "scrolled": true
      },
      "source": [
        "# Read the images \n",
        "img = [io.imread(file) for file in listOfFiles]"
      ],
      "id": "750f0320",
      "execution_count": null,
      "outputs": []
    },
    {
      "cell_type": "code",
      "metadata": {
        "colab": {
          "base_uri": "https://localhost:8080/"
        },
        "id": "3a54bb9d",
        "outputId": "c68110c2-247a-42a5-ae4e-5f83711ed4bf"
      },
      "source": [
        "io.imshow(img[0])\n",
        "img[0].shape"
      ],
      "id": "3a54bb9d",
      "execution_count": null,
      "outputs": [
        {
          "output_type": "execute_result",
          "data": {
            "text/plain": [
              "(93, 93, 3)"
            ]
          },
          "metadata": {},
          "execution_count": 156
        },
        {
          "output_type": "display_data",
          "data": {
            "image/png": "[encoded data removed]",
            "text/plain": [
              "<Figure size 432x288 with 1 Axes>"
            ]
          },
          "metadata": {
            "needs_background": "light"
          }
        }
      ]
    },
    {
      "cell_type": "markdown",
      "metadata": {
        "id": "9955935a"
      },
      "source": [
        "# change size \n"
      ],
      "id": "9955935a"
    },
    {
      "cell_type": "code",
      "metadata": {
        "colab": {
          "base_uri": "https://localhost:8080/"
        },
        "id": "q8lYY-v-9Hgz",
        "outputId": "8329cb03-2ab4-44ff-e5c4-97b031a25289"
      },
      "source": [
        "img=np.array(img)\n",
        "img.shape"
      ],
      "id": "q8lYY-v-9Hgz",
      "execution_count": null,
      "outputs": [
        {
          "output_type": "stream",
          "name": "stderr",
          "text": [
            "/usr/local/lib/python3.7/dist-packages/ipykernel_launcher.py:1: VisibleDeprecationWarning: Creating an ndarray from ragged nested sequences (which is a list-or-tuple of lists-or-tuples-or ndarrays with different lengths or shapes) is deprecated. If you meant to do this, you must specify 'dtype=object' when creating the ndarray\n",
            "  \"\"\"Entry point for launching an IPython kernel.\n"
          ]
        },
        {
          "output_type": "execute_result",
          "data": {
            "text/plain": [
              "(900,)"
            ]
          },
          "metadata": {},
          "execution_count": 157
        }
      ]
    },
    {
      "cell_type": "code",
      "metadata": {
        "id": "4e1baf52",
        "scrolled": false
      },
      "source": [
        "# Resize the images\n",
        "from skimage.transform import resize\n",
        "new_img=[]\n",
        "for i in img:\n",
        "    new_img.append(resize(i,(32,32)))"
      ],
      "id": "4e1baf52",
      "execution_count": null,
      "outputs": []
    },
    {
      "cell_type": "code",
      "metadata": {
        "colab": {
          "base_uri": "https://localhost:8080/"
        },
        "id": "ENR0Y5fAFlkw",
        "outputId": "e4f7004f-ef7a-4f1b-cd30-9bbe1fd286dc"
      },
      "source": [
        "new_img=np.array(new_img)\n",
        "new_img.shape"
      ],
      "id": "ENR0Y5fAFlkw",
      "execution_count": null,
      "outputs": [
        {
          "output_type": "execute_result",
          "data": {
            "text/plain": [
              "(900, 32, 32, 3)"
            ]
          },
          "metadata": {},
          "execution_count": 159
        }
      ]
    },
    {
      "cell_type": "code",
      "metadata": {
        "colab": {
          "base_uri": "https://localhost:8080/"
        },
        "id": "XnvKGE5JsuuK",
        "outputId": "63de65d6-2a2b-4074-c9b4-fade1901e5b3"
      },
      "source": [
        "np.shape(listOfFiles)"
      ],
      "id": "XnvKGE5JsuuK",
      "execution_count": null,
      "outputs": [
        {
          "output_type": "execute_result",
          "data": {
            "text/plain": [
              "(900,)"
            ]
          },
          "metadata": {},
          "execution_count": 160
        }
      ]
    },
    {
      "cell_type": "code",
      "metadata": {
        "id": "6RlAJB8YAwH_"
      },
      "source": [
        "#\"1\", \"2\", \"3\", \"4\",\"6\"\n",
        "#Preparing label for multiclass\n",
        "ymultclass = []\n",
        "for f in listOfFiles:\n",
        "    if '/1/' in f:\n",
        "        ymultclass.append('0')\n",
        "    if '/2/' in f:\n",
        "        ymultclass.append('1')\n",
        "    if '/3/' in f:\n",
        "        ymultclass.append('2')\n",
        "    if '/4/' in f:\n",
        "        ymultclass.append('3')\n",
        "    if '/6/' in f:\n",
        "        ymultclass.append('4')              "
      ],
      "id": "6RlAJB8YAwH_",
      "execution_count": null,
      "outputs": []
    },
    {
      "cell_type": "code",
      "metadata": {
        "colab": {
          "base_uri": "https://localhost:8080/"
        },
        "id": "OLIzhc132czd",
        "outputId": "071220b9-454e-4911-bbdb-6706c1ed9035"
      },
      "source": [
        "ymultclass=np.array(ymultclass)\n",
        "ymultclass.shape"
      ],
      "id": "OLIzhc132czd",
      "execution_count": null,
      "outputs": [
        {
          "output_type": "execute_result",
          "data": {
            "text/plain": [
              "(900,)"
            ]
          },
          "metadata": {},
          "execution_count": 162
        }
      ]
    },
    {
      "cell_type": "code",
      "metadata": {
        "colab": {
          "base_uri": "https://localhost:8080/"
        },
        "id": "1Ly97yz7Rum7",
        "outputId": "33c06e86-248e-4f3c-fb9f-72e94a499015"
      },
      "source": [
        "from tensorflow.keras.applications import VGG16\n",
        "vgg_model = VGG16(weights='imagenet',\n",
        "                  include_top=False,\n",
        "                  input_shape=(32, 32, 3))\n",
        "print(vgg_model.summary())"
      ],
      "id": "1Ly97yz7Rum7",
      "execution_count": null,
      "outputs": [
        {
          "output_type": "stream",
          "name": "stdout",
          "text": [
            "Model: \"vgg16\"\n",
            "_________________________________________________________________\n",
            "Layer (type)                 Output Shape              Param #   \n",
            "=================================================================\n",
            "input_2 (InputLayer)         [(None, 32, 32, 3)]       0         \n",
            "_________________________________________________________________\n",
            "block1_conv1 (Conv2D)        (None, 32, 32, 64)        1792      \n",
            "_________________________________________________________________\n",
            "block1_conv2 (Conv2D)        (None, 32, 32, 64)        36928     \n",
            "_________________________________________________________________\n",
            "block1_pool (MaxPooling2D)   (None, 16, 16, 64)        0         \n",
            "_________________________________________________________________\n",
            "block2_conv1 (Conv2D)        (None, 16, 16, 128)       73856     \n",
            "_________________________________________________________________\n",
            "block2_conv2 (Conv2D)        (None, 16, 16, 128)       147584    \n",
            "_________________________________________________________________\n",
            "block2_pool (MaxPooling2D)   (None, 8, 8, 128)         0         \n",
            "_________________________________________________________________\n",
            "block3_conv1 (Conv2D)        (None, 8, 8, 256)         295168    \n",
            "_________________________________________________________________\n",
            "block3_conv2 (Conv2D)        (None, 8, 8, 256)         590080    \n",
            "_________________________________________________________________\n",
            "block3_conv3 (Conv2D)        (None, 8, 8, 256)         590080    \n",
            "_________________________________________________________________\n",
            "block3_pool (MaxPooling2D)   (None, 4, 4, 256)         0         \n",
            "_________________________________________________________________\n",
            "block4_conv1 (Conv2D)        (None, 4, 4, 512)         1180160   \n",
            "_________________________________________________________________\n",
            "block4_conv2 (Conv2D)        (None, 4, 4, 512)         2359808   \n",
            "_________________________________________________________________\n",
            "block4_conv3 (Conv2D)        (None, 4, 4, 512)         2359808   \n",
            "_________________________________________________________________\n",
            "block4_pool (MaxPooling2D)   (None, 2, 2, 512)         0         \n",
            "_________________________________________________________________\n",
            "block5_conv1 (Conv2D)        (None, 2, 2, 512)         2359808   \n",
            "_________________________________________________________________\n",
            "block5_conv2 (Conv2D)        (None, 2, 2, 512)         2359808   \n",
            "_________________________________________________________________\n",
            "block5_conv3 (Conv2D)        (None, 2, 2, 512)         2359808   \n",
            "_________________________________________________________________\n",
            "block5_pool (MaxPooling2D)   (None, 1, 1, 512)         0         \n",
            "=================================================================\n",
            "Total params: 14,714,688\n",
            "Trainable params: 14,714,688\n",
            "Non-trainable params: 0\n",
            "_________________________________________________________________\n",
            "None\n"
          ]
        }
      ]
    },
    {
      "cell_type": "code",
      "metadata": {
        "id": "ZXE7miUNRukE"
      },
      "source": [
        "for layer in vgg_model.layers:\n",
        "    layer.trainable = False\n",
        "\n",
        "# We will have to use the functional API    \n",
        "\n",
        "# last layers output\n",
        "x = vgg_model.layers[-13].output\n",
        "x = Flatten()(x)\n",
        "#x = Dense(10, activation='softmax')(x)\n",
        "#x = MaxPooling2D(pool_size=(8, 8))(x)\n",
        "#x = Conv2D(256, (1, 1),activation='relu')(x)\n",
        "x = Dense(2000, activation='relu')(x)\n",
        "x = Dense(500, activation='relu')(x)\n",
        "x = Dense(250, activation='relu')(x)\n",
        "x = Dense(5, activation='softmax')(x)\n",
        "\n",
        "from tensorflow.keras.models import Model\n",
        "vgg_model_transfer_classification = Model(inputs=vgg_model.input, outputs=x)"
      ],
      "id": "ZXE7miUNRukE",
      "execution_count": null,
      "outputs": []
    },
    {
      "cell_type": "code",
      "metadata": {
        "colab": {
          "base_uri": "https://localhost:8080/"
        },
        "id": "wehI4qxpRufD",
        "outputId": "0ac7d410-18f8-4c6c-fb0d-34095f974946"
      },
      "source": [
        "print(vgg_model_transfer_classification.summary())"
      ],
      "id": "wehI4qxpRufD",
      "execution_count": null,
      "outputs": [
        {
          "output_type": "stream",
          "name": "stdout",
          "text": [
            "Model: \"model_15\"\n",
            "_________________________________________________________________\n",
            "Layer (type)                 Output Shape              Param #   \n",
            "=================================================================\n",
            "input_2 (InputLayer)         [(None, 32, 32, 3)]       0         \n",
            "_________________________________________________________________\n",
            "block1_conv1 (Conv2D)        (None, 32, 32, 64)        1792      \n",
            "_________________________________________________________________\n",
            "block1_conv2 (Conv2D)        (None, 32, 32, 64)        36928     \n",
            "_________________________________________________________________\n",
            "block1_pool (MaxPooling2D)   (None, 16, 16, 64)        0         \n",
            "_________________________________________________________________\n",
            "block2_conv1 (Conv2D)        (None, 16, 16, 128)       73856     \n",
            "_________________________________________________________________\n",
            "block2_conv2 (Conv2D)        (None, 16, 16, 128)       147584    \n",
            "_________________________________________________________________\n",
            "block2_pool (MaxPooling2D)   (None, 8, 8, 128)         0         \n",
            "_________________________________________________________________\n",
            "flatten_15 (Flatten)         (None, 8192)              0         \n",
            "_________________________________________________________________\n",
            "dense_50 (Dense)             (None, 2000)              16386000  \n",
            "_________________________________________________________________\n",
            "dense_51 (Dense)             (None, 500)               1000500   \n",
            "_________________________________________________________________\n",
            "dense_52 (Dense)             (None, 250)               125250    \n",
            "_________________________________________________________________\n",
            "dense_53 (Dense)             (None, 5)                 1255      \n",
            "=================================================================\n",
            "Total params: 17,773,165\n",
            "Trainable params: 17,513,005\n",
            "Non-trainable params: 260,160\n",
            "_________________________________________________________________\n",
            "None\n"
          ]
        }
      ]
    },
    {
      "cell_type": "code",
      "metadata": {
        "id": "RnQYktQURuZA"
      },
      "source": [
        "# split the data in training and validation dataset\n",
        "X_train, X_valid, y_train, y_valid = train_test_split(new_img,ymultclass, train_size=0.8, random_state=42)\n"
      ],
      "id": "RnQYktQURuZA",
      "execution_count": null,
      "outputs": []
    },
    {
      "cell_type": "code",
      "metadata": {
        "id": "IEcUVYmV1tvQ"
      },
      "source": [
        "nClasses = 5\n",
        "# Use Keras' handy utils\n",
        "y_train_k = tensorflow.keras.utils.to_categorical(y_train, num_classes=nClasses)\n",
        "y_valid_k = tensorflow.keras.utils.to_categorical(y_valid, num_classes=nClasses)\n"
      ],
      "id": "IEcUVYmV1tvQ",
      "execution_count": null,
      "outputs": []
    },
    {
      "cell_type": "code",
      "metadata": {
        "colab": {
          "base_uri": "https://localhost:8080/"
        },
        "id": "WQlQO1myRuUO",
        "outputId": "610057c5-bcbe-41de-fea6-7c4ca89479b8"
      },
      "source": [
        "for i in range(0,200,20):\n",
        "    print(y_train[i], \" \", y_train_k[i,:])"
      ],
      "id": "WQlQO1myRuUO",
      "execution_count": null,
      "outputs": [
        {
          "output_type": "stream",
          "name": "stdout",
          "text": [
            "2   [0. 0. 1. 0. 0.]\n",
            "4   [0. 0. 0. 0. 1.]\n",
            "2   [0. 0. 1. 0. 0.]\n",
            "4   [0. 0. 0. 0. 1.]\n",
            "3   [0. 0. 0. 1. 0.]\n",
            "1   [0. 1. 0. 0. 0.]\n",
            "3   [0. 0. 0. 1. 0.]\n",
            "1   [0. 1. 0. 0. 0.]\n",
            "1   [0. 1. 0. 0. 0.]\n",
            "1   [0. 1. 0. 0. 0.]\n"
          ]
        }
      ]
    },
    {
      "cell_type": "code",
      "metadata": {
        "colab": {
          "base_uri": "https://localhost:8080/"
        },
        "id": "mtXhZIgNRuRu",
        "outputId": "6303a5be-87dc-4aa3-e0e4-af6f8906dc19"
      },
      "source": [
        "batchSize = 128\n",
        "nEpochs = 32\n",
        "\n",
        "    \n",
        "sgd = tensorflow.keras.optimizers.SGD(lr=0.0008)\n",
        "vgg_model_transfer_classification.compile(loss='categorical_crossentropy', \n",
        "                           optimizer=sgd, \n",
        "                           metrics=['accuracy'])\n",
        "\n",
        "\n",
        "history = vgg_model_transfer_classification.fit(X_train, y_train_k, batch_size=batchSize, epochs=nEpochs, verbose=1, \n",
        "                                 validation_data=(X_valid, y_valid_k))"
      ],
      "id": "mtXhZIgNRuRu",
      "execution_count": null,
      "outputs": [
        {
          "output_type": "stream",
          "name": "stdout",
          "text": [
            "Epoch 1/32\n"
          ]
        },
        {
          "output_type": "stream",
          "name": "stderr",
          "text": [
            "/usr/local/lib/python3.7/dist-packages/keras/optimizer_v2/optimizer_v2.py:356: UserWarning: The `lr` argument is deprecated, use `learning_rate` instead.\n",
            "  \"The `lr` argument is deprecated, use `learning_rate` instead.\")\n"
          ]
        },
        {
          "output_type": "stream",
          "name": "stdout",
          "text": [
            "6/6 [==============================] - 5s 813ms/step - loss: 17.6387 - accuracy: 0.1931 - val_loss: 3.8050 - val_accuracy: 0.2056\n",
            "Epoch 2/32\n",
            "6/6 [==============================] - 4s 762ms/step - loss: 3.3612 - accuracy: 0.2583 - val_loss: 2.2696 - val_accuracy: 0.2000\n",
            "Epoch 3/32\n",
            "6/6 [==============================] - 4s 755ms/step - loss: 1.9647 - accuracy: 0.2972 - val_loss: 2.0294 - val_accuracy: 0.2889\n",
            "Epoch 4/32\n",
            "6/6 [==============================] - 5s 772ms/step - loss: 1.5947 - accuracy: 0.3639 - val_loss: 2.1210 - val_accuracy: 0.2333\n",
            "Epoch 5/32\n",
            "6/6 [==============================] - 4s 764ms/step - loss: 1.3232 - accuracy: 0.4694 - val_loss: 2.1297 - val_accuracy: 0.3056\n",
            "Epoch 6/32\n",
            "6/6 [==============================] - 4s 761ms/step - loss: 1.2607 - accuracy: 0.4986 - val_loss: 2.0096 - val_accuracy: 0.2222\n",
            "Epoch 7/32\n",
            "6/6 [==============================] - 4s 760ms/step - loss: 1.0182 - accuracy: 0.5903 - val_loss: 2.0298 - val_accuracy: 0.2833\n",
            "Epoch 8/32\n",
            "6/6 [==============================] - 4s 760ms/step - loss: 0.9273 - accuracy: 0.6514 - val_loss: 1.9279 - val_accuracy: 0.2944\n",
            "Epoch 9/32\n",
            "6/6 [==============================] - 4s 758ms/step - loss: 0.9006 - accuracy: 0.6569 - val_loss: 1.8700 - val_accuracy: 0.3111\n",
            "Epoch 10/32\n",
            "6/6 [==============================] - 4s 766ms/step - loss: 0.7235 - accuracy: 0.7875 - val_loss: 1.8746 - val_accuracy: 0.2778\n",
            "Epoch 11/32\n",
            "6/6 [==============================] - 5s 771ms/step - loss: 0.6533 - accuracy: 0.8264 - val_loss: 1.8484 - val_accuracy: 0.3111\n",
            "Epoch 12/32\n",
            "6/6 [==============================] - 4s 765ms/step - loss: 0.6380 - accuracy: 0.8097 - val_loss: 2.0369 - val_accuracy: 0.3056\n",
            "Epoch 13/32\n",
            "6/6 [==============================] - 4s 766ms/step - loss: 0.6584 - accuracy: 0.7944 - val_loss: 1.8688 - val_accuracy: 0.3278\n",
            "Epoch 14/32\n",
            "6/6 [==============================] - 5s 775ms/step - loss: 0.4946 - accuracy: 0.9028 - val_loss: 1.8317 - val_accuracy: 0.3111\n",
            "Epoch 15/32\n",
            "6/6 [==============================] - 5s 775ms/step - loss: 0.4698 - accuracy: 0.9125 - val_loss: 1.7997 - val_accuracy: 0.3278\n",
            "Epoch 16/32\n",
            "6/6 [==============================] - 4s 766ms/step - loss: 0.4392 - accuracy: 0.9306 - val_loss: 1.8025 - val_accuracy: 0.3389\n",
            "Epoch 17/32\n",
            "6/6 [==============================] - 4s 768ms/step - loss: 0.4109 - accuracy: 0.9389 - val_loss: 1.7973 - val_accuracy: 0.3000\n",
            "Epoch 18/32\n",
            "6/6 [==============================] - 4s 760ms/step - loss: 0.3913 - accuracy: 0.9389 - val_loss: 1.8095 - val_accuracy: 0.3056\n",
            "Epoch 19/32\n",
            "6/6 [==============================] - 4s 760ms/step - loss: 0.3563 - accuracy: 0.9583 - val_loss: 1.8246 - val_accuracy: 0.3222\n",
            "Epoch 20/32\n",
            "6/6 [==============================] - 4s 767ms/step - loss: 0.3409 - accuracy: 0.9597 - val_loss: 1.7998 - val_accuracy: 0.3000\n",
            "Epoch 21/32\n",
            "6/6 [==============================] - 4s 767ms/step - loss: 0.3091 - accuracy: 0.9722 - val_loss: 1.8307 - val_accuracy: 0.3222\n",
            "Epoch 22/32\n",
            "6/6 [==============================] - 4s 765ms/step - loss: 0.3163 - accuracy: 0.9639 - val_loss: 1.8349 - val_accuracy: 0.3111\n",
            "Epoch 23/32\n",
            "6/6 [==============================] - 5s 771ms/step - loss: 0.3084 - accuracy: 0.9653 - val_loss: 1.7861 - val_accuracy: 0.3222\n",
            "Epoch 24/32\n",
            "6/6 [==============================] - 5s 774ms/step - loss: 0.2750 - accuracy: 0.9653 - val_loss: 1.7770 - val_accuracy: 0.3333\n",
            "Epoch 25/32\n",
            "6/6 [==============================] - 5s 771ms/step - loss: 0.2598 - accuracy: 0.9819 - val_loss: 1.7843 - val_accuracy: 0.3222\n",
            "Epoch 26/32\n",
            "6/6 [==============================] - 4s 766ms/step - loss: 0.2432 - accuracy: 0.9833 - val_loss: 1.7702 - val_accuracy: 0.3500\n",
            "Epoch 27/32\n",
            "6/6 [==============================] - 5s 768ms/step - loss: 0.2380 - accuracy: 0.9819 - val_loss: 1.7714 - val_accuracy: 0.3278\n",
            "Epoch 28/32\n",
            "6/6 [==============================] - 5s 771ms/step - loss: 0.2277 - accuracy: 0.9889 - val_loss: 1.7775 - val_accuracy: 0.3167\n",
            "Epoch 29/32\n",
            "6/6 [==============================] - 5s 773ms/step - loss: 0.2191 - accuracy: 0.9917 - val_loss: 1.7972 - val_accuracy: 0.3333\n",
            "Epoch 30/32\n",
            "6/6 [==============================] - 5s 768ms/step - loss: 0.2113 - accuracy: 0.9903 - val_loss: 1.7620 - val_accuracy: 0.3556\n",
            "Epoch 31/32\n",
            "6/6 [==============================] - 4s 767ms/step - loss: 0.1999 - accuracy: 0.9917 - val_loss: 1.7897 - val_accuracy: 0.3500\n",
            "Epoch 32/32\n",
            "6/6 [==============================] - 4s 761ms/step - loss: 0.1860 - accuracy: 0.9958 - val_loss: 1.7680 - val_accuracy: 0.3556\n"
          ]
        }
      ]
    },
    {
      "cell_type": "code",
      "metadata": {
        "id": "so38wysKRuN4"
      },
      "source": [
        "y_predict_prob = vgg_model_transfer_classification.predict(X_valid)\n",
        "y_predict = y_predict_prob.argmax(axis=-1)\n",
        "y_valid=y_valid.astype(int)"
      ],
      "id": "so38wysKRuN4",
      "execution_count": null,
      "outputs": []
    },
    {
      "cell_type": "markdown",
      "metadata": {
        "id": "qz78YCl_hVJD"
      },
      "source": [
        "# **Give the confusion matrix of your network on the training including validation**\n",
        "\n"
      ],
      "id": "qz78YCl_hVJD"
    },
    {
      "cell_type": "code",
      "metadata": {
        "colab": {
          "base_uri": "https://localhost:8080/"
        },
        "id": "fyPji68CRuI5",
        "outputId": "e37a1d0c-d261-41d8-9df8-a0fc6f7579ee"
      },
      "source": [
        "from sklearn.metrics import confusion_matrix\n",
        "\n",
        "conf_mx = confusion_matrix(y_valid, y_predict)\n",
        "print('Confusion matrix: \\n{0}'.format(conf_mx))"
      ],
      "id": "fyPji68CRuI5",
      "execution_count": null,
      "outputs": [
        {
          "output_type": "stream",
          "name": "stdout",
          "text": [
            "Confusion matrix: \n",
            "[[17  6  3  3  2]\n",
            " [ 8 10  5  8  7]\n",
            " [ 9 10  1  9  6]\n",
            " [ 2  8  6 18  7]\n",
            " [ 1  3  5  8 18]]\n"
          ]
        }
      ]
    },
    {
      "cell_type": "markdown",
      "metadata": {
        "id": "kw0wPuo4zMQT"
      },
      "source": [
        "discussion : the model has bad prediction in both class 3 and bias in class no 4 to class no 6 "
      ],
      "id": "kw0wPuo4zMQT"
    },
    {
      "cell_type": "code",
      "metadata": {
        "id": "siHhmgaFRuGj"
      },
      "source": [
        "def plot_confusion_matrix(matrix):\n",
        "    \"\"\"If you prefer color and a colorbar\"\"\"\n",
        "    fig = plt.figure(figsize=(8,8))\n",
        "    ax = fig.add_subplot(111)\n",
        "    cax = ax.matshow(matrix)\n",
        "    fig.colorbar(cax)"
      ],
      "id": "siHhmgaFRuGj",
      "execution_count": null,
      "outputs": []
    },
    {
      "cell_type": "code",
      "metadata": {
        "colab": {
          "base_uri": "https://localhost:8080/",
          "height": 491
        },
        "id": "xwqv4wWvRuEb",
        "outputId": "06a2cfba-d96c-441d-dcda-f91678a75bd7"
      },
      "source": [
        "row_sums = conf_mx.sum(axis=1, keepdims=True)\n",
        "norm_conf_mx = conf_mx / row_sums\n",
        "np.fill_diagonal(norm_conf_mx, 0)\n",
        "# plt.matshow(norm_conf_mx, cmap=plt.cm.gray)\n",
        "plot_confusion_matrix(norm_conf_mx)\n",
        "save_fig(\"VGGtransfer_confusion_matrix_errors\", tight_layout=False)\n",
        "plt.show()"
      ],
      "id": "xwqv4wWvRuEb",
      "execution_count": null,
      "outputs": [
        {
          "output_type": "stream",
          "name": "stdout",
          "text": [
            "Saving figure VGGtransfer_confusion_matrix_errors\n"
          ]
        },
        {
          "output_type": "display_data",
          "data": {
            "image/png": "[encoded data removed]",
            "text/plain": [
              "<Figure size 576x576 with 2 Axes>"
            ]
          },
          "metadata": {
            "needs_background": "light"
          }
        }
      ]
    },
    {
      "cell_type": "markdown",
      "metadata": {
        "id": "c0V__fO1hsmx"
      },
      "source": [
        "# **Give the confusion matrix of your network on the training including testing**"
      ],
      "id": "c0V__fO1hsmx"
    },
    {
      "cell_type": "code",
      "metadata": {
        "colab": {
          "base_uri": "https://localhost:8080/"
        },
        "id": "9EVK31G3iPHc",
        "outputId": "58fa32ee-11dd-4fc9-a09e-ba22131b9f55"
      },
      "source": [
        "os.listdir(path='.')\n",
        "\n",
        "def getListOfFiles(dirName):\n",
        "    \n",
        "    listOfFile = os.listdir(dirName)\n",
        "    allFiles = list()\n",
        "    \n",
        "    for entry in listOfFile:\n",
        "        fullPath = os.path.join(dirName, entry)\n",
        "        if os.path.isdir(fullPath):\n",
        "            allFiles = allFiles + getListOfFiles(fullPath)\n",
        "        else:\n",
        "            allFiles.append(fullPath)\n",
        "                \n",
        "    return allFiles        \n",
        "\n",
        "\n",
        "dirName = '/content/drive/MyDrive/testing'\n",
        "\n",
        "listOfFiles = getListOfFiles(dirName)\n",
        "\n",
        "\n",
        "listOfFiles = list()\n",
        "for (dirpath, dirnames, filenames) in os.walk(dirName):\n",
        "    listOfFiles += [os.path.join(dirpath, file) for file in filenames]\n",
        "\n",
        "\n",
        "for i in listOfFiles:\n",
        "    print(i)    "
      ],
      "id": "9EVK31G3iPHc",
      "execution_count": null,
      "outputs": [
        {
          "output_type": "stream",
          "name": "stdout",
          "text": [
            "/content/drive/MyDrive/testing/6/285.png\n",
            "/content/drive/MyDrive/testing/6/276.png\n",
            "/content/drive/MyDrive/testing/6/267.png\n",
            "/content/drive/MyDrive/testing/6/274.png\n",
            "/content/drive/MyDrive/testing/6/283.png\n",
            "/content/drive/MyDrive/testing/6/273.png\n",
            "/content/drive/MyDrive/testing/6/263.png\n",
            "/content/drive/MyDrive/testing/6/281.png\n",
            "/content/drive/MyDrive/testing/6/275.png\n",
            "/content/drive/MyDrive/testing/6/268.png\n",
            "/content/drive/MyDrive/testing/6/272.png\n",
            "/content/drive/MyDrive/testing/6/280.png\n",
            "/content/drive/MyDrive/testing/6/270.png\n",
            "/content/drive/MyDrive/testing/6/269.png\n",
            "/content/drive/MyDrive/testing/6/277.png\n",
            "/content/drive/MyDrive/testing/6/264.png\n",
            "/content/drive/MyDrive/testing/6/282.png\n",
            "/content/drive/MyDrive/testing/6/266.png\n",
            "/content/drive/MyDrive/testing/6/265.png\n",
            "/content/drive/MyDrive/testing/6/278.png\n",
            "/content/drive/MyDrive/testing/1/305.png\n",
            "/content/drive/MyDrive/testing/1/286.png\n",
            "/content/drive/MyDrive/testing/1/289.png\n",
            "/content/drive/MyDrive/testing/1/311.png\n",
            "/content/drive/MyDrive/testing/1/294.png\n",
            "/content/drive/MyDrive/testing/1/296.png\n",
            "/content/drive/MyDrive/testing/1/293.png\n",
            "/content/drive/MyDrive/testing/1/279.png\n",
            "/content/drive/MyDrive/testing/1/283.png\n",
            "/content/drive/MyDrive/testing/1/301.png\n",
            "/content/drive/MyDrive/testing/1/292.png\n",
            "/content/drive/MyDrive/testing/1/288.png\n",
            "/content/drive/MyDrive/testing/1/303.png\n",
            "/content/drive/MyDrive/testing/1/284.png\n",
            "/content/drive/MyDrive/testing/1/290.png\n",
            "/content/drive/MyDrive/testing/1/307.png\n",
            "/content/drive/MyDrive/testing/1/281.png\n",
            "/content/drive/MyDrive/testing/1/304.png\n",
            "/content/drive/MyDrive/testing/1/295.png\n",
            "/content/drive/MyDrive/testing/1/282.png\n",
            "/content/drive/MyDrive/testing/4/388.png\n",
            "/content/drive/MyDrive/testing/4/406.png\n",
            "/content/drive/MyDrive/testing/4/396.png\n",
            "/content/drive/MyDrive/testing/4/395.png\n",
            "/content/drive/MyDrive/testing/4/424.png\n",
            "/content/drive/MyDrive/testing/4/425.png\n",
            "/content/drive/MyDrive/testing/4/410.png\n",
            "/content/drive/MyDrive/testing/4/403.png\n",
            "/content/drive/MyDrive/testing/4/412.png\n",
            "/content/drive/MyDrive/testing/4/430.png\n",
            "/content/drive/MyDrive/testing/4/387.png\n",
            "/content/drive/MyDrive/testing/4/386.png\n",
            "/content/drive/MyDrive/testing/4/417.png\n",
            "/content/drive/MyDrive/testing/4/400.png\n",
            "/content/drive/MyDrive/testing/4/409.png\n",
            "/content/drive/MyDrive/testing/4/393.png\n",
            "/content/drive/MyDrive/testing/4/420.png\n",
            "/content/drive/MyDrive/testing/4/389.png\n",
            "/content/drive/MyDrive/testing/4/391.png\n",
            "/content/drive/MyDrive/testing/4/405.png\n",
            "/content/drive/MyDrive/testing/3/472.png\n",
            "/content/drive/MyDrive/testing/3/494.png\n",
            "/content/drive/MyDrive/testing/3/478.png\n",
            "/content/drive/MyDrive/testing/3/470.png\n",
            "/content/drive/MyDrive/testing/3/514.png\n",
            "/content/drive/MyDrive/testing/3/499.png\n",
            "/content/drive/MyDrive/testing/3/535.png\n",
            "/content/drive/MyDrive/testing/3/493.png\n",
            "/content/drive/MyDrive/testing/3/491.png\n",
            "/content/drive/MyDrive/testing/3/534.png\n",
            "/content/drive/MyDrive/testing/3/474.png\n",
            "/content/drive/MyDrive/testing/3/486.png\n",
            "/content/drive/MyDrive/testing/3/528.png\n",
            "/content/drive/MyDrive/testing/3/475.png\n",
            "/content/drive/MyDrive/testing/3/476.png\n",
            "/content/drive/MyDrive/testing/3/529.png\n",
            "/content/drive/MyDrive/testing/3/511.png\n",
            "/content/drive/MyDrive/testing/3/483.png\n",
            "/content/drive/MyDrive/testing/3/485.png\n",
            "/content/drive/MyDrive/testing/3/502.png\n",
            "/content/drive/MyDrive/testing/2/1532.png\n",
            "/content/drive/MyDrive/testing/2/1545.png\n",
            "/content/drive/MyDrive/testing/2/1552.png\n",
            "/content/drive/MyDrive/testing/2/1556.png\n",
            "/content/drive/MyDrive/testing/2/1537.png\n",
            "/content/drive/MyDrive/testing/2/1555.png\n",
            "/content/drive/MyDrive/testing/2/1540.png\n",
            "/content/drive/MyDrive/testing/2/1535.png\n",
            "/content/drive/MyDrive/testing/2/1551.png\n",
            "/content/drive/MyDrive/testing/2/1519.png\n",
            "/content/drive/MyDrive/testing/2/1548.png\n",
            "/content/drive/MyDrive/testing/2/1530.png\n",
            "/content/drive/MyDrive/testing/2/1523.png\n",
            "/content/drive/MyDrive/testing/2/1531.png\n",
            "/content/drive/MyDrive/testing/2/1534.png\n",
            "/content/drive/MyDrive/testing/2/1517.png\n",
            "/content/drive/MyDrive/testing/2/1525.png\n",
            "/content/drive/MyDrive/testing/2/1533.png\n",
            "/content/drive/MyDrive/testing/2/1522.png\n",
            "/content/drive/MyDrive/testing/2/1547.png\n"
          ]
        }
      ]
    },
    {
      "cell_type": "code",
      "metadata": {
        "colab": {
          "base_uri": "https://localhost:8080/"
        },
        "id": "w0jTFn4ijd1U",
        "scrolled": true,
        "outputId": "5ecd5330-1f72-48b4-a2df-2f51e8edf9b6"
      },
      "source": [
        "#certain 4 folders\n",
        "folder_names = [\"1\", \"2\", \"3\", \"4\",\"6\"]\n",
        "listOfFiles = [f for f in listOfFiles if any([n in f for n in folder_names])]\n",
        "print(listOfFiles)"
      ],
      "id": "w0jTFn4ijd1U",
      "execution_count": null,
      "outputs": [
        {
          "output_type": "stream",
          "name": "stdout",
          "text": [
            "['/content/drive/MyDrive/testing/6/285.png', '/content/drive/MyDrive/testing/6/276.png', '/content/drive/MyDrive/testing/6/267.png', '/content/drive/MyDrive/testing/6/274.png', '/content/drive/MyDrive/testing/6/283.png', '/content/drive/MyDrive/testing/6/273.png', '/content/drive/MyDrive/testing/6/263.png', '/content/drive/MyDrive/testing/6/281.png', '/content/drive/MyDrive/testing/6/275.png', '/content/drive/MyDrive/testing/6/268.png', '/content/drive/MyDrive/testing/6/272.png', '/content/drive/MyDrive/testing/6/280.png', '/content/drive/MyDrive/testing/6/270.png', '/content/drive/MyDrive/testing/6/269.png', '/content/drive/MyDrive/testing/6/277.png', '/content/drive/MyDrive/testing/6/264.png', '/content/drive/MyDrive/testing/6/282.png', '/content/drive/MyDrive/testing/6/266.png', '/content/drive/MyDrive/testing/6/265.png', '/content/drive/MyDrive/testing/6/278.png', '/content/drive/MyDrive/testing/1/305.png', '/content/drive/MyDrive/testing/1/286.png', '/content/drive/MyDrive/testing/1/289.png', '/content/drive/MyDrive/testing/1/311.png', '/content/drive/MyDrive/testing/1/294.png', '/content/drive/MyDrive/testing/1/296.png', '/content/drive/MyDrive/testing/1/293.png', '/content/drive/MyDrive/testing/1/279.png', '/content/drive/MyDrive/testing/1/283.png', '/content/drive/MyDrive/testing/1/301.png', '/content/drive/MyDrive/testing/1/292.png', '/content/drive/MyDrive/testing/1/288.png', '/content/drive/MyDrive/testing/1/303.png', '/content/drive/MyDrive/testing/1/284.png', '/content/drive/MyDrive/testing/1/290.png', '/content/drive/MyDrive/testing/1/307.png', '/content/drive/MyDrive/testing/1/281.png', '/content/drive/MyDrive/testing/1/304.png', '/content/drive/MyDrive/testing/1/295.png', '/content/drive/MyDrive/testing/1/282.png', '/content/drive/MyDrive/testing/4/388.png', '/content/drive/MyDrive/testing/4/406.png', '/content/drive/MyDrive/testing/4/396.png', '/content/drive/MyDrive/testing/4/395.png', '/content/drive/MyDrive/testing/4/424.png', '/content/drive/MyDrive/testing/4/425.png', '/content/drive/MyDrive/testing/4/410.png', '/content/drive/MyDrive/testing/4/403.png', '/content/drive/MyDrive/testing/4/412.png', '/content/drive/MyDrive/testing/4/430.png', '/content/drive/MyDrive/testing/4/387.png', '/content/drive/MyDrive/testing/4/386.png', '/content/drive/MyDrive/testing/4/417.png', '/content/drive/MyDrive/testing/4/400.png', '/content/drive/MyDrive/testing/4/409.png', '/content/drive/MyDrive/testing/4/393.png', '/content/drive/MyDrive/testing/4/420.png', '/content/drive/MyDrive/testing/4/389.png', '/content/drive/MyDrive/testing/4/391.png', '/content/drive/MyDrive/testing/4/405.png', '/content/drive/MyDrive/testing/3/472.png', '/content/drive/MyDrive/testing/3/494.png', '/content/drive/MyDrive/testing/3/478.png', '/content/drive/MyDrive/testing/3/470.png', '/content/drive/MyDrive/testing/3/514.png', '/content/drive/MyDrive/testing/3/499.png', '/content/drive/MyDrive/testing/3/535.png', '/content/drive/MyDrive/testing/3/493.png', '/content/drive/MyDrive/testing/3/491.png', '/content/drive/MyDrive/testing/3/534.png', '/content/drive/MyDrive/testing/3/474.png', '/content/drive/MyDrive/testing/3/486.png', '/content/drive/MyDrive/testing/3/528.png', '/content/drive/MyDrive/testing/3/475.png', '/content/drive/MyDrive/testing/3/476.png', '/content/drive/MyDrive/testing/3/529.png', '/content/drive/MyDrive/testing/3/511.png', '/content/drive/MyDrive/testing/3/483.png', '/content/drive/MyDrive/testing/3/485.png', '/content/drive/MyDrive/testing/3/502.png', '/content/drive/MyDrive/testing/2/1532.png', '/content/drive/MyDrive/testing/2/1545.png', '/content/drive/MyDrive/testing/2/1552.png', '/content/drive/MyDrive/testing/2/1556.png', '/content/drive/MyDrive/testing/2/1537.png', '/content/drive/MyDrive/testing/2/1555.png', '/content/drive/MyDrive/testing/2/1540.png', '/content/drive/MyDrive/testing/2/1535.png', '/content/drive/MyDrive/testing/2/1551.png', '/content/drive/MyDrive/testing/2/1519.png', '/content/drive/MyDrive/testing/2/1548.png', '/content/drive/MyDrive/testing/2/1530.png', '/content/drive/MyDrive/testing/2/1523.png', '/content/drive/MyDrive/testing/2/1531.png', '/content/drive/MyDrive/testing/2/1534.png', '/content/drive/MyDrive/testing/2/1517.png', '/content/drive/MyDrive/testing/2/1525.png', '/content/drive/MyDrive/testing/2/1533.png', '/content/drive/MyDrive/testing/2/1522.png', '/content/drive/MyDrive/testing/2/1547.png']\n"
          ]
        }
      ]
    },
    {
      "cell_type": "code",
      "metadata": {
        "id": "dsCH1APtjfXx"
      },
      "source": [
        "# Read the images \n",
        "img = [io.imread(file) for file in listOfFiles]"
      ],
      "id": "dsCH1APtjfXx",
      "execution_count": null,
      "outputs": []
    },
    {
      "cell_type": "code",
      "metadata": {
        "id": "H3IJOkjqjfU7"
      },
      "source": [
        "# Resize the images\n",
        "from skimage.transform import resize\n",
        "new_img_test=[]\n",
        "for i in img:\n",
        "    new_img_test.append(resize(i,(32,32)))"
      ],
      "id": "H3IJOkjqjfU7",
      "execution_count": null,
      "outputs": []
    },
    {
      "cell_type": "code",
      "metadata": {
        "colab": {
          "base_uri": "https://localhost:8080/"
        },
        "id": "0KPpBjczjfPR",
        "outputId": "5fdcb6d1-7d2d-4fae-eb8c-9ba5b0c2b5da"
      },
      "source": [
        "new_img_test=np.array(new_img_test)\n",
        "new_img_test.shape"
      ],
      "id": "0KPpBjczjfPR",
      "execution_count": null,
      "outputs": [
        {
          "output_type": "execute_result",
          "data": {
            "text/plain": [
              "(100, 32, 32, 3)"
            ]
          },
          "metadata": {},
          "execution_count": 178
        }
      ]
    },
    {
      "cell_type": "code",
      "metadata": {
        "id": "naibaPLijfJ4"
      },
      "source": [
        "#\"1\", \"2\", \"3\", \"4\",\"6\"\n",
        "#Preparing label for multiclass\n",
        "ymultclass_test = []\n",
        "for f in listOfFiles:\n",
        "    if '/1/' in f:\n",
        "        ymultclass_test.append('0')\n",
        "    if '/2/' in f:\n",
        "        ymultclass_test.append('1')\n",
        "    if '/3/' in f:\n",
        "        ymultclass_test.append('2')\n",
        "    if '/4/' in f:\n",
        "        ymultclass_test.append('3')\n",
        "    if '/6/' in f:\n",
        "        ymultclass_test.append('4')   "
      ],
      "id": "naibaPLijfJ4",
      "execution_count": null,
      "outputs": []
    },
    {
      "cell_type": "code",
      "metadata": {
        "colab": {
          "base_uri": "https://localhost:8080/"
        },
        "id": "5nYdSv-zje2p",
        "outputId": "d7784a15-f03e-463e-dfc1-c456fa083c22"
      },
      "source": [
        "ymultclass_test=np.array(ymultclass_test)\n",
        "ymultclass_test.shape"
      ],
      "id": "5nYdSv-zje2p",
      "execution_count": null,
      "outputs": [
        {
          "output_type": "execute_result",
          "data": {
            "text/plain": [
              "(100,)"
            ]
          },
          "metadata": {},
          "execution_count": 180
        }
      ]
    },
    {
      "cell_type": "code",
      "metadata": {
        "id": "SN4oxRY_jepG"
      },
      "source": [
        "y_predict_prob_test = vgg_model_transfer_classification.predict(new_img_test)"
      ],
      "id": "SN4oxRY_jepG",
      "execution_count": null,
      "outputs": []
    },
    {
      "cell_type": "code",
      "metadata": {
        "id": "zv-vPxR-l_Rm"
      },
      "source": [
        "y_predict_test = y_predict_prob_test .argmax(axis=-1)"
      ],
      "id": "zv-vPxR-l_Rm",
      "execution_count": null,
      "outputs": []
    },
    {
      "cell_type": "code",
      "metadata": {
        "colab": {
          "base_uri": "https://localhost:8080/"
        },
        "id": "7kekV8y1hqYI",
        "outputId": "5f5c5226-1062-4395-dd5f-665e8ebdb96c"
      },
      "source": [
        "from sklearn.metrics import confusion_matrix\n",
        "\n",
        "conf_mx = confusion_matrix(ymultclass_test.astype(int), y_predict_test)\n",
        "print('Confusion matrix: \\n{0}'.format(conf_mx))"
      ],
      "id": "7kekV8y1hqYI",
      "execution_count": null,
      "outputs": [
        {
          "output_type": "stream",
          "name": "stdout",
          "text": [
            "Confusion matrix: \n",
            "[[14  3  1  2  0]\n",
            " [ 5 10  2  3  0]\n",
            " [ 1  8  1  5  5]\n",
            " [ 2  2  0  9  7]\n",
            " [ 2  3  3  6  6]]\n"
          ]
        }
      ]
    },
    {
      "cell_type": "markdown",
      "metadata": {
        "id": "YPrl0h8KzxBi"
      },
      "source": [
        "discussion : the model has bad prediction in both class 4 ,6, 3 and bias in class 1 to class 2  and class 4"
      ],
      "id": "YPrl0h8KzxBi"
    },
    {
      "cell_type": "code",
      "metadata": {
        "id": "tl4MpHGihyEa"
      },
      "source": [
        "def plot_confusion_matrix(matrix):\n",
        "    \"\"\"If you prefer color and a colorbar\"\"\"\n",
        "    fig = plt.figure(figsize=(8,8))\n",
        "    ax = fig.add_subplot(111)\n",
        "    cax = ax.matshow(matrix)\n",
        "    fig.colorbar(cax)"
      ],
      "id": "tl4MpHGihyEa",
      "execution_count": null,
      "outputs": []
    },
    {
      "cell_type": "code",
      "metadata": {
        "colab": {
          "base_uri": "https://localhost:8080/",
          "height": 496
        },
        "id": "2Im5vlYnhxds",
        "outputId": "db34a0fb-a788-40d7-a4c9-01c375811012"
      },
      "source": [
        "row_sums = conf_mx.sum(axis=1, keepdims=True)\n",
        "norm_conf_mx = conf_mx / row_sums\n",
        "np.fill_diagonal(norm_conf_mx, 0)\n",
        "# plt.matshow(norm_conf_mx, cmap=plt.cm.gray)\n",
        "plot_confusion_matrix(norm_conf_mx)\n",
        "save_fig(\"VGGtransfer_confusion_matrix_errors\", tight_layout=False)\n",
        "plt.show()"
      ],
      "id": "2Im5vlYnhxds",
      "execution_count": null,
      "outputs": [
        {
          "output_type": "stream",
          "name": "stdout",
          "text": [
            "Saving figure VGGtransfer_confusion_matrix_errors\n"
          ]
        },
        {
          "output_type": "display_data",
          "data": {
            "image/png": "[encoded data removed]",
            "text/plain": [
              "<Figure size 576x576 with 2 Axes>"
            ]
          },
          "metadata": {
            "needs_background": "light"
          }
        }
      ]
    },
    {
      "cell_type": "markdown",
      "metadata": {
        "id": "8nY8aW4cnfYt"
      },
      "source": [
        "#  print your learning curves for training and validation "
      ],
      "id": "8nY8aW4cnfYt"
    },
    {
      "cell_type": "code",
      "metadata": {
        "colab": {
          "base_uri": "https://localhost:8080/",
          "height": 302
        },
        "id": "Sq8njJFPRuCE",
        "outputId": "01ef6753-72f5-45e7-907f-cb3b0ec474e1"
      },
      "source": [
        "# dictionary keys seems to have changed in version 2\n",
        "k = ''\n",
        "if 'accuracy' in history.history :\n",
        "    k = 'accuracy'    \n",
        "\n",
        "if 'acc' in history.history :\n",
        "    k = 'acc'\n",
        "    \n",
        "if k != '' :    \n",
        "    plt.plot(history.history[k])\n",
        "    plt.plot(history.history['val_'+k])\n",
        "    plt.title('Model Accuracy')\n",
        "    plt.ylabel('Accuracy')\n",
        "    plt.xlabel('Epoch')\n",
        "    plt.legend(['train', 'validation'], loc='upper left')\n",
        "    plt.show()"
      ],
      "id": "Sq8njJFPRuCE",
      "execution_count": null,
      "outputs": [
        {
          "output_type": "display_data",
          "data": {
            "image/png": "[encoded data removed]",
            "text/plain": [
              "<Figure size 432x288 with 1 Axes>"
            ]
          },
          "metadata": {
            "needs_background": "light"
          }
        }
      ]
    },
    {
      "cell_type": "code",
      "metadata": {
        "colab": {
          "base_uri": "https://localhost:8080/",
          "height": 302
        },
        "id": "7SwU3tBaRt-6",
        "outputId": "f87100cb-c071-4d57-b656-0f249a3daf63"
      },
      "source": [
        "plt.plot(history.history['loss'])\n",
        "plt.plot(history.history['val_loss'])\n",
        "plt.title('Model loss')\n",
        "plt.ylabel('Loss')\n",
        "plt.xlabel('Epoch')\n",
        "plt.legend(['train', 'validation'], loc='upper left')\n",
        "plt.show()"
      ],
      "id": "7SwU3tBaRt-6",
      "execution_count": null,
      "outputs": [
        {
          "output_type": "display_data",
          "data": {
            "image/png": "[encoded data removed]",
            "text/plain": [
              "<Figure size 432x288 with 1 Axes>"
            ]
          },
          "metadata": {
            "needs_background": "light"
          }
        }
      ]
    },
    {
      "cell_type": "markdown",
      "metadata": {
        "id": "qftFCJn3g73o"
      },
      "source": [
        "# **Classificatio discussion : OVERFITTING HAPPENED AS THE ACCURACY IS HIGH IN TRAINGING DATA AND IN CASE OF NEW DATA IN validation ACCURACY DECREASE AS NO OF EPOCHES INCREASE as shown in learning curve **"
      ],
      "id": "qftFCJn3g73o"
    },
    {
      "cell_type": "code",
      "metadata": {
        "colab": {
          "base_uri": "https://localhost:8080/"
        },
        "id": "zvew19xFjJ-2",
        "outputId": "932b34ad-84d3-4087-9bb0-8b1ba85993b0"
      },
      "source": [
        "from sklearn.metrics import classification_report\n",
        "\n",
        "print(classification_report(ymultclass_test.astype(int), np.round(y_predict_test)))"
      ],
      "id": "zvew19xFjJ-2",
      "execution_count": null,
      "outputs": [
        {
          "output_type": "stream",
          "name": "stdout",
          "text": [
            "              precision    recall  f1-score   support\n",
            "\n",
            "           0       0.58      0.70      0.64        20\n",
            "           1       0.38      0.50      0.43        20\n",
            "           2       0.14      0.05      0.07        20\n",
            "           3       0.36      0.45      0.40        20\n",
            "           4       0.33      0.30      0.32        20\n",
            "\n",
            "    accuracy                           0.40       100\n",
            "   macro avg       0.36      0.40      0.37       100\n",
            "weighted avg       0.36      0.40      0.37       100\n",
            "\n"
          ]
        }
      ]
    },
    {
      "cell_type": "markdown",
      "metadata": {
        "id": "GyURnRUIpcdE"
      },
      "source": [
        "# **Regression Network**"
      ],
      "id": "GyURnRUIpcdE"
    },
    {
      "cell_type": "code",
      "metadata": {
        "id": "2aVjC4toq2UB"
      },
      "source": [
        "import keras.layers\n",
        "for layer in vgg_model.layers:\n",
        "    layer.trainable = False\n",
        "\n",
        "# We will have to use the functional API    \n",
        "\n",
        "# last layers output\n",
        "x = vgg_model.layers[-13].output\n",
        "x=Conv2D(128,(3,3),activation='relu',padding='same')(x)\n",
        "x=MaxPooling2D((2,2),strides=(2,2))(x)\n",
        "x = Flatten()(x)\n",
        "x = Dense(128, activation='relu')(x)\n",
        "x = Dense(64, activation='relu')(x)\n",
        "x = Dense(1, activation=keras.layers.LeakyReLU(alpha=0.3))(x)\n",
        "\n",
        "\n",
        "from tensorflow.keras.models import Model\n",
        "vgg_model_transfer_regression = Model(inputs=vgg_model.input, outputs=x)"
      ],
      "id": "2aVjC4toq2UB",
      "execution_count": null,
      "outputs": []
    },
    {
      "cell_type": "code",
      "metadata": {
        "colab": {
          "base_uri": "https://localhost:8080/"
        },
        "id": "wSwkQaIqCde8",
        "outputId": "0dcff886-989a-4123-cf74-739152bd8a03"
      },
      "source": [
        "print(vgg_model_transfer_regression.summary())"
      ],
      "id": "wSwkQaIqCde8",
      "execution_count": null,
      "outputs": [
        {
          "output_type": "stream",
          "name": "stdout",
          "text": [
            "Model: \"model_17\"\n",
            "_________________________________________________________________\n",
            "Layer (type)                 Output Shape              Param #   \n",
            "=================================================================\n",
            "input_2 (InputLayer)         [(None, 32, 32, 3)]       0         \n",
            "_________________________________________________________________\n",
            "block1_conv1 (Conv2D)        (None, 32, 32, 64)        1792      \n",
            "_________________________________________________________________\n",
            "block1_conv2 (Conv2D)        (None, 32, 32, 64)        36928     \n",
            "_________________________________________________________________\n",
            "block1_pool (MaxPooling2D)   (None, 16, 16, 64)        0         \n",
            "_________________________________________________________________\n",
            "block2_conv1 (Conv2D)        (None, 16, 16, 128)       73856     \n",
            "_________________________________________________________________\n",
            "block2_conv2 (Conv2D)        (None, 16, 16, 128)       147584    \n",
            "_________________________________________________________________\n",
            "block2_pool (MaxPooling2D)   (None, 8, 8, 128)         0         \n",
            "_________________________________________________________________\n",
            "conv2d_4 (Conv2D)            (None, 8, 8, 128)         147584    \n",
            "_________________________________________________________________\n",
            "max_pooling2d_5 (MaxPooling2 (None, 4, 4, 128)         0         \n",
            "_________________________________________________________________\n",
            "flatten_17 (Flatten)         (None, 2048)              0         \n",
            "_________________________________________________________________\n",
            "dense_57 (Dense)             (None, 128)               262272    \n",
            "_________________________________________________________________\n",
            "dense_58 (Dense)             (None, 64)                8256      \n",
            "_________________________________________________________________\n",
            "dense_59 (Dense)             (None, 1)                 65        \n",
            "=================================================================\n",
            "Total params: 678,337\n",
            "Trainable params: 418,177\n",
            "Non-trainable params: 260,160\n",
            "_________________________________________________________________\n",
            "None\n"
          ]
        }
      ]
    },
    {
      "cell_type": "code",
      "metadata": {
        "id": "TvxkI6wRtRSp"
      },
      "source": [
        "batchSize = 128\n",
        "nEpochs = 32\n",
        "\n",
        "    \n",
        "sgd = tensorflow.keras.optimizers.SGD(learning_rate=0.0008)\n",
        "vgg_model_transfer_regression.compile(loss='mse', \n",
        "                           optimizer=\"adam\",\n",
        "                           metrics=['mse'])"
      ],
      "id": "TvxkI6wRtRSp",
      "execution_count": null,
      "outputs": []
    },
    {
      "cell_type": "code",
      "metadata": {
        "id": "PPNUX6Ji5P_J"
      },
      "source": [
        "y_train=y_train.astype(int)\n"
      ],
      "id": "PPNUX6Ji5P_J",
      "execution_count": null,
      "outputs": []
    },
    {
      "cell_type": "code",
      "metadata": {
        "colab": {
          "base_uri": "https://localhost:8080/"
        },
        "id": "8xvDHV6-Cda3",
        "outputId": "745ff333-9267-4d45-9b73-8416c3b2a0aa"
      },
      "source": [
        "\n",
        "history = vgg_model_transfer_regression.fit(X_train, y_train, batch_size=batchSize, epochs=nEpochs, verbose=1, \n",
        "                                 validation_data=(X_valid, y_valid))"
      ],
      "id": "8xvDHV6-Cda3",
      "execution_count": null,
      "outputs": [
        {
          "output_type": "stream",
          "name": "stdout",
          "text": [
            "Epoch 1/32\n",
            "6/6 [==============================] - 5s 698ms/step - loss: 494.5079 - mse: 494.5079 - val_loss: 10.7440 - val_mse: 10.7440\n",
            "Epoch 2/32\n",
            "6/6 [==============================] - 4s 672ms/step - loss: 10.1009 - mse: 10.1009 - val_loss: 10.4015 - val_mse: 10.4015\n",
            "Epoch 3/32\n",
            "6/6 [==============================] - 4s 676ms/step - loss: 7.6938 - mse: 7.6938 - val_loss: 6.8847 - val_mse: 6.8847\n",
            "Epoch 4/32\n",
            "6/6 [==============================] - 4s 674ms/step - loss: 6.3673 - mse: 6.3673 - val_loss: 5.3827 - val_mse: 5.3827\n",
            "Epoch 5/32\n",
            "6/6 [==============================] - 4s 670ms/step - loss: 3.8246 - mse: 3.8246 - val_loss: 4.1279 - val_mse: 4.1279\n",
            "Epoch 6/32\n",
            "6/6 [==============================] - 4s 669ms/step - loss: 3.1214 - mse: 3.1214 - val_loss: 2.8349 - val_mse: 2.8349\n",
            "Epoch 7/32\n",
            "6/6 [==============================] - 4s 675ms/step - loss: 2.3932 - mse: 2.3932 - val_loss: 2.3061 - val_mse: 2.3061\n",
            "Epoch 8/32\n",
            "6/6 [==============================] - 4s 671ms/step - loss: 2.0367 - mse: 2.0367 - val_loss: 2.0683 - val_mse: 2.0683\n",
            "Epoch 9/32\n",
            "6/6 [==============================] - 4s 676ms/step - loss: 1.8040 - mse: 1.8040 - val_loss: 2.0554 - val_mse: 2.0554\n",
            "Epoch 10/32\n",
            "6/6 [==============================] - 4s 667ms/step - loss: 1.7704 - mse: 1.7704 - val_loss: 2.4276 - val_mse: 2.4276\n",
            "Epoch 11/32\n",
            "6/6 [==============================] - 4s 669ms/step - loss: 2.0439 - mse: 2.0439 - val_loss: 1.8243 - val_mse: 1.8243\n",
            "Epoch 12/32\n",
            "6/6 [==============================] - 4s 673ms/step - loss: 1.7387 - mse: 1.7387 - val_loss: 1.7949 - val_mse: 1.7949\n",
            "Epoch 13/32\n",
            "6/6 [==============================] - 4s 674ms/step - loss: 1.4614 - mse: 1.4614 - val_loss: 2.0001 - val_mse: 2.0001\n",
            "Epoch 14/32\n",
            "6/6 [==============================] - 4s 671ms/step - loss: 1.4971 - mse: 1.4971 - val_loss: 1.8142 - val_mse: 1.8142\n",
            "Epoch 15/32\n",
            "6/6 [==============================] - 4s 668ms/step - loss: 1.4741 - mse: 1.4741 - val_loss: 1.6974 - val_mse: 1.6974\n",
            "Epoch 16/32\n",
            "6/6 [==============================] - 4s 670ms/step - loss: 1.2917 - mse: 1.2917 - val_loss: 1.6688 - val_mse: 1.6688\n",
            "Epoch 17/32\n",
            "6/6 [==============================] - 4s 669ms/step - loss: 1.1681 - mse: 1.1681 - val_loss: 1.7700 - val_mse: 1.7700\n",
            "Epoch 18/32\n",
            "6/6 [==============================] - 4s 673ms/step - loss: 1.3039 - mse: 1.3039 - val_loss: 1.9339 - val_mse: 1.9339\n",
            "Epoch 19/32\n",
            "6/6 [==============================] - 4s 675ms/step - loss: 1.1508 - mse: 1.1508 - val_loss: 1.6077 - val_mse: 1.6077\n",
            "Epoch 20/32\n",
            "6/6 [==============================] - 4s 678ms/step - loss: 1.1410 - mse: 1.1410 - val_loss: 1.6889 - val_mse: 1.6889\n",
            "Epoch 21/32\n",
            "6/6 [==============================] - 4s 670ms/step - loss: 1.1450 - mse: 1.1450 - val_loss: 1.5852 - val_mse: 1.5852\n",
            "Epoch 22/32\n",
            "6/6 [==============================] - 4s 667ms/step - loss: 1.1202 - mse: 1.1202 - val_loss: 1.6952 - val_mse: 1.6952\n",
            "Epoch 23/32\n",
            "6/6 [==============================] - 4s 666ms/step - loss: 1.0113 - mse: 1.0113 - val_loss: 1.5619 - val_mse: 1.5619\n",
            "Epoch 24/32\n",
            "6/6 [==============================] - 4s 673ms/step - loss: 0.9257 - mse: 0.9257 - val_loss: 1.5794 - val_mse: 1.5794\n",
            "Epoch 25/32\n",
            "6/6 [==============================] - 4s 672ms/step - loss: 0.8931 - mse: 0.8931 - val_loss: 1.5347 - val_mse: 1.5347\n",
            "Epoch 26/32\n",
            "6/6 [==============================] - 4s 671ms/step - loss: 0.8617 - mse: 0.8617 - val_loss: 1.5353 - val_mse: 1.5353\n",
            "Epoch 27/32\n",
            "6/6 [==============================] - 4s 666ms/step - loss: 0.8372 - mse: 0.8372 - val_loss: 1.5214 - val_mse: 1.5214\n",
            "Epoch 28/32\n",
            "6/6 [==============================] - 4s 674ms/step - loss: 0.8067 - mse: 0.8067 - val_loss: 1.5658 - val_mse: 1.5658\n",
            "Epoch 29/32\n",
            "6/6 [==============================] - 4s 671ms/step - loss: 0.7998 - mse: 0.7998 - val_loss: 1.5096 - val_mse: 1.5096\n",
            "Epoch 30/32\n",
            "6/6 [==============================] - 4s 668ms/step - loss: 0.7616 - mse: 0.7616 - val_loss: 1.5054 - val_mse: 1.5054\n",
            "Epoch 31/32\n",
            "6/6 [==============================] - 4s 674ms/step - loss: 0.7625 - mse: 0.7625 - val_loss: 1.4926 - val_mse: 1.4926\n",
            "Epoch 32/32\n",
            "6/6 [==============================] - 4s 669ms/step - loss: 0.7835 - mse: 0.7835 - val_loss: 1.5516 - val_mse: 1.5516\n"
          ]
        }
      ]
    },
    {
      "cell_type": "markdown",
      "metadata": {
        "id": "VzBq4xK-9Pgb"
      },
      "source": [
        "# ** print your learning curves for training and validation.**"
      ],
      "id": "VzBq4xK-9Pgb"
    },
    {
      "cell_type": "code",
      "metadata": {
        "colab": {
          "base_uri": "https://localhost:8080/",
          "height": 302
        },
        "id": "qGGvPFJFCdWC",
        "outputId": "d8f99178-43ee-4b5b-fd21-ddc88389f7cf"
      },
      "source": [
        "plt.plot(history.history['loss'])\n",
        "plt.plot(history.history['val_loss'])\n",
        "plt.title('Model loss')\n",
        "plt.ylabel('Loss')\n",
        "plt.xlabel('Epoch')\n",
        "plt.legend(['train', 'validation'], loc='upper left')\n",
        "plt.show()"
      ],
      "id": "qGGvPFJFCdWC",
      "execution_count": null,
      "outputs": [
        {
          "output_type": "display_data",
          "data": {
            "image/png": "[encoded data removed]",
            "text/plain": [
              "<Figure size 432x288 with 1 Axes>"
            ]
          },
          "metadata": {
            "needs_background": "light"
          }
        }
      ]
    },
    {
      "cell_type": "markdown",
      "metadata": {
        "id": "rPEbO8rVGGyb"
      },
      "source": [
        "# **Give your mean squared error on training including validation and testing**\n"
      ],
      "id": "rPEbO8rVGGyb"
    },
    {
      "cell_type": "code",
      "metadata": {
        "colab": {
          "base_uri": "https://localhost:8080/"
        },
        "id": "dBf7T-3XTacP",
        "outputId": "e913e55e-27bc-4469-d92f-dc4d450f6654"
      },
      "source": [
        "vgg_model_transfer_regression.evaluate(X_valid,y_valid.astype(int))"
      ],
      "id": "dBf7T-3XTacP",
      "execution_count": null,
      "outputs": [
        {
          "output_type": "stream",
          "name": "stdout",
          "text": [
            "6/6 [==============================] - 1s 125ms/step - loss: 1.5516 - mse: 1.5516\n"
          ]
        },
        {
          "output_type": "execute_result",
          "data": {
            "text/plain": [
              "[1.5516281127929688, 1.5516281127929688]"
            ]
          },
          "metadata": {},
          "execution_count": 209
        }
      ]
    },
    {
      "cell_type": "code",
      "metadata": {
        "colab": {
          "base_uri": "https://localhost:8080/"
        },
        "id": "gf9nkRRPCdOT",
        "outputId": "4e4f5737-beb1-4033-b9a1-71178f59310c"
      },
      "source": [
        "vgg_model_transfer_regression.evaluate(new_img_test,ymultclass_test.astype(int))"
      ],
      "id": "gf9nkRRPCdOT",
      "execution_count": null,
      "outputs": [
        {
          "output_type": "stream",
          "name": "stdout",
          "text": [
            "4/4 [==============================] - 0s 97ms/step - loss: 1.3098 - mse: 1.3098\n"
          ]
        },
        {
          "output_type": "execute_result",
          "data": {
            "text/plain": [
              "[1.3097518682479858, 1.3097518682479858]"
            ]
          },
          "metadata": {},
          "execution_count": 210
        }
      ]
    },
    {
      "cell_type": "code",
      "metadata": {
        "id": "M5T7zSmbY35E"
      },
      "source": [
        ""
      ],
      "id": "M5T7zSmbY35E",
      "execution_count": null,
      "outputs": []
    },
    {
      "cell_type": "markdown",
      "metadata": {
        "id": "E6e2pIXJZgby"
      },
      "source": [
        "# **Discussion on regression:**"
      ],
      "id": "E6e2pIXJZgby"
    },
    {
      "cell_type": "code",
      "metadata": {
        "id": "LYu99NN4CdMS"
      },
      "source": [
        "y_predict_prob = vgg_model_transfer_regression.predict(X_valid)"
      ],
      "id": "LYu99NN4CdMS",
      "execution_count": null,
      "outputs": []
    },
    {
      "cell_type": "code",
      "metadata": {
        "colab": {
          "base_uri": "https://localhost:8080/"
        },
        "id": "v0zc-VQqCdJX",
        "outputId": "56a274ee-9687-40d1-e4b9-8d01f8441db4"
      },
      "source": [
        "y_predict_prob"
      ],
      "id": "v0zc-VQqCdJX",
      "execution_count": null,
      "outputs": [
        {
          "output_type": "execute_result",
          "data": {
            "text/plain": [
              "array([[ 2.1271675 ],\n",
              "       [ 2.5104272 ],\n",
              "       [ 1.604735  ],\n",
              "       [ 2.8259938 ],\n",
              "       [ 1.7197306 ],\n",
              "       [ 1.8741076 ],\n",
              "       [ 1.2174324 ],\n",
              "       [ 2.5074852 ],\n",
              "       [ 2.1793509 ],\n",
              "       [ 2.6858194 ],\n",
              "       [ 2.1604962 ],\n",
              "       [ 1.7810326 ],\n",
              "       [ 2.9963248 ],\n",
              "       [ 2.4760606 ],\n",
              "       [ 0.88568836],\n",
              "       [ 1.6169609 ],\n",
              "       [ 1.8414001 ],\n",
              "       [ 3.1761541 ],\n",
              "       [ 1.7722857 ],\n",
              "       [ 0.948366  ],\n",
              "       [ 1.5156548 ],\n",
              "       [ 2.5887372 ],\n",
              "       [ 1.495822  ],\n",
              "       [ 1.8117663 ],\n",
              "       [ 2.4397724 ],\n",
              "       [ 2.3704972 ],\n",
              "       [ 3.752991  ],\n",
              "       [ 3.4995995 ],\n",
              "       [ 0.22438064],\n",
              "       [ 2.1618333 ],\n",
              "       [ 0.08051601],\n",
              "       [ 2.8523955 ],\n",
              "       [-0.46242508],\n",
              "       [ 4.952064  ],\n",
              "       [ 1.9316243 ],\n",
              "       [ 1.4203727 ],\n",
              "       [ 2.5596402 ],\n",
              "       [ 1.5933212 ],\n",
              "       [ 1.735517  ],\n",
              "       [ 1.9098287 ],\n",
              "       [ 2.0112007 ],\n",
              "       [ 1.8491075 ],\n",
              "       [ 2.1064827 ],\n",
              "       [ 3.6508782 ],\n",
              "       [ 2.0895393 ],\n",
              "       [ 1.9291128 ],\n",
              "       [ 2.4394312 ],\n",
              "       [ 1.6874077 ],\n",
              "       [ 1.3948565 ],\n",
              "       [ 2.734254  ],\n",
              "       [ 2.2098486 ],\n",
              "       [ 1.4401815 ],\n",
              "       [ 0.78200096],\n",
              "       [ 1.8129282 ],\n",
              "       [ 2.2081807 ],\n",
              "       [ 2.2014894 ],\n",
              "       [ 4.213759  ],\n",
              "       [ 4.1543446 ],\n",
              "       [ 0.79893476],\n",
              "       [ 1.3087711 ],\n",
              "       [ 1.8500276 ],\n",
              "       [ 2.0175126 ],\n",
              "       [ 2.1717887 ],\n",
              "       [ 5.0297074 ],\n",
              "       [ 2.1971555 ],\n",
              "       [ 2.705026  ],\n",
              "       [ 2.6188529 ],\n",
              "       [ 2.7132237 ],\n",
              "       [ 3.1639545 ],\n",
              "       [ 2.9773328 ],\n",
              "       [ 1.9767389 ],\n",
              "       [ 1.1737741 ],\n",
              "       [ 2.576521  ],\n",
              "       [ 1.6268926 ],\n",
              "       [ 2.328623  ],\n",
              "       [ 2.022761  ],\n",
              "       [ 1.4379925 ],\n",
              "       [ 3.6117399 ],\n",
              "       [ 2.4691968 ],\n",
              "       [ 1.5054945 ],\n",
              "       [ 3.47621   ],\n",
              "       [ 3.2805488 ],\n",
              "       [ 3.872329  ],\n",
              "       [ 2.0065677 ],\n",
              "       [ 3.6826117 ],\n",
              "       [ 2.701123  ],\n",
              "       [ 2.808878  ],\n",
              "       [ 4.0439334 ],\n",
              "       [ 0.96087533],\n",
              "       [ 1.0191656 ],\n",
              "       [ 2.7408357 ],\n",
              "       [ 1.9344565 ],\n",
              "       [ 3.008976  ],\n",
              "       [ 3.233791  ],\n",
              "       [ 2.9559796 ],\n",
              "       [ 2.2406776 ],\n",
              "       [ 2.988232  ],\n",
              "       [ 3.2705028 ],\n",
              "       [ 2.247545  ],\n",
              "       [ 4.1499324 ],\n",
              "       [ 0.757422  ],\n",
              "       [ 3.577663  ],\n",
              "       [ 0.9934829 ],\n",
              "       [ 2.0884564 ],\n",
              "       [ 3.3515232 ],\n",
              "       [ 3.44392   ],\n",
              "       [ 2.869437  ],\n",
              "       [ 1.6816006 ],\n",
              "       [ 4.0073085 ],\n",
              "       [ 1.6647322 ],\n",
              "       [ 2.3987596 ],\n",
              "       [ 3.1878724 ],\n",
              "       [ 3.085533  ],\n",
              "       [ 3.1510375 ],\n",
              "       [ 3.4448104 ],\n",
              "       [ 2.5894554 ],\n",
              "       [ 3.4535487 ],\n",
              "       [ 3.0951593 ],\n",
              "       [ 2.6434133 ],\n",
              "       [ 3.0105772 ],\n",
              "       [ 0.8142361 ],\n",
              "       [ 3.6660957 ],\n",
              "       [ 1.7043097 ],\n",
              "       [ 3.889548  ],\n",
              "       [ 1.2380922 ],\n",
              "       [ 2.8745708 ],\n",
              "       [ 1.7045139 ],\n",
              "       [ 3.1470063 ],\n",
              "       [ 2.6137717 ],\n",
              "       [ 3.4960878 ],\n",
              "       [ 0.85263616],\n",
              "       [ 1.92015   ],\n",
              "       [ 3.6837616 ],\n",
              "       [ 2.1008852 ],\n",
              "       [ 2.0067735 ],\n",
              "       [ 3.3765392 ],\n",
              "       [ 0.7933415 ],\n",
              "       [ 1.5967209 ],\n",
              "       [ 3.3383522 ],\n",
              "       [ 1.6709502 ],\n",
              "       [ 1.6779698 ],\n",
              "       [ 3.0483592 ],\n",
              "       [ 0.906312  ],\n",
              "       [ 0.8697159 ],\n",
              "       [ 1.2869703 ],\n",
              "       [ 2.217858  ],\n",
              "       [ 2.0348742 ],\n",
              "       [ 2.5770304 ],\n",
              "       [ 1.6666101 ],\n",
              "       [ 0.632381  ],\n",
              "       [ 4.1567683 ],\n",
              "       [ 0.31563064],\n",
              "       [ 3.1397524 ],\n",
              "       [ 2.668639  ],\n",
              "       [ 3.5895092 ],\n",
              "       [ 1.7923461 ],\n",
              "       [ 1.846256  ],\n",
              "       [ 2.5615764 ],\n",
              "       [ 1.5078456 ],\n",
              "       [ 1.8133698 ],\n",
              "       [ 3.8848128 ],\n",
              "       [ 1.6429853 ],\n",
              "       [ 1.1899706 ],\n",
              "       [ 3.2765787 ],\n",
              "       [ 3.6956882 ],\n",
              "       [ 2.0286825 ],\n",
              "       [ 2.6241133 ],\n",
              "       [ 1.8534527 ],\n",
              "       [ 2.4578316 ],\n",
              "       [ 2.7205498 ],\n",
              "       [ 2.3216248 ],\n",
              "       [ 2.2871275 ],\n",
              "       [ 2.6172476 ],\n",
              "       [ 3.28915   ],\n",
              "       [ 1.3259398 ],\n",
              "       [ 2.4500718 ],\n",
              "       [ 1.4384598 ],\n",
              "       [ 3.109663  ],\n",
              "       [ 2.4586422 ],\n",
              "       [ 0.91641945]], dtype=float32)"
            ]
          },
          "metadata": {},
          "execution_count": 212
        }
      ]
    },
    {
      "cell_type": "code",
      "metadata": {
        "id": "CBAMRiTLCdHQ"
      },
      "source": [
        "y_predict_prob = vgg_model_transfer_regression.predict(new_img_test)"
      ],
      "id": "CBAMRiTLCdHQ",
      "execution_count": null,
      "outputs": []
    },
    {
      "cell_type": "code",
      "metadata": {
        "colab": {
          "base_uri": "https://localhost:8080/"
        },
        "id": "hHvNH1-wf8Vn",
        "outputId": "a452796a-245e-4b48-dfe2-811ed79b78a6"
      },
      "source": [
        "y_predict_prob"
      ],
      "id": "hHvNH1-wf8Vn",
      "execution_count": null,
      "outputs": [
        {
          "output_type": "execute_result",
          "data": {
            "text/plain": [
              "array([[3.502002  ],\n",
              "       [2.3004167 ],\n",
              "       [2.6376626 ],\n",
              "       [1.9982755 ],\n",
              "       [1.8838353 ],\n",
              "       [3.5711067 ],\n",
              "       [3.7084439 ],\n",
              "       [2.321839  ],\n",
              "       [3.504917  ],\n",
              "       [2.205815  ],\n",
              "       [1.580038  ],\n",
              "       [3.2752626 ],\n",
              "       [3.6693993 ],\n",
              "       [2.5633168 ],\n",
              "       [2.6084282 ],\n",
              "       [3.631418  ],\n",
              "       [2.626799  ],\n",
              "       [3.2719586 ],\n",
              "       [2.9312298 ],\n",
              "       [3.4512837 ],\n",
              "       [0.5568494 ],\n",
              "       [0.263894  ],\n",
              "       [1.3975737 ],\n",
              "       [1.7570772 ],\n",
              "       [0.55243236],\n",
              "       [1.4442153 ],\n",
              "       [1.4192045 ],\n",
              "       [0.892145  ],\n",
              "       [0.35596052],\n",
              "       [0.93720764],\n",
              "       [1.6297876 ],\n",
              "       [1.1729661 ],\n",
              "       [2.0819461 ],\n",
              "       [2.5090277 ],\n",
              "       [1.465132  ],\n",
              "       [1.7752328 ],\n",
              "       [1.1265588 ],\n",
              "       [0.9972463 ],\n",
              "       [1.9092623 ],\n",
              "       [1.9960258 ],\n",
              "       [3.012081  ],\n",
              "       [3.8893678 ],\n",
              "       [2.5584986 ],\n",
              "       [2.4672081 ],\n",
              "       [2.7353542 ],\n",
              "       [1.3045256 ],\n",
              "       [1.6550832 ],\n",
              "       [1.8468235 ],\n",
              "       [1.2246397 ],\n",
              "       [4.8862824 ],\n",
              "       [3.1070077 ],\n",
              "       [3.163895  ],\n",
              "       [2.4961832 ],\n",
              "       [2.5592484 ],\n",
              "       [2.2651808 ],\n",
              "       [2.7302763 ],\n",
              "       [2.9667645 ],\n",
              "       [3.2511275 ],\n",
              "       [2.0063322 ],\n",
              "       [3.511913  ],\n",
              "       [2.7114913 ],\n",
              "       [1.555923  ],\n",
              "       [1.438911  ],\n",
              "       [3.2588954 ],\n",
              "       [3.6995575 ],\n",
              "       [2.85966   ],\n",
              "       [2.9156163 ],\n",
              "       [2.6447608 ],\n",
              "       [1.1109451 ],\n",
              "       [4.490114  ],\n",
              "       [3.0102878 ],\n",
              "       [2.1832697 ],\n",
              "       [1.706765  ],\n",
              "       [1.5333998 ],\n",
              "       [2.396333  ],\n",
              "       [3.5929563 ],\n",
              "       [0.64867926],\n",
              "       [2.6009662 ],\n",
              "       [1.6419885 ],\n",
              "       [3.2149918 ],\n",
              "       [1.6087593 ],\n",
              "       [1.2802246 ],\n",
              "       [1.0366716 ],\n",
              "       [1.0603756 ],\n",
              "       [2.5664384 ],\n",
              "       [0.8273851 ],\n",
              "       [1.8743798 ],\n",
              "       [2.7151768 ],\n",
              "       [2.113661  ],\n",
              "       [2.4408166 ],\n",
              "       [2.3194792 ],\n",
              "       [1.6699905 ],\n",
              "       [1.4494239 ],\n",
              "       [1.393411  ],\n",
              "       [2.1231732 ],\n",
              "       [1.6269848 ],\n",
              "       [1.9790425 ],\n",
              "       [1.0476835 ],\n",
              "       [1.7203718 ],\n",
              "       [1.7387688 ]], dtype=float32)"
            ]
          },
          "metadata": {},
          "execution_count": 214
        }
      ]
    },
    {
      "cell_type": "code",
      "metadata": {
        "colab": {
          "base_uri": "https://localhost:8080/"
        },
        "id": "1EcS0Z5wiO-R",
        "outputId": "b00b5c40-50b3-40e6-e9c1-ba57eddc998b"
      },
      "source": [
        "from sklearn.metrics import classification_report\n",
        "\n",
        "print(classification_report(ymultclass_test.astype(int), np.round(y_predict_prob)))"
      ],
      "id": "1EcS0Z5wiO-R",
      "execution_count": null,
      "outputs": [
        {
          "output_type": "stream",
          "name": "stdout",
          "text": [
            "              precision    recall  f1-score   support\n",
            "\n",
            "         0.0       1.00      0.10      0.18        20\n",
            "         1.0       0.30      0.35      0.33        20\n",
            "         2.0       0.17      0.30      0.22        20\n",
            "         3.0       0.32      0.45      0.38        20\n",
            "         4.0       0.55      0.30      0.39        20\n",
            "         5.0       0.00      0.00      0.00         0\n",
            "\n",
            "    accuracy                           0.30       100\n",
            "   macro avg       0.39      0.25      0.25       100\n",
            "weighted avg       0.47      0.30      0.30       100\n",
            "\n"
          ]
        },
        {
          "output_type": "stream",
          "name": "stderr",
          "text": [
            "/usr/local/lib/python3.7/dist-packages/sklearn/metrics/_classification.py:1272: UndefinedMetricWarning: Recall and F-score are ill-defined and being set to 0.0 in labels with no true samples. Use `zero_division` parameter to control this behavior.\n",
            "  _warn_prf(average, modifier, msg_start, len(result))\n"
          ]
        }
      ]
    },
    {
      "cell_type": "markdown",
      "metadata": {
        "id": "FWicENZexp-Z"
      },
      "source": [
        "# **Regularization on classification **"
      ],
      "id": "FWicENZexp-Z"
    },
    {
      "cell_type": "code",
      "metadata": {
        "id": "mrA0pW2yxxw2"
      },
      "source": [
        "for layer in vgg_model.layers:\n",
        "    layer.trainable = False\n",
        "\n",
        "# We will have to use the functional API    \n",
        "\n",
        "# last layers output\n",
        "import tensorflow as tf\n",
        "from tensorflow import keras\n",
        "from keras.layers.core import Dropout\n",
        "from keras import regularizers\n",
        "x = vgg_model.layers[-13].output\n",
        "#x =  Batch Normalization(0.1)(x)\n",
        "x = Flatten()(x)\n",
        "x = Dropout(0.3)(x)\n",
        "#x = Dense(10, activation='softmax')(x)\n",
        "#x = MaxPooling2D(pool_size=(8, 8))(x)\n",
        "#x = Conv2D(256, (1, 1),activation='relu')(x)\n",
        "from keras.layers import BatchNormalization\n",
        "x = Dense(2000, activation='relu')(x)\n",
        "#x = Dropout(0.3)(x)\n",
        "x = BatchNormalization()(x)\n",
        "x = Dense(500, activation='relu',kernel_regularizer=regularizers.l2(0.004))(x)\n",
        "x = Dense(250, activation='relu',kernel_regularizer=regularizers.l1(0.00008))(x)\n",
        "x = Dense(5, activation='softmax')(x)\n",
        "\n",
        "from tensorflow.keras.models import Model\n",
        "vgg_model_transfer_classification_regular = Model(inputs=vgg_model.input, outputs=x)"
      ],
      "id": "mrA0pW2yxxw2",
      "execution_count": null,
      "outputs": []
    },
    {
      "cell_type": "code",
      "metadata": {
        "colab": {
          "base_uri": "https://localhost:8080/"
        },
        "id": "WJZSFK9CzxvK",
        "outputId": "ad22a277-fbc3-488b-d0be-d30ac723211a"
      },
      "source": [
        "print(vgg_model_transfer_classification_regular.summary())"
      ],
      "id": "WJZSFK9CzxvK",
      "execution_count": null,
      "outputs": [
        {
          "output_type": "stream",
          "name": "stdout",
          "text": [
            "Model: \"model_18\"\n",
            "_________________________________________________________________\n",
            "Layer (type)                 Output Shape              Param #   \n",
            "=================================================================\n",
            "input_2 (InputLayer)         [(None, 32, 32, 3)]       0         \n",
            "_________________________________________________________________\n",
            "block1_conv1 (Conv2D)        (None, 32, 32, 64)        1792      \n",
            "_________________________________________________________________\n",
            "block1_conv2 (Conv2D)        (None, 32, 32, 64)        36928     \n",
            "_________________________________________________________________\n",
            "block1_pool (MaxPooling2D)   (None, 16, 16, 64)        0         \n",
            "_________________________________________________________________\n",
            "block2_conv1 (Conv2D)        (None, 16, 16, 128)       73856     \n",
            "_________________________________________________________________\n",
            "block2_conv2 (Conv2D)        (None, 16, 16, 128)       147584    \n",
            "_________________________________________________________________\n",
            "block2_pool (MaxPooling2D)   (None, 8, 8, 128)         0         \n",
            "_________________________________________________________________\n",
            "flatten_18 (Flatten)         (None, 8192)              0         \n",
            "_________________________________________________________________\n",
            "dropout (Dropout)            (None, 8192)              0         \n",
            "_________________________________________________________________\n",
            "dense_60 (Dense)             (None, 2000)              16386000  \n",
            "_________________________________________________________________\n",
            "batch_normalization (BatchNo (None, 2000)              8000      \n",
            "_________________________________________________________________\n",
            "dense_61 (Dense)             (None, 500)               1000500   \n",
            "_________________________________________________________________\n",
            "dense_62 (Dense)             (None, 250)               125250    \n",
            "_________________________________________________________________\n",
            "dense_63 (Dense)             (None, 5)                 1255      \n",
            "=================================================================\n",
            "Total params: 17,781,165\n",
            "Trainable params: 17,517,005\n",
            "Non-trainable params: 264,160\n",
            "_________________________________________________________________\n",
            "None\n"
          ]
        }
      ]
    },
    {
      "cell_type": "code",
      "metadata": {
        "colab": {
          "base_uri": "https://localhost:8080/"
        },
        "id": "-pKWRJl413X9",
        "outputId": "50305cde-21ae-4a87-b0a7-2d1dda415d73"
      },
      "source": [
        "batchSize = 128\n",
        "nEpochs = 32\n",
        "\n",
        "    \n",
        "sgd = tensorflow.keras.optimizers.SGD(learning_rate=0.0008)\n",
        "vgg_model_transfer_classification_regular.compile(loss='categorical_crossentropy', \n",
        "                           optimizer=sgd, \n",
        "                           metrics=['accuracy'])\n",
        "\n",
        "\n",
        "history = vgg_model_transfer_classification_regular.fit(X_train, y_train_k, batch_size=batchSize, epochs=nEpochs, verbose=1, \n",
        "                                 validation_data=(X_valid, y_valid_k))"
      ],
      "id": "-pKWRJl413X9",
      "execution_count": null,
      "outputs": [
        {
          "output_type": "stream",
          "name": "stdout",
          "text": [
            "Epoch 1/32\n",
            "6/6 [==============================] - 6s 830ms/step - loss: 5.4769 - accuracy: 0.2069 - val_loss: 6.3869 - val_accuracy: 0.2056\n",
            "Epoch 2/32\n",
            "6/6 [==============================] - 5s 792ms/step - loss: 5.4488 - accuracy: 0.2042 - val_loss: 5.9295 - val_accuracy: 0.2111\n",
            "Epoch 3/32\n",
            "6/6 [==============================] - 5s 779ms/step - loss: 5.4429 - accuracy: 0.2014 - val_loss: 5.7192 - val_accuracy: 0.2167\n",
            "Epoch 4/32\n",
            "6/6 [==============================] - 5s 783ms/step - loss: 5.4416 - accuracy: 0.2125 - val_loss: 5.5998 - val_accuracy: 0.2167\n",
            "Epoch 5/32\n",
            "6/6 [==============================] - 5s 786ms/step - loss: 5.4291 - accuracy: 0.2167 - val_loss: 5.5163 - val_accuracy: 0.2278\n",
            "Epoch 6/32\n",
            "6/6 [==============================] - 5s 784ms/step - loss: 5.3782 - accuracy: 0.2153 - val_loss: 5.4632 - val_accuracy: 0.2333\n",
            "Epoch 7/32\n",
            "6/6 [==============================] - 5s 790ms/step - loss: 5.3432 - accuracy: 0.2472 - val_loss: 5.4224 - val_accuracy: 0.2389\n",
            "Epoch 8/32\n",
            "6/6 [==============================] - 5s 786ms/step - loss: 5.3729 - accuracy: 0.2472 - val_loss: 5.3870 - val_accuracy: 0.2500\n",
            "Epoch 9/32\n",
            "6/6 [==============================] - 5s 786ms/step - loss: 5.3371 - accuracy: 0.2375 - val_loss: 5.3586 - val_accuracy: 0.2500\n",
            "Epoch 10/32\n",
            "6/6 [==============================] - 5s 772ms/step - loss: 5.3560 - accuracy: 0.2514 - val_loss: 5.3368 - val_accuracy: 0.2500\n",
            "Epoch 11/32\n",
            "6/6 [==============================] - 5s 788ms/step - loss: 5.3144 - accuracy: 0.2667 - val_loss: 5.3198 - val_accuracy: 0.2667\n",
            "Epoch 12/32\n",
            "6/6 [==============================] - 5s 785ms/step - loss: 5.3204 - accuracy: 0.2458 - val_loss: 5.3047 - val_accuracy: 0.2667\n",
            "Epoch 13/32\n",
            "6/6 [==============================] - 5s 776ms/step - loss: 5.3542 - accuracy: 0.2625 - val_loss: 5.2922 - val_accuracy: 0.2722\n",
            "Epoch 14/32\n",
            "6/6 [==============================] - 5s 781ms/step - loss: 5.3092 - accuracy: 0.2653 - val_loss: 5.2805 - val_accuracy: 0.2833\n",
            "Epoch 15/32\n",
            "6/6 [==============================] - 5s 781ms/step - loss: 5.2917 - accuracy: 0.2764 - val_loss: 5.2720 - val_accuracy: 0.2833\n",
            "Epoch 16/32\n",
            "6/6 [==============================] - 5s 792ms/step - loss: 5.3285 - accuracy: 0.2583 - val_loss: 5.2637 - val_accuracy: 0.2944\n",
            "Epoch 17/32\n",
            "6/6 [==============================] - 5s 786ms/step - loss: 5.2857 - accuracy: 0.2847 - val_loss: 5.2528 - val_accuracy: 0.2833\n",
            "Epoch 18/32\n",
            "6/6 [==============================] - 5s 790ms/step - loss: 5.2763 - accuracy: 0.2667 - val_loss: 5.2454 - val_accuracy: 0.2778\n",
            "Epoch 19/32\n",
            "6/6 [==============================] - 5s 787ms/step - loss: 5.3040 - accuracy: 0.2653 - val_loss: 5.2404 - val_accuracy: 0.2944\n",
            "Epoch 20/32\n",
            "6/6 [==============================] - 5s 791ms/step - loss: 5.2489 - accuracy: 0.2875 - val_loss: 5.2362 - val_accuracy: 0.2889\n",
            "Epoch 21/32\n",
            "6/6 [==============================] - 5s 777ms/step - loss: 5.2263 - accuracy: 0.3181 - val_loss: 5.2314 - val_accuracy: 0.2833\n",
            "Epoch 22/32\n",
            "6/6 [==============================] - 5s 784ms/step - loss: 5.2404 - accuracy: 0.3028 - val_loss: 5.2277 - val_accuracy: 0.2778\n",
            "Epoch 23/32\n",
            "6/6 [==============================] - 5s 781ms/step - loss: 5.2184 - accuracy: 0.3069 - val_loss: 5.2225 - val_accuracy: 0.2889\n",
            "Epoch 24/32\n",
            "6/6 [==============================] - 5s 778ms/step - loss: 5.2075 - accuracy: 0.3153 - val_loss: 5.2190 - val_accuracy: 0.2611\n",
            "Epoch 25/32\n",
            "6/6 [==============================] - 5s 792ms/step - loss: 5.2126 - accuracy: 0.3347 - val_loss: 5.2142 - val_accuracy: 0.2667\n",
            "Epoch 26/32\n",
            "6/6 [==============================] - 5s 786ms/step - loss: 5.2003 - accuracy: 0.2986 - val_loss: 5.2106 - val_accuracy: 0.2722\n",
            "Epoch 27/32\n",
            "6/6 [==============================] - 5s 787ms/step - loss: 5.1713 - accuracy: 0.3319 - val_loss: 5.2053 - val_accuracy: 0.2833\n",
            "Epoch 28/32\n",
            "6/6 [==============================] - 5s 786ms/step - loss: 5.1679 - accuracy: 0.3528 - val_loss: 5.2004 - val_accuracy: 0.2722\n",
            "Epoch 29/32\n",
            "6/6 [==============================] - 5s 790ms/step - loss: 5.1241 - accuracy: 0.3819 - val_loss: 5.1975 - val_accuracy: 0.2722\n",
            "Epoch 30/32\n",
            "6/6 [==============================] - 5s 781ms/step - loss: 5.1608 - accuracy: 0.3306 - val_loss: 5.1947 - val_accuracy: 0.2833\n",
            "Epoch 31/32\n",
            "6/6 [==============================] - 5s 781ms/step - loss: 5.1729 - accuracy: 0.3347 - val_loss: 5.1896 - val_accuracy: 0.2778\n",
            "Epoch 32/32\n",
            "6/6 [==============================] - 5s 778ms/step - loss: 5.1714 - accuracy: 0.3528 - val_loss: 5.1860 - val_accuracy: 0.2778\n"
          ]
        }
      ]
    },
    {
      "cell_type": "markdown",
      "metadata": {
        "id": "t4fqwr-z6Up2"
      },
      "source": [
        "#  print your learning curves for training and validation "
      ],
      "id": "t4fqwr-z6Up2"
    },
    {
      "cell_type": "code",
      "metadata": {
        "colab": {
          "base_uri": "https://localhost:8080/",
          "height": 302
        },
        "id": "9PA73ZYm6r3l",
        "outputId": "3a4034fa-f9df-4a35-836c-e0eea10c159c"
      },
      "source": [
        "# dictionary keys seems to have changed in version 2\n",
        "k = ''\n",
        "if 'accuracy' in history.history :\n",
        "    k = 'accuracy'    \n",
        "\n",
        "if 'acc' in history.history :\n",
        "    k = 'acc'\n",
        "    \n",
        "if k != '' :    \n",
        "    plt.plot(history.history[k])\n",
        "    plt.plot(history.history['val_'+k])\n",
        "    plt.title('Model Accuracy')\n",
        "    plt.ylabel('Accuracy')\n",
        "    plt.xlabel('Epoch')\n",
        "    plt.legend(['train', 'validation'], loc='upper left')\n",
        "    plt.show()"
      ],
      "id": "9PA73ZYm6r3l",
      "execution_count": null,
      "outputs": [
        {
          "output_type": "display_data",
          "data": {
            "image/png": "[encoded data removed]",
            "text/plain": [
              "<Figure size 432x288 with 1 Axes>"
            ]
          },
          "metadata": {
            "needs_background": "light"
          }
        }
      ]
    },
    {
      "cell_type": "code",
      "metadata": {
        "colab": {
          "base_uri": "https://localhost:8080/",
          "height": 302
        },
        "id": "nT54lpGa6l8-",
        "outputId": "d5cb22f4-43ee-4c48-a8ec-6e0ab6a1ea00"
      },
      "source": [
        "plt.plot(history.history['loss'])\n",
        "plt.plot(history.history['val_loss'])\n",
        "plt.title('Model loss')\n",
        "plt.ylabel('Loss')\n",
        "plt.xlabel('Epoch')\n",
        "plt.legend(['train', 'validation'], loc='upper left')\n",
        "plt.show()"
      ],
      "id": "nT54lpGa6l8-",
      "execution_count": null,
      "outputs": [
        {
          "output_type": "display_data",
          "data": {
            "image/png": "[encoded data removed]",
            "text/plain": [
              "<Figure size 432x288 with 1 Axes>"
            ]
          },
          "metadata": {
            "needs_background": "light"
          }
        }
      ]
    },
    {
      "cell_type": "markdown",
      "metadata": {
        "id": "v4AhZbGnBmqX"
      },
      "source": [
        "# **Give the confusion matrix of your network on the training including validation**\n",
        "\n"
      ],
      "id": "v4AhZbGnBmqX"
    },
    {
      "cell_type": "code",
      "metadata": {
        "id": "4xPOia5b6xox"
      },
      "source": [
        "y_predict_prob = vgg_model_transfer_classification_regular.predict(X_valid)\n",
        "y_predict = y_predict_prob.argmax(axis=-1)\n",
        "y_valid=y_valid.astype(int)"
      ],
      "id": "4xPOia5b6xox",
      "execution_count": null,
      "outputs": []
    },
    {
      "cell_type": "code",
      "metadata": {
        "colab": {
          "base_uri": "https://localhost:8080/"
        },
        "id": "DGtloXdGBmq2",
        "outputId": "d3e06da5-b187-45c7-f07a-f29af02a4987"
      },
      "source": [
        "from sklearn.metrics import confusion_matrix\n",
        "\n",
        "conf_mx = confusion_matrix(y_valid, y_predict)\n",
        "print('Confusion matrix: \\n{0}'.format(conf_mx))"
      ],
      "id": "DGtloXdGBmq2",
      "execution_count": null,
      "outputs": [
        {
          "output_type": "stream",
          "name": "stdout",
          "text": [
            "Confusion matrix: \n",
            "[[ 9  3  4  9  6]\n",
            " [ 4  7  5 16  6]\n",
            " [ 3  6  2 17  7]\n",
            " [ 3  5  3 21  9]\n",
            " [ 2  2  4 16 11]]\n"
          ]
        }
      ]
    },
    {
      "cell_type": "markdown",
      "metadata": {
        "id": "3MfJ4i9B0jFK"
      },
      "source": [
        "discussion : the model has bad prediction in both class 2 , 3 ,4 and good prediction in class 1 and biased in class 2 to class 3 (7),,,biased in class 4 to class 3 (9) and bias in class 1 to class 2 (14)"
      ],
      "id": "3MfJ4i9B0jFK"
    },
    {
      "cell_type": "code",
      "metadata": {
        "id": "GALV8yzdBmq3"
      },
      "source": [
        "def plot_confusion_matrix(matrix):\n",
        "    \"\"\"If you prefer color and a colorbar\"\"\"\n",
        "    fig = plt.figure(figsize=(8,8))\n",
        "    ax = fig.add_subplot(111)\n",
        "    cax = ax.matshow(matrix)\n",
        "    fig.colorbar(cax)"
      ],
      "id": "GALV8yzdBmq3",
      "execution_count": null,
      "outputs": []
    },
    {
      "cell_type": "code",
      "metadata": {
        "colab": {
          "base_uri": "https://localhost:8080/",
          "height": 491
        },
        "id": "L70Xqy7FBmq5",
        "outputId": "84ee9e05-c42c-402c-cd57-3602ab121a72"
      },
      "source": [
        "row_sums = conf_mx.sum(axis=1, keepdims=True)\n",
        "norm_conf_mx = conf_mx / row_sums\n",
        "np.fill_diagonal(norm_conf_mx, 0)\n",
        "# plt.matshow(norm_conf_mx, cmap=plt.cm.gray)\n",
        "plot_confusion_matrix(norm_conf_mx)\n",
        "save_fig(\"VGGtransfer_confusion_matrix_errors\", tight_layout=False)\n",
        "plt.show()"
      ],
      "id": "L70Xqy7FBmq5",
      "execution_count": null,
      "outputs": [
        {
          "output_type": "stream",
          "name": "stdout",
          "text": [
            "Saving figure VGGtransfer_confusion_matrix_errors\n"
          ]
        },
        {
          "output_type": "display_data",
          "data": {
            "image/png": "[encoded data removed]",
            "text/plain": [
              "<Figure size 576x576 with 2 Axes>"
            ]
          },
          "metadata": {
            "needs_background": "light"
          }
        }
      ]
    },
    {
      "cell_type": "code",
      "metadata": {
        "id": "iQ1xsFjTCT6g"
      },
      "source": [
        ""
      ],
      "id": "iQ1xsFjTCT6g",
      "execution_count": null,
      "outputs": []
    },
    {
      "cell_type": "markdown",
      "metadata": {
        "id": "f6LSP9NDCzj5"
      },
      "source": [
        "# **Give the confusion matrix of your network on the training including testing**"
      ],
      "id": "f6LSP9NDCzj5"
    },
    {
      "cell_type": "code",
      "metadata": {
        "id": "WEA7BRgYCzj8"
      },
      "source": [
        "y_predict_prob_test = vgg_model_transfer_classification_regular.predict(new_img_test)"
      ],
      "id": "WEA7BRgYCzj8",
      "execution_count": null,
      "outputs": []
    },
    {
      "cell_type": "code",
      "metadata": {
        "id": "hOmMm98BCzj9"
      },
      "source": [
        "y_predict_test = y_predict_prob_test .argmax(axis=-1)"
      ],
      "id": "hOmMm98BCzj9",
      "execution_count": null,
      "outputs": []
    },
    {
      "cell_type": "code",
      "metadata": {
        "colab": {
          "base_uri": "https://localhost:8080/"
        },
        "id": "rNUdS6jGCzj9",
        "outputId": "044cae00-3600-499c-d80a-676a077a1002"
      },
      "source": [
        "from sklearn.metrics import confusion_matrix\n",
        "\n",
        "conf_mx = confusion_matrix(ymultclass_test.astype(int), y_predict_test)\n",
        "print('Confusion matrix: \\n{0}'.format(conf_mx))"
      ],
      "id": "rNUdS6jGCzj9",
      "execution_count": null,
      "outputs": [
        {
          "output_type": "stream",
          "name": "stdout",
          "text": [
            "Confusion matrix: \n",
            "[[10  1  1  5  3]\n",
            " [ 8  2  1  4  5]\n",
            " [ 1  4  2 10  3]\n",
            " [ 0  2  2 11  5]\n",
            " [ 2  1  2 10  5]]\n"
          ]
        }
      ]
    },
    {
      "cell_type": "markdown",
      "metadata": {
        "id": "gW9YMbg01VZ1"
      },
      "source": [
        "discussion: bias in class 1 to class 2 (10)"
      ],
      "id": "gW9YMbg01VZ1"
    },
    {
      "cell_type": "code",
      "metadata": {
        "id": "obYHq0gjCzj9"
      },
      "source": [
        "def plot_confusion_matrix(matrix):\n",
        "    \"\"\"If you prefer color and a colorbar\"\"\"\n",
        "    fig = plt.figure(figsize=(8,8))\n",
        "    ax = fig.add_subplot(111)\n",
        "    cax = ax.matshow(matrix)\n",
        "    fig.colorbar(cax)"
      ],
      "id": "obYHq0gjCzj9",
      "execution_count": null,
      "outputs": []
    },
    {
      "cell_type": "code",
      "metadata": {
        "colab": {
          "base_uri": "https://localhost:8080/",
          "height": 496
        },
        "id": "TkvnSzbECzj-",
        "outputId": "80e7a182-d86a-421a-98d5-ddd6a93ca0b8"
      },
      "source": [
        "row_sums = conf_mx.sum(axis=1, keepdims=True)\n",
        "norm_conf_mx = conf_mx / row_sums\n",
        "np.fill_diagonal(norm_conf_mx, 0)\n",
        "# plt.matshow(norm_conf_mx, cmap=plt.cm.gray)\n",
        "plot_confusion_matrix(norm_conf_mx)\n",
        "save_fig(\"VGGtransfer_confusion_matrix_errors\", tight_layout=False)\n",
        "plt.show()"
      ],
      "id": "TkvnSzbECzj-",
      "execution_count": null,
      "outputs": [
        {
          "output_type": "stream",
          "name": "stdout",
          "text": [
            "Saving figure VGGtransfer_confusion_matrix_errors\n"
          ]
        },
        {
          "output_type": "display_data",
          "data": {
            "image/png": "[encoded data removed]",
            "text/plain": [
              "<Figure size 576x576 with 2 Axes>"
            ]
          },
          "metadata": {
            "needs_background": "light"
          }
        }
      ]
    },
    {
      "cell_type": "code",
      "metadata": {
        "id": "yRfaIMe2DBuO"
      },
      "source": [
        ""
      ],
      "id": "yRfaIMe2DBuO",
      "execution_count": null,
      "outputs": []
    },
    {
      "cell_type": "markdown",
      "metadata": {
        "id": "F2AjckN0FSIw"
      },
      "source": [
        "# **AUGMENTATION**"
      ],
      "id": "F2AjckN0FSIw"
    },
    {
      "cell_type": "code",
      "metadata": {
        "id": "qqQ_nI-iFTbQ"
      },
      "source": [
        "from keras.preprocessing.image import ImageDataGenerator\n",
        "\n",
        "datagen = ImageDataGenerator(\n",
        "        rotation_range=40,\n",
        "        width_shift_range=0.2,\n",
        "        height_shift_range=0.2,\n",
        "        shear_range=0.2,\n",
        "        zoom_range=0.2,\n",
        "        horizontal_flip=True,\n",
        "        fill_mode='nearest')\n",
        "datagen.fit(X_train)\n"
      ],
      "id": "qqQ_nI-iFTbQ",
      "execution_count": null,
      "outputs": []
    },
    {
      "cell_type": "code",
      "metadata": {
        "colab": {
          "base_uri": "https://localhost:8080/"
        },
        "id": "f-IHp_swMe9B",
        "outputId": "a73afbb1-cfab-4b7c-beda-04288f4c0a22"
      },
      "source": [
        "batchSize = 128\n",
        "nEpochs = 32\n",
        "\n",
        "    \n",
        "sgd = tensorflow.keras.optimizers.SGD(learning_rate=0.0008)\n",
        "vgg_model_transfer_classification_regular.compile(loss='categorical_crossentropy', \n",
        "                           optimizer=sgd, \n",
        "                           metrics=['accuracy'])\n",
        "\n",
        "\n",
        "history = vgg_model_transfer_classification_regular.fit(datagen.flow(X_train, y_train_k), epochs=nEpochs, verbose=1, \n",
        "                                 validation_data=datagen.flow(X_valid, y_valid_k))"
      ],
      "id": "f-IHp_swMe9B",
      "execution_count": null,
      "outputs": [
        {
          "output_type": "stream",
          "name": "stdout",
          "text": [
            "Epoch 1/32\n",
            "23/23 [==============================] - 7s 284ms/step - loss: 5.3221 - accuracy: 0.2472 - val_loss: 5.2465 - val_accuracy: 0.2500\n",
            "Epoch 2/32\n",
            "23/23 [==============================] - 6s 274ms/step - loss: 5.3131 - accuracy: 0.2583 - val_loss: 5.2827 - val_accuracy: 0.2167\n",
            "Epoch 3/32\n",
            "23/23 [==============================] - 6s 273ms/step - loss: 5.2841 - accuracy: 0.2917 - val_loss: 5.1851 - val_accuracy: 0.3000\n",
            "Epoch 4/32\n",
            "23/23 [==============================] - 6s 267ms/step - loss: 5.2700 - accuracy: 0.2806 - val_loss: 5.1846 - val_accuracy: 0.3111\n",
            "Epoch 5/32\n",
            "23/23 [==============================] - 6s 277ms/step - loss: 5.2782 - accuracy: 0.2667 - val_loss: 5.1710 - val_accuracy: 0.3056\n",
            "Epoch 6/32\n",
            "23/23 [==============================] - 6s 268ms/step - loss: 5.2564 - accuracy: 0.2681 - val_loss: 5.1843 - val_accuracy: 0.2889\n",
            "Epoch 7/32\n",
            "23/23 [==============================] - 6s 264ms/step - loss: 5.2387 - accuracy: 0.2958 - val_loss: 5.1457 - val_accuracy: 0.3278\n",
            "Epoch 8/32\n",
            "23/23 [==============================] - 6s 275ms/step - loss: 5.2560 - accuracy: 0.2750 - val_loss: 5.1831 - val_accuracy: 0.2944\n",
            "Epoch 9/32\n",
            "23/23 [==============================] - 6s 275ms/step - loss: 5.2183 - accuracy: 0.2889 - val_loss: 5.1818 - val_accuracy: 0.2833\n",
            "Epoch 10/32\n",
            "23/23 [==============================] - 6s 271ms/step - loss: 5.2326 - accuracy: 0.2819 - val_loss: 5.1547 - val_accuracy: 0.3389\n",
            "Epoch 11/32\n",
            "23/23 [==============================] - 6s 274ms/step - loss: 5.1952 - accuracy: 0.3014 - val_loss: 5.1447 - val_accuracy: 0.3278\n",
            "Epoch 12/32\n",
            "23/23 [==============================] - 6s 274ms/step - loss: 5.2148 - accuracy: 0.2931 - val_loss: 5.1152 - val_accuracy: 0.3611\n",
            "Epoch 13/32\n",
            "23/23 [==============================] - 6s 277ms/step - loss: 5.1982 - accuracy: 0.3194 - val_loss: 5.1122 - val_accuracy: 0.3611\n",
            "Epoch 14/32\n",
            "23/23 [==============================] - 6s 275ms/step - loss: 5.2248 - accuracy: 0.3000 - val_loss: 5.1399 - val_accuracy: 0.3556\n",
            "Epoch 15/32\n",
            "23/23 [==============================] - 6s 262ms/step - loss: 5.1628 - accuracy: 0.3431 - val_loss: 5.1073 - val_accuracy: 0.3667\n",
            "Epoch 16/32\n",
            "23/23 [==============================] - 6s 275ms/step - loss: 5.1492 - accuracy: 0.3069 - val_loss: 5.1289 - val_accuracy: 0.3278\n",
            "Epoch 17/32\n",
            "23/23 [==============================] - 6s 277ms/step - loss: 5.1703 - accuracy: 0.3292 - val_loss: 5.1093 - val_accuracy: 0.3000\n",
            "Epoch 18/32\n",
            "23/23 [==============================] - 6s 271ms/step - loss: 5.1677 - accuracy: 0.3306 - val_loss: 5.0935 - val_accuracy: 0.3611\n",
            "Epoch 19/32\n",
            "23/23 [==============================] - 6s 272ms/step - loss: 5.1630 - accuracy: 0.3389 - val_loss: 5.1401 - val_accuracy: 0.3278\n",
            "Epoch 20/32\n",
            "23/23 [==============================] - 6s 275ms/step - loss: 5.1321 - accuracy: 0.3611 - val_loss: 5.1261 - val_accuracy: 0.3111\n",
            "Epoch 21/32\n",
            "23/23 [==============================] - 6s 275ms/step - loss: 5.1458 - accuracy: 0.3569 - val_loss: 5.1465 - val_accuracy: 0.3222\n",
            "Epoch 22/32\n",
            "23/23 [==============================] - 6s 275ms/step - loss: 5.1341 - accuracy: 0.3333 - val_loss: 5.0561 - val_accuracy: 0.3444\n",
            "Epoch 23/32\n",
            "23/23 [==============================] - 6s 278ms/step - loss: 5.1611 - accuracy: 0.3361 - val_loss: 5.0740 - val_accuracy: 0.3389\n",
            "Epoch 24/32\n",
            "23/23 [==============================] - 6s 266ms/step - loss: 5.1417 - accuracy: 0.3306 - val_loss: 5.0371 - val_accuracy: 0.4056\n",
            "Epoch 25/32\n",
            "23/23 [==============================] - 6s 274ms/step - loss: 5.1538 - accuracy: 0.3403 - val_loss: 5.0445 - val_accuracy: 0.3611\n",
            "Epoch 26/32\n",
            "23/23 [==============================] - 6s 267ms/step - loss: 5.1304 - accuracy: 0.3514 - val_loss: 5.0942 - val_accuracy: 0.3722\n",
            "Epoch 27/32\n",
            "23/23 [==============================] - 6s 269ms/step - loss: 5.1080 - accuracy: 0.3306 - val_loss: 5.0492 - val_accuracy: 0.3556\n",
            "Epoch 28/32\n",
            "23/23 [==============================] - 6s 275ms/step - loss: 5.1349 - accuracy: 0.3250 - val_loss: 5.0338 - val_accuracy: 0.4000\n",
            "Epoch 29/32\n",
            "23/23 [==============================] - 6s 273ms/step - loss: 5.1042 - accuracy: 0.3500 - val_loss: 5.0382 - val_accuracy: 0.4000\n",
            "Epoch 30/32\n",
            "23/23 [==============================] - 6s 275ms/step - loss: 5.0989 - accuracy: 0.3694 - val_loss: 5.0190 - val_accuracy: 0.3889\n",
            "Epoch 31/32\n",
            "23/23 [==============================] - 6s 276ms/step - loss: 5.1065 - accuracy: 0.3333 - val_loss: 5.0021 - val_accuracy: 0.4056\n",
            "Epoch 32/32\n",
            "23/23 [==============================] - 6s 275ms/step - loss: 5.0704 - accuracy: 0.3625 - val_loss: 5.0432 - val_accuracy: 0.3611\n"
          ]
        }
      ]
    },
    {
      "cell_type": "markdown",
      "metadata": {
        "id": "mJpKZp1MQoe7"
      },
      "source": [
        "#  print your learning curves for training and validation "
      ],
      "id": "mJpKZp1MQoe7"
    },
    {
      "cell_type": "code",
      "metadata": {
        "colab": {
          "base_uri": "https://localhost:8080/",
          "height": 302
        },
        "id": "LI6tIJbDQoe7",
        "outputId": "f0b2896b-417b-45cc-e1c0-ef9bb03b9b69"
      },
      "source": [
        "# dictionary keys seems to have changed in version 2\n",
        "k = ''\n",
        "if 'accuracy' in history.history :\n",
        "    k = 'accuracy'    \n",
        "\n",
        "if 'acc' in history.history :\n",
        "    k = 'acc'\n",
        "    \n",
        "if k != '' :    \n",
        "    plt.plot(history.history[k])\n",
        "    plt.plot(history.history['val_'+k])\n",
        "    plt.title('Model Accuracy')\n",
        "    plt.ylabel('Accuracy')\n",
        "    plt.xlabel('Epoch')\n",
        "    plt.legend(['train', 'validation'], loc='upper left')\n",
        "    plt.show()"
      ],
      "id": "LI6tIJbDQoe7",
      "execution_count": null,
      "outputs": [
        {
          "output_type": "display_data",
          "data": {
            "image/png": "[encoded data removed]",
            "text/plain": [
              "<Figure size 432x288 with 1 Axes>"
            ]
          },
          "metadata": {
            "needs_background": "light"
          }
        }
      ]
    },
    {
      "cell_type": "code",
      "metadata": {
        "colab": {
          "base_uri": "https://localhost:8080/",
          "height": 302
        },
        "id": "885ctm9LQoe8",
        "outputId": "504d24ae-4e4d-40dd-8a71-503018ccaaa5"
      },
      "source": [
        "plt.plot(history.history['loss'])\n",
        "plt.plot(history.history['val_loss'])\n",
        "plt.title('Model loss')\n",
        "plt.ylabel('Loss')\n",
        "plt.xlabel('Epoch')\n",
        "plt.legend(['train', 'validation'], loc='upper left')\n",
        "plt.show()"
      ],
      "id": "885ctm9LQoe8",
      "execution_count": null,
      "outputs": [
        {
          "output_type": "display_data",
          "data": {
            "image/png": "[encoded data removed]",
            "text/plain": [
              "<Figure size 432x288 with 1 Axes>"
            ]
          },
          "metadata": {
            "needs_background": "light"
          }
        }
      ]
    },
    {
      "cell_type": "markdown",
      "metadata": {
        "id": "NwIEkAppRkK9"
      },
      "source": [
        "# **Give the confusion matrix of your network on the training including validation**\n",
        "\n"
      ],
      "id": "NwIEkAppRkK9"
    },
    {
      "cell_type": "code",
      "metadata": {
        "id": "kVK4uhBARkK-"
      },
      "source": [
        "y_predict_prob = vgg_model_transfer_classification_regular.predict(X_valid)\n",
        "y_predict = y_predict_prob.argmax(axis=-1)\n",
        "y_valid=y_valid.astype(int)"
      ],
      "id": "kVK4uhBARkK-",
      "execution_count": null,
      "outputs": []
    },
    {
      "cell_type": "code",
      "metadata": {
        "colab": {
          "base_uri": "https://localhost:8080/"
        },
        "id": "8hHJZvTrRkK_",
        "outputId": "345b3a2c-4227-4950-e5bf-bd374a53f423"
      },
      "source": [
        "from sklearn.metrics import confusion_matrix\n",
        "\n",
        "conf_mx = confusion_matrix(y_valid, y_predict)\n",
        "print('Confusion matrix: \\n{0}'.format(conf_mx))"
      ],
      "id": "8hHJZvTrRkK_",
      "execution_count": null,
      "outputs": [
        {
          "output_type": "stream",
          "name": "stdout",
          "text": [
            "Confusion matrix: \n",
            "[[19  3  2  4  3]\n",
            " [ 5 11  6 10  6]\n",
            " [ 5  6  4 14  6]\n",
            " [ 4  4  4 20  9]\n",
            " [ 2  1  4 12 16]]\n"
          ]
        }
      ]
    },
    {
      "cell_type": "code",
      "metadata": {
        "id": "nWDWieisRkLA"
      },
      "source": [
        "def plot_confusion_matrix(matrix):\n",
        "    \"\"\"If you prefer color and a colorbar\"\"\"\n",
        "    fig = plt.figure(figsize=(8,8))\n",
        "    ax = fig.add_subplot(111)\n",
        "    cax = ax.matshow(matrix)\n",
        "    fig.colorbar(cax)"
      ],
      "id": "nWDWieisRkLA",
      "execution_count": null,
      "outputs": []
    },
    {
      "cell_type": "code",
      "metadata": {
        "colab": {
          "base_uri": "https://localhost:8080/",
          "height": 496
        },
        "id": "hr3xps9JRkLA",
        "outputId": "e25f6593-48bd-4fcc-df6c-164bdf747424"
      },
      "source": [
        "row_sums = conf_mx.sum(axis=1, keepdims=True)\n",
        "norm_conf_mx = conf_mx / row_sums\n",
        "np.fill_diagonal(norm_conf_mx, 0)\n",
        "# plt.matshow(norm_conf_mx, cmap=plt.cm.gray)\n",
        "plot_confusion_matrix(norm_conf_mx)\n",
        "save_fig(\"VGGtransfer_confusion_matrix_errors\", tight_layout=False)\n",
        "plt.show()"
      ],
      "id": "hr3xps9JRkLA",
      "execution_count": null,
      "outputs": [
        {
          "output_type": "stream",
          "name": "stdout",
          "text": [
            "Saving figure VGGtransfer_confusion_matrix_errors\n"
          ]
        },
        {
          "output_type": "display_data",
          "data": {
            "image/png": "[encoded data removed]",
            "text/plain": [
              "<Figure size 576x576 with 2 Axes>"
            ]
          },
          "metadata": {
            "needs_background": "light"
          }
        }
      ]
    },
    {
      "cell_type": "markdown",
      "metadata": {
        "id": "P1xJvO6cRynT"
      },
      "source": [
        "# **Give the confusion matrix of your network on the training including testing**"
      ],
      "id": "P1xJvO6cRynT"
    },
    {
      "cell_type": "code",
      "metadata": {
        "id": "eyH_3M-IRynU"
      },
      "source": [
        "y_predict_prob_test = vgg_model_transfer_classification_regular.predict(new_img_test)"
      ],
      "id": "eyH_3M-IRynU",
      "execution_count": null,
      "outputs": []
    },
    {
      "cell_type": "code",
      "metadata": {
        "id": "qa7xCPlZRynV"
      },
      "source": [
        "y_predict_test = y_predict_prob_test .argmax(axis=-1)"
      ],
      "id": "qa7xCPlZRynV",
      "execution_count": null,
      "outputs": []
    },
    {
      "cell_type": "code",
      "metadata": {
        "colab": {
          "base_uri": "https://localhost:8080/"
        },
        "id": "h2UpLP_LRynW",
        "outputId": "061ec57a-02cc-4d9f-c193-5f81048383a8"
      },
      "source": [
        "from sklearn.metrics import confusion_matrix\n",
        "\n",
        "conf_mx = confusion_matrix(ymultclass_test.astype(int), y_predict_test)\n",
        "print('Confusion matrix: \\n{0}'.format(conf_mx))"
      ],
      "id": "h2UpLP_LRynW",
      "execution_count": null,
      "outputs": [
        {
          "output_type": "stream",
          "name": "stdout",
          "text": [
            "Confusion matrix: \n",
            "[[ 9  4  2  3  2]\n",
            " [ 5  5  2  5  3]\n",
            " [ 0  6  1  6  7]\n",
            " [ 2  2  1  8  7]\n",
            " [ 1  1  2  6 10]]\n"
          ]
        }
      ]
    },
    {
      "cell_type": "code",
      "metadata": {
        "id": "be1kD5wPRynY"
      },
      "source": [
        "def plot_confusion_matrix(matrix):\n",
        "    \"\"\"If you prefer color and a colorbar\"\"\"\n",
        "    fig = plt.figure(figsize=(8,8))\n",
        "    ax = fig.add_subplot(111)\n",
        "    cax = ax.matshow(matrix)\n",
        "    fig.colorbar(cax)"
      ],
      "id": "be1kD5wPRynY",
      "execution_count": null,
      "outputs": []
    },
    {
      "cell_type": "code",
      "metadata": {
        "colab": {
          "base_uri": "https://localhost:8080/",
          "height": 496
        },
        "id": "KQsGjS5_RynZ",
        "outputId": "81e4a635-6bf6-4e3d-db75-18ad5a6914c9"
      },
      "source": [
        "row_sums = conf_mx.sum(axis=1, keepdims=True)\n",
        "norm_conf_mx = conf_mx / row_sums\n",
        "np.fill_diagonal(norm_conf_mx, 0)\n",
        "# plt.matshow(norm_conf_mx, cmap=plt.cm.gray)\n",
        "plot_confusion_matrix(norm_conf_mx)\n",
        "save_fig(\"VGGtransfer_confusion_matrix_errors\", tight_layout=False)\n",
        "plt.show()"
      ],
      "id": "KQsGjS5_RynZ",
      "execution_count": null,
      "outputs": [
        {
          "output_type": "stream",
          "name": "stdout",
          "text": [
            "Saving figure VGGtransfer_confusion_matrix_errors\n"
          ]
        },
        {
          "output_type": "display_data",
          "data": {
            "image/png": "[encoded data removed]",
            "text/plain": [
              "<Figure size 576x576 with 2 Axes>"
            ]
          },
          "metadata": {
            "needs_background": "light"
          }
        }
      ]
    },
    {
      "cell_type": "markdown",
      "metadata": {
        "id": "0T0wq_GRVktn"
      },
      "source": [
        "# **discussion how large a improvement can be observed from regularization and data augmentation.as classification is higher accuracy than regression**\n",
        "\n",
        " as the accuracy of training data decrease the overfitting also decrease so our model will have accurate prediction in expecting new data that never seen before\n"
      ],
      "id": "0T0wq_GRVktn"
    }
  ]
}